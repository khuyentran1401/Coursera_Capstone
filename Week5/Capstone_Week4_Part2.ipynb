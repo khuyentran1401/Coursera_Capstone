{
 "cells": [
  {
   "cell_type": "code",
   "execution_count": null,
   "metadata": {},
   "outputs": [],
   "source": []
  },
  {
   "cell_type": "markdown",
   "metadata": {},
   "source": [
    "# <font color=red>Battle of Neighborhoods _(Week 1 & Week 2)_</font>"
   ]
  },
  {
   "cell_type": "markdown",
   "metadata": {},
   "source": [
    "## 1. Description of the Problem and Discussion of the Background <br>\n",
    "##     (Introduction Section, Week 1)\n",
    "\n",
    "### Prospects of a Lunch Restaurant, Close to Office Areas in Tokyo, Japan.  "
   ]
  },
  {
   "cell_type": "markdown",
   "metadata": {},
   "source": [
    "Tokyo, where I am currently staying, is the most populous metropolitan area in the world. Currently ranked 3rd in the global economic power index, Tokyo is definitely one of the best places to start up a new business. \n",
    "\n",
    "During the daytime, specially in the morning and lunch hours, office areas provide huge opportunities for restaurants. Reasonably priced (one lunch meal $ 8\\text{\\$} $) shops are usually always full during the lunch hours (11 am -- 2 pm) and, given this scenario, we will go through the benefits and pitfalls of opening a breakfast cum lunch restaurants in highly densed office places. Usually the profit margin for a decent restaurant lie within $15 - 20\\% $ range but, it can even go high enough to $35\\%$, as discussed [here](https://www.ichefpos.com/en-sg/blog/japanese-restaurants-profits). \n",
    "\n",
    "![Tokyo at Night](tokyo_night.jpg)\n",
    "\n",
    "\n",
    "\n",
    "We will go through each step of this project and address them separately. For this week I just describe the initial data preparation and future steps to start the battle of neighborhoods in Tokyo. \n",
    "\n",
    "1. <font color=green> Obtain the Data </font> <br>\n",
    "\n",
    "    1.a. Name of the 23 Wards, area and population from web scrapping <br>\n",
    "\n",
    "    1.b. Obtain information about best business districts. <br>\n",
    "    \n",
    "    1.c. Use Foresquare Data to obtain info about restaurants. <br> \n",
    "\n",
    "\n",
    "2. <font color=green> Data Visualization and Some Simple Statistical Analysis. </font> \n",
    "\n",
    "3. <font color=green> Analysis Using Clustering, Specially K-Means Clustering. </font> <br>\n",
    "\n",
    "    3.a. Maximize the number of clusters. <br>\n",
    "    \n",
    "    3.b. Visualization using Chloropleth Map <br>\n",
    "    \n",
    "\n",
    "4. <font color=green> Compare the Neighborhoods to Find the Best Place for Starting up a Restaurant. </font>   \n",
    "\n",
    "\n",
    "5. <font color=green> Inference From these Results and related Conclusions. </font> <br>\n",
    "\n",
    "\n",
    "<font color=orange>__Target Audience__</font>\n",
    "\n",
    "1. Business personnel who wants to invest or open a restaurant. This analysis will be a comprehensive guide to <br>\n",
    "   start  or expand restaurants targeting the large pool of office workers in Tokyo during lunch hours. \n",
    "2. Freelancer who loves to have their own restaurant as a side business. This analysis will give an idea, how <br>\n",
    "   benificial it is to open a restaurant and what are the pros and cons of this business. \n",
    "3. New graduates, to find reasonable lunch/breakfast place close to office. \n",
    "4. Budding Data Scientists, who wants to implement some of the most used Exploratory Data Analysis techniques to <br>\n",
    "   obtain necessary data, analyze it and, finally be able to tell a story out of it. "
   ]
  },
  {
   "cell_type": "markdown",
   "metadata": {},
   "source": [
    "## 2. Initial Data Preparation (Week 1)\n",
    "\n",
    "#### 2.1. Get The Names of Wards, Major Districts and Population from Wikipedia <br>\n",
    "#### 2.2. Processing the Information From Wiki To Make Necessary Lists <br>\n",
    "#### 2.3. Get the Coordinates of the Major Districts <br>\n",
    "#### 2.4. Check and Compare with Google Search and Refine if Necessary\n",
    "\n",
    "I have described these steps detailed as a part of Week 1 Assignment in [a python notebook](https://github.com/suvoooo/Coursera_Capstone/blob/master/Week4/Capstone_Battle_of_Neighborhoods_Part1.ipynb), and also made a more comprehensible [.pdf](https://github.com/suvoooo/Coursera_Capstone/blob/master/Week4/Week4_Description_Include_Code.pdf) file. \n",
    "\n",
    "So here we start with using [Foursquare](https://developer.foursquare.com/) and use many Exploratory Data Analysis Techniques to learn from data and visualize to strengthen our understanding.   "
   ]
  },
  {
   "cell_type": "markdown",
   "metadata": {},
   "source": [
    "## 3. Exploratory Data Analysis. (Week 2)"
   ]
  },
  {
   "cell_type": "code",
   "execution_count": 1,
   "metadata": {
    "ExecuteTime": {
     "end_time": "2020-08-12T15:38:43.746012Z",
     "start_time": "2020-08-12T15:38:43.735537Z"
    }
   },
   "outputs": [
    {
     "data": {
      "application/javascript": [
       "window.open(\"https://datapane.com/home\");"
      ],
      "text/plain": [
       "<IPython.core.display.Javascript object>"
      ]
     },
     "metadata": {},
     "output_type": "display_data"
    }
   ],
   "source": [
    "#Datapane will be used create a personal report for this code. Sign up on Datapane to get the token and sign in.\n",
    "\n",
    "from IPython.display import Javascript\n",
    "\n",
    "def window_open(url):\n",
    "    display(Javascript('window.open(\"{url}\");'.format(url=url)))\n",
    "\n",
    "\n",
    "window_open('https://datapane.com/home')"
   ]
  },
  {
   "cell_type": "code",
   "execution_count": null,
   "metadata": {
    "ExecuteTime": {
     "end_time": "2020-08-12T15:38:49.864593Z",
     "start_time": "2020-08-12T15:38:47.424009Z"
    }
   },
   "outputs": [],
   "source": [
    "token = input('Insert your token after signing in Datapane ')\n",
    "print('Your token is', token)"
   ]
  },
  {
   "cell_type": "code",
   "execution_count": null,
   "metadata": {
    "ExecuteTime": {
     "end_time": "2020-08-12T15:39:29.462619Z",
     "start_time": "2020-08-12T15:39:28.037430Z"
    }
   },
   "outputs": [],
   "source": [
    "!datapane login --server=https://datapane.com/ --token=$token"
   ]
  },
  {
   "cell_type": "code",
   "execution_count": 6,
   "metadata": {
    "ExecuteTime": {
     "end_time": "2020-08-12T15:42:19.042977Z",
     "start_time": "2020-08-12T15:42:18.266801Z"
    }
   },
   "outputs": [],
   "source": [
    "# import the necessary Libraries \n",
    "import sys\n",
    "import requests\n",
    "import json\n",
    "\n",
    "import matplotlib.pyplot as plt\n",
    "import matplotlib.cm as cm\n",
    "import matplotlib.colors as colors\n",
    "\n",
    "\n",
    "import io\n",
    "from bs4 import BeautifulSoup\n",
    "import pandas as pd\n",
    "import numpy as np\n",
    "\n",
    "from sklearn.cluster import KMeans"
   ]
  },
  {
   "cell_type": "markdown",
   "metadata": {},
   "source": [
    "### First, Get The Names of Wards, Major Districts and Population from Wikipedia (From Week 1)"
   ]
  },
  {
   "cell_type": "code",
   "execution_count": 8,
   "metadata": {
    "ExecuteTime": {
     "end_time": "2020-08-12T15:42:44.233450Z",
     "start_time": "2020-08-12T15:42:32.428814Z"
    }
   },
   "outputs": [
    {
     "name": "stdout",
     "output_type": "stream",
     "text": [
      "[]\n",
      "[<td>01</td>, <td><a class=\"image\" href=\"/wiki/File:Flag_of_Chiyoda,_Tokyo.svg\"><img alt=\"Flag of Chiyoda, Tokyo.svg\" class=\"thumbborder\" data-file-height=\"540\" data-file-width=\"810\" decoding=\"async\" height=\"33\" src=\"//upload.wikimedia.org/wikipedia/commons/thumb/e/ec/Flag_of_Chiyoda%2C_Tokyo.svg/50px-Flag_of_Chiyoda%2C_Tokyo.svg.png\" srcset=\"//upload.wikimedia.org/wikipedia/commons/thumb/e/ec/Flag_of_Chiyoda%2C_Tokyo.svg/75px-Flag_of_Chiyoda%2C_Tokyo.svg.png 1.5x, //upload.wikimedia.org/wikipedia/commons/thumb/e/ec/Flag_of_Chiyoda%2C_Tokyo.svg/100px-Flag_of_Chiyoda%2C_Tokyo.svg.png 2x\" width=\"50\"/></a></td>, <td><a href=\"/wiki/Chiyoda,_Tokyo\" title=\"Chiyoda, Tokyo\">Chiyoda</a></td>, <td>千代田区\n",
      "</td>, <td><span style=\"visibility:hidden;color:transparent;\">0</span><span style=\"visibility:hidden;color:transparent;\">0</span>59,441</td>, <td><span style=\"visibility:hidden;color:transparent;\">0</span>5,100</td>, <td><span style=\"visibility:hidden;color:transparent;\">0</span>11.66\n",
      "</td>, <td><a href=\"/wiki/Nagatach%C5%8D\" title=\"Nagatachō\">Nagatachō</a>, <a href=\"/wiki/Kasumigaseki\" title=\"Kasumigaseki\">Kasumigaseki</a>, <a href=\"/wiki/%C5%8Ctemachi\" title=\"Ōtemachi\">Ōtemachi</a>, <a href=\"/wiki/Marunouchi\" title=\"Marunouchi\">Marunouchi</a>, <a href=\"/wiki/Akihabara\" title=\"Akihabara\">Akihabara</a>, <a href=\"/wiki/Y%C5%ABrakuch%C5%8D\" title=\"Yūrakuchō\">Yūrakuchō</a>, <a class=\"mw-redirect\" href=\"/wiki/Iidabashi,_Tokyo\" title=\"Iidabashi, Tokyo\">Iidabashi</a>, <a href=\"/wiki/Kanda,_Tokyo\" title=\"Kanda, Tokyo\">Kanda</a>\n",
      "</td>]\n",
      "<td>01</td>\n",
      "[<td>02</td>, <td><a class=\"image\" href=\"/wiki/File:Flag_of_Chuo,_Tokyo.svg\"><img alt=\"Flag of Chuo, Tokyo.svg\" class=\"thumbborder\" data-file-height=\"600\" data-file-width=\"900\" decoding=\"async\" height=\"33\" src=\"//upload.wikimedia.org/wikipedia/commons/thumb/4/40/Flag_of_Chuo%2C_Tokyo.svg/50px-Flag_of_Chuo%2C_Tokyo.svg.png\" srcset=\"//upload.wikimedia.org/wikipedia/commons/thumb/4/40/Flag_of_Chuo%2C_Tokyo.svg/75px-Flag_of_Chuo%2C_Tokyo.svg.png 1.5x, //upload.wikimedia.org/wikipedia/commons/thumb/4/40/Flag_of_Chuo%2C_Tokyo.svg/100px-Flag_of_Chuo%2C_Tokyo.svg.png 2x\" width=\"50\"/></a></td>, <td><a href=\"/wiki/Ch%C5%AB%C5%8D,_Tokyo\" title=\"Chūō, Tokyo\">Chūō</a></td>, <td>中央区\n",
      "</td>, <td><span style=\"visibility:hidden;color:transparent;\">0</span>147,620</td>, <td>14,460</td>, <td><span style=\"visibility:hidden;color:transparent;\">0</span>10.21\n",
      "</td>, <td><a href=\"/wiki/Nihonbashi\" title=\"Nihonbashi\">Nihonbashi</a>, Kayabachō, <a href=\"/wiki/Ginza\" title=\"Ginza\">Ginza</a>, <a href=\"/wiki/Tsukiji\" title=\"Tsukiji\">Tsukiji</a>, <a href=\"/wiki/Hatch%C5%8Dbori_Station_(Tokyo)\" title=\"Hatchōbori Station (Tokyo)\">Hatchōbori</a>, Shinkawa, <a href=\"/wiki/Tsukishima\" title=\"Tsukishima\">Tsukishima</a>, Kachidoki, Tsukuda\n",
      "</td>]\n",
      "<td>02</td>\n",
      "[<td>03</td>, <td><a class=\"image\" href=\"/wiki/File:Flag_of_Minato,_Tokyo.svg\"><img alt=\"Flag of Minato, Tokyo.svg\" class=\"thumbborder\" data-file-height=\"600\" data-file-width=\"900\" decoding=\"async\" height=\"33\" src=\"//upload.wikimedia.org/wikipedia/commons/thumb/a/a4/Flag_of_Minato%2C_Tokyo.svg/50px-Flag_of_Minato%2C_Tokyo.svg.png\" srcset=\"//upload.wikimedia.org/wikipedia/commons/thumb/a/a4/Flag_of_Minato%2C_Tokyo.svg/75px-Flag_of_Minato%2C_Tokyo.svg.png 1.5x, //upload.wikimedia.org/wikipedia/commons/thumb/a/a4/Flag_of_Minato%2C_Tokyo.svg/100px-Flag_of_Minato%2C_Tokyo.svg.png 2x\" width=\"50\"/></a></td>, <td><a href=\"/wiki/Minato,_Tokyo\" title=\"Minato, Tokyo\">Minato</a></td>, <td>港区\n",
      "</td>, <td><span style=\"visibility:hidden;color:transparent;\">0</span>248,071</td>, <td>12,180</td>, <td><span style=\"visibility:hidden;color:transparent;\">0</span>20.37\n",
      "</td>, <td><a href=\"/wiki/Odaiba\" title=\"Odaiba\">Odaiba</a>, <a href=\"/wiki/Shinbashi\" title=\"Shinbashi\">Shinbashi</a>, <a href=\"/wiki/Hamamatsuch%C5%8D\" title=\"Hamamatsuchō\">Hamamatsuchō</a>, <a href=\"/wiki/Mita,_Minato,_Tokyo\" title=\"Mita, Minato, Tokyo\">Mita</a>, <a href=\"/wiki/Roppongi\" title=\"Roppongi\">Roppongi</a>, <a href=\"/wiki/Toranomon\" title=\"Toranomon\">Toranomon</a>, <a href=\"/wiki/Aoyama,_Minato,_Tokyo\" title=\"Aoyama, Minato, Tokyo\">Aoyama</a>, <a href=\"/wiki/Azabu\" title=\"Azabu\">Azabu</a>\n",
      "</td>]\n",
      "<td>03</td>\n",
      "[<td>04</td>, <td><a class=\"image\" href=\"/wiki/File:Flag_of_Shinjuku,_Tokyo.svg\"><img alt=\"Flag of Shinjuku, Tokyo.svg\" class=\"thumbborder\" data-file-height=\"600\" data-file-width=\"900\" decoding=\"async\" height=\"33\" src=\"//upload.wikimedia.org/wikipedia/commons/thumb/7/76/Flag_of_Shinjuku%2C_Tokyo.svg/50px-Flag_of_Shinjuku%2C_Tokyo.svg.png\" srcset=\"//upload.wikimedia.org/wikipedia/commons/thumb/7/76/Flag_of_Shinjuku%2C_Tokyo.svg/75px-Flag_of_Shinjuku%2C_Tokyo.svg.png 1.5x, //upload.wikimedia.org/wikipedia/commons/thumb/7/76/Flag_of_Shinjuku%2C_Tokyo.svg/100px-Flag_of_Shinjuku%2C_Tokyo.svg.png 2x\" width=\"50\"/></a></td>, <td><a href=\"/wiki/Shinjuku\" title=\"Shinjuku\">Shinjuku</a></td>, <td>新宿区\n",
      "</td>, <td><span style=\"visibility:hidden;color:transparent;\">0</span>339,211</td>, <td>18,620</td>, <td><span style=\"visibility:hidden;color:transparent;\">0</span>18.22\n",
      "</td>, <td><a href=\"/wiki/Shinjuku_Station\" title=\"Shinjuku Station\">Shinjuku</a>, <a href=\"/wiki/Takadanobaba\" title=\"Takadanobaba\">Takadanobaba</a>, <a href=\"/wiki/%C5%8Ckubo,_Tokyo\" title=\"Ōkubo, Tokyo\">Ōkubo</a>, <a href=\"/wiki/Kagurazaka\" title=\"Kagurazaka\">Kagurazaka</a>, <a href=\"/wiki/Ichigaya\" title=\"Ichigaya\">Ichigaya</a>, <a href=\"/wiki/Yotsuya\" title=\"Yotsuya\">Yotsuya</a>\n",
      "</td>]\n",
      "<td>04</td>\n",
      "[<td>05</td>, <td><a class=\"image\" href=\"/wiki/File:Flag_of_Bunkyo,_Tokyo.svg\"><img alt=\"Flag of Bunkyo, Tokyo.svg\" class=\"thumbborder\" data-file-height=\"600\" data-file-width=\"900\" decoding=\"async\" height=\"33\" src=\"//upload.wikimedia.org/wikipedia/commons/thumb/a/af/Flag_of_Bunkyo%2C_Tokyo.svg/50px-Flag_of_Bunkyo%2C_Tokyo.svg.png\" srcset=\"//upload.wikimedia.org/wikipedia/commons/thumb/a/af/Flag_of_Bunkyo%2C_Tokyo.svg/75px-Flag_of_Bunkyo%2C_Tokyo.svg.png 1.5x, //upload.wikimedia.org/wikipedia/commons/thumb/a/af/Flag_of_Bunkyo%2C_Tokyo.svg/100px-Flag_of_Bunkyo%2C_Tokyo.svg.png 2x\" width=\"50\"/></a></td>, <td><a href=\"/wiki/Bunky%C5%8D\" title=\"Bunkyō\">Bunkyō</a></td>, <td>文京区\n",
      "</td>, <td><span style=\"visibility:hidden;color:transparent;\">0</span>223,389</td>, <td>19,790</td>, <td><span style=\"visibility:hidden;color:transparent;\">0</span>11.29\n",
      "</td>, <td><a href=\"/wiki/Hong%C5%8D,_Tokyo\" title=\"Hongō, Tokyo\">Hongō</a>, <a href=\"/wiki/Yayoi,_Tokyo\" title=\"Yayoi, Tokyo\">Yayoi</a>, Hakusan\n",
      "</td>]\n",
      "<td>05</td>\n",
      "[<td>06</td>, <td><a class=\"image\" href=\"/wiki/File:Flag_of_Taito,_Tokyo.svg\"><img alt=\"Flag of Taito, Tokyo.svg\" class=\"thumbborder\" data-file-height=\"400\" data-file-width=\"600\" decoding=\"async\" height=\"33\" src=\"//upload.wikimedia.org/wikipedia/commons/thumb/8/81/Flag_of_Taito%2C_Tokyo.svg/50px-Flag_of_Taito%2C_Tokyo.svg.png\" srcset=\"//upload.wikimedia.org/wikipedia/commons/thumb/8/81/Flag_of_Taito%2C_Tokyo.svg/75px-Flag_of_Taito%2C_Tokyo.svg.png 1.5x, //upload.wikimedia.org/wikipedia/commons/thumb/8/81/Flag_of_Taito%2C_Tokyo.svg/100px-Flag_of_Taito%2C_Tokyo.svg.png 2x\" width=\"50\"/></a></td>, <td><a href=\"/wiki/Tait%C5%8D\" title=\"Taitō\">Taitō</a></td>, <td>台東区\n",
      "</td>, <td><span style=\"visibility:hidden;color:transparent;\">0</span>200,486</td>, <td>19,830</td>, <td><span style=\"visibility:hidden;color:transparent;\">0</span>10.11\n",
      "</td>, <td><a href=\"/wiki/Ueno\" title=\"Ueno\">Ueno</a>, <a href=\"/wiki/Asakusa\" title=\"Asakusa\">Asakusa</a>\n",
      "</td>]\n",
      "<td>06</td>\n",
      "[<td>07</td>, <td><a class=\"image\" href=\"/wiki/File:Flag_of_Sumida,_Tokyo.svg\"><img alt=\"Flag of Sumida, Tokyo.svg\" class=\"thumbborder\" data-file-height=\"600\" data-file-width=\"900\" decoding=\"async\" height=\"33\" src=\"//upload.wikimedia.org/wikipedia/commons/thumb/4/4e/Flag_of_Sumida%2C_Tokyo.svg/50px-Flag_of_Sumida%2C_Tokyo.svg.png\" srcset=\"//upload.wikimedia.org/wikipedia/commons/thumb/4/4e/Flag_of_Sumida%2C_Tokyo.svg/75px-Flag_of_Sumida%2C_Tokyo.svg.png 1.5x, //upload.wikimedia.org/wikipedia/commons/thumb/4/4e/Flag_of_Sumida%2C_Tokyo.svg/100px-Flag_of_Sumida%2C_Tokyo.svg.png 2x\" width=\"50\"/></a></td>, <td><a href=\"/wiki/Sumida,_Tokyo\" title=\"Sumida, Tokyo\">Sumida</a></td>, <td>墨田区\n",
      "</td>, <td><span style=\"visibility:hidden;color:transparent;\">0</span>260,358</td>, <td>18,910</td>, <td><span style=\"visibility:hidden;color:transparent;\">0</span>13.77\n",
      "</td>, <td><a href=\"/wiki/Kinshich%C5%8D_Station\" title=\"Kinshichō Station\">Kinshichō</a>, <a href=\"/wiki/Morishita_Station_(Tokyo)\" title=\"Morishita Station (Tokyo)\">Morishita</a>, <a href=\"/wiki/Ry%C5%8Dgoku\" title=\"Ryōgoku\">Ryōgoku</a>\n",
      "</td>]\n",
      "<td>07</td>\n",
      "[<td>08</td>, <td><a class=\"image\" href=\"/wiki/File:Flag_of_Koto,_Tokyo.svg\"><img alt=\"Flag of Koto, Tokyo.svg\" class=\"thumbborder\" data-file-height=\"400\" data-file-width=\"600\" decoding=\"async\" height=\"33\" src=\"//upload.wikimedia.org/wikipedia/commons/thumb/6/61/Flag_of_Koto%2C_Tokyo.svg/50px-Flag_of_Koto%2C_Tokyo.svg.png\" srcset=\"//upload.wikimedia.org/wikipedia/commons/thumb/6/61/Flag_of_Koto%2C_Tokyo.svg/75px-Flag_of_Koto%2C_Tokyo.svg.png 1.5x, //upload.wikimedia.org/wikipedia/commons/thumb/6/61/Flag_of_Koto%2C_Tokyo.svg/100px-Flag_of_Koto%2C_Tokyo.svg.png 2x\" width=\"50\"/></a></td>, <td><a class=\"mw-redirect\" href=\"/wiki/Koto,_Tokyo\" title=\"Koto, Tokyo\">Kōtō</a></td>, <td>江東区\n",
      "</td>, <td><span style=\"visibility:hidden;color:transparent;\">0</span>502,579</td>, <td>12,510</td>, <td><span style=\"visibility:hidden;color:transparent;\">0</span>40.16\n",
      "</td>, <td><a href=\"/wiki/Kiba_Station\" title=\"Kiba Station\">Kiba</a>, <a href=\"/wiki/Ariake,_Tokyo\" title=\"Ariake, Tokyo\">Ariake</a>, Kameido, Tōyōchō, Monzennakachō, <a class=\"mw-redirect\" href=\"/wiki/Fukagawa_(Tokyo)\" title=\"Fukagawa (Tokyo)\">Fukagawa</a>, Kiyosumi, Shirakawa, Etchūjima, Sunamachi, Aomi\n",
      "</td>]\n",
      "<td>08</td>\n",
      "[<td>09</td>, <td><a class=\"image\" href=\"/wiki/File:Flag_of_Shinagawa,_Tokyo.svg\"><img alt=\"Flag of Shinagawa, Tokyo.svg\" class=\"thumbborder\" data-file-height=\"600\" data-file-width=\"900\" decoding=\"async\" height=\"33\" src=\"//upload.wikimedia.org/wikipedia/commons/thumb/a/ab/Flag_of_Shinagawa%2C_Tokyo.svg/50px-Flag_of_Shinagawa%2C_Tokyo.svg.png\" srcset=\"//upload.wikimedia.org/wikipedia/commons/thumb/a/ab/Flag_of_Shinagawa%2C_Tokyo.svg/75px-Flag_of_Shinagawa%2C_Tokyo.svg.png 1.5x, //upload.wikimedia.org/wikipedia/commons/thumb/a/ab/Flag_of_Shinagawa%2C_Tokyo.svg/100px-Flag_of_Shinagawa%2C_Tokyo.svg.png 2x\" width=\"50\"/></a></td>, <td><a href=\"/wiki/Shinagawa\" title=\"Shinagawa\">Shinagawa</a></td>, <td>品川区\n",
      "</td>, <td><span style=\"visibility:hidden;color:transparent;\">0</span>392,492</td>, <td>17,180</td>, <td><span style=\"visibility:hidden;color:transparent;\">0</span>22.84\n",
      "</td>, <td><a href=\"/wiki/Shinagawa\" title=\"Shinagawa\">Shinagawa</a>, <a href=\"/wiki/Gotanda\" title=\"Gotanda\">Gotanda</a>, <a href=\"/wiki/%C5%8Csaki,_Tokyo\" title=\"Ōsaki, Tokyo\">Ōsaki</a>, Hatanodai, Ōimachi, <a href=\"/wiki/Tenn%C5%8Dzu_Isle\" title=\"Tennōzu Isle\">Tennōzu</a>\n",
      "</td>]\n",
      "<td>09</td>\n",
      "[<td>10</td>, <td><a class=\"image\" href=\"/wiki/File:Flag_of_Meguro,_Tokyo.svg\"><img alt=\"Flag of Meguro, Tokyo.svg\" class=\"thumbborder\" data-file-height=\"600\" data-file-width=\"900\" decoding=\"async\" height=\"33\" src=\"//upload.wikimedia.org/wikipedia/commons/thumb/0/07/Flag_of_Meguro%2C_Tokyo.svg/50px-Flag_of_Meguro%2C_Tokyo.svg.png\" srcset=\"//upload.wikimedia.org/wikipedia/commons/thumb/0/07/Flag_of_Meguro%2C_Tokyo.svg/75px-Flag_of_Meguro%2C_Tokyo.svg.png 1.5x, //upload.wikimedia.org/wikipedia/commons/thumb/0/07/Flag_of_Meguro%2C_Tokyo.svg/100px-Flag_of_Meguro%2C_Tokyo.svg.png 2x\" width=\"50\"/></a></td>, <td><a href=\"/wiki/Meguro\" title=\"Meguro\">Meguro</a></td>, <td>目黒区\n",
      "</td>, <td><span style=\"visibility:hidden;color:transparent;\">0</span>280,283</td>, <td>19,110</td>, <td><span style=\"visibility:hidden;color:transparent;\">0</span>14.67\n",
      "</td>, <td><a href=\"/wiki/Meguro\" title=\"Meguro\">Meguro</a>, <a class=\"mw-redirect\" href=\"/wiki/Nakameguro,_Meguro,_Tokyo\" title=\"Nakameguro, Meguro, Tokyo\">Nakameguro</a>, <a class=\"mw-redirect\" href=\"/wiki/Jiyugaoka\" title=\"Jiyugaoka\">Jiyugaoka</a>, <a href=\"/wiki/Komaba\" title=\"Komaba\">Komaba</a>, <a href=\"/wiki/Aobadai\" title=\"Aobadai\">Aobadai</a>\n",
      "</td>]\n",
      "<td>10</td>\n",
      "[<td>11</td>, <td><a class=\"image\" href=\"/wiki/File:Flag_of_Ota,_Tokyo.svg\"><img alt=\"Flag of Ota, Tokyo.svg\" class=\"thumbborder\" data-file-height=\"600\" data-file-width=\"900\" decoding=\"async\" height=\"33\" src=\"//upload.wikimedia.org/wikipedia/commons/thumb/6/68/Flag_of_Ota%2C_Tokyo.svg/50px-Flag_of_Ota%2C_Tokyo.svg.png\" srcset=\"//upload.wikimedia.org/wikipedia/commons/thumb/6/68/Flag_of_Ota%2C_Tokyo.svg/75px-Flag_of_Ota%2C_Tokyo.svg.png 1.5x, //upload.wikimedia.org/wikipedia/commons/thumb/6/68/Flag_of_Ota%2C_Tokyo.svg/100px-Flag_of_Ota%2C_Tokyo.svg.png 2x\" width=\"50\"/></a></td>, <td><span style=\"display:none\">Ota</span><a href=\"/wiki/%C5%8Cta,_Tokyo\" title=\"Ōta, Tokyo\">Ōta</a></td>, <td>大田区\n",
      "</td>, <td><span style=\"visibility:hidden;color:transparent;\">0</span>722,608</td>, <td>11,910</td>, <td><span style=\"visibility:hidden;color:transparent;\">0</span>60.66\n",
      "</td>, <td><a class=\"mw-redirect\" href=\"/wiki/%C5%8Cmori\" title=\"Ōmori\">Ōmori</a>, <a class=\"mw-redirect\" href=\"/wiki/Kamata,_%C5%8Cta,_Tokyo\" title=\"Kamata, Ōta, Tokyo\">Kamata</a>, <a href=\"/wiki/Haneda,_%C5%8Cta,_Tokyo\" title=\"Haneda, Ōta, Tokyo\">Haneda</a>, <a href=\"/wiki/Den-en-ch%C5%8Dfu\" title=\"Den-en-chōfu\">Den-en-chōfu</a>\n",
      "</td>]\n",
      "<td>11</td>\n",
      "[<td>12</td>, <td><a class=\"image\" href=\"/wiki/File:Flag_of_Setagaya,_Tokyo.svg\"><img alt=\"Flag of Setagaya, Tokyo.svg\" class=\"thumbborder\" data-file-height=\"600\" data-file-width=\"900\" decoding=\"async\" height=\"33\" src=\"//upload.wikimedia.org/wikipedia/commons/thumb/c/c9/Flag_of_Setagaya%2C_Tokyo.svg/50px-Flag_of_Setagaya%2C_Tokyo.svg.png\" srcset=\"//upload.wikimedia.org/wikipedia/commons/thumb/c/c9/Flag_of_Setagaya%2C_Tokyo.svg/75px-Flag_of_Setagaya%2C_Tokyo.svg.png 1.5x, //upload.wikimedia.org/wikipedia/commons/thumb/c/c9/Flag_of_Setagaya%2C_Tokyo.svg/100px-Flag_of_Setagaya%2C_Tokyo.svg.png 2x\" width=\"50\"/></a></td>, <td><a href=\"/wiki/Setagaya\" title=\"Setagaya\">Setagaya</a></td>, <td>世田谷区\n",
      "</td>, <td><span style=\"visibility:hidden;color:transparent;\">0</span>910,868</td>, <td>15,690</td>, <td><span style=\"visibility:hidden;color:transparent;\">0</span>58.05\n",
      "</td>, <td><a href=\"/wiki/Setagaya\" title=\"Setagaya\">Setagaya</a>, <a href=\"/wiki/Shimokitazawa\" title=\"Shimokitazawa\">Shimokitazawa</a>, Kinuta, Karasuyama, Tamagawa\n",
      "</td>]\n",
      "<td>12</td>\n",
      "[<td>13</td>, <td><a class=\"image\" href=\"/wiki/File:Flag_of_Shibuya,_Tokyo.svg\"><img alt=\"Flag of Shibuya, Tokyo.svg\" class=\"thumbborder\" data-file-height=\"600\" data-file-width=\"900\" decoding=\"async\" height=\"33\" src=\"//upload.wikimedia.org/wikipedia/commons/thumb/3/31/Flag_of_Shibuya%2C_Tokyo.svg/50px-Flag_of_Shibuya%2C_Tokyo.svg.png\" srcset=\"//upload.wikimedia.org/wikipedia/commons/thumb/3/31/Flag_of_Shibuya%2C_Tokyo.svg/75px-Flag_of_Shibuya%2C_Tokyo.svg.png 1.5x, //upload.wikimedia.org/wikipedia/commons/thumb/3/31/Flag_of_Shibuya%2C_Tokyo.svg/100px-Flag_of_Shibuya%2C_Tokyo.svg.png 2x\" width=\"50\"/></a></td>, <td><a href=\"/wiki/Shibuya\" title=\"Shibuya\">Shibuya</a></td>, <td>渋谷区\n",
      "</td>, <td><span style=\"visibility:hidden;color:transparent;\">0</span>227,850</td>, <td>15,080</td>, <td><span style=\"visibility:hidden;color:transparent;\">0</span>15.11\n",
      "</td>, <td><a href=\"/wiki/Shibuya\" title=\"Shibuya\">Shibuya</a>, <a class=\"mw-redirect\" href=\"/wiki/Ebisu,_Tokyo\" title=\"Ebisu, Tokyo\">Ebisu</a>, <a href=\"/wiki/Harajuku\" title=\"Harajuku\">Harajuku</a>, <a href=\"/wiki/Daikanyamach%C5%8D,_Shibuya\" title=\"Daikanyamachō, Shibuya\">Daikanyama</a>, <a href=\"/wiki/Hiroo,_Shibuya\" title=\"Hiroo, Shibuya\">Hiroo</a>, <a href=\"/wiki/Sendagaya\" title=\"Sendagaya\">Sendagaya</a>, <a href=\"/wiki/Yoyogi\" title=\"Yoyogi\">Yoyogi</a>\n",
      "</td>]\n",
      "<td>13</td>\n",
      "[<td>14</td>, <td><a class=\"image\" href=\"/wiki/File:Flag_of_Nakano,_Tokyo.svg\"><img alt=\"Flag of Nakano, Tokyo.svg\" class=\"thumbborder\" data-file-height=\"600\" data-file-width=\"900\" decoding=\"async\" height=\"33\" src=\"//upload.wikimedia.org/wikipedia/commons/thumb/a/ab/Flag_of_Nakano%2C_Tokyo.svg/50px-Flag_of_Nakano%2C_Tokyo.svg.png\" srcset=\"//upload.wikimedia.org/wikipedia/commons/thumb/a/ab/Flag_of_Nakano%2C_Tokyo.svg/75px-Flag_of_Nakano%2C_Tokyo.svg.png 1.5x, //upload.wikimedia.org/wikipedia/commons/thumb/a/ab/Flag_of_Nakano%2C_Tokyo.svg/100px-Flag_of_Nakano%2C_Tokyo.svg.png 2x\" width=\"50\"/></a></td>, <td><a href=\"/wiki/Nakano,_Tokyo\" title=\"Nakano, Tokyo\">Nakano</a></td>, <td>中野区\n",
      "</td>, <td><span style=\"visibility:hidden;color:transparent;\">0</span>332,902</td>, <td>21,350</td>, <td><span style=\"visibility:hidden;color:transparent;\">0</span>15.59\n",
      "</td>, <td><a href=\"/wiki/Nakano_Station_(Tokyo)\" title=\"Nakano Station (Tokyo)\">Nakano</a>\n",
      "</td>]\n",
      "<td>14</td>\n",
      "[<td>15</td>, <td><a class=\"image\" href=\"/wiki/File:Flag_of_Suginami,_Tokyo.svg\"><img alt=\"Flag of Suginami, Tokyo.svg\" class=\"thumbborder\" data-file-height=\"600\" data-file-width=\"900\" decoding=\"async\" height=\"33\" src=\"//upload.wikimedia.org/wikipedia/commons/thumb/b/b2/Flag_of_Suginami%2C_Tokyo.svg/50px-Flag_of_Suginami%2C_Tokyo.svg.png\" srcset=\"//upload.wikimedia.org/wikipedia/commons/thumb/b/b2/Flag_of_Suginami%2C_Tokyo.svg/75px-Flag_of_Suginami%2C_Tokyo.svg.png 1.5x, //upload.wikimedia.org/wikipedia/commons/thumb/b/b2/Flag_of_Suginami%2C_Tokyo.svg/100px-Flag_of_Suginami%2C_Tokyo.svg.png 2x\" width=\"50\"/></a></td>, <td><a href=\"/wiki/Suginami\" title=\"Suginami\">Suginami</a></td>, <td>杉並区\n",
      "</td>, <td><span style=\"visibility:hidden;color:transparent;\">0</span>570,483</td>, <td>16,750</td>, <td><span style=\"visibility:hidden;color:transparent;\">0</span>34.06\n",
      "</td>, <td><a href=\"/wiki/K%C5%8Denji\" title=\"Kōenji\">Kōenji</a>, <a href=\"/wiki/Asagaya\" title=\"Asagaya\">Asagaya</a>, <a href=\"/wiki/Ogikubo,_Tokyo\" title=\"Ogikubo, Tokyo\">Ogikubo</a>\n",
      "</td>]\n",
      "<td>15</td>\n",
      "[<td>16</td>, <td><a class=\"image\" href=\"/wiki/File:Flag_of_Toshima,_Tokyo.svg\"><img alt=\"Flag of Toshima, Tokyo.svg\" class=\"thumbborder\" data-file-height=\"600\" data-file-width=\"900\" decoding=\"async\" height=\"33\" src=\"//upload.wikimedia.org/wikipedia/commons/thumb/5/5b/Flag_of_Toshima%2C_Tokyo.svg/50px-Flag_of_Toshima%2C_Tokyo.svg.png\" srcset=\"//upload.wikimedia.org/wikipedia/commons/thumb/5/5b/Flag_of_Toshima%2C_Tokyo.svg/75px-Flag_of_Toshima%2C_Tokyo.svg.png 1.5x, //upload.wikimedia.org/wikipedia/commons/thumb/5/5b/Flag_of_Toshima%2C_Tokyo.svg/100px-Flag_of_Toshima%2C_Tokyo.svg.png 2x\" width=\"50\"/></a></td>, <td><a href=\"/wiki/Toshima\" title=\"Toshima\">Toshima</a></td>, <td>豊島区\n",
      "</td>, <td><span style=\"visibility:hidden;color:transparent;\">0</span>294,673</td>, <td>22,650</td>, <td><span style=\"visibility:hidden;color:transparent;\">0</span>13.01\n",
      "</td>, <td><a href=\"/wiki/Ikebukuro\" title=\"Ikebukuro\">Ikebukuro</a>, <a href=\"/wiki/Komagome_Station\" title=\"Komagome Station\">Komagome</a>, Senkawa, <a href=\"/wiki/Sugamo\" title=\"Sugamo\">Sugamo</a>\n",
      "</td>]\n",
      "<td>16</td>\n",
      "[<td>17</td>, <td><a class=\"image\" href=\"/wiki/File:Flag_of_Kita,_Tokyo.svg\"><img alt=\"Flag of Kita, Tokyo.svg\" class=\"thumbborder\" data-file-height=\"400\" data-file-width=\"600\" decoding=\"async\" height=\"33\" src=\"//upload.wikimedia.org/wikipedia/commons/thumb/0/01/Flag_of_Kita%2C_Tokyo.svg/50px-Flag_of_Kita%2C_Tokyo.svg.png\" srcset=\"//upload.wikimedia.org/wikipedia/commons/thumb/0/01/Flag_of_Kita%2C_Tokyo.svg/75px-Flag_of_Kita%2C_Tokyo.svg.png 1.5x, //upload.wikimedia.org/wikipedia/commons/thumb/0/01/Flag_of_Kita%2C_Tokyo.svg/100px-Flag_of_Kita%2C_Tokyo.svg.png 2x\" width=\"50\"/></a></td>, <td><a href=\"/wiki/Kita,_Tokyo\" title=\"Kita, Tokyo\">Kita</a></td>, <td>北区\n",
      "</td>, <td><span style=\"visibility:hidden;color:transparent;\">0</span>345,063</td>, <td>16,740</td>, <td><span style=\"visibility:hidden;color:transparent;\">0</span>20.61\n",
      "</td>, <td><a href=\"/wiki/Akabane_Station\" title=\"Akabane Station\">Akabane</a>, Ōji, <a href=\"/wiki/Tabata_Station_(Tokyo)\" title=\"Tabata Station (Tokyo)\">Tabata</a>\n",
      "</td>]\n",
      "<td>17</td>\n",
      "[<td>18</td>, <td><a class=\"image\" href=\"/wiki/File:Flag_of_Arakawa,_Tokyo.svg\"><img alt=\"Flag of Arakawa, Tokyo.svg\" class=\"thumbborder\" data-file-height=\"400\" data-file-width=\"600\" decoding=\"async\" height=\"33\" src=\"//upload.wikimedia.org/wikipedia/commons/thumb/8/82/Flag_of_Arakawa%2C_Tokyo.svg/50px-Flag_of_Arakawa%2C_Tokyo.svg.png\" srcset=\"//upload.wikimedia.org/wikipedia/commons/thumb/8/82/Flag_of_Arakawa%2C_Tokyo.svg/75px-Flag_of_Arakawa%2C_Tokyo.svg.png 1.5x, //upload.wikimedia.org/wikipedia/commons/thumb/8/82/Flag_of_Arakawa%2C_Tokyo.svg/100px-Flag_of_Arakawa%2C_Tokyo.svg.png 2x\" width=\"50\"/></a></td>, <td><a href=\"/wiki/Arakawa,_Tokyo\" title=\"Arakawa, Tokyo\">Arakawa</a></td>, <td>荒川区\n",
      "</td>, <td><span style=\"visibility:hidden;color:transparent;\">0</span>213,648</td>, <td>21,030</td>, <td><span style=\"visibility:hidden;color:transparent;\">0</span>10.16\n",
      "</td>, <td>Arakawa, Machiya, <a href=\"/wiki/Nippori_Station\" title=\"Nippori Station\">Nippori</a>, Minamisenju\n",
      "</td>]\n",
      "<td>18</td>\n",
      "[<td>19</td>, <td><a class=\"image\" href=\"/wiki/File:Flag_of_Itabashi,_Tokyo.svg\"><img alt=\"Flag of Itabashi, Tokyo.svg\" class=\"thumbborder\" data-file-height=\"600\" data-file-width=\"900\" decoding=\"async\" height=\"33\" src=\"//upload.wikimedia.org/wikipedia/commons/thumb/5/57/Flag_of_Itabashi%2C_Tokyo.svg/50px-Flag_of_Itabashi%2C_Tokyo.svg.png\" srcset=\"//upload.wikimedia.org/wikipedia/commons/thumb/5/57/Flag_of_Itabashi%2C_Tokyo.svg/75px-Flag_of_Itabashi%2C_Tokyo.svg.png 1.5x, //upload.wikimedia.org/wikipedia/commons/thumb/5/57/Flag_of_Itabashi%2C_Tokyo.svg/100px-Flag_of_Itabashi%2C_Tokyo.svg.png 2x\" width=\"50\"/></a></td>, <td><a href=\"/wiki/Itabashi\" title=\"Itabashi\">Itabashi</a></td>, <td>板橋区\n",
      "</td>, <td><span style=\"visibility:hidden;color:transparent;\">0</span>569,225</td>, <td>17,670</td>, <td><span style=\"visibility:hidden;color:transparent;\">0</span>32.22\n",
      "</td>, <td><a href=\"/wiki/Itabashi\" title=\"Itabashi\">Itabashi</a>, Takashimadaira\n",
      "</td>]\n",
      "<td>19</td>\n",
      "[<td>20</td>, <td><a class=\"image\" href=\"/wiki/File:Flag_of_Nerima,_Tokyo.svg\"><img alt=\"Flag of Nerima, Tokyo.svg\" class=\"thumbborder\" data-file-height=\"600\" data-file-width=\"900\" decoding=\"async\" height=\"33\" src=\"//upload.wikimedia.org/wikipedia/commons/thumb/9/94/Flag_of_Nerima%2C_Tokyo.svg/50px-Flag_of_Nerima%2C_Tokyo.svg.png\" srcset=\"//upload.wikimedia.org/wikipedia/commons/thumb/9/94/Flag_of_Nerima%2C_Tokyo.svg/75px-Flag_of_Nerima%2C_Tokyo.svg.png 1.5x, //upload.wikimedia.org/wikipedia/commons/thumb/9/94/Flag_of_Nerima%2C_Tokyo.svg/100px-Flag_of_Nerima%2C_Tokyo.svg.png 2x\" width=\"50\"/></a></td>, <td><a href=\"/wiki/Nerima\" title=\"Nerima\">Nerima</a></td>, <td>練馬区\n",
      "</td>, <td><span style=\"visibility:hidden;color:transparent;\">0</span>726,748</td>, <td>15,120</td>, <td><span style=\"visibility:hidden;color:transparent;\">0</span>48.08\n",
      "</td>, <td><a href=\"/wiki/Nerima\" title=\"Nerima\">Nerima</a>, <a href=\"/wiki/%C5%8Cizumimachi,_Nerima,_Tokyo\" title=\"Ōizumimachi, Nerima, Tokyo\">Ōizumi</a>, <a class=\"mw-redirect\" href=\"/wiki/Hikarigaoka\" title=\"Hikarigaoka\">Hikarigaoka</a>\n",
      "</td>]\n",
      "<td>20</td>\n",
      "[<td>21</td>, <td><a class=\"image\" href=\"/wiki/File:Flag_of_Adachi,_Tokyo.svg\"><img alt=\"Flag of Adachi, Tokyo.svg\" class=\"thumbborder\" data-file-height=\"600\" data-file-width=\"900\" decoding=\"async\" height=\"33\" src=\"//upload.wikimedia.org/wikipedia/commons/thumb/0/08/Flag_of_Adachi%2C_Tokyo.svg/50px-Flag_of_Adachi%2C_Tokyo.svg.png\" srcset=\"//upload.wikimedia.org/wikipedia/commons/thumb/0/08/Flag_of_Adachi%2C_Tokyo.svg/75px-Flag_of_Adachi%2C_Tokyo.svg.png 1.5x, //upload.wikimedia.org/wikipedia/commons/thumb/0/08/Flag_of_Adachi%2C_Tokyo.svg/100px-Flag_of_Adachi%2C_Tokyo.svg.png 2x\" width=\"50\"/></a></td>, <td><a href=\"/wiki/Adachi,_Tokyo\" title=\"Adachi, Tokyo\">Adachi</a></td>, <td style=\"width:4em;\">足立区\n",
      "</td>, <td><span style=\"visibility:hidden;color:transparent;\">0</span>674,067</td>, <td>12,660</td>, <td><span style=\"visibility:hidden;color:transparent;\">0</span>53.25\n",
      "</td>, <td>Ayase, <a href=\"/wiki/Kita-Senju_Station\" title=\"Kita-Senju Station\">Kitasenju</a>, Takenotsuka\n",
      "</td>]\n",
      "<td>21</td>\n",
      "[<td>22</td>, <td><a class=\"image\" href=\"/wiki/File:Flag_of_Katsushika-ku,_Tokyo.svg\"><img alt=\"Flag of Katsushika-ku, Tokyo.svg\" class=\"thumbborder\" data-file-height=\"216\" data-file-width=\"324\" decoding=\"async\" height=\"33\" src=\"//upload.wikimedia.org/wikipedia/commons/thumb/4/43/Flag_of_Katsushika-ku%2C_Tokyo.svg/50px-Flag_of_Katsushika-ku%2C_Tokyo.svg.png\" srcset=\"//upload.wikimedia.org/wikipedia/commons/thumb/4/43/Flag_of_Katsushika-ku%2C_Tokyo.svg/75px-Flag_of_Katsushika-ku%2C_Tokyo.svg.png 1.5x, //upload.wikimedia.org/wikipedia/commons/thumb/4/43/Flag_of_Katsushika-ku%2C_Tokyo.svg/100px-Flag_of_Katsushika-ku%2C_Tokyo.svg.png 2x\" width=\"50\"/></a></td>, <td><a href=\"/wiki/Katsushika\" title=\"Katsushika\">Katsushika</a></td>, <td>葛飾区\n",
      "</td>, <td><span style=\"visibility:hidden;color:transparent;\">0</span>447,140</td>, <td>12,850</td>, <td><span style=\"visibility:hidden;color:transparent;\">0</span>34.80\n",
      "</td>, <td><a class=\"mw-redirect\" href=\"/wiki/Tateishi\" title=\"Tateishi\">Tateishi</a>, Aoto, Kameari, Shibamata\n",
      "</td>]\n",
      "<td>22</td>\n",
      "[<td>23</td>, <td><a class=\"image\" href=\"/wiki/File:Flag_of_Edogawa,_Tokyo.svg\"><img alt=\"Flag of Edogawa, Tokyo.svg\" class=\"thumbborder\" data-file-height=\"400\" data-file-width=\"600\" decoding=\"async\" height=\"33\" src=\"//upload.wikimedia.org/wikipedia/commons/thumb/b/be/Flag_of_Edogawa%2C_Tokyo.svg/50px-Flag_of_Edogawa%2C_Tokyo.svg.png\" srcset=\"//upload.wikimedia.org/wikipedia/commons/thumb/b/be/Flag_of_Edogawa%2C_Tokyo.svg/75px-Flag_of_Edogawa%2C_Tokyo.svg.png 1.5x, //upload.wikimedia.org/wikipedia/commons/thumb/b/be/Flag_of_Edogawa%2C_Tokyo.svg/100px-Flag_of_Edogawa%2C_Tokyo.svg.png 2x\" width=\"50\"/></a></td>, <td><a href=\"/wiki/Edogawa,_Tokyo\" title=\"Edogawa, Tokyo\">Edogawa</a></td>, <td>江戸川区\n",
      "</td>, <td><span style=\"visibility:hidden;color:transparent;\">0</span>685,899</td>, <td>13,750</td>, <td><span style=\"visibility:hidden;color:transparent;\">0</span>49.90\n",
      "</td>, <td>Kasai, Koiwa\n",
      "</td>]\n",
      "<td>23</td>\n",
      "[<td colspan=\"4\"><i><b>Overall</b></i>\n",
      "</td>, <td><i>9,375,104</i></td>, <td><i>15,146</i></td>, <td><i>619</i></td>, <td>\n",
      "</td>]\n",
      "5100\n",
      "14460\n",
      "12180\n",
      "18620\n",
      "19790\n",
      "19830\n",
      "18910\n",
      "12510\n",
      "17180\n",
      "19110\n",
      "11910\n",
      "15690\n",
      "15080\n",
      "21350\n",
      "16750\n",
      "22650\n",
      "16740\n",
      "21030\n",
      "17670\n",
      "15120\n",
      "12660\n",
      "12850\n",
      "13750\n",
      "<td><a href=\"/wiki/Chiyoda,_Tokyo\" title=\"Chiyoda, Tokyo\">Chiyoda</a></td>\n",
      "<td><a href=\"/wiki/Ch%C5%AB%C5%8D,_Tokyo\" title=\"Chūō, Tokyo\">Chūō</a></td>\n",
      "<td><a href=\"/wiki/Minato,_Tokyo\" title=\"Minato, Tokyo\">Minato</a></td>\n",
      "<td><a href=\"/wiki/Shinjuku\" title=\"Shinjuku\">Shinjuku</a></td>\n",
      "<td><a href=\"/wiki/Bunky%C5%8D\" title=\"Bunkyō\">Bunkyō</a></td>\n",
      "<td><a href=\"/wiki/Tait%C5%8D\" title=\"Taitō\">Taitō</a></td>\n",
      "<td><a href=\"/wiki/Sumida,_Tokyo\" title=\"Sumida, Tokyo\">Sumida</a></td>\n",
      "<td><a class=\"mw-redirect\" href=\"/wiki/Koto,_Tokyo\" title=\"Koto, Tokyo\">Kōtō</a></td>\n",
      "<td><a href=\"/wiki/Shinagawa\" title=\"Shinagawa\">Shinagawa</a></td>\n",
      "<td><a href=\"/wiki/Meguro\" title=\"Meguro\">Meguro</a></td>\n",
      "<td><span style=\"display:none\">Ota</span><a href=\"/wiki/%C5%8Cta,_Tokyo\" title=\"Ōta, Tokyo\">Ōta</a></td>\n",
      "<td><a href=\"/wiki/Setagaya\" title=\"Setagaya\">Setagaya</a></td>\n",
      "<td><a href=\"/wiki/Shibuya\" title=\"Shibuya\">Shibuya</a></td>\n",
      "<td><a href=\"/wiki/Nakano,_Tokyo\" title=\"Nakano, Tokyo\">Nakano</a></td>\n",
      "<td><a href=\"/wiki/Suginami\" title=\"Suginami\">Suginami</a></td>\n",
      "<td><a href=\"/wiki/Toshima\" title=\"Toshima\">Toshima</a></td>\n",
      "<td><a href=\"/wiki/Kita,_Tokyo\" title=\"Kita, Tokyo\">Kita</a></td>\n",
      "<td><a href=\"/wiki/Arakawa,_Tokyo\" title=\"Arakawa, Tokyo\">Arakawa</a></td>\n",
      "<td><a href=\"/wiki/Itabashi\" title=\"Itabashi\">Itabashi</a></td>\n",
      "<td><a href=\"/wiki/Nerima\" title=\"Nerima\">Nerima</a></td>\n",
      "<td><a href=\"/wiki/Adachi,_Tokyo\" title=\"Adachi, Tokyo\">Adachi</a></td>\n",
      "<td><a href=\"/wiki/Katsushika\" title=\"Katsushika\">Katsushika</a></td>\n",
      "<td><a href=\"/wiki/Edogawa,_Tokyo\" title=\"Edogawa, Tokyo\">Edogawa</a></td>\n",
      "[[<a href=\"/wiki/Chiyoda,_Tokyo\" title=\"Chiyoda, Tokyo\">Chiyoda</a>], [<a href=\"/wiki/Ch%C5%AB%C5%8D,_Tokyo\" title=\"Chūō, Tokyo\">Chūō</a>], [<a href=\"/wiki/Minato,_Tokyo\" title=\"Minato, Tokyo\">Minato</a>], [<a href=\"/wiki/Shinjuku\" title=\"Shinjuku\">Shinjuku</a>], [<a href=\"/wiki/Bunky%C5%8D\" title=\"Bunkyō\">Bunkyō</a>], [<a href=\"/wiki/Tait%C5%8D\" title=\"Taitō\">Taitō</a>], [<a href=\"/wiki/Sumida,_Tokyo\" title=\"Sumida, Tokyo\">Sumida</a>], [<a class=\"mw-redirect\" href=\"/wiki/Koto,_Tokyo\" title=\"Koto, Tokyo\">Kōtō</a>], [<a href=\"/wiki/Shinagawa\" title=\"Shinagawa\">Shinagawa</a>], [<a href=\"/wiki/Meguro\" title=\"Meguro\">Meguro</a>], [<a href=\"/wiki/%C5%8Cta,_Tokyo\" title=\"Ōta, Tokyo\">Ōta</a>], [<a href=\"/wiki/Setagaya\" title=\"Setagaya\">Setagaya</a>], [<a href=\"/wiki/Shibuya\" title=\"Shibuya\">Shibuya</a>], [<a href=\"/wiki/Nakano,_Tokyo\" title=\"Nakano, Tokyo\">Nakano</a>], [<a href=\"/wiki/Suginami\" title=\"Suginami\">Suginami</a>], [<a href=\"/wiki/Toshima\" title=\"Toshima\">Toshima</a>], [<a href=\"/wiki/Kita,_Tokyo\" title=\"Kita, Tokyo\">Kita</a>], [<a href=\"/wiki/Arakawa,_Tokyo\" title=\"Arakawa, Tokyo\">Arakawa</a>], [<a href=\"/wiki/Itabashi\" title=\"Itabashi\">Itabashi</a>], [<a href=\"/wiki/Nerima\" title=\"Nerima\">Nerima</a>], [<a href=\"/wiki/Adachi,_Tokyo\" title=\"Adachi, Tokyo\">Adachi</a>], [<a href=\"/wiki/Katsushika\" title=\"Katsushika\">Katsushika</a>], [<a href=\"/wiki/Edogawa,_Tokyo\" title=\"Edogawa, Tokyo\">Edogawa</a>]]\n",
      "[<a href=\"/wiki/Chiyoda,_Tokyo\" title=\"Chiyoda, Tokyo\">Chiyoda</a>, <a href=\"/wiki/Ch%C5%AB%C5%8D,_Tokyo\" title=\"Chūō, Tokyo\">Chūō</a>, <a href=\"/wiki/Minato,_Tokyo\" title=\"Minato, Tokyo\">Minato</a>, <a href=\"/wiki/Shinjuku\" title=\"Shinjuku\">Shinjuku</a>, <a href=\"/wiki/Bunky%C5%8D\" title=\"Bunkyō\">Bunkyō</a>, <a href=\"/wiki/Tait%C5%8D\" title=\"Taitō\">Taitō</a>, <a href=\"/wiki/Sumida,_Tokyo\" title=\"Sumida, Tokyo\">Sumida</a>, <a class=\"mw-redirect\" href=\"/wiki/Koto,_Tokyo\" title=\"Koto, Tokyo\">Kōtō</a>, <a href=\"/wiki/Shinagawa\" title=\"Shinagawa\">Shinagawa</a>, <a href=\"/wiki/Meguro\" title=\"Meguro\">Meguro</a>, <a href=\"/wiki/%C5%8Cta,_Tokyo\" title=\"Ōta, Tokyo\">Ōta</a>, <a href=\"/wiki/Setagaya\" title=\"Setagaya\">Setagaya</a>, <a href=\"/wiki/Shibuya\" title=\"Shibuya\">Shibuya</a>, <a href=\"/wiki/Nakano,_Tokyo\" title=\"Nakano, Tokyo\">Nakano</a>, <a href=\"/wiki/Suginami\" title=\"Suginami\">Suginami</a>, <a href=\"/wiki/Toshima\" title=\"Toshima\">Toshima</a>, <a href=\"/wiki/Kita,_Tokyo\" title=\"Kita, Tokyo\">Kita</a>, <a href=\"/wiki/Arakawa,_Tokyo\" title=\"Arakawa, Tokyo\">Arakawa</a>, <a href=\"/wiki/Itabashi\" title=\"Itabashi\">Itabashi</a>, <a href=\"/wiki/Nerima\" title=\"Nerima\">Nerima</a>, <a href=\"/wiki/Adachi,_Tokyo\" title=\"Adachi, Tokyo\">Adachi</a>, <a href=\"/wiki/Katsushika\" title=\"Katsushika\">Katsushika</a>, <a href=\"/wiki/Edogawa,_Tokyo\" title=\"Edogawa, Tokyo\">Edogawa</a>]\n",
      "['Chiyoda, Tokyo', 'Chūō, Tokyo', 'Minato, Tokyo', 'Shinjuku', 'Bunkyō', 'Taitō', 'Sumida, Tokyo', 'Koto, Tokyo', 'Shinagawa', 'Meguro', 'Ōta, Tokyo', 'Setagaya', 'Shibuya', 'Nakano, Tokyo', 'Suginami', 'Toshima', 'Kita, Tokyo', 'Arakawa, Tokyo', 'Itabashi', 'Nerima', 'Adachi, Tokyo', 'Katsushika', 'Edogawa, Tokyo']\n",
      "<td><span style=\"visibility:hidden;color:transparent;\">0</span><span style=\"visibility:hidden;color:transparent;\">0</span>59,441</td>\n",
      "059,441\n",
      "<td><span style=\"visibility:hidden;color:transparent;\">0</span>147,620</td>\n",
      "147,620\n",
      "<td><span style=\"visibility:hidden;color:transparent;\">0</span>248,071</td>\n",
      "248,071\n",
      "<td><span style=\"visibility:hidden;color:transparent;\">0</span>339,211</td>\n",
      "339,211\n",
      "<td><span style=\"visibility:hidden;color:transparent;\">0</span>223,389</td>\n",
      "223,389\n",
      "<td><span style=\"visibility:hidden;color:transparent;\">0</span>200,486</td>\n",
      "200,486\n",
      "<td><span style=\"visibility:hidden;color:transparent;\">0</span>260,358</td>\n",
      "260,358\n",
      "<td><span style=\"visibility:hidden;color:transparent;\">0</span>502,579</td>\n",
      "502,579\n",
      "<td><span style=\"visibility:hidden;color:transparent;\">0</span>392,492</td>\n",
      "392,492\n",
      "<td><span style=\"visibility:hidden;color:transparent;\">0</span>280,283</td>\n",
      "280,283\n",
      "<td><span style=\"visibility:hidden;color:transparent;\">0</span>722,608</td>\n",
      "722,608\n",
      "<td><span style=\"visibility:hidden;color:transparent;\">0</span>910,868</td>\n",
      "910,868\n",
      "<td><span style=\"visibility:hidden;color:transparent;\">0</span>227,850</td>\n",
      "227,850\n",
      "<td><span style=\"visibility:hidden;color:transparent;\">0</span>332,902</td>\n",
      "332,902\n",
      "<td><span style=\"visibility:hidden;color:transparent;\">0</span>570,483</td>\n",
      "570,483\n",
      "<td><span style=\"visibility:hidden;color:transparent;\">0</span>294,673</td>\n",
      "294,673\n",
      "<td><span style=\"visibility:hidden;color:transparent;\">0</span>345,063</td>\n",
      "345,063\n",
      "<td><span style=\"visibility:hidden;color:transparent;\">0</span>213,648</td>\n",
      "213,648\n",
      "<td><span style=\"visibility:hidden;color:transparent;\">0</span>569,225</td>\n",
      "569,225\n",
      "<td><span style=\"visibility:hidden;color:transparent;\">0</span>726,748</td>\n",
      "726,748\n",
      "<td><span style=\"visibility:hidden;color:transparent;\">0</span>674,067</td>\n",
      "674,067\n",
      "<td><span style=\"visibility:hidden;color:transparent;\">0</span>447,140</td>\n",
      "447,140\n",
      "<td><span style=\"visibility:hidden;color:transparent;\">0</span>685,899</td>\n",
      "685,899\n",
      "['059,441', '147,620', '248,071', '339,211', '223,389', '200,486', '260,358', '502,579', '392,492', '280,283', '722,608', '910,868', '227,850', '332,902', '570,483', '294,673', '345,063', '213,648', '569,225', '726,748', '674,067', '447,140', '685,899']\n",
      "059441\n",
      "147620\n",
      "248071\n",
      "339211\n",
      "223389\n",
      "200486\n",
      "260358\n",
      "502579\n",
      "392492\n",
      "280283\n",
      "722608\n",
      "910868\n",
      "227850\n",
      "332902\n",
      "570483\n",
      "294673\n",
      "345063\n",
      "213648\n",
      "569225\n",
      "726748\n",
      "674067\n",
      "447140\n",
      "685899\n"
     ]
    },
    {
     "name": "stdout",
     "output_type": "stream",
     "text": [
      "Old latitude list:  [35.675618, 35.68406775, 35.619050200000004, 35.6937632, 35.1753761, 35.7117587, 35.6963122, 23.0131338, 35.599252, 35.62125, 35.5884735, 35.646096, 35.6645956, 35.718123, 35.7049419, 35.7304418, 35.7781394, 35.737529, 35.774143, 35.74836, 35.4460475, 33.4817913, -5.3498001]\n",
      "Old Longitude list:  [139.7434685, 139.77450291683806, 139.77936404588297, 139.7036319, 137.0134764, 139.7776445, 139.8150431, -80.8328748, 139.73891, 139.688014, 139.7279334, 139.65627, 139.6987107, 139.664468, 139.649909, 139.7107453, 139.7207999, 139.78131, 139.681209, 139.638735, 139.430823, 131.4781536, 21.424098]\n",
      "[35.675618, 35.68406775, 35.619050200000004, 35.6937632, 35.1753761, 35.7117587, 35.6963122, 35.6722, 35.599252, 35.62125, 35.5884735, 35.646096, 35.6645956, 35.718123, 35.7049419, 35.7304418, 35.7781394, 35.737529, 35.774143, 35.74836, 35.4460475, 33.4817913, 35.6634]\n",
      "[139.7434685, 139.77450291683806, 139.77936404588297, 139.7036319, 137.0134764, 139.7776445, 139.8150431, 139.8061, 139.73891, 139.688014, 139.7279334, 139.65627, 139.6987107, 139.664468, 139.649909, 139.7107453, 139.7207999, 139.78131, 139.681209, 139.638735, 139.430823, 131.4781536, 139.8731]\n"
     ]
    }
   ],
   "source": [
    "response_obj = requests.get('https://en.wikipedia.org/wiki/Special_wards_of_Tokyo').text\n",
    "soup = BeautifulSoup(response_obj,'lxml')\n",
    "Wards_Tokyo_Table = soup.find('table', {'class':'wikitable sortable'})\n",
    "### preparation of the table \n",
    "\n",
    "Name=[]\n",
    "Kanji = []\n",
    "Pop = []\n",
    "Density = []\n",
    "num = []\n",
    "flag = []\n",
    "Area = []\n",
    "Major_District = []\n",
    "\n",
    "for row in Wards_Tokyo_Table.findAll(\"tr\"):\n",
    "    #print (row)    \n",
    "    Ward = row.findAll('td')\n",
    "    #print (len(Ward))\n",
    "    print (Ward)\n",
    "    if len(Ward)==8: #Only extract table body not heading\n",
    "        print (Ward[0])\n",
    "        #print postcode[1]\n",
    "        #print postcode[2]\n",
    "        num.append(Ward[0].find(text=True))\n",
    "        flag.append(Ward[1].findAll('a')) # useless\n",
    "        Name.append(Ward[2])\n",
    "        Kanji.append(Ward[3].find(text=True))\n",
    "        Pop.append(Ward[4])\n",
    "        Area.append(Ward[5].find(text=True))\n",
    "        Major_District.append(Ward[7].find(text=True))\n",
    "            \n",
    "#print (Pop) \n",
    "\n",
    "\n",
    "#++++++++++++++++++++++++++++++++++++++++++++++\n",
    "#+ Area \n",
    "#++++++++++++++++++++++++++++++++++++++++++++++\n",
    "\n",
    "# print (Area[3]) # the first element of the area needs a replacement with the true value 5100\n",
    "Area = ['5100' if x=='0' else x for x in Area]\n",
    "New_Area = []\n",
    "\n",
    "# change the type of Area list \n",
    "for l in range(len(Area)):\n",
    "    x=Area[l].replace(\",\",\"\")\n",
    "    print (x)\n",
    "    New_Area.append(x)\n",
    "\n",
    "New_Area=[int(s) for s in New_Area]\n",
    "\n",
    "#print (New_Area) # the list elements are already in accordance with the table\n",
    "\n",
    "#+++++++++++++++++++++++++++++++++++++++++++++++++++++\n",
    "#+ Name of the Wards\n",
    "#+++++++++++++++++++++++++++++++++++++++++++++++++++++\n",
    "#print (Name) # want to select only the title part\n",
    "\n",
    "new_names = []\n",
    "for n in range(len(Name)):\n",
    "    print (Name[n])\n",
    "    names = Name[n].findAll('a')\n",
    "    new_names.append(names) \n",
    "\n",
    "print (new_names)\n",
    "\n",
    "flat_new_names_list = [item for sublist in new_names for item in sublist]\n",
    "print (flat_new_names_list)\n",
    "\n",
    "Wards_names= []\n",
    "#now \n",
    "for name_wards in flat_new_names_list:\n",
    "        Wards_names.append(name_wards.get('title'))\n",
    "\n",
    "print (Wards_names)\n",
    "\n",
    "# replace the elements in the list that contains 'Tokyo' with only the ward names\n",
    "replace_names={'Chiyoda, Tokyo':'Chiyoda', 'Chūō, Tokyo':'Chuo', 'Minato, Tokyo':'Minato', \n",
    "               'Sumida, Tokyo':'Sumida', 'Koto, Tokyo':'Koto', 'Ōta, Tokyo':'Ota', 'Nakano, Tokyo':'Nakano', \n",
    "               'Kita, Tokyo':'Kita', 'Arakawa, Tokyo':'Arakawa', 'Adachi, Tokyo':'Adachi', 'Edogawa, Tokyo':'Edogawa'}\n",
    "\n",
    "\n",
    "Wards_names1 = [replace_names.get(n1,n1) for n1 in Wards_names]\n",
    "\n",
    "#print (Wards_names1)\n",
    "\n",
    "#+++++++++++++++++++++++++++++++++++++++++++++++++++++\n",
    "#+ Population\n",
    "#+++++++++++++++++++++++++++++++++++++++++++++++++++++\n",
    "# print (len(Pop))\n",
    "# #print ((Pop[5].text))\n",
    "population = []\n",
    "for p in range(len(Pop)):\n",
    "    print ((Pop[p]))\n",
    "    pops = Pop[p].text[1:9]\n",
    "    print (Pop[p].text[1:9])\n",
    "    #populs = Pop[p].find('visibility:hidden;color:transparent;')\n",
    "    population.append(pops) \n",
    "print (population)\n",
    "\n",
    "\n",
    "New_population = []\n",
    "for po in range(len(population)):\n",
    "    xy=population[po].replace(\",\",\"\")\n",
    "    print (xy)\n",
    "    New_population.append(xy)\n",
    "\n",
    "New_population=[int(s1) for s1 in New_population]\n",
    "# print (New_population)\n",
    "\n",
    "\n",
    "\n",
    "#++++++++++++++++++++++++++++++++++++++++++++++++\n",
    "#+ Major Districts\n",
    "#++++++++++++++++++++++++++++++++++++++++++++++++\n",
    "\n",
    "\n",
    "replace_districts = {'Nagatachō':'Nagatacho', 'Hongō':'Hongo', 'Kinshichō':'Kinshicho', 'Ōmori': 'Omori', \n",
    "                     'Kōenji':'Koenji', 'Arakawa, Machiya, ':'Arakawa', 'Ayase, ':'Ayase', 'Kasai, Koiwa\\n':'Kasai'}\n",
    "\n",
    "\n",
    "Major_District_names1 = [replace_districts.get(n2,n2) for n2 in Major_District]\n",
    "\n",
    "\n",
    "df=pd.DataFrame(Wards_names1,columns=['Ward'])\n",
    "df['Area_SqKm'] = New_Area\n",
    "df['Population'] = New_population\n",
    "df['Major_District'] = Major_District_names1\n",
    "df.index = np.arange(1, len(df) + 1) # reset the index so that it starts from 1. \n",
    "\n",
    "# use of geopy geocoders\n",
    "from geopy.geocoders import Nominatim\n",
    "geolocator = Nominatim(user_agent=\"Tokyo_explorer\")\n",
    "df['Major_Dist_Coord']= df['Major_District'].apply(geolocator.geocode).apply(lambda x: (x.latitude, x.longitude))\n",
    "df[['Latitude', 'Longitude']] = df['Major_Dist_Coord'].apply(pd.Series)\n",
    "\n",
    "df.drop(['Major_Dist_Coord'], axis=1, inplace=True)\n",
    "# replace some of the wrong coordinates \n",
    "\n",
    "\n",
    "Lat_list = df['Latitude'].tolist()\n",
    "Long_list = df['Longitude'].tolist()\n",
    "print (\"Old latitude list: \", Lat_list)\n",
    "print (\"Old Longitude list: \", Long_list)\n",
    "replace_latitudes = {32.5093796:35.7088, 23.0131338:35.6722, -38.9047057:35.5884, -5.3498001:35.6634}\n",
    "replace_longitudes = {-116.2970014:139.7601, -80.8328748:139.8061, 175.7552111:139.7279, 21.424098:139.8731}\n",
    "\n",
    "latitudes_new = [replace_latitudes.get(n3,n3) for n3 in Lat_list]\n",
    "longtitudes_new = [replace_longitudes.get(n4,n4) for n4 in Long_list]\n",
    "print (latitudes_new)\n",
    "print (longtitudes_new)\n",
    "\n",
    "Tokyo_df = df.drop(['Latitude', 'Longitude'], axis=1)\n",
    "# #df.drop(['Longitude'], axis=1, inplace=True)\n",
    "# Tokyo_df\n",
    "\n",
    "\n",
    "Tokyo_df['Dist_Latitude'] = latitudes_new\n",
    "Tokyo_df['Dist_Longitude'] = longtitudes_new\n",
    "\n",
    "#Tokyo_df\n",
    "\n",
    "#Tokyo_df.to_csv('Tokyo_df_Coord.csv')\n"
   ]
  },
  {
   "cell_type": "markdown",
   "metadata": {},
   "source": [
    "### Starting of Week 2 "
   ]
  },
  {
   "cell_type": "code",
   "execution_count": 9,
   "metadata": {
    "ExecuteTime": {
     "end_time": "2020-08-12T15:42:44.247451Z",
     "start_time": "2020-08-12T15:42:44.234999Z"
    }
   },
   "outputs": [
    {
     "data": {
      "text/html": [
       "<div>\n",
       "<style scoped>\n",
       "    .dataframe tbody tr th:only-of-type {\n",
       "        vertical-align: middle;\n",
       "    }\n",
       "\n",
       "    .dataframe tbody tr th {\n",
       "        vertical-align: top;\n",
       "    }\n",
       "\n",
       "    .dataframe thead th {\n",
       "        text-align: right;\n",
       "    }\n",
       "</style>\n",
       "<table border=\"1\" class=\"dataframe\">\n",
       "  <thead>\n",
       "    <tr style=\"text-align: right;\">\n",
       "      <th></th>\n",
       "      <th>Ward</th>\n",
       "      <th>Area_SqKm</th>\n",
       "      <th>Population</th>\n",
       "      <th>Major_District</th>\n",
       "      <th>Dist_Latitude</th>\n",
       "      <th>Dist_Longitude</th>\n",
       "    </tr>\n",
       "  </thead>\n",
       "  <tbody>\n",
       "    <tr>\n",
       "      <th>1</th>\n",
       "      <td>Chiyoda</td>\n",
       "      <td>5100</td>\n",
       "      <td>59441</td>\n",
       "      <td>Nagatacho</td>\n",
       "      <td>35.675618</td>\n",
       "      <td>139.743469</td>\n",
       "    </tr>\n",
       "    <tr>\n",
       "      <th>2</th>\n",
       "      <td>Chuo</td>\n",
       "      <td>14460</td>\n",
       "      <td>147620</td>\n",
       "      <td>Nihonbashi</td>\n",
       "      <td>35.684058</td>\n",
       "      <td>139.774501</td>\n",
       "    </tr>\n",
       "    <tr>\n",
       "      <th>3</th>\n",
       "      <td>Minato</td>\n",
       "      <td>12180</td>\n",
       "      <td>248071</td>\n",
       "      <td>Odaiba</td>\n",
       "      <td>35.619128</td>\n",
       "      <td>139.779403</td>\n",
       "    </tr>\n",
       "  </tbody>\n",
       "</table>\n",
       "</div>"
      ],
      "text/plain": [
       "      Ward  Area_SqKm  Population Major_District  Dist_Latitude  \\\n",
       "1  Chiyoda       5100       59441      Nagatacho      35.675618   \n",
       "2     Chuo      14460      147620     Nihonbashi      35.684058   \n",
       "3   Minato      12180      248071         Odaiba      35.619128   \n",
       "\n",
       "   Dist_Longitude  \n",
       "1      139.743469  \n",
       "2      139.774501  \n",
       "3      139.779403  "
      ]
     },
     "execution_count": 9,
     "metadata": {},
     "output_type": "execute_result"
    }
   ],
   "source": [
    "Tokyo_df = pd.read_csv('Tokyo_df_Coord.csv', index_col=[0])\n",
    "#remove the unnamed column \n",
    "Tokyo_df.head(3)"
   ]
  },
  {
   "cell_type": "markdown",
   "metadata": {},
   "source": [
    "Here we want to concentrate on the best five wards \n",
    "\n",
    "1. Chiyoda. Major District: _Nagatacho_<br>\n",
    "2. Shinjuku. Major District: _Shinjuku_<br>\n",
    "3. Shibuya. Major District: _Shibuya_<br>\n",
    "4. Chuo. Major District: _Nihombashi_<br>\n",
    "5. Shinagawa. Major District: _Shinagawa_<br>\n",
    "\n",
    "\n",
    "So as the next step we will use [Foursquare](https://developer.foursquare.com/) data and obtain information on restaurants.  With these, we can start with our battle of neighborhoods for opening a restaurant in Tokyo.  "
   ]
  },
  {
   "cell_type": "markdown",
   "metadata": {},
   "source": [
    "### Get the average land price in different areas of Tokyo from Web Scrapping"
   ]
  },
  {
   "cell_type": "code",
   "execution_count": 10,
   "metadata": {
    "ExecuteTime": {
     "end_time": "2020-08-12T15:42:46.326577Z",
     "start_time": "2020-08-12T15:42:44.248964Z"
    }
   },
   "outputs": [],
   "source": [
    "response_obj = requests.get('https://utinokati.com/en/details/land-market-value/area/Tokyo/').text\n",
    "#print (type (response_obj))\n",
    "soup = BeautifulSoup(response_obj,'lxml')\n",
    "#print (soup.prettify())"
   ]
  },
  {
   "cell_type": "code",
   "execution_count": 11,
   "metadata": {
    "ExecuteTime": {
     "end_time": "2020-08-12T15:42:46.329987Z",
     "start_time": "2020-08-12T15:42:46.327550Z"
    }
   },
   "outputs": [],
   "source": [
    "Price_Tokyo_Table = soup.find('tbody')\n",
    "#Price_Tokyo_Table"
   ]
  },
  {
   "cell_type": "code",
   "execution_count": 12,
   "metadata": {
    "ExecuteTime": {
     "end_time": "2020-08-12T15:42:46.356511Z",
     "start_time": "2020-08-12T15:42:46.331018Z"
    }
   },
   "outputs": [
    {
     "data": {
      "text/html": [
       "<div>\n",
       "<style scoped>\n",
       "    .dataframe tbody tr th:only-of-type {\n",
       "        vertical-align: middle;\n",
       "    }\n",
       "\n",
       "    .dataframe tbody tr th {\n",
       "        vertical-align: top;\n",
       "    }\n",
       "\n",
       "    .dataframe thead th {\n",
       "        text-align: right;\n",
       "    }\n",
       "</style>\n",
       "<table border=\"1\" class=\"dataframe\">\n",
       "  <thead>\n",
       "    <tr style=\"text-align: right;\">\n",
       "      <th></th>\n",
       "      <th>Ward</th>\n",
       "      <th>Average_Price(SqKm)</th>\n",
       "    </tr>\n",
       "  </thead>\n",
       "  <tbody>\n",
       "    <tr>\n",
       "      <th>0</th>\n",
       "      <td>Chiyoda-Ku</td>\n",
       "      <td>2705898</td>\n",
       "    </tr>\n",
       "    <tr>\n",
       "      <th>1</th>\n",
       "      <td>Chuo-Ku</td>\n",
       "      <td>2699719</td>\n",
       "    </tr>\n",
       "    <tr>\n",
       "      <th>2</th>\n",
       "      <td>Minato-Ku</td>\n",
       "      <td>2121252</td>\n",
       "    </tr>\n",
       "    <tr>\n",
       "      <th>3</th>\n",
       "      <td>Shinjuku-Ku</td>\n",
       "      <td>939286</td>\n",
       "    </tr>\n",
       "    <tr>\n",
       "      <th>4</th>\n",
       "      <td>Bunkyo-Ku</td>\n",
       "      <td>945155</td>\n",
       "    </tr>\n",
       "    <tr>\n",
       "      <th>5</th>\n",
       "      <td>Taito-Ku</td>\n",
       "      <td>1064759</td>\n",
       "    </tr>\n",
       "    <tr>\n",
       "      <th>6</th>\n",
       "      <td>Sumida-Ku</td>\n",
       "      <td>617190</td>\n",
       "    </tr>\n",
       "    <tr>\n",
       "      <th>7</th>\n",
       "      <td>Koto-Ku</td>\n",
       "      <td>658047</td>\n",
       "    </tr>\n",
       "    <tr>\n",
       "      <th>8</th>\n",
       "      <td>Shinagawa-Ku</td>\n",
       "      <td>767398</td>\n",
       "    </tr>\n",
       "    <tr>\n",
       "      <th>9</th>\n",
       "      <td>Meguro-Ku</td>\n",
       "      <td>863712</td>\n",
       "    </tr>\n",
       "    <tr>\n",
       "      <th>10</th>\n",
       "      <td>Ota-Ku</td>\n",
       "      <td>560106</td>\n",
       "    </tr>\n",
       "    <tr>\n",
       "      <th>11</th>\n",
       "      <td>Setagaya-Ku</td>\n",
       "      <td>664106</td>\n",
       "    </tr>\n",
       "    <tr>\n",
       "      <th>12</th>\n",
       "      <td>Shibuya-Ku</td>\n",
       "      <td>1360332</td>\n",
       "    </tr>\n",
       "    <tr>\n",
       "      <th>13</th>\n",
       "      <td>Nakano-Ku</td>\n",
       "      <td>596154</td>\n",
       "    </tr>\n",
       "    <tr>\n",
       "      <th>14</th>\n",
       "      <td>Suginami-Ku</td>\n",
       "      <td>559122</td>\n",
       "    </tr>\n",
       "    <tr>\n",
       "      <th>15</th>\n",
       "      <td>Toshima-Ku</td>\n",
       "      <td>731392</td>\n",
       "    </tr>\n",
       "    <tr>\n",
       "      <th>16</th>\n",
       "      <td>Kita-Ku</td>\n",
       "      <td>547695</td>\n",
       "    </tr>\n",
       "    <tr>\n",
       "      <th>17</th>\n",
       "      <td>Arakawa-Ku</td>\n",
       "      <td>492675</td>\n",
       "    </tr>\n",
       "    <tr>\n",
       "      <th>18</th>\n",
       "      <td>Itabashi-Ku</td>\n",
       "      <td>436736</td>\n",
       "    </tr>\n",
       "    <tr>\n",
       "      <th>19</th>\n",
       "      <td>Nerima-Ku</td>\n",
       "      <td>402240</td>\n",
       "    </tr>\n",
       "    <tr>\n",
       "      <th>20</th>\n",
       "      <td>Adachi-Ku</td>\n",
       "      <td>295750</td>\n",
       "    </tr>\n",
       "    <tr>\n",
       "      <th>21</th>\n",
       "      <td>Katsushika-Ku</td>\n",
       "      <td>324876</td>\n",
       "    </tr>\n",
       "    <tr>\n",
       "      <th>22</th>\n",
       "      <td>Edogawa-Ku</td>\n",
       "      <td>332511</td>\n",
       "    </tr>\n",
       "    <tr>\n",
       "      <th>23</th>\n",
       "      <td>Hachioji-Shi</td>\n",
       "      <td>143350</td>\n",
       "    </tr>\n",
       "    <tr>\n",
       "      <th>24</th>\n",
       "      <td>Tachikawa-Shi</td>\n",
       "      <td>259136</td>\n",
       "    </tr>\n",
       "    <tr>\n",
       "      <th>25</th>\n",
       "      <td>Musashino-Shi</td>\n",
       "      <td>550175</td>\n",
       "    </tr>\n",
       "    <tr>\n",
       "      <th>26</th>\n",
       "      <td>Mitaka-Shi</td>\n",
       "      <td>365626</td>\n",
       "    </tr>\n",
       "    <tr>\n",
       "      <th>27</th>\n",
       "      <td>Ome-Shi</td>\n",
       "      <td>90508</td>\n",
       "    </tr>\n",
       "    <tr>\n",
       "      <th>28</th>\n",
       "      <td>Fuchu-Shi</td>\n",
       "      <td>286856</td>\n",
       "    </tr>\n",
       "    <tr>\n",
       "      <th>29</th>\n",
       "      <td>Akishima-Shi</td>\n",
       "      <td>176391</td>\n",
       "    </tr>\n",
       "    <tr>\n",
       "      <th>30</th>\n",
       "      <td>Chofu-Shi</td>\n",
       "      <td>355235</td>\n",
       "    </tr>\n",
       "    <tr>\n",
       "      <th>31</th>\n",
       "      <td>Machida-Shi</td>\n",
       "      <td>152918</td>\n",
       "    </tr>\n",
       "    <tr>\n",
       "      <th>32</th>\n",
       "      <td>Koganei-Shi</td>\n",
       "      <td>311612</td>\n",
       "    </tr>\n",
       "    <tr>\n",
       "      <th>33</th>\n",
       "      <td>Kodaira-Shi</td>\n",
       "      <td>216826</td>\n",
       "    </tr>\n",
       "    <tr>\n",
       "      <th>34</th>\n",
       "      <td>Hino-Shi</td>\n",
       "      <td>197386</td>\n",
       "    </tr>\n",
       "    <tr>\n",
       "      <th>35</th>\n",
       "      <td>Higashimurayama-Shi</td>\n",
       "      <td>184523</td>\n",
       "    </tr>\n",
       "    <tr>\n",
       "      <th>36</th>\n",
       "      <td>Kokubunji-Shi</td>\n",
       "      <td>270993</td>\n",
       "    </tr>\n",
       "    <tr>\n",
       "      <th>37</th>\n",
       "      <td>Kunitachi-Shi</td>\n",
       "      <td>315492</td>\n",
       "    </tr>\n",
       "    <tr>\n",
       "      <th>38</th>\n",
       "      <td>Fussa-Shi</td>\n",
       "      <td>154787</td>\n",
       "    </tr>\n",
       "    <tr>\n",
       "      <th>39</th>\n",
       "      <td>Komae-Shi</td>\n",
       "      <td>309465</td>\n",
       "    </tr>\n",
       "    <tr>\n",
       "      <th>40</th>\n",
       "      <td>Higashiyamato-Shi</td>\n",
       "      <td>151803</td>\n",
       "    </tr>\n",
       "    <tr>\n",
       "      <th>41</th>\n",
       "      <td>Kiyose-Shi</td>\n",
       "      <td>184332</td>\n",
       "    </tr>\n",
       "    <tr>\n",
       "      <th>42</th>\n",
       "      <td>Higashikurume-Shi</td>\n",
       "      <td>215470</td>\n",
       "    </tr>\n",
       "    <tr>\n",
       "      <th>43</th>\n",
       "      <td>Musashimurayama-Shi</td>\n",
       "      <td>114090</td>\n",
       "    </tr>\n",
       "    <tr>\n",
       "      <th>44</th>\n",
       "      <td>Tama-Shi</td>\n",
       "      <td>190620</td>\n",
       "    </tr>\n",
       "    <tr>\n",
       "      <th>45</th>\n",
       "      <td>Inagi-Shi</td>\n",
       "      <td>214439</td>\n",
       "    </tr>\n",
       "    <tr>\n",
       "      <th>46</th>\n",
       "      <td>Hamura-Shi</td>\n",
       "      <td>146853</td>\n",
       "    </tr>\n",
       "    <tr>\n",
       "      <th>47</th>\n",
       "      <td>Akiruno-Shi</td>\n",
       "      <td>80466</td>\n",
       "    </tr>\n",
       "    <tr>\n",
       "      <th>48</th>\n",
       "      <td>Nishitokyo-Shi</td>\n",
       "      <td>290210</td>\n",
       "    </tr>\n",
       "    <tr>\n",
       "      <th>49</th>\n",
       "      <td>Nishitama-Gun</td>\n",
       "      <td>65748</td>\n",
       "    </tr>\n",
       "    <tr>\n",
       "      <th>50</th>\n",
       "      <td>Oshima-Machi</td>\n",
       "      <td>10878</td>\n",
       "    </tr>\n",
       "    <tr>\n",
       "      <th>51</th>\n",
       "      <td>Niijima-Mura</td>\n",
       "      <td>9129</td>\n",
       "    </tr>\n",
       "    <tr>\n",
       "      <th>52</th>\n",
       "      <td>Kozushima-Mura</td>\n",
       "      <td>8170</td>\n",
       "    </tr>\n",
       "    <tr>\n",
       "      <th>53</th>\n",
       "      <td>Ogasawara-Mura</td>\n",
       "      <td>24082</td>\n",
       "    </tr>\n",
       "  </tbody>\n",
       "</table>\n",
       "</div>"
      ],
      "text/plain": [
       "                   Ward Average_Price(SqKm)\n",
       "0            Chiyoda-Ku            2705898 \n",
       "1               Chuo-Ku            2699719 \n",
       "2             Minato-Ku            2121252 \n",
       "3           Shinjuku-Ku             939286 \n",
       "4             Bunkyo-Ku             945155 \n",
       "5              Taito-Ku            1064759 \n",
       "6             Sumida-Ku             617190 \n",
       "7               Koto-Ku             658047 \n",
       "8          Shinagawa-Ku             767398 \n",
       "9             Meguro-Ku             863712 \n",
       "10               Ota-Ku             560106 \n",
       "11          Setagaya-Ku             664106 \n",
       "12           Shibuya-Ku            1360332 \n",
       "13            Nakano-Ku             596154 \n",
       "14          Suginami-Ku             559122 \n",
       "15           Toshima-Ku             731392 \n",
       "16              Kita-Ku             547695 \n",
       "17           Arakawa-Ku             492675 \n",
       "18          Itabashi-Ku             436736 \n",
       "19            Nerima-Ku             402240 \n",
       "20            Adachi-Ku             295750 \n",
       "21        Katsushika-Ku             324876 \n",
       "22           Edogawa-Ku             332511 \n",
       "23         Hachioji-Shi             143350 \n",
       "24        Tachikawa-Shi             259136 \n",
       "25        Musashino-Shi             550175 \n",
       "26           Mitaka-Shi             365626 \n",
       "27              Ome-Shi              90508 \n",
       "28            Fuchu-Shi             286856 \n",
       "29         Akishima-Shi             176391 \n",
       "30            Chofu-Shi             355235 \n",
       "31          Machida-Shi             152918 \n",
       "32          Koganei-Shi             311612 \n",
       "33          Kodaira-Shi             216826 \n",
       "34             Hino-Shi             197386 \n",
       "35  Higashimurayama-Shi             184523 \n",
       "36        Kokubunji-Shi             270993 \n",
       "37        Kunitachi-Shi             315492 \n",
       "38            Fussa-Shi             154787 \n",
       "39            Komae-Shi             309465 \n",
       "40    Higashiyamato-Shi             151803 \n",
       "41           Kiyose-Shi             184332 \n",
       "42    Higashikurume-Shi             215470 \n",
       "43  Musashimurayama-Shi             114090 \n",
       "44             Tama-Shi             190620 \n",
       "45            Inagi-Shi             214439 \n",
       "46           Hamura-Shi             146853 \n",
       "47          Akiruno-Shi              80466 \n",
       "48       Nishitokyo-Shi             290210 \n",
       "49        Nishitama-Gun              65748 \n",
       "50         Oshima-Machi              10878 \n",
       "51         Niijima-Mura               9129 \n",
       "52       Kozushima-Mura               8170 \n",
       "53       Ogasawara-Mura              24082 "
      ]
     },
     "execution_count": 12,
     "metadata": {},
     "output_type": "execute_result"
    }
   ],
   "source": [
    "Name=[]\n",
    "Avg_price = []\n",
    "\n",
    "\n",
    "for row in Price_Tokyo_Table.findAll(\"tr\"):\n",
    "    \n",
    "    price = row.findAll('td')\n",
    "    Name.append(price[0].find(text=True))\n",
    "    Avg_price.append(price[2].find(text=True))   \n",
    "\n",
    "#print(Name)\n",
    "\n",
    "price_df = pd.DataFrame(Name,columns=['Ward'])\n",
    "price_df['Avg_price_sqKm'] = Avg_price\n",
    "\n",
    "\n",
    "\n",
    "\n",
    "price_df['Avg_price_sqKm'] = price_df['Avg_price_sqKm'].map(lambda x: x.rstrip('JPY/sq.m').rstrip('0123456789'))\n",
    "\n",
    "#print (price_df.dtypes)\n",
    "# Change the average price column datatype \n",
    "Avg_price_list = price_df['Avg_price_sqKm'].tolist()\n",
    "New_Avg_price = []\n",
    "\n",
    "for pr in range(len(Avg_price_list)):\n",
    "    x = Avg_price_list[pr].replace(\",\", \"\")\n",
    "    New_Avg_price.append(x)\n",
    "\n",
    "\n",
    "Avg_price_new=[int(s) for s in New_Avg_price]\n",
    "\n",
    "price_df.drop(['Avg_price_sqKm'], axis=1, inplace=True)\n",
    "\n",
    "price_df['Average_Price(SqKm)'] = New_Avg_price\n",
    "\n",
    "price_df"
   ]
  },
  {
   "cell_type": "code",
   "execution_count": 13,
   "metadata": {
    "ExecuteTime": {
     "end_time": "2020-08-12T15:42:46.372117Z",
     "start_time": "2020-08-12T15:42:46.357845Z"
    }
   },
   "outputs": [
    {
     "data": {
      "text/html": [
       "<div>\n",
       "<style scoped>\n",
       "    .dataframe tbody tr th:only-of-type {\n",
       "        vertical-align: middle;\n",
       "    }\n",
       "\n",
       "    .dataframe tbody tr th {\n",
       "        vertical-align: top;\n",
       "    }\n",
       "\n",
       "    .dataframe thead th {\n",
       "        text-align: right;\n",
       "    }\n",
       "</style>\n",
       "<table border=\"1\" class=\"dataframe\">\n",
       "  <thead>\n",
       "    <tr style=\"text-align: right;\">\n",
       "      <th></th>\n",
       "      <th>Ward</th>\n",
       "      <th>Average_Price(SqKm)</th>\n",
       "    </tr>\n",
       "  </thead>\n",
       "  <tbody>\n",
       "    <tr>\n",
       "      <th>1</th>\n",
       "      <td>Chiyoda</td>\n",
       "      <td>2705898</td>\n",
       "    </tr>\n",
       "    <tr>\n",
       "      <th>2</th>\n",
       "      <td>Chuo</td>\n",
       "      <td>2699719</td>\n",
       "    </tr>\n",
       "    <tr>\n",
       "      <th>3</th>\n",
       "      <td>Shinjuku</td>\n",
       "      <td>939286</td>\n",
       "    </tr>\n",
       "    <tr>\n",
       "      <th>4</th>\n",
       "      <td>Shinagawa</td>\n",
       "      <td>767398</td>\n",
       "    </tr>\n",
       "    <tr>\n",
       "      <th>5</th>\n",
       "      <td>Shibuya</td>\n",
       "      <td>1360332</td>\n",
       "    </tr>\n",
       "  </tbody>\n",
       "</table>\n",
       "</div>"
      ],
      "text/plain": [
       "        Ward Average_Price(SqKm)\n",
       "1    Chiyoda            2705898 \n",
       "2       Chuo            2699719 \n",
       "3   Shinjuku             939286 \n",
       "4  Shinagawa             767398 \n",
       "5    Shibuya            1360332 "
      ]
     },
     "execution_count": 13,
     "metadata": {},
     "output_type": "execute_result"
    }
   ],
   "source": [
    "## Select info only for 5 relevant wards Chiyoda, Chuo, Shinjuku, Shibuya, Shinagawa. \n",
    "## \n",
    "pd.options.mode.chained_assignment = None\n",
    "ward_list = ['Chiyoda-Ku', 'Chuo-Ku', 'Shinjuku-Ku', 'Shibuya-Ku', 'Shinagawa-Ku']\n",
    "price_df_selected = price_df.loc[price_df['Ward'].isin(ward_list)]\n",
    "price_df_selected.index = np.arange(1, len(price_df_selected) + 1)\n",
    "#Ward_names = price_df_selected['Ward'].map(lambda y: str(y)[:-3]) # strip -Ku from the ward names\n",
    "price_df_selected['Ward']=price_df_selected['Ward'].map(lambda y: str(y)[:-3]) \n",
    "#price_df_selected.drop(['Ward'], axis=1, inplace=True)\n",
    "#price_df_selected['Ward']=Ward_names\n",
    "price_df_selected"
   ]
  },
  {
   "cell_type": "code",
   "execution_count": 14,
   "metadata": {
    "ExecuteTime": {
     "end_time": "2020-08-12T15:42:46.387081Z",
     "start_time": "2020-08-12T15:42:46.373166Z"
    }
   },
   "outputs": [
    {
     "data": {
      "text/html": [
       "<div>\n",
       "<style scoped>\n",
       "    .dataframe tbody tr th:only-of-type {\n",
       "        vertical-align: middle;\n",
       "    }\n",
       "\n",
       "    .dataframe tbody tr th {\n",
       "        vertical-align: top;\n",
       "    }\n",
       "\n",
       "    .dataframe thead th {\n",
       "        text-align: right;\n",
       "    }\n",
       "</style>\n",
       "<table border=\"1\" class=\"dataframe\">\n",
       "  <thead>\n",
       "    <tr style=\"text-align: right;\">\n",
       "      <th></th>\n",
       "      <th>Ward</th>\n",
       "      <th>Area_SqKm</th>\n",
       "      <th>Population</th>\n",
       "      <th>Major_District</th>\n",
       "      <th>Dist_Latitude</th>\n",
       "      <th>Dist_Longitude</th>\n",
       "    </tr>\n",
       "  </thead>\n",
       "  <tbody>\n",
       "    <tr>\n",
       "      <th>1</th>\n",
       "      <td>Chiyoda</td>\n",
       "      <td>5100</td>\n",
       "      <td>59441</td>\n",
       "      <td>Nagatacho</td>\n",
       "      <td>35.675618</td>\n",
       "      <td>139.743469</td>\n",
       "    </tr>\n",
       "    <tr>\n",
       "      <th>2</th>\n",
       "      <td>Chuo</td>\n",
       "      <td>14460</td>\n",
       "      <td>147620</td>\n",
       "      <td>Nihonbashi</td>\n",
       "      <td>35.684058</td>\n",
       "      <td>139.774501</td>\n",
       "    </tr>\n",
       "    <tr>\n",
       "      <th>4</th>\n",
       "      <td>Shinjuku</td>\n",
       "      <td>18620</td>\n",
       "      <td>339211</td>\n",
       "      <td>Shinjuku</td>\n",
       "      <td>35.693763</td>\n",
       "      <td>139.703632</td>\n",
       "    </tr>\n",
       "    <tr>\n",
       "      <th>9</th>\n",
       "      <td>Shinagawa</td>\n",
       "      <td>17180</td>\n",
       "      <td>392492</td>\n",
       "      <td>Shinagawa</td>\n",
       "      <td>35.599252</td>\n",
       "      <td>139.738910</td>\n",
       "    </tr>\n",
       "    <tr>\n",
       "      <th>13</th>\n",
       "      <td>Shibuya</td>\n",
       "      <td>15080</td>\n",
       "      <td>227850</td>\n",
       "      <td>Shibuya</td>\n",
       "      <td>35.664596</td>\n",
       "      <td>139.698711</td>\n",
       "    </tr>\n",
       "  </tbody>\n",
       "</table>\n",
       "</div>"
      ],
      "text/plain": [
       "         Ward  Area_SqKm  Population Major_District  Dist_Latitude  \\\n",
       "1     Chiyoda       5100       59441      Nagatacho      35.675618   \n",
       "2        Chuo      14460      147620     Nihonbashi      35.684058   \n",
       "4    Shinjuku      18620      339211       Shinjuku      35.693763   \n",
       "9   Shinagawa      17180      392492      Shinagawa      35.599252   \n",
       "13    Shibuya      15080      227850        Shibuya      35.664596   \n",
       "\n",
       "    Dist_Longitude  \n",
       "1       139.743469  \n",
       "2       139.774501  \n",
       "4       139.703632  \n",
       "9       139.738910  \n",
       "13      139.698711  "
      ]
     },
     "execution_count": 14,
     "metadata": {},
     "output_type": "execute_result"
    }
   ],
   "source": [
    "## Similarly select those five wards from the Tokyo Wards Data-Frame\n",
    "ward_list1 = ['Chiyoda', 'Chuo', 'Shinjuku', 'Shibuya', 'Shinagawa']\n",
    "Tokyo_df_selected = Tokyo_df.loc[Tokyo_df['Ward'].isin(ward_list1)]\n",
    "Tokyo_df_selected"
   ]
  },
  {
   "cell_type": "code",
   "execution_count": 15,
   "metadata": {
    "ExecuteTime": {
     "end_time": "2020-08-12T15:42:46.404939Z",
     "start_time": "2020-08-12T15:42:46.388033Z"
    }
   },
   "outputs": [
    {
     "data": {
      "text/html": [
       "<div>\n",
       "<style scoped>\n",
       "    .dataframe tbody tr th:only-of-type {\n",
       "        vertical-align: middle;\n",
       "    }\n",
       "\n",
       "    .dataframe tbody tr th {\n",
       "        vertical-align: top;\n",
       "    }\n",
       "\n",
       "    .dataframe thead th {\n",
       "        text-align: right;\n",
       "    }\n",
       "</style>\n",
       "<table border=\"1\" class=\"dataframe\">\n",
       "  <thead>\n",
       "    <tr style=\"text-align: right;\">\n",
       "      <th></th>\n",
       "      <th>Ward</th>\n",
       "      <th>Area_SqKm</th>\n",
       "      <th>Population</th>\n",
       "      <th>Major_District</th>\n",
       "      <th>Dist_Latitude</th>\n",
       "      <th>Dist_Longitude</th>\n",
       "      <th>Average_Price(SqKm)</th>\n",
       "    </tr>\n",
       "  </thead>\n",
       "  <tbody>\n",
       "    <tr>\n",
       "      <th>1</th>\n",
       "      <td>Chiyoda</td>\n",
       "      <td>5100</td>\n",
       "      <td>59441</td>\n",
       "      <td>Nagatacho</td>\n",
       "      <td>35.675618</td>\n",
       "      <td>139.743469</td>\n",
       "      <td>2705898</td>\n",
       "    </tr>\n",
       "    <tr>\n",
       "      <th>2</th>\n",
       "      <td>Chuo</td>\n",
       "      <td>14460</td>\n",
       "      <td>147620</td>\n",
       "      <td>Nihonbashi</td>\n",
       "      <td>35.684058</td>\n",
       "      <td>139.774501</td>\n",
       "      <td>2699719</td>\n",
       "    </tr>\n",
       "    <tr>\n",
       "      <th>3</th>\n",
       "      <td>Shinjuku</td>\n",
       "      <td>18620</td>\n",
       "      <td>339211</td>\n",
       "      <td>Shinjuku</td>\n",
       "      <td>35.693763</td>\n",
       "      <td>139.703632</td>\n",
       "      <td>939286</td>\n",
       "    </tr>\n",
       "    <tr>\n",
       "      <th>4</th>\n",
       "      <td>Shinagawa</td>\n",
       "      <td>17180</td>\n",
       "      <td>392492</td>\n",
       "      <td>Shinagawa</td>\n",
       "      <td>35.599252</td>\n",
       "      <td>139.738910</td>\n",
       "      <td>767398</td>\n",
       "    </tr>\n",
       "    <tr>\n",
       "      <th>5</th>\n",
       "      <td>Shibuya</td>\n",
       "      <td>15080</td>\n",
       "      <td>227850</td>\n",
       "      <td>Shibuya</td>\n",
       "      <td>35.664596</td>\n",
       "      <td>139.698711</td>\n",
       "      <td>1360332</td>\n",
       "    </tr>\n",
       "  </tbody>\n",
       "</table>\n",
       "</div>"
      ],
      "text/plain": [
       "        Ward  Area_SqKm  Population Major_District  Dist_Latitude  \\\n",
       "1    Chiyoda       5100       59441      Nagatacho      35.675618   \n",
       "2       Chuo      14460      147620     Nihonbashi      35.684058   \n",
       "3   Shinjuku      18620      339211       Shinjuku      35.693763   \n",
       "4  Shinagawa      17180      392492      Shinagawa      35.599252   \n",
       "5    Shibuya      15080      227850        Shibuya      35.664596   \n",
       "\n",
       "   Dist_Longitude Average_Price(SqKm)  \n",
       "1      139.743469            2705898   \n",
       "2      139.774501            2699719   \n",
       "3      139.703632             939286   \n",
       "4      139.738910             767398   \n",
       "5      139.698711            1360332   "
      ]
     },
     "execution_count": 15,
     "metadata": {},
     "output_type": "execute_result"
    }
   ],
   "source": [
    "# Merge the two dataframes according to the ward names \n",
    "\n",
    "Tokyo_df_selected_final = Tokyo_df_selected.merge(price_df_selected, on='Ward', how='left')\n",
    "Tokyo_df_selected_final.index = np.arange(1, len(Tokyo_df_selected_final)+1)\n",
    "Tokyo_df_selected_final.to_csv('Tokyo_5_Wards.csv')\n",
    "Tokyo_df_selected_final"
   ]
  },
  {
   "cell_type": "code",
   "execution_count": 16,
   "metadata": {
    "ExecuteTime": {
     "end_time": "2020-08-12T15:42:46.976442Z",
     "start_time": "2020-08-12T15:42:46.405821Z"
    }
   },
   "outputs": [
    {
     "name": "stdout",
     "output_type": "stream",
     "text": [
      "The geograpical coordinates of Tokyo are 35.6828387, 139.7594549.\n"
     ]
    }
   ],
   "source": [
    "# get Tokyo, Tokyo Latitude and Longitude \n",
    "\n",
    "from geopy.geocoders import Nominatim # convert an address into latitude and longitude values\n",
    "address = 'Tokyo'\n",
    "\n",
    "geolocator = Nominatim(user_agent=\"Tokyo_explorer\")\n",
    "location = geolocator.geocode(address)\n",
    "Tokyo_latitude = location.latitude\n",
    "Tokyo_longitude = location.longitude\n",
    "print('The geograpical coordinates of Tokyo are {}, {}.'.format(Tokyo_latitude, Tokyo_longitude))"
   ]
  },
  {
   "cell_type": "code",
   "execution_count": 17,
   "metadata": {
    "ExecuteTime": {
     "end_time": "2020-08-12T15:42:47.309782Z",
     "start_time": "2020-08-12T15:42:46.982740Z"
    }
   },
   "outputs": [
    {
     "data": {
      "text/html": [
       "<div style=\"width:100%;\"><div style=\"position:relative;width:100%;height:0;padding-bottom:60%;\"><span style=\"color:#565656\">Make this Notebook Trusted to load map: File -> Trust Notebook</span><iframe src=\"about:blank\" style=\"position:absolute;width:100%;height:100%;left:0;top:0;border:none !important;\" data-html=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 onload=\"this.contentDocument.open();this.contentDocument.write(atob(this.getAttribute('data-html')));this.contentDocument.close();\" allowfullscreen webkitallowfullscreen mozallowfullscreen></iframe></div></div>"
      ],
      "text/plain": [
       "<folium.folium.Map at 0x7f3d38375580>"
      ]
     },
     "execution_count": 17,
     "metadata": {},
     "output_type": "execute_result"
    }
   ],
   "source": [
    "import folium\n",
    "# # create map of Most Busy Office Areas of Tokyo using latitude and longitude values\n",
    "Tokyo_5Wards = folium.Map(location=[Tokyo_latitude, Tokyo_longitude], zoom_start=12)\n",
    "\n",
    "# add markers to map\n",
    "for lat, lng, label in zip(Tokyo_df_selected_final['Dist_Latitude'], Tokyo_df_selected_final['Dist_Longitude'], \n",
    "                           Tokyo_df_selected_final['Major_District']):\n",
    "    label = folium.Popup(label, parse_html=True)\n",
    "    folium.CircleMarker(\n",
    "        [lat, lng],\n",
    "        radius=9,\n",
    "        popup=label,\n",
    "        color='magenta',\n",
    "        fill=True,\n",
    "        fill_color='#3186cc',\n",
    "        fill_opacity=0.7).add_to(Tokyo_5Wards)  \n",
    "    \n",
    "Tokyo_5Wards"
   ]
  },
  {
   "cell_type": "markdown",
   "metadata": {},
   "source": [
    "#### The 5 Neighbourhoods (Chiyoda, Chuo, Shinjuku, Shibuya, Shinagawa) that are ready to battle for the best place to open a lunch restaurant looks as below in Map, obtained using Folium \n",
    "\n",
    "![Tokyo_5_Wards](Tokyo_5_Wards.png)"
   ]
  },
  {
   "cell_type": "markdown",
   "metadata": {},
   "source": [
    "### Getting Ready to Use FourSquare API "
   ]
  },
  {
   "cell_type": "code",
   "execution_count": 18,
   "metadata": {
    "ExecuteTime": {
     "end_time": "2020-08-12T15:42:47.314452Z",
     "start_time": "2020-08-12T15:42:47.310845Z"
    }
   },
   "outputs": [
    {
     "name": "stdout",
     "output_type": "stream",
     "text": [
      "My credentails:\n",
      "My CLIENT_ID: OXGR1TBCHEE3NV35DBGWR23PS0ZDY0KWLOBPUSTHOEPFVAYI\n",
      "My CLIENT_SECRET:HJTHRXYLFNLPAHSNJPP2IGGQK4OX4JX0MIEA1JHZ0IVVWA2J\n"
     ]
    }
   ],
   "source": [
    "# Sign up on https://foursquare.com/ to get the client ID and client secret\n",
    "\n",
    "CLIENT_ID = 'YOURCLIENTID' #'your-client-ID' # your Foursquare ID\n",
    "CLIENT_SECRET = 'YOURCLIENTSECRET' #'your-client-secret' # your Foursquare Secret\n",
    "VERSION = '20190325' # Foursquare API version\n",
    "\n",
    "print('My credentails:')\n",
    "print('My CLIENT_ID: ' + CLIENT_ID)\n",
    "print('My CLIENT_SECRET:' + CLIENT_SECRET)"
   ]
  },
  {
   "cell_type": "markdown",
   "metadata": {},
   "source": [
    "#### To decide which neighborhood (read 'Ward') is best for opening a restaurant, We will explore the areas around the major districts. <br> (Chiyoda: Nagatacho, Chuo: Nihonbashi, Shinjuku: Shinjuku, Shibuya: Shibuya, Shinagawa:Shinagawa) "
   ]
  },
  {
   "cell_type": "markdown",
   "metadata": {},
   "source": [
    "### Exploring the Major Districts \n",
    "\n",
    "1. Create the get request url (Foursquare ID and Secret are necessary) <br>\n",
    "    1.a. Number of Venues we will look for is 100\n",
    "    2.a. Radius of Search Would be 1 k.m. \n",
    "2. Create a json from  the request object (Need requests Module) <br>\n",
    "3. Create the lists Containing all the information <br>\n",
    "4. From the lists create the dataframe. "
   ]
  },
  {
   "cell_type": "code",
   "execution_count": 19,
   "metadata": {
    "ExecuteTime": {
     "end_time": "2020-08-12T15:43:37.545771Z",
     "start_time": "2020-08-12T15:43:37.535618Z"
    }
   },
   "outputs": [],
   "source": [
    "radius = 1000\n",
    "LIMIT = 100\n",
    "\n",
    "def getNearbyVenues(names, latitudes, longitudes, radius=1000):\n",
    "    \n",
    "    venues_list=[]\n",
    "    for name, lat, lng in zip(names, latitudes, longitudes):\n",
    "        print(name)\n",
    "            \n",
    "        # create the API request URL\n",
    "        url = 'https://api.foursquare.com/v2/venues/explore?&client_id={}&client_secret={}&v={}&ll={},{}&radius={}&limit={}'.format(\n",
    "            CLIENT_ID, \n",
    "            CLIENT_SECRET, \n",
    "            VERSION, \n",
    "            lat, \n",
    "            lng, \n",
    "            radius, \n",
    "            LIMIT)\n",
    "            \n",
    "        # make the GET request\n",
    "        results = requests.get(url).json()[\"response\"]['groups'][0]['items']\n",
    "        \n",
    "        # return only relevant information for each nearby venue\n",
    "        venues_list.append([(\n",
    "            name, \n",
    "            lat, \n",
    "            lng, \n",
    "            v['venue']['name'], \n",
    "            v['venue']['location']['lat'], \n",
    "            v['venue']['location']['lng'],  \n",
    "            v['venue']['categories'][0]['name']) for v in results])\n",
    "\n",
    "    nearby_venues = pd.DataFrame([item for venue_list in venues_list for item in venue_list])\n",
    "    nearby_venues.columns = ['District', \n",
    "                  'Dist_Latitude', \n",
    "                  'Dist_Longitude', \n",
    "                  'Venue', \n",
    "                  'Venue_Lat', \n",
    "                  'Venue_Long', \n",
    "                  'Venue_Category']\n",
    "    \n",
    "    return(nearby_venues)"
   ]
  },
  {
   "cell_type": "markdown",
   "metadata": {},
   "source": [
    "#### Use the Function Above to Create the Dataframe of Venues Around Those 5 Major Districts Belonging to the Busiest Wards of Tokyo "
   ]
  },
  {
   "cell_type": "code",
   "execution_count": 20,
   "metadata": {
    "ExecuteTime": {
     "end_time": "2020-08-12T15:43:43.479209Z",
     "start_time": "2020-08-12T15:43:39.834921Z"
    }
   },
   "outputs": [
    {
     "name": "stdout",
     "output_type": "stream",
     "text": [
      "Nagatacho\n",
      "Nihonbashi\n",
      "Shinjuku\n",
      "Shinagawa\n",
      "Shibuya\n"
     ]
    }
   ],
   "source": [
    "\n",
    "\n",
    "Tokyo_5_Dist_Venues = getNearbyVenues(names=Tokyo_df_selected_final['Major_District'],\n",
    "                                   latitudes=Tokyo_df_selected_final['Dist_Latitude'],\n",
    "                                   longitudes=Tokyo_df_selected_final['Dist_Longitude']\n",
    "                                  )"
   ]
  },
  {
   "cell_type": "code",
   "execution_count": 21,
   "metadata": {
    "ExecuteTime": {
     "end_time": "2020-08-12T15:43:43.500226Z",
     "start_time": "2020-08-12T15:43:43.482706Z"
    }
   },
   "outputs": [
    {
     "name": "stdout",
     "output_type": "stream",
     "text": [
      "Shape of the Venues Dataframe:  (500, 7)\n"
     ]
    },
    {
     "data": {
      "text/html": [
       "<div>\n",
       "<style scoped>\n",
       "    .dataframe tbody tr th:only-of-type {\n",
       "        vertical-align: middle;\n",
       "    }\n",
       "\n",
       "    .dataframe tbody tr th {\n",
       "        vertical-align: top;\n",
       "    }\n",
       "\n",
       "    .dataframe thead th {\n",
       "        text-align: right;\n",
       "    }\n",
       "</style>\n",
       "<table border=\"1\" class=\"dataframe\">\n",
       "  <thead>\n",
       "    <tr style=\"text-align: right;\">\n",
       "      <th></th>\n",
       "      <th>District</th>\n",
       "      <th>Dist_Latitude</th>\n",
       "      <th>Dist_Longitude</th>\n",
       "      <th>Venue</th>\n",
       "      <th>Venue_Lat</th>\n",
       "      <th>Venue_Long</th>\n",
       "      <th>Venue_Category</th>\n",
       "    </tr>\n",
       "  </thead>\n",
       "  <tbody>\n",
       "    <tr>\n",
       "      <th>497</th>\n",
       "      <td>Shibuya</td>\n",
       "      <td>35.664596</td>\n",
       "      <td>139.698711</td>\n",
       "      <td>Chez Matsuo (シェ松尾 松濤レストラン)</td>\n",
       "      <td>35.660804</td>\n",
       "      <td>139.692413</td>\n",
       "      <td>French Restaurant</td>\n",
       "    </tr>\n",
       "    <tr>\n",
       "      <th>498</th>\n",
       "      <td>Shibuya</td>\n",
       "      <td>35.664596</td>\n",
       "      <td>139.698711</td>\n",
       "      <td>Isari Juhachiban (漁十八番)</td>\n",
       "      <td>35.658858</td>\n",
       "      <td>139.698396</td>\n",
       "      <td>Seafood Restaurant</td>\n",
       "    </tr>\n",
       "    <tr>\n",
       "      <th>499</th>\n",
       "      <td>Shibuya</td>\n",
       "      <td>35.664596</td>\n",
       "      <td>139.698711</td>\n",
       "      <td>Lindt Chocolat Café (リンツ ショコラ カフェ)</td>\n",
       "      <td>35.659580</td>\n",
       "      <td>139.701526</td>\n",
       "      <td>Chocolate Shop</td>\n",
       "    </tr>\n",
       "  </tbody>\n",
       "</table>\n",
       "</div>"
      ],
      "text/plain": [
       "    District  Dist_Latitude  Dist_Longitude  \\\n",
       "497  Shibuya      35.664596      139.698711   \n",
       "498  Shibuya      35.664596      139.698711   \n",
       "499  Shibuya      35.664596      139.698711   \n",
       "\n",
       "                                  Venue  Venue_Lat  Venue_Long  \\\n",
       "497          Chez Matsuo (シェ松尾 松濤レストラン)  35.660804  139.692413   \n",
       "498             Isari Juhachiban (漁十八番)  35.658858  139.698396   \n",
       "499  Lindt Chocolat Café (リンツ ショコラ カフェ)  35.659580  139.701526   \n",
       "\n",
       "         Venue_Category  \n",
       "497   French Restaurant  \n",
       "498  Seafood Restaurant  \n",
       "499      Chocolate Shop  "
      ]
     },
     "execution_count": 21,
     "metadata": {},
     "output_type": "execute_result"
    }
   ],
   "source": [
    "print (\"Shape of the Venues Dataframe: \", Tokyo_5_Dist_Venues.shape)\n",
    "Tokyo_5_Dist_Venues.tail(3)"
   ]
  },
  {
   "cell_type": "code",
   "execution_count": 23,
   "metadata": {
    "ExecuteTime": {
     "end_time": "2020-08-12T15:43:54.600999Z",
     "start_time": "2020-08-12T15:43:54.584384Z"
    }
   },
   "outputs": [
    {
     "name": "stdout",
     "output_type": "stream",
     "text": [
      "Shape of the Data-Frame with Venue Category only Restaurant:  (183, 7)\n"
     ]
    },
    {
     "data": {
      "text/html": [
       "<div>\n",
       "<style scoped>\n",
       "    .dataframe tbody tr th:only-of-type {\n",
       "        vertical-align: middle;\n",
       "    }\n",
       "\n",
       "    .dataframe tbody tr th {\n",
       "        vertical-align: top;\n",
       "    }\n",
       "\n",
       "    .dataframe thead th {\n",
       "        text-align: right;\n",
       "    }\n",
       "</style>\n",
       "<table border=\"1\" class=\"dataframe\">\n",
       "  <thead>\n",
       "    <tr style=\"text-align: right;\">\n",
       "      <th></th>\n",
       "      <th>District</th>\n",
       "      <th>Dist_Latitude</th>\n",
       "      <th>Dist_Longitude</th>\n",
       "      <th>Venue</th>\n",
       "      <th>Venue_Lat</th>\n",
       "      <th>Venue_Long</th>\n",
       "      <th>Venue_Category</th>\n",
       "    </tr>\n",
       "  </thead>\n",
       "  <tbody>\n",
       "    <tr>\n",
       "      <th>1</th>\n",
       "      <td>Nagatacho</td>\n",
       "      <td>35.675618</td>\n",
       "      <td>139.743469</td>\n",
       "      <td>Nagatacho Kurosawa (永田町 黒澤)</td>\n",
       "      <td>35.674699</td>\n",
       "      <td>139.741737</td>\n",
       "      <td>Japanese Restaurant</td>\n",
       "    </tr>\n",
       "    <tr>\n",
       "      <th>2</th>\n",
       "      <td>Nagatacho</td>\n",
       "      <td>35.675618</td>\n",
       "      <td>139.743469</td>\n",
       "      <td>Shinamen Hashigo (支那麺 はしご)</td>\n",
       "      <td>35.672184</td>\n",
       "      <td>139.741576</td>\n",
       "      <td>Ramen Restaurant</td>\n",
       "    </tr>\n",
       "    <tr>\n",
       "      <th>3</th>\n",
       "      <td>Nagatacho</td>\n",
       "      <td>35.675618</td>\n",
       "      <td>139.743469</td>\n",
       "      <td>Sushi Isshin (鮨 一新)</td>\n",
       "      <td>35.672589</td>\n",
       "      <td>139.739399</td>\n",
       "      <td>Sushi Restaurant</td>\n",
       "    </tr>\n",
       "  </tbody>\n",
       "</table>\n",
       "</div>"
      ],
      "text/plain": [
       "    District  Dist_Latitude  Dist_Longitude                        Venue  \\\n",
       "1  Nagatacho      35.675618      139.743469  Nagatacho Kurosawa (永田町 黒澤)   \n",
       "2  Nagatacho      35.675618      139.743469   Shinamen Hashigo (支那麺 はしご)   \n",
       "3  Nagatacho      35.675618      139.743469          Sushi Isshin (鮨 一新)   \n",
       "\n",
       "   Venue_Lat  Venue_Long       Venue_Category  \n",
       "1  35.674699  139.741737  Japanese Restaurant  \n",
       "2  35.672184  139.741576     Ramen Restaurant  \n",
       "3  35.672589  139.739399     Sushi Restaurant  "
      ]
     },
     "execution_count": 23,
     "metadata": {},
     "output_type": "execute_result"
    }
   ],
   "source": [
    "# Create a Data-Frame out of it to Concentrate Only on Restaurants \n",
    "\n",
    "Tokyo_5_Dist_Venues_only_restaurant = Tokyo_5_Dist_Venues[Tokyo_5_Dist_Venues['Venue_Category']\\\n",
    "                                                          .str.contains('Restaurant')].reset_index(drop=True)\n",
    "Tokyo_5_Dist_Venues_only_restaurant.index = np.arange(1, len(Tokyo_5_Dist_Venues_only_restaurant)+1)\n",
    "print (\"Shape of the Data-Frame with Venue Category only Restaurant: \", Tokyo_5_Dist_Venues_only_restaurant.shape)\n",
    "Tokyo_5_Dist_Venues_only_restaurant.head(3)"
   ]
  },
  {
   "cell_type": "code",
   "execution_count": 28,
   "metadata": {
    "ExecuteTime": {
     "end_time": "2020-08-12T15:45:46.167453Z",
     "start_time": "2020-08-12T15:45:46.165397Z"
    }
   },
   "outputs": [],
   "source": [
    "import datapane as dp \n",
    "\n",
    "# A list to create a Datapane report later\n",
    "report = []"
   ]
  },
  {
   "cell_type": "code",
   "execution_count": 24,
   "metadata": {
    "ExecuteTime": {
     "end_time": "2020-08-12T15:43:55.520874Z",
     "start_time": "2020-08-12T15:43:55.355374Z"
    }
   },
   "outputs": [
    {
     "data": {
      "text/html": [
       "<div style=\"width:100%;\"><div style=\"position:relative;width:100%;height:0;padding-bottom:60%;\"><span style=\"color:#565656\">Make this Notebook Trusted to load map: File -> Trust Notebook</span><iframe src=\"about:blank\" style=\"position:absolute;width:100%;height:100%;left:0;top:0;border:none !important;\" data-html=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 onload=\"this.contentDocument.open();this.contentDocument.write(atob(this.getAttribute('data-html')));this.contentDocument.close();\" allowfullscreen webkitallowfullscreen mozallowfullscreen></iframe></div></div>"
      ],
      "text/plain": [
       "<folium.folium.Map at 0x7f3d386b2ee0>"
      ]
     },
     "execution_count": 24,
     "metadata": {},
     "output_type": "execute_result"
    }
   ],
   "source": [
    "## Show in Map the Top Rated Restaruants in the Top 5 Districts\n",
    "\n",
    "map_restaurants = folium.Map(location=[Tokyo_latitude, Tokyo_longitude], zoom_start=11, tiles=\"openstreetmap\", \n",
    "                            attr=\"<a href=https://github.com/python-visualization/folium/>Folium</a>\")\n",
    "\n",
    "# set color scheme for the Venues based on the Major Districts\n",
    "Districts = ['Nagatacho', 'Nihonbashi', 'Shinjuku', 'Shinagawa', 'Shibuya']\n",
    "\n",
    "x = np.arange(len(Districts))\n",
    "\n",
    "rainbow = ['#00ff00', '#ff00ff','#0000ff','#ffa500' ,'#ff0000']\n",
    "\n",
    "# add markers to the map\n",
    "# markers_colors = []\n",
    "for lat, lon, poi, distr in zip(Tokyo_5_Dist_Venues_only_restaurant['Venue_Lat'], \n",
    "                                  Tokyo_5_Dist_Venues_only_restaurant['Venue_Long'], \n",
    "                                  Tokyo_5_Dist_Venues_only_restaurant['Venue_Category'], \n",
    "                                  Tokyo_5_Dist_Venues_only_restaurant['District']):\n",
    "    label = folium.Popup(str(poi) + ' ' + str(distr), parse_html=True)\n",
    "    folium.CircleMarker(\n",
    "        [lat, lon],\n",
    "        radius=7,\n",
    "        popup=label,\n",
    "        color=rainbow[Districts.index(distr)-1],\n",
    "        fill=True,\n",
    "        fill_color=rainbow[Districts.index(distr)-1],\n",
    "        fill_opacity=0.3).add_to(map_restaurants)\n",
    "       \n",
    "map_restaurants"
   ]
  },
  {
   "cell_type": "code",
   "execution_count": 30,
   "metadata": {
    "ExecuteTime": {
     "end_time": "2020-08-12T15:45:54.238453Z",
     "start_time": "2020-08-12T15:45:53.832896Z"
    }
   },
   "outputs": [],
   "source": [
    "report.append(dp.Plot(map_restaurants))"
   ]
  },
  {
   "cell_type": "markdown",
   "metadata": {},
   "source": [
    "#### See the Most Frequently Visited Restaurants in the Best Five Districts of Tokyo. \n",
    "![Tokyo_all_restaurants](Most_Visited_Restaurants_Tokyo.png)"
   ]
  },
  {
   "cell_type": "code",
   "execution_count": 31,
   "metadata": {
    "ExecuteTime": {
     "end_time": "2020-08-12T15:46:00.736174Z",
     "start_time": "2020-08-12T15:46:00.727472Z"
    }
   },
   "outputs": [
    {
     "name": "stdout",
     "output_type": "stream",
     "text": [
      "There are 135 unique categories.\n",
      "       Venue_Category\n",
      "70   Sushi Restaurant\n",
      "71  Korean Restaurant\n",
      "72            Theater\n",
      "73         Steakhouse\n",
      "74             Lounge\n"
     ]
    }
   ],
   "source": [
    "### Number of Unique Categories in the Dataframe \n",
    "print('There are {} unique categories.'.format(len(Tokyo_5_Dist_Venues['Venue_Category'].unique())))\n",
    "## We can check some of the categories randomly  \n",
    "print (Tokyo_5_Dist_Venues[['Venue_Category']][70:75])"
   ]
  },
  {
   "cell_type": "markdown",
   "metadata": {},
   "source": [
    "#### We have seen that there are 134 unique categories in the Venues Data-Frame. <br> Let's see the Frequency of Each Category "
   ]
  },
  {
   "cell_type": "code",
   "execution_count": 32,
   "metadata": {
    "ExecuteTime": {
     "end_time": "2020-08-12T15:46:02.976314Z",
     "start_time": "2020-08-12T15:46:02.968652Z"
    }
   },
   "outputs": [
    {
     "name": "stdout",
     "output_type": "stream",
     "text": [
      "BBQ Joint                    26\n",
      "Japanese Restaurant          25\n",
      "Sake Bar                     22\n",
      "Ramen Restaurant             20\n",
      "Café                         18\n",
      "                             ..\n",
      "Deli / Bodega                 1\n",
      "Souvenir Shop                 1\n",
      "Hostel                        1\n",
      "Karaoke Bar                   1\n",
      "Japanese Curry Restaurant     1\n",
      "Name: Venue_Category, Length: 135, dtype: int64\n"
     ]
    }
   ],
   "source": [
    "print (Tokyo_5_Dist_Venues['Venue_Category'].value_counts())"
   ]
  },
  {
   "cell_type": "markdown",
   "metadata": {},
   "source": [
    "#### Create a Data-frame with the 10 Most Frequently Occuring Venue_Category "
   ]
  },
  {
   "cell_type": "code",
   "execution_count": 33,
   "metadata": {
    "ExecuteTime": {
     "end_time": "2020-08-12T15:46:04.761694Z",
     "start_time": "2020-08-12T15:46:04.752157Z"
    }
   },
   "outputs": [
    {
     "data": {
      "text/html": [
       "<div>\n",
       "<style scoped>\n",
       "    .dataframe tbody tr th:only-of-type {\n",
       "        vertical-align: middle;\n",
       "    }\n",
       "\n",
       "    .dataframe tbody tr th {\n",
       "        vertical-align: top;\n",
       "    }\n",
       "\n",
       "    .dataframe thead th {\n",
       "        text-align: right;\n",
       "    }\n",
       "</style>\n",
       "<table border=\"1\" class=\"dataframe\">\n",
       "  <thead>\n",
       "    <tr style=\"text-align: right;\">\n",
       "      <th></th>\n",
       "      <th>Venue_Category</th>\n",
       "      <th>Frequency</th>\n",
       "    </tr>\n",
       "  </thead>\n",
       "  <tbody>\n",
       "    <tr>\n",
       "      <th>0</th>\n",
       "      <td>BBQ Joint</td>\n",
       "      <td>26</td>\n",
       "    </tr>\n",
       "    <tr>\n",
       "      <th>1</th>\n",
       "      <td>Japanese Restaurant</td>\n",
       "      <td>25</td>\n",
       "    </tr>\n",
       "    <tr>\n",
       "      <th>2</th>\n",
       "      <td>Sake Bar</td>\n",
       "      <td>22</td>\n",
       "    </tr>\n",
       "    <tr>\n",
       "      <th>3</th>\n",
       "      <td>Ramen Restaurant</td>\n",
       "      <td>20</td>\n",
       "    </tr>\n",
       "    <tr>\n",
       "      <th>4</th>\n",
       "      <td>Café</td>\n",
       "      <td>18</td>\n",
       "    </tr>\n",
       "    <tr>\n",
       "      <th>5</th>\n",
       "      <td>Bar</td>\n",
       "      <td>17</td>\n",
       "    </tr>\n",
       "    <tr>\n",
       "      <th>6</th>\n",
       "      <td>Hotel</td>\n",
       "      <td>15</td>\n",
       "    </tr>\n",
       "    <tr>\n",
       "      <th>7</th>\n",
       "      <td>Sushi Restaurant</td>\n",
       "      <td>14</td>\n",
       "    </tr>\n",
       "    <tr>\n",
       "      <th>8</th>\n",
       "      <td>Convenience Store</td>\n",
       "      <td>14</td>\n",
       "    </tr>\n",
       "    <tr>\n",
       "      <th>9</th>\n",
       "      <td>Coffee Shop</td>\n",
       "      <td>13</td>\n",
       "    </tr>\n",
       "  </tbody>\n",
       "</table>\n",
       "</div>"
      ],
      "text/plain": [
       "        Venue_Category  Frequency\n",
       "0            BBQ Joint         26\n",
       "1  Japanese Restaurant         25\n",
       "2             Sake Bar         22\n",
       "3     Ramen Restaurant         20\n",
       "4                 Café         18\n",
       "5                  Bar         17\n",
       "6                Hotel         15\n",
       "7     Sushi Restaurant         14\n",
       "8    Convenience Store         14\n",
       "9          Coffee Shop         13"
      ]
     },
     "execution_count": 33,
     "metadata": {},
     "output_type": "execute_result"
    }
   ],
   "source": [
    "# create a dataframe of top 10 categories\n",
    "Tokyo_5_Dist_Venues_Top10 = Tokyo_5_Dist_Venues['Venue_Category'].value_counts()[0:10].to_frame(name='frequency')\n",
    "Tokyo_5_Dist_Venues_Top10=Tokyo_5_Dist_Venues_Top10.reset_index()\n",
    "#Tokyo_5_Dist_Venues_Top10\n",
    "\n",
    "Tokyo_5_Dist_Venues_Top10.rename(index=str, columns={\"index\": \"Venue_Category\", \"frequency\": \"Frequency\"}, inplace=True)\n",
    "Tokyo_5_Dist_Venues_Top10"
   ]
  },
  {
   "cell_type": "code",
   "execution_count": null,
   "metadata": {},
   "outputs": [],
   "source": [
    "!pip install seaborn"
   ]
  },
  {
   "cell_type": "code",
   "execution_count": 34,
   "metadata": {
    "ExecuteTime": {
     "end_time": "2020-08-12T15:46:08.609179Z",
     "start_time": "2020-08-12T15:46:07.125752Z"
    }
   },
   "outputs": [
    {
     "data": {
      "image/png": "[encoded data removed]",
      "text/plain": [
       "<Figure size 1296x504 with 1 Axes>"
      ]
     },
     "metadata": {
      "needs_background": "light"
     },
     "output_type": "display_data"
    }
   ],
   "source": [
    "import seaborn as sns\n",
    "fig = plt.figure(figsize=(18,7))\n",
    "s=sns.barplot(x=\"Venue_Category\", y=\"Frequency\", data=Tokyo_5_Dist_Venues_Top10)\n",
    "s.set_xticklabels(s.get_xticklabels(), rotation=30)\n",
    "plt.title('10 Most Frequently Occuring Venues in 5 Major Districts of Tokyo', fontsize=15)\n",
    "plt.xlabel(\"Venue Category\", fontsize=15)\n",
    "plt.ylabel (\"Frequency\", fontsize=15)\n",
    "plt.savefig(\"Most_Freq_Venues.png\", dpi=300)\n",
    "plt.show()"
   ]
  },
  {
   "cell_type": "code",
   "execution_count": 36,
   "metadata": {
    "ExecuteTime": {
     "end_time": "2020-08-12T15:46:40.638218Z",
     "start_time": "2020-08-12T15:46:40.591507Z"
    }
   },
   "outputs": [],
   "source": [
    "report.append(dp.Plot(fig))"
   ]
  },
  {
   "cell_type": "markdown",
   "metadata": {},
   "source": [
    "### Ramen Restaurant is one of the Most Frequent Venues in 5 Major Districts of Tokyo. <br> \n",
    "\n",
    "\n",
    "### Break Time for Ramen \n",
    "\n",
    "![tonkotsu](tonkotsu_ramen.jpg)"
   ]
  },
  {
   "cell_type": "code",
   "execution_count": 37,
   "metadata": {
    "ExecuteTime": {
     "end_time": "2020-08-12T15:46:46.722637Z",
     "start_time": "2020-08-12T15:46:46.711878Z"
    }
   },
   "outputs": [],
   "source": [
    "### Use One Hot Encoding to Get More Information about the Venue Categories \n",
    "Tokyo_5_Dist_Venues_onehot = pd.get_dummies(Tokyo_5_Dist_Venues[['Venue_Category']], prefix=\"\", prefix_sep=\"\")\n",
    "\n",
    "### add district column back to dataframe\n",
    "Tokyo_5_Dist_Venues_onehot['District'] = Tokyo_5_Dist_Venues['District'] \n",
    "### move district column to the first column\n",
    "fixed_columns = [Tokyo_5_Dist_Venues_onehot.columns[-1]] + list(Tokyo_5_Dist_Venues_onehot.columns[:-1])\n",
    "Tokyo_5_Dist_Venues_onehot = Tokyo_5_Dist_Venues_onehot[fixed_columns]\n",
    "###Tokyo_5_Dist_Venues_onehot.head(3)"
   ]
  },
  {
   "cell_type": "code",
   "execution_count": 38,
   "metadata": {
    "ExecuteTime": {
     "end_time": "2020-08-12T15:46:47.376124Z",
     "start_time": "2020-08-12T15:46:47.354284Z"
    },
    "scrolled": true
   },
   "outputs": [
    {
     "data": {
      "text/html": [
       "<div>\n",
       "<style scoped>\n",
       "    .dataframe tbody tr th:only-of-type {\n",
       "        vertical-align: middle;\n",
       "    }\n",
       "\n",
       "    .dataframe tbody tr th {\n",
       "        vertical-align: top;\n",
       "    }\n",
       "\n",
       "    .dataframe thead th {\n",
       "        text-align: right;\n",
       "    }\n",
       "</style>\n",
       "<table border=\"1\" class=\"dataframe\">\n",
       "  <thead>\n",
       "    <tr style=\"text-align: right;\">\n",
       "      <th></th>\n",
       "      <th>District</th>\n",
       "      <th>Accessories Store</th>\n",
       "      <th>African Restaurant</th>\n",
       "      <th>American Restaurant</th>\n",
       "      <th>Art Gallery</th>\n",
       "      <th>Art Museum</th>\n",
       "      <th>Asian Restaurant</th>\n",
       "      <th>BBQ Joint</th>\n",
       "      <th>Bakery</th>\n",
       "      <th>Bar</th>\n",
       "      <th>...</th>\n",
       "      <th>Trail</th>\n",
       "      <th>Train Station</th>\n",
       "      <th>Udon Restaurant</th>\n",
       "      <th>Unagi Restaurant</th>\n",
       "      <th>Vegetarian / Vegan Restaurant</th>\n",
       "      <th>Wagashi Place</th>\n",
       "      <th>Whisky Bar</th>\n",
       "      <th>Wine Bar</th>\n",
       "      <th>Yakitori Restaurant</th>\n",
       "      <th>Yoshoku Restaurant</th>\n",
       "    </tr>\n",
       "  </thead>\n",
       "  <tbody>\n",
       "    <tr>\n",
       "      <th>1</th>\n",
       "      <td>Nagatacho</td>\n",
       "      <td>0.00</td>\n",
       "      <td>0.00</td>\n",
       "      <td>0.02</td>\n",
       "      <td>0.00</td>\n",
       "      <td>0.00</td>\n",
       "      <td>0.00</td>\n",
       "      <td>0.06</td>\n",
       "      <td>0.01</td>\n",
       "      <td>0.03</td>\n",
       "      <td>...</td>\n",
       "      <td>0.00</td>\n",
       "      <td>0.00</td>\n",
       "      <td>0.00</td>\n",
       "      <td>0.01</td>\n",
       "      <td>0.01</td>\n",
       "      <td>0.00</td>\n",
       "      <td>0.00</td>\n",
       "      <td>0.00</td>\n",
       "      <td>0.03</td>\n",
       "      <td>0.02</td>\n",
       "    </tr>\n",
       "    <tr>\n",
       "      <th>2</th>\n",
       "      <td>Nihonbashi</td>\n",
       "      <td>0.00</td>\n",
       "      <td>0.00</td>\n",
       "      <td>0.00</td>\n",
       "      <td>0.01</td>\n",
       "      <td>0.01</td>\n",
       "      <td>0.00</td>\n",
       "      <td>0.06</td>\n",
       "      <td>0.03</td>\n",
       "      <td>0.01</td>\n",
       "      <td>...</td>\n",
       "      <td>0.00</td>\n",
       "      <td>0.00</td>\n",
       "      <td>0.02</td>\n",
       "      <td>0.02</td>\n",
       "      <td>0.00</td>\n",
       "      <td>0.03</td>\n",
       "      <td>0.00</td>\n",
       "      <td>0.00</td>\n",
       "      <td>0.01</td>\n",
       "      <td>0.01</td>\n",
       "    </tr>\n",
       "    <tr>\n",
       "      <th>3</th>\n",
       "      <td>Shibuya</td>\n",
       "      <td>0.01</td>\n",
       "      <td>0.01</td>\n",
       "      <td>0.01</td>\n",
       "      <td>0.00</td>\n",
       "      <td>0.01</td>\n",
       "      <td>0.01</td>\n",
       "      <td>0.02</td>\n",
       "      <td>0.01</td>\n",
       "      <td>0.04</td>\n",
       "      <td>...</td>\n",
       "      <td>0.01</td>\n",
       "      <td>0.00</td>\n",
       "      <td>0.00</td>\n",
       "      <td>0.00</td>\n",
       "      <td>0.00</td>\n",
       "      <td>0.00</td>\n",
       "      <td>0.00</td>\n",
       "      <td>0.02</td>\n",
       "      <td>0.01</td>\n",
       "      <td>0.00</td>\n",
       "    </tr>\n",
       "    <tr>\n",
       "      <th>4</th>\n",
       "      <td>Shinagawa</td>\n",
       "      <td>0.00</td>\n",
       "      <td>0.00</td>\n",
       "      <td>0.00</td>\n",
       "      <td>0.00</td>\n",
       "      <td>0.00</td>\n",
       "      <td>0.00</td>\n",
       "      <td>0.05</td>\n",
       "      <td>0.00</td>\n",
       "      <td>0.01</td>\n",
       "      <td>...</td>\n",
       "      <td>0.00</td>\n",
       "      <td>0.01</td>\n",
       "      <td>0.00</td>\n",
       "      <td>0.00</td>\n",
       "      <td>0.00</td>\n",
       "      <td>0.00</td>\n",
       "      <td>0.00</td>\n",
       "      <td>0.00</td>\n",
       "      <td>0.02</td>\n",
       "      <td>0.02</td>\n",
       "    </tr>\n",
       "    <tr>\n",
       "      <th>5</th>\n",
       "      <td>Shinjuku</td>\n",
       "      <td>0.00</td>\n",
       "      <td>0.00</td>\n",
       "      <td>0.00</td>\n",
       "      <td>0.00</td>\n",
       "      <td>0.00</td>\n",
       "      <td>0.00</td>\n",
       "      <td>0.07</td>\n",
       "      <td>0.00</td>\n",
       "      <td>0.08</td>\n",
       "      <td>...</td>\n",
       "      <td>0.00</td>\n",
       "      <td>0.00</td>\n",
       "      <td>0.00</td>\n",
       "      <td>0.01</td>\n",
       "      <td>0.00</td>\n",
       "      <td>0.00</td>\n",
       "      <td>0.01</td>\n",
       "      <td>0.00</td>\n",
       "      <td>0.02</td>\n",
       "      <td>0.02</td>\n",
       "    </tr>\n",
       "  </tbody>\n",
       "</table>\n",
       "<p>5 rows × 136 columns</p>\n",
       "</div>"
      ],
      "text/plain": [
       "     District  Accessories Store  African Restaurant  American Restaurant  \\\n",
       "1   Nagatacho               0.00                0.00                 0.02   \n",
       "2  Nihonbashi               0.00                0.00                 0.00   \n",
       "3     Shibuya               0.01                0.01                 0.01   \n",
       "4   Shinagawa               0.00                0.00                 0.00   \n",
       "5    Shinjuku               0.00                0.00                 0.00   \n",
       "\n",
       "   Art Gallery  Art Museum  Asian Restaurant  BBQ Joint  Bakery   Bar  ...  \\\n",
       "1         0.00        0.00              0.00       0.06    0.01  0.03  ...   \n",
       "2         0.01        0.01              0.00       0.06    0.03  0.01  ...   \n",
       "3         0.00        0.01              0.01       0.02    0.01  0.04  ...   \n",
       "4         0.00        0.00              0.00       0.05    0.00  0.01  ...   \n",
       "5         0.00        0.00              0.00       0.07    0.00  0.08  ...   \n",
       "\n",
       "   Trail  Train Station  Udon Restaurant  Unagi Restaurant  \\\n",
       "1   0.00           0.00             0.00              0.01   \n",
       "2   0.00           0.00             0.02              0.02   \n",
       "3   0.01           0.00             0.00              0.00   \n",
       "4   0.00           0.01             0.00              0.00   \n",
       "5   0.00           0.00             0.00              0.01   \n",
       "\n",
       "   Vegetarian / Vegan Restaurant  Wagashi Place  Whisky Bar  Wine Bar  \\\n",
       "1                           0.01           0.00        0.00      0.00   \n",
       "2                           0.00           0.03        0.00      0.00   \n",
       "3                           0.00           0.00        0.00      0.02   \n",
       "4                           0.00           0.00        0.00      0.00   \n",
       "5                           0.00           0.00        0.01      0.00   \n",
       "\n",
       "   Yakitori Restaurant  Yoshoku Restaurant  \n",
       "1                 0.03                0.02  \n",
       "2                 0.01                0.01  \n",
       "3                 0.01                0.00  \n",
       "4                 0.02                0.02  \n",
       "5                 0.02                0.02  \n",
       "\n",
       "[5 rows x 136 columns]"
      ]
     },
     "execution_count": 38,
     "metadata": {},
     "output_type": "execute_result"
    }
   ],
   "source": [
    "Tokyo_5_Dist_Venues_Grouped = Tokyo_5_Dist_Venues_onehot.groupby('District').mean().reset_index()\n",
    "Tokyo_5_Dist_Venues_Grouped.index = np.arange(1, len(Tokyo_5_Dist_Venues_Grouped)+1)\n",
    "Tokyo_5_Dist_Venues_Grouped"
   ]
  },
  {
   "cell_type": "code",
   "execution_count": 39,
   "metadata": {
    "ExecuteTime": {
     "end_time": "2020-08-12T15:46:49.171518Z",
     "start_time": "2020-08-12T15:46:49.144467Z"
    }
   },
   "outputs": [
    {
     "name": "stdout",
     "output_type": "stream",
     "text": [
      "%%%%%%%%%Nagatacho%%%%%%%%\n",
      "                 Venue  Freq\n",
      "0  Japanese Restaurant  0.09\n",
      "1                Hotel  0.06\n",
      "2          Coffee Shop  0.06\n",
      "3            BBQ Joint  0.06\n",
      "4   Chinese Restaurant  0.06\n",
      "\n",
      "\n",
      "%%%%%%%%%Nihonbashi%%%%%%%%\n",
      "                 Venue  Freq\n",
      "0  Japanese Restaurant  0.08\n",
      "1            BBQ Joint  0.06\n",
      "2                 Café  0.05\n",
      "3           Hobby Shop  0.04\n",
      "4                Hotel  0.04\n",
      "\n",
      "\n",
      "%%%%%%%%%Shibuya%%%%%%%%\n",
      "               Venue  Freq\n",
      "0               Café  0.08\n",
      "1        Record Shop  0.06\n",
      "2  French Restaurant  0.05\n",
      "3        Coffee Shop  0.04\n",
      "4                Bar  0.04\n",
      "\n",
      "\n",
      "%%%%%%%%%Shinagawa%%%%%%%%\n",
      "               Venue  Freq\n",
      "0  Convenience Store  0.14\n",
      "1   Ramen Restaurant  0.08\n",
      "2           Sake Bar  0.07\n",
      "3   Sushi Restaurant  0.05\n",
      "4          BBQ Joint  0.05\n",
      "\n",
      "\n",
      "%%%%%%%%%Shinjuku%%%%%%%%\n",
      "                 Venue  Freq\n",
      "0             Sake Bar  0.09\n",
      "1                  Bar  0.08\n",
      "2            BBQ Joint  0.07\n",
      "3  Japanese Restaurant  0.05\n",
      "4     Ramen Restaurant  0.05\n",
      "\n",
      "\n"
     ]
    }
   ],
   "source": [
    "num_top_venues = 5\n",
    "\n",
    "for places in Tokyo_5_Dist_Venues_Grouped['District']:\n",
    "    print(\"%%%%%%%%%\"+places+\"%%%%%%%%\")\n",
    "    temp = Tokyo_5_Dist_Venues_Grouped[Tokyo_5_Dist_Venues_Grouped['District'] == places].T.reset_index()\n",
    "    temp.columns = ['Venue','Freq']\n",
    "    temp = temp.iloc[1:]\n",
    "    temp['Freq'] = temp['Freq'].astype(float)\n",
    "    temp = temp.round({'Freq': 2})\n",
    "    print(temp.sort_values('Freq', ascending=False).reset_index(drop=True).head(num_top_venues))\n",
    "    print('\\n')"
   ]
  },
  {
   "cell_type": "markdown",
   "metadata": {},
   "source": [
    "#### Create a DataFrame with Top 10 Venues for Each District "
   ]
  },
  {
   "cell_type": "code",
   "execution_count": 40,
   "metadata": {
    "ExecuteTime": {
     "end_time": "2020-08-12T15:46:51.967721Z",
     "start_time": "2020-08-12T15:46:51.944364Z"
    }
   },
   "outputs": [
    {
     "data": {
      "text/html": [
       "<div>\n",
       "<style scoped>\n",
       "    .dataframe tbody tr th:only-of-type {\n",
       "        vertical-align: middle;\n",
       "    }\n",
       "\n",
       "    .dataframe tbody tr th {\n",
       "        vertical-align: top;\n",
       "    }\n",
       "\n",
       "    .dataframe thead th {\n",
       "        text-align: right;\n",
       "    }\n",
       "</style>\n",
       "<table border=\"1\" class=\"dataframe\">\n",
       "  <thead>\n",
       "    <tr style=\"text-align: right;\">\n",
       "      <th></th>\n",
       "      <th>District</th>\n",
       "      <th>1st Most Common Venue</th>\n",
       "      <th>2nd Most Common Venue</th>\n",
       "      <th>3rd Most Common Venue</th>\n",
       "      <th>4th Most Common Venue</th>\n",
       "      <th>5th Most Common Venue</th>\n",
       "      <th>6th Most Common Venue</th>\n",
       "      <th>7th Most Common Venue</th>\n",
       "      <th>8th Most Common Venue</th>\n",
       "      <th>9th Most Common Venue</th>\n",
       "      <th>10th Most Common Venue</th>\n",
       "    </tr>\n",
       "  </thead>\n",
       "  <tbody>\n",
       "    <tr>\n",
       "      <th>1</th>\n",
       "      <td>Nagatacho</td>\n",
       "      <td>Japanese Restaurant</td>\n",
       "      <td>BBQ Joint</td>\n",
       "      <td>Chinese Restaurant</td>\n",
       "      <td>Coffee Shop</td>\n",
       "      <td>Hotel</td>\n",
       "      <td>Italian Restaurant</td>\n",
       "      <td>Sake Bar</td>\n",
       "      <td>Yakitori Restaurant</td>\n",
       "      <td>Ramen Restaurant</td>\n",
       "      <td>Bar</td>\n",
       "    </tr>\n",
       "    <tr>\n",
       "      <th>2</th>\n",
       "      <td>Nihonbashi</td>\n",
       "      <td>Japanese Restaurant</td>\n",
       "      <td>BBQ Joint</td>\n",
       "      <td>Café</td>\n",
       "      <td>Hotel</td>\n",
       "      <td>French Restaurant</td>\n",
       "      <td>Hobby Shop</td>\n",
       "      <td>Wagashi Place</td>\n",
       "      <td>Soba Restaurant</td>\n",
       "      <td>Department Store</td>\n",
       "      <td>Bakery</td>\n",
       "    </tr>\n",
       "    <tr>\n",
       "      <th>3</th>\n",
       "      <td>Shibuya</td>\n",
       "      <td>Café</td>\n",
       "      <td>Record Shop</td>\n",
       "      <td>French Restaurant</td>\n",
       "      <td>Bar</td>\n",
       "      <td>Coffee Shop</td>\n",
       "      <td>Sushi Restaurant</td>\n",
       "      <td>Ramen Restaurant</td>\n",
       "      <td>Seafood Restaurant</td>\n",
       "      <td>BBQ Joint</td>\n",
       "      <td>Wine Bar</td>\n",
       "    </tr>\n",
       "    <tr>\n",
       "      <th>4</th>\n",
       "      <td>Shinagawa</td>\n",
       "      <td>Convenience Store</td>\n",
       "      <td>Ramen Restaurant</td>\n",
       "      <td>Sake Bar</td>\n",
       "      <td>Grocery Store</td>\n",
       "      <td>BBQ Joint</td>\n",
       "      <td>Sushi Restaurant</td>\n",
       "      <td>Park</td>\n",
       "      <td>Donburi Restaurant</td>\n",
       "      <td>Soba Restaurant</td>\n",
       "      <td>Coffee Shop</td>\n",
       "    </tr>\n",
       "    <tr>\n",
       "      <th>5</th>\n",
       "      <td>Shinjuku</td>\n",
       "      <td>Sake Bar</td>\n",
       "      <td>Bar</td>\n",
       "      <td>BBQ Joint</td>\n",
       "      <td>Japanese Restaurant</td>\n",
       "      <td>Ramen Restaurant</td>\n",
       "      <td>Pub</td>\n",
       "      <td>Rock Club</td>\n",
       "      <td>Yakitori Restaurant</td>\n",
       "      <td>Hotel</td>\n",
       "      <td>Movie Theater</td>\n",
       "    </tr>\n",
       "  </tbody>\n",
       "</table>\n",
       "</div>"
      ],
      "text/plain": [
       "     District 1st Most Common Venue 2nd Most Common Venue  \\\n",
       "1   Nagatacho   Japanese Restaurant             BBQ Joint   \n",
       "2  Nihonbashi   Japanese Restaurant             BBQ Joint   \n",
       "3     Shibuya                  Café           Record Shop   \n",
       "4   Shinagawa     Convenience Store      Ramen Restaurant   \n",
       "5    Shinjuku              Sake Bar                   Bar   \n",
       "\n",
       "  3rd Most Common Venue 4th Most Common Venue 5th Most Common Venue  \\\n",
       "1    Chinese Restaurant           Coffee Shop                 Hotel   \n",
       "2                  Café                 Hotel     French Restaurant   \n",
       "3     French Restaurant                   Bar           Coffee Shop   \n",
       "4              Sake Bar         Grocery Store             BBQ Joint   \n",
       "5             BBQ Joint   Japanese Restaurant      Ramen Restaurant   \n",
       "\n",
       "  6th Most Common Venue 7th Most Common Venue 8th Most Common Venue  \\\n",
       "1    Italian Restaurant              Sake Bar   Yakitori Restaurant   \n",
       "2            Hobby Shop         Wagashi Place       Soba Restaurant   \n",
       "3      Sushi Restaurant      Ramen Restaurant    Seafood Restaurant   \n",
       "4      Sushi Restaurant                  Park    Donburi Restaurant   \n",
       "5                   Pub             Rock Club   Yakitori Restaurant   \n",
       "\n",
       "  9th Most Common Venue 10th Most Common Venue  \n",
       "1      Ramen Restaurant                    Bar  \n",
       "2      Department Store                 Bakery  \n",
       "3             BBQ Joint               Wine Bar  \n",
       "4       Soba Restaurant            Coffee Shop  \n",
       "5                 Hotel          Movie Theater  "
      ]
     },
     "execution_count": 40,
     "metadata": {},
     "output_type": "execute_result"
    }
   ],
   "source": [
    "## Define a Function to select the top 10 rows (According to the Values) \n",
    "\n",
    "def return_most_common_venues(row, num_top_venues):\n",
    "    row_categories = row.iloc[1:]\n",
    "    row_categories_sorted = row_categories.sort_values(ascending=False)\n",
    "    \n",
    "    return row_categories_sorted.index.values[0:num_top_venues]\n",
    "\n",
    "num_top_venues = 10\n",
    "\n",
    "indicators = ['st', 'nd', 'rd']\n",
    "\n",
    "# create columns according to number of top venues\n",
    "columns = ['District']\n",
    "for ind in np.arange(num_top_venues):\n",
    "    try:\n",
    "        columns.append('{}{} Most Common Venue'.format(ind+1, indicators[ind]))\n",
    "    except:\n",
    "        columns.append('{}th Most Common Venue'.format(ind+1))\n",
    "\n",
    "# create a new dataframe\n",
    "District_top10_venues_sorted = pd.DataFrame(columns=columns)\n",
    "District_top10_venues_sorted['District'] = Tokyo_5_Dist_Venues_Grouped['District']\n",
    "\n",
    "for ind in np.arange(Tokyo_5_Dist_Venues_Grouped.shape[0]):\n",
    "    District_top10_venues_sorted.iloc[ind, 1:] = return_most_common_venues(Tokyo_5_Dist_Venues_Grouped.iloc[ind, :], num_top_venues)\n",
    "\n",
    "    \n",
    "District_top10_venues_sorted.index = np.arange(1, len(District_top10_venues_sorted)+1)\n",
    "District_top10_venues_sorted.head(5)"
   ]
  },
  {
   "cell_type": "code",
   "execution_count": 41,
   "metadata": {
    "ExecuteTime": {
     "end_time": "2020-08-12T15:46:55.158353Z",
     "start_time": "2020-08-12T15:46:53.697397Z"
    }
   },
   "outputs": [
    {
     "data": {
      "image/png": "[encoded data removed]",
      "text/plain": [
       "<Figure size 1008x576 with 4 Axes>"
      ]
     },
     "metadata": {
      "needs_background": "light"
     },
     "output_type": "display_data"
    }
   ],
   "source": [
    "# Let's try Categorical plot \n",
    "\n",
    "\n",
    "fig = plt.figure(figsize=(14,8))\n",
    "\n",
    "sns.set(font_scale=1.1)\n",
    "ax = plt.subplot(2,2,1)\n",
    "sns.violinplot(x=\"District\", y=\"Japanese Restaurant\", data=Tokyo_5_Dist_Venues_onehot, cut=0);\n",
    "plt.xlabel(\"\")\n",
    "ax = plt.subplot(2,2,2)\n",
    "sns.violinplot(x=\"District\", y=\"Ramen Restaurant\", data=Tokyo_5_Dist_Venues_onehot, cut=0);\n",
    "plt.xlabel(\"\")\n",
    "plt.subplot(2,2,3)\n",
    "sns.violinplot(x=\"District\", y=\"Chinese Restaurant\", data=Tokyo_5_Dist_Venues_onehot, cut=0);\n",
    "plt.subplot(2,2,4)\n",
    "sns.violinplot(x=\"District\", y=\"Sushi Restaurant\", data=Tokyo_5_Dist_Venues_onehot, cut=0);\n",
    "#ax.title.set_text(\"5 Major Districts and Violin Plots of Most Frequently Visited Restaurants\")\n",
    "ax.text(-4.0, 1.1, '5 Major Districts and Violin Plots of Most Frequently Visited Restaurants', fontsize=14)\n",
    "plt.savefig (\"Violin_plots_Dist_Frequent_Restaurant.png\", dpi=240)\n",
    "plt.show()"
   ]
  },
  {
   "cell_type": "code",
   "execution_count": 42,
   "metadata": {
    "ExecuteTime": {
     "end_time": "2020-08-12T15:47:02.580852Z",
     "start_time": "2020-08-12T15:47:02.470722Z"
    }
   },
   "outputs": [],
   "source": [
    "report.append(dp.Plot(fig))"
   ]
  },
  {
   "cell_type": "code",
   "execution_count": 43,
   "metadata": {
    "ExecuteTime": {
     "end_time": "2020-08-12T15:47:04.153367Z",
     "start_time": "2020-08-12T15:47:03.999617Z"
    }
   },
   "outputs": [
    {
     "name": "stdout",
     "output_type": "stream",
     "text": [
      "[53, 40, 29, 33, 28]\n"
     ]
    },
    {
     "data": {
      "image/png": "[encoded data removed]",
      "text/plain": [
       "<Figure size 864x576 with 1 Axes>"
      ]
     },
     "metadata": {},
     "output_type": "display_data"
    }
   ],
   "source": [
    "#try groupby to play with restaurant \n",
    "Tokyo_5_Dist_Venues_restaurant = Tokyo_5_Dist_Venues.groupby(['District'])['Venue_Category'].apply(lambda x: x[x.str.contains('Restaurant')].count())\n",
    "Tokyo_5_Dist_Venues_restaurant_df = Tokyo_5_Dist_Venues_restaurant.to_frame().reset_index()\n",
    "Tokyo_5_Dist_Venues_restaurant_df.columns = ['District', 'Number of Restaurant']\n",
    "#Tokyo_5_Dist_Venues_restaurant.columns = ['District', 'Number of Restaurant']\n",
    "#print (type(Tokyo_5_Dist_Venues_restaurant))\n",
    "Tokyo_5_Dist_Venues_restaurant_df.index = np.arange(1, len(Tokyo_5_Dist_Venues_restaurant_df)+1)\n",
    "\n",
    "#print (\"shape of the dataframe: \", Tokyo_5_Dist_Venues_restaurant_df.shape)\n",
    "#print (Tokyo_5_Dist_Venues_restaurant_df.head(5))\n",
    "#print (type(Tokyo_5_Dist_Venues_restaurant_df[['Number of Restaurant']]))\n",
    "list_rest_no = Tokyo_5_Dist_Venues_restaurant_df['Number of Restaurant'].to_list()\n",
    "print (list_rest_no)\n",
    "fig = plt.figure(figsize=(12,8))\n",
    "bar = sns.barplot(x='District', y='Number of Restaurant', data=Tokyo_5_Dist_Venues_restaurant_df)\n",
    "\n",
    "bar.set_ylabel(\"Total Number of Restaurants\", fontsize=14)\n",
    "bar.set_xlabel(\"5 Major Districts of Tokyo\", fontsize=14)\n",
    "bar.set_xticklabels(bar.get_xticklabels(),rotation=40)\n",
    "bar.set_title(\"Number of Restaurants as Top-Most Venues\", fontsize=14)\n",
    "#plt.savefig(\"No_of_Rest_as_Top_Venues.png\", dpi=240)\n",
    "plt.show()"
   ]
  },
  {
   "cell_type": "code",
   "execution_count": 44,
   "metadata": {
    "ExecuteTime": {
     "end_time": "2020-08-12T15:47:07.782650Z",
     "start_time": "2020-08-12T15:47:07.753464Z"
    }
   },
   "outputs": [],
   "source": [
    "report.append(dp.Plot(fig))"
   ]
  },
  {
   "cell_type": "markdown",
   "metadata": {},
   "source": [
    "### Clustering the Tokyo Districts (Neighborhoods) using _K-Means_"
   ]
  },
  {
   "cell_type": "code",
   "execution_count": 45,
   "metadata": {
    "ExecuteTime": {
     "end_time": "2020-08-12T15:47:10.507886Z",
     "start_time": "2020-08-12T15:47:10.476324Z"
    }
   },
   "outputs": [
    {
     "name": "stdout",
     "output_type": "stream",
     "text": [
      "Check the 5 Cluster labels : [0 0 2 1 2]\n"
     ]
    }
   ],
   "source": [
    "# set number of clusters\n",
    "kclusters = 3\n",
    "\n",
    "Tokyo_grouped_clustering = Tokyo_5_Dist_Venues_Grouped.drop('District', 1)\n",
    "\n",
    "# run k-means clustering\n",
    "kmeans = KMeans(n_clusters=kclusters, random_state=0).fit(Tokyo_grouped_clustering)\n",
    "\n",
    "# check cluster labels generated for each row in the dataframe\n",
    "print (\"Check the 5 Cluster labels :\",  kmeans.labels_[0:5]) "
   ]
  },
  {
   "cell_type": "code",
   "execution_count": 46,
   "metadata": {
    "ExecuteTime": {
     "end_time": "2020-08-12T15:47:11.149677Z",
     "start_time": "2020-08-12T15:47:11.113166Z"
    }
   },
   "outputs": [
    {
     "data": {
      "text/html": [
       "<div>\n",
       "<style scoped>\n",
       "    .dataframe tbody tr th:only-of-type {\n",
       "        vertical-align: middle;\n",
       "    }\n",
       "\n",
       "    .dataframe tbody tr th {\n",
       "        vertical-align: top;\n",
       "    }\n",
       "\n",
       "    .dataframe thead th {\n",
       "        text-align: right;\n",
       "    }\n",
       "</style>\n",
       "<table border=\"1\" class=\"dataframe\">\n",
       "  <thead>\n",
       "    <tr style=\"text-align: right;\">\n",
       "      <th></th>\n",
       "      <th>Ward</th>\n",
       "      <th>Area_SqKm</th>\n",
       "      <th>Population</th>\n",
       "      <th>Major_District</th>\n",
       "      <th>Dist_Latitude</th>\n",
       "      <th>Dist_Longitude</th>\n",
       "      <th>Average_Price(SqKm)</th>\n",
       "      <th>Cluster Label</th>\n",
       "      <th>1st Most Common Venue</th>\n",
       "      <th>2nd Most Common Venue</th>\n",
       "      <th>3rd Most Common Venue</th>\n",
       "      <th>4th Most Common Venue</th>\n",
       "      <th>5th Most Common Venue</th>\n",
       "      <th>6th Most Common Venue</th>\n",
       "      <th>7th Most Common Venue</th>\n",
       "      <th>8th Most Common Venue</th>\n",
       "      <th>9th Most Common Venue</th>\n",
       "      <th>10th Most Common Venue</th>\n",
       "    </tr>\n",
       "  </thead>\n",
       "  <tbody>\n",
       "    <tr>\n",
       "      <th>1</th>\n",
       "      <td>Chiyoda</td>\n",
       "      <td>5100</td>\n",
       "      <td>59441</td>\n",
       "      <td>Nagatacho</td>\n",
       "      <td>35.675618</td>\n",
       "      <td>139.743469</td>\n",
       "      <td>2705898</td>\n",
       "      <td>0</td>\n",
       "      <td>Japanese Restaurant</td>\n",
       "      <td>BBQ Joint</td>\n",
       "      <td>Chinese Restaurant</td>\n",
       "      <td>Coffee Shop</td>\n",
       "      <td>Hotel</td>\n",
       "      <td>Italian Restaurant</td>\n",
       "      <td>Sake Bar</td>\n",
       "      <td>Yakitori Restaurant</td>\n",
       "      <td>Ramen Restaurant</td>\n",
       "      <td>Bar</td>\n",
       "    </tr>\n",
       "    <tr>\n",
       "      <th>2</th>\n",
       "      <td>Chuo</td>\n",
       "      <td>14460</td>\n",
       "      <td>147620</td>\n",
       "      <td>Nihonbashi</td>\n",
       "      <td>35.684058</td>\n",
       "      <td>139.774501</td>\n",
       "      <td>2699719</td>\n",
       "      <td>0</td>\n",
       "      <td>Japanese Restaurant</td>\n",
       "      <td>BBQ Joint</td>\n",
       "      <td>Café</td>\n",
       "      <td>Hotel</td>\n",
       "      <td>French Restaurant</td>\n",
       "      <td>Hobby Shop</td>\n",
       "      <td>Wagashi Place</td>\n",
       "      <td>Soba Restaurant</td>\n",
       "      <td>Department Store</td>\n",
       "      <td>Bakery</td>\n",
       "    </tr>\n",
       "    <tr>\n",
       "      <th>3</th>\n",
       "      <td>Shinjuku</td>\n",
       "      <td>18620</td>\n",
       "      <td>339211</td>\n",
       "      <td>Shinjuku</td>\n",
       "      <td>35.693763</td>\n",
       "      <td>139.703632</td>\n",
       "      <td>939286</td>\n",
       "      <td>2</td>\n",
       "      <td>Sake Bar</td>\n",
       "      <td>Bar</td>\n",
       "      <td>BBQ Joint</td>\n",
       "      <td>Japanese Restaurant</td>\n",
       "      <td>Ramen Restaurant</td>\n",
       "      <td>Pub</td>\n",
       "      <td>Rock Club</td>\n",
       "      <td>Yakitori Restaurant</td>\n",
       "      <td>Hotel</td>\n",
       "      <td>Movie Theater</td>\n",
       "    </tr>\n",
       "    <tr>\n",
       "      <th>4</th>\n",
       "      <td>Shinagawa</td>\n",
       "      <td>17180</td>\n",
       "      <td>392492</td>\n",
       "      <td>Shinagawa</td>\n",
       "      <td>35.599252</td>\n",
       "      <td>139.738910</td>\n",
       "      <td>767398</td>\n",
       "      <td>1</td>\n",
       "      <td>Convenience Store</td>\n",
       "      <td>Ramen Restaurant</td>\n",
       "      <td>Sake Bar</td>\n",
       "      <td>Grocery Store</td>\n",
       "      <td>BBQ Joint</td>\n",
       "      <td>Sushi Restaurant</td>\n",
       "      <td>Park</td>\n",
       "      <td>Donburi Restaurant</td>\n",
       "      <td>Soba Restaurant</td>\n",
       "      <td>Coffee Shop</td>\n",
       "    </tr>\n",
       "    <tr>\n",
       "      <th>5</th>\n",
       "      <td>Shibuya</td>\n",
       "      <td>15080</td>\n",
       "      <td>227850</td>\n",
       "      <td>Shibuya</td>\n",
       "      <td>35.664596</td>\n",
       "      <td>139.698711</td>\n",
       "      <td>1360332</td>\n",
       "      <td>2</td>\n",
       "      <td>Café</td>\n",
       "      <td>Record Shop</td>\n",
       "      <td>French Restaurant</td>\n",
       "      <td>Bar</td>\n",
       "      <td>Coffee Shop</td>\n",
       "      <td>Sushi Restaurant</td>\n",
       "      <td>Ramen Restaurant</td>\n",
       "      <td>Seafood Restaurant</td>\n",
       "      <td>BBQ Joint</td>\n",
       "      <td>Wine Bar</td>\n",
       "    </tr>\n",
       "  </tbody>\n",
       "</table>\n",
       "</div>"
      ],
      "text/plain": [
       "        Ward  Area_SqKm  Population Major_District  Dist_Latitude  \\\n",
       "1    Chiyoda       5100       59441      Nagatacho      35.675618   \n",
       "2       Chuo      14460      147620     Nihonbashi      35.684058   \n",
       "3   Shinjuku      18620      339211       Shinjuku      35.693763   \n",
       "4  Shinagawa      17180      392492      Shinagawa      35.599252   \n",
       "5    Shibuya      15080      227850        Shibuya      35.664596   \n",
       "\n",
       "   Dist_Longitude Average_Price(SqKm)  Cluster Label 1st Most Common Venue  \\\n",
       "1      139.743469            2705898               0   Japanese Restaurant   \n",
       "2      139.774501            2699719               0   Japanese Restaurant   \n",
       "3      139.703632             939286               2              Sake Bar   \n",
       "4      139.738910             767398               1     Convenience Store   \n",
       "5      139.698711            1360332               2                  Café   \n",
       "\n",
       "  2nd Most Common Venue 3rd Most Common Venue 4th Most Common Venue  \\\n",
       "1             BBQ Joint    Chinese Restaurant           Coffee Shop   \n",
       "2             BBQ Joint                  Café                 Hotel   \n",
       "3                   Bar             BBQ Joint   Japanese Restaurant   \n",
       "4      Ramen Restaurant              Sake Bar         Grocery Store   \n",
       "5           Record Shop     French Restaurant                   Bar   \n",
       "\n",
       "  5th Most Common Venue 6th Most Common Venue 7th Most Common Venue  \\\n",
       "1                 Hotel    Italian Restaurant              Sake Bar   \n",
       "2     French Restaurant            Hobby Shop         Wagashi Place   \n",
       "3      Ramen Restaurant                   Pub             Rock Club   \n",
       "4             BBQ Joint      Sushi Restaurant                  Park   \n",
       "5           Coffee Shop      Sushi Restaurant      Ramen Restaurant   \n",
       "\n",
       "  8th Most Common Venue 9th Most Common Venue 10th Most Common Venue  \n",
       "1   Yakitori Restaurant      Ramen Restaurant                    Bar  \n",
       "2       Soba Restaurant      Department Store                 Bakery  \n",
       "3   Yakitori Restaurant                 Hotel          Movie Theater  \n",
       "4    Donburi Restaurant       Soba Restaurant            Coffee Shop  \n",
       "5    Seafood Restaurant             BBQ Joint               Wine Bar  "
      ]
     },
     "execution_count": 46,
     "metadata": {},
     "output_type": "execute_result"
    }
   ],
   "source": [
    "# add clustering labels\n",
    "\n",
    "District_top10_venues_sorted.insert(0, 'Cluster Label', kmeans.labels_)\n",
    "\n",
    "Tokyo_5_Dist_Coordinate_Cluster_merged = Tokyo_df_selected_final\n",
    "\n",
    "#merge the inital Tokyo Dataframe with Sorted Most Visited places for each neighborhood\n",
    "\n",
    "Tokyo_5_Dist_Coordinate_Cluster_merged = Tokyo_5_Dist_Coordinate_Cluster_merged.join \\\n",
    "                                        (District_top10_venues_sorted.set_index('District'), on='Major_District')\n",
    "\n",
    "Tokyo_5_Dist_Coordinate_Cluster_merged.head() "
   ]
  },
  {
   "cell_type": "code",
   "execution_count": 47,
   "metadata": {
    "ExecuteTime": {
     "end_time": "2020-08-12T15:47:14.795718Z",
     "start_time": "2020-08-12T15:47:14.781178Z"
    }
   },
   "outputs": [
    {
     "data": {
      "text/html": [
       "<div style=\"width:100%;\"><div style=\"position:relative;width:100%;height:0;padding-bottom:60%;\"><span style=\"color:#565656\">Make this Notebook Trusted to load map: File -> Trust Notebook</span><iframe src=\"about:blank\" style=\"position:absolute;width:100%;height:100%;left:0;top:0;border:none !important;\" data-html=PCFET0NUWVBFIGh0bWw+CjxoZWFkPiAgICAKICAgIDxtZXRhIGh0dHAtZXF1aXY9ImNvbnRlbnQtdHlwZSIgY29udGVudD0idGV4dC9odG1sOyBjaGFyc2V0PVVURi04IiAvPgogICAgCiAgICAgICAgPHNjcmlwdD4KICAgICAgICAgICAgTF9OT19UT1VDSCA9IGZhbHNlOwogICAgICAgICAgICBMX0RJU0FCTEVfM0QgPSBmYWxzZTsKICAgICAgICA8L3NjcmlwdD4KICAgIAogICAgPHNjcmlwdCBzcmM9Imh0dHBzOi8vY2RuLmpzZGVsaXZyLm5ldC9ucG0vbGVhZmxldEAxLjYuMC9kaXN0L2xlYWZsZXQuanMiPjwvc2NyaXB0PgogICAgPHNjcmlwdCBzcmM9Imh0dHBzOi8vY29kZS5qcXVlcnkuY29tL2pxdWVyeS0xLjEyLjQubWluLmpzIj48L3NjcmlwdD4KICAgIDxzY3JpcHQgc3JjPSJodHRwczovL21heGNkbi5ib290c3RyYXBjZG4uY29tL2Jvb3RzdHJhcC8zLjIuMC9qcy9ib290c3RyYXAubWluLmpzIj48L3NjcmlwdD4KICAgIDxzY3JpcHQgc3JjPSJodHRwczovL2NkbmpzLmNsb3VkZmxhcmUuY29tL2FqYXgvbGlicy9MZWFmbGV0LmF3ZXNvbWUtbWFya2Vycy8yLjAuMi9sZWFmbGV0LmF3ZXNvbWUtbWFya2Vycy5qcyI+PC9zY3JpcHQ+CiAgICA8bGluayByZWw9InN0eWxlc2hlZXQiIGhyZWY9Imh0dHBzOi8vY2RuLmpzZGVsaXZyLm5ldC9ucG0vbGVhZmxldEAxLjYuMC9kaXN0L2xlYWZsZXQuY3NzIi8+CiAgICA8bGluayByZWw9InN0eWxlc2hlZXQiIGhyZWY9Imh0dHBzOi8vbWF4Y2RuLmJvb3RzdHJhcGNkbi5jb20vYm9vdHN0cmFwLzMuMi4wL2Nzcy9ib290c3RyYXAubWluLmNzcyIvPgogICAgPGxpbmsgcmVsPSJzdHlsZXNoZWV0IiBocmVmPSJodHRwczovL21heGNkbi5ib290c3RyYXBjZG4uY29tL2Jvb3RzdHJhcC8zLjIuMC9jc3MvYm9vdHN0cmFwLXRoZW1lLm1pbi5jc3MiLz4KICAgIDxsaW5rIHJlbD0ic3R5bGVzaGVldCIgaHJlZj0iaHR0cHM6Ly9tYXhjZG4uYm9vdHN0cmFwY2RuLmNvbS9mb250LWF3ZXNvbWUvNC42LjMvY3NzL2ZvbnQtYXdlc29tZS5taW4uY3NzIi8+CiAgICA8bGluayByZWw9InN0eWxlc2hlZXQiIGhyZWY9Imh0dHBzOi8vY2RuanMuY2xvdWRmbGFyZS5jb20vYWpheC9saWJzL0xlYWZsZXQuYXdlc29tZS1tYXJrZXJzLzIuMC4yL2xlYWZsZXQuYXdlc29tZS1tYXJrZXJzLmNzcyIvPgogICAgPGxpbmsgcmVsPSJzdHlsZXNoZWV0IiBocmVmPSJodHRwczovL3Jhd2Nkbi5naXRoYWNrLmNvbS9weXRob24tdmlzdWFsaXphdGlvbi9mb2xpdW0vbWFzdGVyL2ZvbGl1bS90ZW1wbGF0ZXMvbGVhZmxldC5hd2Vzb21lLnJvdGF0ZS5jc3MiLz4KICAgIDxzdHlsZT5odG1sLCBib2R5IHt3aWR0aDogMTAwJTtoZWlnaHQ6IDEwMCU7bWFyZ2luOiAwO3BhZGRpbmc6IDA7fTwvc3R5bGU+CiAgICA8c3R5bGU+I21hcCB7cG9zaXRpb246YWJzb2x1dGU7dG9wOjA7Ym90dG9tOjA7cmlnaHQ6MDtsZWZ0OjA7fTwvc3R5bGU+CiAgICAKICAgICAgICAgICAgPG1ldGEgbmFtZT0idmlld3BvcnQiIGNvbnRlbnQ9IndpZHRoPWRldmljZS13aWR0aCwKICAgICAgICAgICAgICAgIGluaXRpYWwtc2NhbGU9MS4wLCBtYXhpbXVtLXNjYWxlPTEuMCwgdXNlci1zY2FsYWJsZT1ubyIgLz4KICAgICAgICAgICAgPHN0eWxlPgogICAgICAgICAgICAgICAgI21hcF9iOGNiYWEzYjExMjk0YTBmOTNlMTY5OGVkZTA0NTUzMCB7CiAgICAgICAgICAgICAgICAgICAgcG9zaXRpb246IHJlbGF0aXZlOwogICAgICAgICAgICAgICAgICAgIHdpZHRoOiAxMDAuMCU7CiAgICAgICAgICAgICAgICAgICAgaGVpZ2h0OiAxMDAuMCU7CiAgICAgICAgICAgICAgICAgICAgbGVmdDogMC4wJTsKICAgICAgICAgICAgICAgICAgICB0b3A6IDAuMCU7CiAgICAgICAgICAgICAgICB9CiAgICAgICAgICAgIDwvc3R5bGU+CiAgICAgICAgCjwvaGVhZD4KPGJvZHk+ICAgIAogICAgCiAgICAgICAgICAgIDxkaXYgY2xhc3M9ImZvbGl1bS1tYXAiIGlkPSJtYXBfYjhjYmFhM2IxMTI5NGEwZjkzZTE2OThlZGUwNDU1MzAiID48L2Rpdj4KICAgICAgICAKPC9ib2R5Pgo8c2NyaXB0PiAgICAKICAgIAogICAgICAgICAgICB2YXIgbWFwX2I4Y2JhYTNiMTEyOTRhMGY5M2UxNjk4ZWRlMDQ1NTMwID0gTC5tYXAoCiAgICAgICAgICAgICAgICAibWFwX2I4Y2JhYTNiMTEyOTRhMGY5M2UxNjk4ZWRlMDQ1NTMwIiwKICAgICAgICAgICAgICAgIHsKICAgICAgICAgICAgICAgICAgICBjZW50ZXI6IFszNS42ODI4Mzg3LCAxMzkuNzU5NDU0OV0sCiAgICAgICAgICAgICAgICAgICAgY3JzOiBMLkNSUy5FUFNHMzg1NywKICAgICAgICAgICAgICAgICAgICB6b29tOiAxMSwKICAgICAgICAgICAgICAgICAgICB6b29tQ29udHJvbDogdHJ1ZSwKICAgICAgICAgICAgICAgICAgICBwcmVmZXJDYW52YXM6IGZhbHNlLAogICAgICAgICAgICAgICAgfQogICAgICAgICAgICApOwoKICAgICAgICAgICAgCgogICAgICAgIAogICAgCiAgICAgICAgICAgIHZhciB0aWxlX2xheWVyX2JlMGFkNGNlNTIwNTQ2ZmM4M2I4ZjdkMTg4MTA5OWQ4ID0gTC50aWxlTGF5ZXIoCiAgICAgICAgICAgICAgICAiaHR0cHM6Ly97c30udGlsZS5vcGVuc3RyZWV0bWFwLm9yZy97en0ve3h9L3t5fS5wbmciLAogICAgICAgICAgICAgICAgeyJhdHRyaWJ1dGlvbiI6ICJEYXRhIGJ5IFx1MDAyNmNvcHk7IFx1MDAzY2EgaHJlZj1cImh0dHA6Ly9vcGVuc3RyZWV0bWFwLm9yZ1wiXHUwMDNlT3BlblN0cmVldE1hcFx1MDAzYy9hXHUwMDNlLCB1bmRlciBcdTAwM2NhIGhyZWY9XCJodHRwOi8vd3d3Lm9wZW5zdHJlZXRtYXAub3JnL2NvcHlyaWdodFwiXHUwMDNlT0RiTFx1MDAzYy9hXHUwMDNlLiIsICJkZXRlY3RSZXRpbmEiOiBmYWxzZSwgIm1heE5hdGl2ZVpvb20iOiAxOCwgIm1heFpvb20iOiAxOCwgIm1pblpvb20iOiAwLCAibm9XcmFwIjogZmFsc2UsICJvcGFjaXR5IjogMSwgInN1YmRvbWFpbnMiOiAiYWJjIiwgInRtcyI6IGZhbHNlfQogICAgICAgICAgICApLmFkZFRvKG1hcF9iOGNiYWEzYjExMjk0YTBmOTNlMTY5OGVkZTA0NTUzMCk7CiAgICAgICAgCiAgICAKICAgICAgICAgICAgdmFyIGNpcmNsZV9tYXJrZXJfOTc0MWQzYjk0MjU1NDllZDg2ZmI1NWFiMWJhMzc2MTkgPSBMLmNpcmNsZU1hcmtlcigKICAgICAgICAgICAgICAgIFszNS42NzU2MTgsIDEzOS43NDM0Njg1XSwKICAgICAgICAgICAgICAgIHsiYnViYmxpbmdNb3VzZUV2ZW50cyI6IHRydWUsICJjb2xvciI6ICIjZmYwMDAwIiwgImRhc2hBcnJheSI6IG51bGwsICJkYXNoT2Zmc2V0IjogbnVsbCwgImZpbGwiOiB0cnVlLCAiZmlsbENvbG9yIjogIiNmZjAwMDAiLCAiZmlsbE9wYWNpdHkiOiAwLjcsICJmaWxsUnVsZSI6ICJldmVub2RkIiwgImxpbmVDYXAiOiAicm91bmQiLCAibGluZUpvaW4iOiAicm91bmQiLCAib3BhY2l0eSI6IDEuMCwgInJhZGl1cyI6IDgsICJzdHJva2UiOiB0cnVlLCAid2VpZ2h0IjogM30KICAgICAgICAgICAgKS5hZGRUbyhtYXBfYjhjYmFhM2IxMTI5NGEwZjkzZTE2OThlZGUwNDU1MzApOwogICAgICAgIAogICAgCiAgICAgICAgdmFyIHBvcHVwXzYyN2IxYTY3MWY5NDRhMGVhMDNkYzEzYTRlNWM4OTIzID0gTC5wb3B1cCh7Im1heFdpZHRoIjogIjEwMCUifSk7CgogICAgICAgIAogICAgICAgICAgICB2YXIgaHRtbF8xMDk1NWZlNzZhOTI0N2JmODNmOTRhZmYwYjUxZGQzYyA9ICQoYDxkaXYgaWQ9Imh0bWxfMTA5NTVmZTc2YTkyNDdiZjgzZjk0YWZmMGI1MWRkM2MiIHN0eWxlPSJ3aWR0aDogMTAwLjAlOyBoZWlnaHQ6IDEwMC4wJTsiPk5hZ2F0YWNobyBDbHVzdGVyIDA8L2Rpdj5gKVswXTsKICAgICAgICAgICAgcG9wdXBfNjI3YjFhNjcxZjk0NGEwZWEwM2RjMTNhNGU1Yzg5MjMuc2V0Q29udGVudChodG1sXzEwOTU1ZmU3NmE5MjQ3YmY4M2Y5NGFmZjBiNTFkZDNjKTsKICAgICAgICAKCiAgICAgICAgY2lyY2xlX21hcmtlcl85NzQxZDNiOTQyNTU0OWVkODZmYjU1YWIxYmEzNzYxOS5iaW5kUG9wdXAocG9wdXBfNjI3YjFhNjcxZjk0NGEwZWEwM2RjMTNhNGU1Yzg5MjMpCiAgICAgICAgOwoKICAgICAgICAKICAgIAogICAgCiAgICAgICAgICAgIHZhciBjaXJjbGVfbWFya2VyXzMxNjhjZjU3NzU4ZDRlMWNhNjg5ZDQ5ODAzMDFlMDYyID0gTC5jaXJjbGVNYXJrZXIoCiAgICAgICAgICAgICAgICBbMzUuNjg0MDU4LCAxMzkuNzc0NTAxMzc3OTc5XSwKICAgICAgICAgICAgICAgIHsiYnViYmxpbmdNb3VzZUV2ZW50cyI6IHRydWUsICJjb2xvciI6ICIjZmYwMDAwIiwgImRhc2hBcnJheSI6IG51bGwsICJkYXNoT2Zmc2V0IjogbnVsbCwgImZpbGwiOiB0cnVlLCAiZmlsbENvbG9yIjogIiNmZjAwMDAiLCAiZmlsbE9wYWNpdHkiOiAwLjcsICJmaWxsUnVsZSI6ICJldmVub2RkIiwgImxpbmVDYXAiOiAicm91bmQiLCAibGluZUpvaW4iOiAicm91bmQiLCAib3BhY2l0eSI6IDEuMCwgInJhZGl1cyI6IDgsICJzdHJva2UiOiB0cnVlLCAid2VpZ2h0IjogM30KICAgICAgICAgICAgKS5hZGRUbyhtYXBfYjhjYmFhM2IxMTI5NGEwZjkzZTE2OThlZGUwNDU1MzApOwogICAgICAgIAogICAgCiAgICAgICAgdmFyIHBvcHVwX2IxYjY1YmM1MTFiMDQzMzg5MmJiMTNiMGUwM2JiODZiID0gTC5wb3B1cCh7Im1heFdpZHRoIjogIjEwMCUifSk7CgogICAgICAgIAogICAgICAgICAgICB2YXIgaHRtbF8zZWRjNjNlZjAxNGU0ZTk0Yjk5MTg2NTMzNTFiNjViMCA9ICQoYDxkaXYgaWQ9Imh0bWxfM2VkYzYzZWYwMTRlNGU5NGI5OTE4NjUzMzUxYjY1YjAiIHN0eWxlPSJ3aWR0aDogMTAwLjAlOyBoZWlnaHQ6IDEwMC4wJTsiPk5paG9uYmFzaGkgQ2x1c3RlciAwPC9kaXY+YClbMF07CiAgICAgICAgICAgIHBvcHVwX2IxYjY1YmM1MTFiMDQzMzg5MmJiMTNiMGUwM2JiODZiLnNldENvbnRlbnQoaHRtbF8zZWRjNjNlZjAxNGU0ZTk0Yjk5MTg2NTMzNTFiNjViMCk7CiAgICAgICAgCgogICAgICAgIGNpcmNsZV9tYXJrZXJfMzE2OGNmNTc3NThkNGUxY2E2ODlkNDk4MDMwMWUwNjIuYmluZFBvcHVwKHBvcHVwX2IxYjY1YmM1MTFiMDQzMzg5MmJiMTNiMGUwM2JiODZiKQogICAgICAgIDsKCiAgICAgICAgCiAgICAKICAgIAogICAgICAgICAgICB2YXIgY2lyY2xlX21hcmtlcl9mZDVhOGUyZWYwMmU0NmY3ODg1YzRmZGVlMmJiY2EzYSA9IEwuY2lyY2xlTWFya2VyKAogICAgICAgICAgICAgICAgWzM1LjY5Mzc2MzIwMDAwMDAxLCAxMzkuNzAzNjMxOV0sCiAgICAgICAgICAgICAgICB7ImJ1YmJsaW5nTW91c2VFdmVudHMiOiB0cnVlLCAiY29sb3IiOiAiIzgwZmZiNCIsICJkYXNoQXJyYXkiOiBudWxsLCAiZGFzaE9mZnNldCI6IG51bGwsICJmaWxsIjogdHJ1ZSwgImZpbGxDb2xvciI6ICIjODBmZmI0IiwgImZpbGxPcGFjaXR5IjogMC43LCAiZmlsbFJ1bGUiOiAiZXZlbm9kZCIsICJsaW5lQ2FwIjogInJvdW5kIiwgImxpbmVKb2luIjogInJvdW5kIiwgIm9wYWNpdHkiOiAxLjAsICJyYWRpdXMiOiA4LCAic3Ryb2tlIjogdHJ1ZSwgIndlaWdodCI6IDN9CiAgICAgICAgICAgICkuYWRkVG8obWFwX2I4Y2JhYTNiMTEyOTRhMGY5M2UxNjk4ZWRlMDQ1NTMwKTsKICAgICAgICAKICAgIAogICAgICAgIHZhciBwb3B1cF81Zjg3MTE0MzAxNzE0MTE0YTc1ZTIzODE2YmFhMDE2NCA9IEwucG9wdXAoeyJtYXhXaWR0aCI6ICIxMDAlIn0pOwoKICAgICAgICAKICAgICAgICAgICAgdmFyIGh0bWxfZmNmNTIzNWFkYjg3NGJmZGIzYjJlYjUxZjZkZTI1OTUgPSAkKGA8ZGl2IGlkPSJodG1sX2ZjZjUyMzVhZGI4NzRiZmRiM2IyZWI1MWY2ZGUyNTk1IiBzdHlsZT0id2lkdGg6IDEwMC4wJTsgaGVpZ2h0OiAxMDAuMCU7Ij5TaGluanVrdSBDbHVzdGVyIDI8L2Rpdj5gKVswXTsKICAgICAgICAgICAgcG9wdXBfNWY4NzExNDMwMTcxNDExNGE3NWUyMzgxNmJhYTAxNjQuc2V0Q29udGVudChodG1sX2ZjZjUyMzVhZGI4NzRiZmRiM2IyZWI1MWY2ZGUyNTk1KTsKICAgICAgICAKCiAgICAgICAgY2lyY2xlX21hcmtlcl9mZDVhOGUyZWYwMmU0NmY3ODg1YzRmZGVlMmJiY2EzYS5iaW5kUG9wdXAocG9wdXBfNWY4NzExNDMwMTcxNDExNGE3NWUyMzgxNmJhYTAxNjQpCiAgICAgICAgOwoKICAgICAgICAKICAgIAogICAgCiAgICAgICAgICAgIHZhciBjaXJjbGVfbWFya2VyXzdiOGFkMjdkZWE2ODQ2MTA4OWVmYmQ5NTBlYzAzMmQzID0gTC5jaXJjbGVNYXJrZXIoCiAgICAgICAgICAgICAgICBbMzUuNTk5MjUyLCAxMzkuNzM4OTFdLAogICAgICAgICAgICAgICAgeyJidWJibGluZ01vdXNlRXZlbnRzIjogdHJ1ZSwgImNvbG9yIjogIiM4MDAwZmYiLCAiZGFzaEFycmF5IjogbnVsbCwgImRhc2hPZmZzZXQiOiBudWxsLCAiZmlsbCI6IHRydWUsICJmaWxsQ29sb3IiOiAiIzgwMDBmZiIsICJmaWxsT3BhY2l0eSI6IDAuNywgImZpbGxSdWxlIjogImV2ZW5vZGQiLCAibGluZUNhcCI6ICJyb3VuZCIsICJsaW5lSm9pbiI6ICJyb3VuZCIsICJvcGFjaXR5IjogMS4wLCAicmFkaXVzIjogOCwgInN0cm9rZSI6IHRydWUsICJ3ZWlnaHQiOiAzfQogICAgICAgICAgICApLmFkZFRvKG1hcF9iOGNiYWEzYjExMjk0YTBmOTNlMTY5OGVkZTA0NTUzMCk7CiAgICAgICAgCiAgICAKICAgICAgICB2YXIgcG9wdXBfZWVhZGRlMzM3MTM2NDY5OTk1ZDQxNDk0OWIyM2QxYzAgPSBMLnBvcHVwKHsibWF4V2lkdGgiOiAiMTAwJSJ9KTsKCiAgICAgICAgCiAgICAgICAgICAgIHZhciBodG1sXzM5ZjljMTA5YTI4MDQ4NmFiYTA1OWRmMzBkZjJiNDQ3ID0gJChgPGRpdiBpZD0iaHRtbF8zOWY5YzEwOWEyODA0ODZhYmEwNTlkZjMwZGYyYjQ0NyIgc3R5bGU9IndpZHRoOiAxMDAuMCU7IGhlaWdodDogMTAwLjAlOyI+U2hpbmFnYXdhIENsdXN0ZXIgMTwvZGl2PmApWzBdOwogICAgICAgICAgICBwb3B1cF9lZWFkZGUzMzcxMzY0Njk5OTVkNDE0OTQ5YjIzZDFjMC5zZXRDb250ZW50KGh0bWxfMzlmOWMxMDlhMjgwNDg2YWJhMDU5ZGYzMGRmMmI0NDcpOwogICAgICAgIAoKICAgICAgICBjaXJjbGVfbWFya2VyXzdiOGFkMjdkZWE2ODQ2MTA4OWVmYmQ5NTBlYzAzMmQzLmJpbmRQb3B1cChwb3B1cF9lZWFkZGUzMzcxMzY0Njk5OTVkNDE0OTQ5YjIzZDFjMCkKICAgICAgICA7CgogICAgICAgIAogICAgCiAgICAKICAgICAgICAgICAgdmFyIGNpcmNsZV9tYXJrZXJfODlhMjgzZjc2MzQ4NDRhODlkYTAzMmJjNTgzNWFmNGEgPSBMLmNpcmNsZU1hcmtlcigKICAgICAgICAgICAgICAgIFszNS42NjQ1OTU2LCAxMzkuNjk4NzEwN10sCiAgICAgICAgICAgICAgICB7ImJ1YmJsaW5nTW91c2VFdmVudHMiOiB0cnVlLCAiY29sb3IiOiAiIzgwZmZiNCIsICJkYXNoQXJyYXkiOiBudWxsLCAiZGFzaE9mZnNldCI6IG51bGwsICJmaWxsIjogdHJ1ZSwgImZpbGxDb2xvciI6ICIjODBmZmI0IiwgImZpbGxPcGFjaXR5IjogMC43LCAiZmlsbFJ1bGUiOiAiZXZlbm9kZCIsICJsaW5lQ2FwIjogInJvdW5kIiwgImxpbmVKb2luIjogInJvdW5kIiwgIm9wYWNpdHkiOiAxLjAsICJyYWRpdXMiOiA4LCAic3Ryb2tlIjogdHJ1ZSwgIndlaWdodCI6IDN9CiAgICAgICAgICAgICkuYWRkVG8obWFwX2I4Y2JhYTNiMTEyOTRhMGY5M2UxNjk4ZWRlMDQ1NTMwKTsKICAgICAgICAKICAgIAogICAgICAgIHZhciBwb3B1cF9iODliYTMyMjljM2E0ZGE2YmU4ZGIwOTlkODczMzg2NSA9IEwucG9wdXAoeyJtYXhXaWR0aCI6ICIxMDAlIn0pOwoKICAgICAgICAKICAgICAgICAgICAgdmFyIGh0bWxfNjA1MDdiMzhhY2RhNGI3NmE0Y2Q1YmUwY2U4MTkwOGYgPSAkKGA8ZGl2IGlkPSJodG1sXzYwNTA3YjM4YWNkYTRiNzZhNGNkNWJlMGNlODE5MDhmIiBzdHlsZT0id2lkdGg6IDEwMC4wJTsgaGVpZ2h0OiAxMDAuMCU7Ij5TaGlidXlhIENsdXN0ZXIgMjwvZGl2PmApWzBdOwogICAgICAgICAgICBwb3B1cF9iODliYTMyMjljM2E0ZGE2YmU4ZGIwOTlkODczMzg2NS5zZXRDb250ZW50KGh0bWxfNjA1MDdiMzhhY2RhNGI3NmE0Y2Q1YmUwY2U4MTkwOGYpOwogICAgICAgIAoKICAgICAgICBjaXJjbGVfbWFya2VyXzg5YTI4M2Y3NjM0ODQ0YTg5ZGEwMzJiYzU4MzVhZjRhLmJpbmRQb3B1cChwb3B1cF9iODliYTMyMjljM2E0ZGE2YmU4ZGIwOTlkODczMzg2NSkKICAgICAgICA7CgogICAgICAgIAogICAgCjwvc2NyaXB0Pg== onload=\"this.contentDocument.open();this.contentDocument.write(atob(this.getAttribute('data-html')));this.contentDocument.close();\" allowfullscreen webkitallowfullscreen mozallowfullscreen></iframe></div></div>"
      ],
      "text/plain": [
       "<folium.folium.Map at 0x7f3d2756d610>"
      ]
     },
     "execution_count": 47,
     "metadata": {},
     "output_type": "execute_result"
    }
   ],
   "source": [
    "# create map\n",
    "map_clusters = folium.Map(location=[Tokyo_latitude, Tokyo_longitude], zoom_start=11)\n",
    "\n",
    "# set color scheme for the clusters\n",
    "x = np.arange(kclusters)\n",
    "ys = [i + x + (i*x)**2 for i in range(kclusters)]\n",
    "colors_array = cm.rainbow(np.linspace(0, 1, len(ys)))\n",
    "rainbow = [colors.rgb2hex(i) for i in colors_array]\n",
    "\n",
    "# add markers to the map\n",
    "markers_colors = []\n",
    "for lat, lon, poi, cluster in zip(Tokyo_5_Dist_Coordinate_Cluster_merged['Dist_Latitude'], \n",
    "                                  Tokyo_5_Dist_Coordinate_Cluster_merged['Dist_Longitude'], \n",
    "                                  Tokyo_5_Dist_Coordinate_Cluster_merged['Major_District'], \n",
    "                                  Tokyo_5_Dist_Coordinate_Cluster_merged['Cluster Label']):\n",
    "    label = folium.Popup(str(poi) + ' Cluster ' + str(cluster), parse_html=True)\n",
    "    folium.CircleMarker(\n",
    "        [lat, lon],\n",
    "        radius=8,\n",
    "        popup=label,\n",
    "        color=rainbow[cluster-1],\n",
    "        fill=True,\n",
    "        fill_color=rainbow[cluster-1],\n",
    "        fill_opacity=0.7).add_to(map_clusters)\n",
    "       \n",
    "map_clusters"
   ]
  },
  {
   "cell_type": "code",
   "execution_count": 49,
   "metadata": {
    "ExecuteTime": {
     "end_time": "2020-08-12T15:47:31.870288Z",
     "start_time": "2020-08-12T15:47:31.861280Z"
    }
   },
   "outputs": [],
   "source": [
    "report.append(dp.Plot(map_clusters))"
   ]
  },
  {
   "cell_type": "code",
   "execution_count": 50,
   "metadata": {
    "ExecuteTime": {
     "end_time": "2020-08-12T15:47:34.765357Z",
     "start_time": "2020-08-12T15:47:34.749207Z"
    }
   },
   "outputs": [
    {
     "data": {
      "text/html": [
       "<div style=\"width:100%;\"><div style=\"position:relative;width:100%;height:0;padding-bottom:60%;\"><span style=\"color:#565656\">Make this Notebook Trusted to load map: File -> Trust Notebook</span><iframe src=\"about:blank\" style=\"position:absolute;width:100%;height:100%;left:0;top:0;border:none !important;\" data-html=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 onload=\"this.contentDocument.open();this.contentDocument.write(atob(this.getAttribute('data-html')));this.contentDocument.close();\" allowfullscreen webkitallowfullscreen mozallowfullscreen></iframe></div></div>"
      ],
      "text/plain": [
       "<folium.folium.Map at 0x7f3d275242b0>"
      ]
     },
     "execution_count": 50,
     "metadata": {},
     "output_type": "execute_result"
    }
   ],
   "source": [
    "# create map\n",
    "map_restaurants10 = folium.Map(location=[Tokyo_latitude, Tokyo_longitude], tiles='cartodbpositron', \n",
    "                               attr=\"<a href=https://github.com/python-visualization/folium/>Folium</a>\")\n",
    "\n",
    "# set color scheme for the clusters\n",
    "x = np.arange(kclusters)\n",
    "ys = [i + x + (i*x)**2 for i in range(kclusters)]\n",
    "colors_array = cm.rainbow(np.linspace(0, 1, len(ys)))\n",
    "rainbow = [colors.rgb2hex(i) for i in colors_array]\n",
    "#rainbow = ['#00ff00', '#ff00ff','#0000ff','#ffa500' ,'#ff0000']\n",
    "Districts = ['Nagatacho', 'Nihonbashi', 'Shinjuku', 'Shinagawa', 'Shibuya']\n",
    "\n",
    "# add markers to the map\n",
    "for lat, lon, poi, cluster in zip(Tokyo_5_Dist_Coordinate_Cluster_merged['Dist_Latitude'], \n",
    "                                  Tokyo_5_Dist_Coordinate_Cluster_merged['Dist_Longitude'], \n",
    "                                  Tokyo_5_Dist_Coordinate_Cluster_merged['Major_District'], \n",
    "                                  Tokyo_5_Dist_Coordinate_Cluster_merged['Cluster Label']):\n",
    "    label = folium.Popup(str(poi) + ' Cluster ' + str(cluster), parse_html=True)\n",
    "    folium.CircleMarker(\n",
    "        [lat, lon],\n",
    "        radius=list_rest_no[Districts.index(poi)]*0.5,\n",
    "        popup=label,\n",
    "        color=rainbow[cluster-1],\n",
    "        fill=True,\n",
    "        fill_color=rainbow[cluster-1],\n",
    "        fill_opacity=0.7).add_to(map_restaurants10)\n",
    "       \n",
    "map_restaurants10"
   ]
  },
  {
   "cell_type": "code",
   "execution_count": 51,
   "metadata": {
    "ExecuteTime": {
     "end_time": "2020-08-12T15:47:46.399158Z",
     "start_time": "2020-08-12T15:47:46.386670Z"
    }
   },
   "outputs": [],
   "source": [
    "report.append(dp.Plot(map_restaurants10))"
   ]
  },
  {
   "cell_type": "markdown",
   "metadata": {},
   "source": [
    "#### Final Map of 3 Clusters With Radius of the Clusters Representing Number of Restaurants in Each District\n",
    "![Tokyo_Final_Clusters](Tokyo_District_Clusters.png)"
   ]
  },
  {
   "cell_type": "markdown",
   "metadata": {},
   "source": [
    "### Explore the 3 Clusters "
   ]
  },
  {
   "cell_type": "markdown",
   "metadata": {},
   "source": [
    "#### Cluster 0"
   ]
  },
  {
   "cell_type": "code",
   "execution_count": 52,
   "metadata": {
    "ExecuteTime": {
     "end_time": "2020-08-12T15:47:51.499721Z",
     "start_time": "2020-08-12T15:47:51.484290Z"
    }
   },
   "outputs": [
    {
     "name": "stdout",
     "output_type": "stream",
     "text": [
      "No of Neighbourhood in Cluster Label 0: 2\n"
     ]
    },
    {
     "data": {
      "text/html": [
       "<div>\n",
       "<style scoped>\n",
       "    .dataframe tbody tr th:only-of-type {\n",
       "        vertical-align: middle;\n",
       "    }\n",
       "\n",
       "    .dataframe tbody tr th {\n",
       "        vertical-align: top;\n",
       "    }\n",
       "\n",
       "    .dataframe thead th {\n",
       "        text-align: right;\n",
       "    }\n",
       "</style>\n",
       "<table border=\"1\" class=\"dataframe\">\n",
       "  <thead>\n",
       "    <tr style=\"text-align: right;\">\n",
       "      <th></th>\n",
       "      <th>Major_District</th>\n",
       "      <th>Dist_Latitude</th>\n",
       "      <th>Dist_Longitude</th>\n",
       "      <th>Average_Price(SqKm)</th>\n",
       "      <th>Cluster Label</th>\n",
       "      <th>1st Most Common Venue</th>\n",
       "      <th>2nd Most Common Venue</th>\n",
       "      <th>3rd Most Common Venue</th>\n",
       "      <th>4th Most Common Venue</th>\n",
       "      <th>5th Most Common Venue</th>\n",
       "      <th>6th Most Common Venue</th>\n",
       "      <th>7th Most Common Venue</th>\n",
       "      <th>8th Most Common Venue</th>\n",
       "      <th>9th Most Common Venue</th>\n",
       "      <th>10th Most Common Venue</th>\n",
       "    </tr>\n",
       "  </thead>\n",
       "  <tbody>\n",
       "    <tr>\n",
       "      <th>1</th>\n",
       "      <td>Nagatacho</td>\n",
       "      <td>35.675618</td>\n",
       "      <td>139.743469</td>\n",
       "      <td>2705898</td>\n",
       "      <td>0</td>\n",
       "      <td>Japanese Restaurant</td>\n",
       "      <td>BBQ Joint</td>\n",
       "      <td>Chinese Restaurant</td>\n",
       "      <td>Coffee Shop</td>\n",
       "      <td>Hotel</td>\n",
       "      <td>Italian Restaurant</td>\n",
       "      <td>Sake Bar</td>\n",
       "      <td>Yakitori Restaurant</td>\n",
       "      <td>Ramen Restaurant</td>\n",
       "      <td>Bar</td>\n",
       "    </tr>\n",
       "    <tr>\n",
       "      <th>2</th>\n",
       "      <td>Nihonbashi</td>\n",
       "      <td>35.684058</td>\n",
       "      <td>139.774501</td>\n",
       "      <td>2699719</td>\n",
       "      <td>0</td>\n",
       "      <td>Japanese Restaurant</td>\n",
       "      <td>BBQ Joint</td>\n",
       "      <td>Café</td>\n",
       "      <td>Hotel</td>\n",
       "      <td>French Restaurant</td>\n",
       "      <td>Hobby Shop</td>\n",
       "      <td>Wagashi Place</td>\n",
       "      <td>Soba Restaurant</td>\n",
       "      <td>Department Store</td>\n",
       "      <td>Bakery</td>\n",
       "    </tr>\n",
       "  </tbody>\n",
       "</table>\n",
       "</div>"
      ],
      "text/plain": [
       "  Major_District  Dist_Latitude  Dist_Longitude Average_Price(SqKm)  \\\n",
       "1      Nagatacho      35.675618      139.743469            2705898    \n",
       "2     Nihonbashi      35.684058      139.774501            2699719    \n",
       "\n",
       "   Cluster Label 1st Most Common Venue 2nd Most Common Venue  \\\n",
       "1              0   Japanese Restaurant             BBQ Joint   \n",
       "2              0   Japanese Restaurant             BBQ Joint   \n",
       "\n",
       "  3rd Most Common Venue 4th Most Common Venue 5th Most Common Venue  \\\n",
       "1    Chinese Restaurant           Coffee Shop                 Hotel   \n",
       "2                  Café                 Hotel     French Restaurant   \n",
       "\n",
       "  6th Most Common Venue 7th Most Common Venue 8th Most Common Venue  \\\n",
       "1    Italian Restaurant              Sake Bar   Yakitori Restaurant   \n",
       "2            Hobby Shop         Wagashi Place       Soba Restaurant   \n",
       "\n",
       "  9th Most Common Venue 10th Most Common Venue  \n",
       "1      Ramen Restaurant                    Bar  \n",
       "2      Department Store                 Bakery  "
      ]
     },
     "execution_count": 52,
     "metadata": {},
     "output_type": "execute_result"
    }
   ],
   "source": [
    "Tokyo_Cluster1 = Tokyo_5_Dist_Coordinate_Cluster_merged.loc[Tokyo_5_Dist_Coordinate_Cluster_merged['Cluster Label'] == 0, \n",
    "                                    Tokyo_5_Dist_Coordinate_Cluster_merged.columns[[3] + list(range(4, Tokyo_5_Dist_Coordinate_Cluster_merged.shape[1]))]]\n",
    "print (\"No of Neighbourhood in Cluster Label 0: %d\" %(Tokyo_Cluster1.shape[0]))\n",
    "Tokyo_Cluster1"
   ]
  },
  {
   "cell_type": "markdown",
   "metadata": {},
   "source": [
    "#### Cluster 1"
   ]
  },
  {
   "cell_type": "code",
   "execution_count": 53,
   "metadata": {
    "ExecuteTime": {
     "end_time": "2020-08-12T15:47:54.875316Z",
     "start_time": "2020-08-12T15:47:54.858914Z"
    }
   },
   "outputs": [
    {
     "name": "stdout",
     "output_type": "stream",
     "text": [
      "No of Neighbourhood in Cluster Label 1: 1\n"
     ]
    },
    {
     "data": {
      "text/html": [
       "<div>\n",
       "<style scoped>\n",
       "    .dataframe tbody tr th:only-of-type {\n",
       "        vertical-align: middle;\n",
       "    }\n",
       "\n",
       "    .dataframe tbody tr th {\n",
       "        vertical-align: top;\n",
       "    }\n",
       "\n",
       "    .dataframe thead th {\n",
       "        text-align: right;\n",
       "    }\n",
       "</style>\n",
       "<table border=\"1\" class=\"dataframe\">\n",
       "  <thead>\n",
       "    <tr style=\"text-align: right;\">\n",
       "      <th></th>\n",
       "      <th>Major_District</th>\n",
       "      <th>Dist_Latitude</th>\n",
       "      <th>Dist_Longitude</th>\n",
       "      <th>Average_Price(SqKm)</th>\n",
       "      <th>Cluster Label</th>\n",
       "      <th>1st Most Common Venue</th>\n",
       "      <th>2nd Most Common Venue</th>\n",
       "      <th>3rd Most Common Venue</th>\n",
       "      <th>4th Most Common Venue</th>\n",
       "      <th>5th Most Common Venue</th>\n",
       "      <th>6th Most Common Venue</th>\n",
       "      <th>7th Most Common Venue</th>\n",
       "      <th>8th Most Common Venue</th>\n",
       "      <th>9th Most Common Venue</th>\n",
       "      <th>10th Most Common Venue</th>\n",
       "    </tr>\n",
       "  </thead>\n",
       "  <tbody>\n",
       "    <tr>\n",
       "      <th>4</th>\n",
       "      <td>Shinagawa</td>\n",
       "      <td>35.599252</td>\n",
       "      <td>139.73891</td>\n",
       "      <td>767398</td>\n",
       "      <td>1</td>\n",
       "      <td>Convenience Store</td>\n",
       "      <td>Ramen Restaurant</td>\n",
       "      <td>Sake Bar</td>\n",
       "      <td>Grocery Store</td>\n",
       "      <td>BBQ Joint</td>\n",
       "      <td>Sushi Restaurant</td>\n",
       "      <td>Park</td>\n",
       "      <td>Donburi Restaurant</td>\n",
       "      <td>Soba Restaurant</td>\n",
       "      <td>Coffee Shop</td>\n",
       "    </tr>\n",
       "  </tbody>\n",
       "</table>\n",
       "</div>"
      ],
      "text/plain": [
       "  Major_District  Dist_Latitude  Dist_Longitude Average_Price(SqKm)  \\\n",
       "4      Shinagawa      35.599252       139.73891             767398    \n",
       "\n",
       "   Cluster Label 1st Most Common Venue 2nd Most Common Venue  \\\n",
       "4              1     Convenience Store      Ramen Restaurant   \n",
       "\n",
       "  3rd Most Common Venue 4th Most Common Venue 5th Most Common Venue  \\\n",
       "4              Sake Bar         Grocery Store             BBQ Joint   \n",
       "\n",
       "  6th Most Common Venue 7th Most Common Venue 8th Most Common Venue  \\\n",
       "4      Sushi Restaurant                  Park    Donburi Restaurant   \n",
       "\n",
       "  9th Most Common Venue 10th Most Common Venue  \n",
       "4       Soba Restaurant            Coffee Shop  "
      ]
     },
     "execution_count": 53,
     "metadata": {},
     "output_type": "execute_result"
    }
   ],
   "source": [
    "Tokyo_Cluster2 = Tokyo_5_Dist_Coordinate_Cluster_merged.loc[Tokyo_5_Dist_Coordinate_Cluster_merged['Cluster Label'] == 1, \n",
    "                                    Tokyo_5_Dist_Coordinate_Cluster_merged.columns[[3] + list(range(4, Tokyo_5_Dist_Coordinate_Cluster_merged.shape[1]))]]\n",
    "print (\"No of Neighbourhood in Cluster Label 1: %d\" %(Tokyo_Cluster2.shape[0]))\n",
    "Tokyo_Cluster2"
   ]
  },
  {
   "cell_type": "markdown",
   "metadata": {},
   "source": [
    "#### Cluster 2"
   ]
  },
  {
   "cell_type": "code",
   "execution_count": 54,
   "metadata": {
    "ExecuteTime": {
     "end_time": "2020-08-12T15:47:56.523683Z",
     "start_time": "2020-08-12T15:47:56.505659Z"
    }
   },
   "outputs": [
    {
     "name": "stdout",
     "output_type": "stream",
     "text": [
      "No of Neighbourhood in Cluster Label 2: 2\n"
     ]
    },
    {
     "data": {
      "text/html": [
       "<div>\n",
       "<style scoped>\n",
       "    .dataframe tbody tr th:only-of-type {\n",
       "        vertical-align: middle;\n",
       "    }\n",
       "\n",
       "    .dataframe tbody tr th {\n",
       "        vertical-align: top;\n",
       "    }\n",
       "\n",
       "    .dataframe thead th {\n",
       "        text-align: right;\n",
       "    }\n",
       "</style>\n",
       "<table border=\"1\" class=\"dataframe\">\n",
       "  <thead>\n",
       "    <tr style=\"text-align: right;\">\n",
       "      <th></th>\n",
       "      <th>Major_District</th>\n",
       "      <th>Dist_Latitude</th>\n",
       "      <th>Dist_Longitude</th>\n",
       "      <th>Average_Price(SqKm)</th>\n",
       "      <th>Cluster Label</th>\n",
       "      <th>1st Most Common Venue</th>\n",
       "      <th>2nd Most Common Venue</th>\n",
       "      <th>3rd Most Common Venue</th>\n",
       "      <th>4th Most Common Venue</th>\n",
       "      <th>5th Most Common Venue</th>\n",
       "      <th>6th Most Common Venue</th>\n",
       "      <th>7th Most Common Venue</th>\n",
       "      <th>8th Most Common Venue</th>\n",
       "      <th>9th Most Common Venue</th>\n",
       "      <th>10th Most Common Venue</th>\n",
       "    </tr>\n",
       "  </thead>\n",
       "  <tbody>\n",
       "    <tr>\n",
       "      <th>3</th>\n",
       "      <td>Shinjuku</td>\n",
       "      <td>35.693763</td>\n",
       "      <td>139.703632</td>\n",
       "      <td>939286</td>\n",
       "      <td>2</td>\n",
       "      <td>Sake Bar</td>\n",
       "      <td>Bar</td>\n",
       "      <td>BBQ Joint</td>\n",
       "      <td>Japanese Restaurant</td>\n",
       "      <td>Ramen Restaurant</td>\n",
       "      <td>Pub</td>\n",
       "      <td>Rock Club</td>\n",
       "      <td>Yakitori Restaurant</td>\n",
       "      <td>Hotel</td>\n",
       "      <td>Movie Theater</td>\n",
       "    </tr>\n",
       "    <tr>\n",
       "      <th>5</th>\n",
       "      <td>Shibuya</td>\n",
       "      <td>35.664596</td>\n",
       "      <td>139.698711</td>\n",
       "      <td>1360332</td>\n",
       "      <td>2</td>\n",
       "      <td>Café</td>\n",
       "      <td>Record Shop</td>\n",
       "      <td>French Restaurant</td>\n",
       "      <td>Bar</td>\n",
       "      <td>Coffee Shop</td>\n",
       "      <td>Sushi Restaurant</td>\n",
       "      <td>Ramen Restaurant</td>\n",
       "      <td>Seafood Restaurant</td>\n",
       "      <td>BBQ Joint</td>\n",
       "      <td>Wine Bar</td>\n",
       "    </tr>\n",
       "  </tbody>\n",
       "</table>\n",
       "</div>"
      ],
      "text/plain": [
       "  Major_District  Dist_Latitude  Dist_Longitude Average_Price(SqKm)  \\\n",
       "3       Shinjuku      35.693763      139.703632             939286    \n",
       "5        Shibuya      35.664596      139.698711            1360332    \n",
       "\n",
       "   Cluster Label 1st Most Common Venue 2nd Most Common Venue  \\\n",
       "3              2              Sake Bar                   Bar   \n",
       "5              2                  Café           Record Shop   \n",
       "\n",
       "  3rd Most Common Venue 4th Most Common Venue 5th Most Common Venue  \\\n",
       "3             BBQ Joint   Japanese Restaurant      Ramen Restaurant   \n",
       "5     French Restaurant                   Bar           Coffee Shop   \n",
       "\n",
       "  6th Most Common Venue 7th Most Common Venue 8th Most Common Venue  \\\n",
       "3                   Pub             Rock Club   Yakitori Restaurant   \n",
       "5      Sushi Restaurant      Ramen Restaurant    Seafood Restaurant   \n",
       "\n",
       "  9th Most Common Venue 10th Most Common Venue  \n",
       "3                 Hotel          Movie Theater  \n",
       "5             BBQ Joint               Wine Bar  "
      ]
     },
     "execution_count": 54,
     "metadata": {},
     "output_type": "execute_result"
    }
   ],
   "source": [
    "Tokyo_Cluster3 = Tokyo_5_Dist_Coordinate_Cluster_merged.loc[Tokyo_5_Dist_Coordinate_Cluster_merged['Cluster Label'] == 2, \n",
    "                                    Tokyo_5_Dist_Coordinate_Cluster_merged.columns[[3] + list(range(4, Tokyo_5_Dist_Coordinate_Cluster_merged.shape[1]))]]\n",
    "print (\"No of Neighbourhood in Cluster Label 2: %d\" %(Tokyo_Cluster3.shape[0]))\n",
    "Tokyo_Cluster3"
   ]
  },
  {
   "cell_type": "code",
   "execution_count": 56,
   "metadata": {
    "ExecuteTime": {
     "end_time": "2020-08-12T18:06:15.491443Z",
     "start_time": "2020-08-12T18:06:15.486461Z"
    }
   },
   "outputs": [],
   "source": [
    "report.insert(0, dp.Markdown(f'''\n",
    "[Original article](https://towardsdatascience.com/exploring-the-tokyo-neighborhoods-data-science-in-real-life-8b6c2454ca16)\n",
    "\n",
    "[Source code](https://github.com/khuyentran1401/Coursera_Capstone)\n",
    "\n",
    "[Run on Binder](https://mybinder.org/v2/gh/khuyentran1401/Coursera_Capstone/045bdda48e3e5c947e4f73406de0d877ac741aa2?filepath=Week5%2FCapstone_Week4_Part2.ipynb)\n",
    "'''))"
   ]
  },
  {
   "cell_type": "code",
   "execution_count": 59,
   "metadata": {
    "ExecuteTime": {
     "end_time": "2020-08-12T18:07:25.114990Z",
     "start_time": "2020-08-12T18:07:22.606014Z"
    }
   },
   "outputs": [
    {
     "name": "stdout",
     "output_type": "stream",
     "text": [
      "Publishing report and associated data - please wait..\n",
      "Report successfully published at https://datapane.com/saptashwa/reports/tokyo_a1fc6bd4/\n"
     ]
    }
   ],
   "source": [
    "dp.Report(*report).publish(name='tokyo',\n",
    "                           headline='Exploring the Tokyo Neighbourhoods'\n",
    "                          )"
   ]
  },
  {
   "cell_type": "code",
   "execution_count": null,
   "metadata": {},
   "outputs": [],
   "source": []
  }
 ],
 "metadata": {
  "kernelspec": {
   "display_name": "scraping",
   "language": "python",
   "name": "scraping"
  },
  "language_info": {
   "codemirror_mode": {
    "name": "ipython",
    "version": 3
   },
   "file_extension": ".py",
   "mimetype": "text/x-python",
   "name": "python",
   "nbconvert_exporter": "python",
   "pygments_lexer": "ipython3",
   "version": "3.8.3"
  },
  "latex_envs": {
   "LaTeX_envs_menu_present": true,
   "autoclose": false,
   "autocomplete": true,
   "bibliofile": "biblio.bib",
   "cite_by": "apalike",
   "current_citInitial": 1,
   "eqLabelWithNumbers": true,
   "eqNumInitial": 1,
   "hotkeys": {
    "equation": "Ctrl-E",
    "itemize": "Ctrl-I"
   },
   "labels_anchors": false,
   "latex_user_defs": false,
   "report_style_numbering": false,
   "user_envs_cfg": false
  },
  "toc": {
   "base_numbering": 1,
   "nav_menu": {},
   "number_sections": true,
   "sideBar": true,
   "skip_h1_title": false,
   "title_cell": "Table of Contents",
   "title_sidebar": "Contents",
   "toc_cell": false,
   "toc_position": {},
   "toc_section_display": true,
   "toc_window_display": false
  }
 },
 "nbformat": 4,
 "nbformat_minor": 2
}
