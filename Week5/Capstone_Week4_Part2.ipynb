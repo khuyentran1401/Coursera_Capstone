{
 "cells": [
  {
   "cell_type": "code",
   "execution_count": null,
   "metadata": {},
   "outputs": [],
   "source": []
  },
  {
   "cell_type": "markdown",
   "metadata": {},
   "source": [
    "# <font color=red>Battle of Neighborhoods _(Week 1 & Week 2)_</font>"
   ]
  },
  {
   "cell_type": "markdown",
   "metadata": {},
   "source": [
    "## 1. Description of the Problem and Discussion of the Background <br>\n",
    "##     (Introduction Section, Week 1)\n",
    "\n",
    "### Prospects of a Lunch Restaurant, Close to Office Areas in Tokyo, Japan.  "
   ]
  },
  {
   "cell_type": "markdown",
   "metadata": {},
   "source": [
    "Tokyo, where I am currently staying, is the most populous metropolitan area in the world. Currently ranked 3rd in the global economic power index, Tokyo is definitely one of the best places to start up a new business. \n",
    "\n",
    "During the daytime, specially in the morning and lunch hours, office areas provide huge opportunities for restaurants. Reasonably priced (one lunch meal $ 8\\text{\\$} $) shops are usually always full during the lunch hours (11 am -- 2 pm) and, given this scenario, we will go through the benefits and pitfalls of opening a breakfast cum lunch restaurants in highly densed office places. Usually the profit margin for a decent restaurant lie within $15 - 20\\% $ range but, it can even go high enough to $35\\%$, as discussed [here](https://www.ichefpos.com/en-sg/blog/japanese-restaurants-profits). \n",
    "\n",
    "![Tokyo at Night](tokyo_night.jpg)\n",
    "\n",
    "\n",
    "\n",
    "We will go through each step of this project and address them separately. For this week I just describe the initial data preparation and future steps to start the battle of neighborhoods in Tokyo. \n",
    "\n",
    "1. <font color=green> Obtain the Data </font> <br>\n",
    "\n",
    "    1.a. Name of the 23 Wards, area and population from web scrapping <br>\n",
    "\n",
    "    1.b. Obtain information about best business districts. <br>\n",
    "    \n",
    "    1.c. Use Foresquare Data to obtain info about restaurants. <br> \n",
    "\n",
    "\n",
    "2. <font color=green> Data Visualization and Some Simple Statistical Analysis. </font> \n",
    "\n",
    "3. <font color=green> Analysis Using Clustering, Specially K-Means Clustering. </font> <br>\n",
    "\n",
    "    3.a. Maximize the number of clusters. <br>\n",
    "    \n",
    "    3.b. Visualization using Chloropleth Map <br>\n",
    "    \n",
    "\n",
    "4. <font color=green> Compare the Neighborhoods to Find the Best Place for Starting up a Restaurant. </font>   \n",
    "\n",
    "\n",
    "5. <font color=green> Inference From these Results and related Conclusions. </font> <br>\n",
    "\n",
    "\n",
    "<font color=orange>__Target Audience__</font>\n",
    "\n",
    "1. Business personnel who wants to invest or open a restaurant. This analysis will be a comprehensive guide to <br>\n",
    "   start  or expand restaurants targeting the large pool of office workers in Tokyo during lunch hours. \n",
    "2. Freelancer who loves to have their own restaurant as a side business. This analysis will give an idea, how <br>\n",
    "   benificial it is to open a restaurant and what are the pros and cons of this business. \n",
    "3. New graduates, to find reasonable lunch/breakfast place close to office. \n",
    "4. Budding Data Scientists, who wants to implement some of the most used Exploratory Data Analysis techniques to <br>\n",
    "   obtain necessary data, analyze it and, finally be able to tell a story out of it. "
   ]
  },
  {
   "cell_type": "markdown",
   "metadata": {},
   "source": [
    "## 2. Initial Data Preparation (Week 1)\n",
    "\n",
    "#### 2.1. Get The Names of Wards, Major Districts and Population from Wikipedia <br>\n",
    "#### 2.2. Processing the Information From Wiki To Make Necessary Lists <br>\n",
    "#### 2.3. Get the Coordinates of the Major Districts <br>\n",
    "#### 2.4. Check and Compare with Google Search and Refine if Necessary\n",
    "\n",
    "I have described these steps detailed as a part of Week 1 Assignment in [a python notebook](https://github.com/suvoooo/Coursera_Capstone/blob/master/Week4/Capstone_Battle_of_Neighborhoods_Part1.ipynb), and also made a more comprehensible [.pdf](https://github.com/suvoooo/Coursera_Capstone/blob/master/Week4/Week4_Description_Include_Code.pdf) file. \n",
    "\n",
    "So here we start with using [Foursquare](https://developer.foursquare.com/) and use many Exploratory Data Analysis Techniques to learn from data and visualize to strengthen our understanding.   "
   ]
  },
  {
   "cell_type": "markdown",
   "metadata": {},
   "source": [
    "## 3. Exploratory Data Analysis. (Week 2)"
   ]
  },
  {
   "cell_type": "code",
   "execution_count": 60,
   "metadata": {
    "ExecuteTime": {
     "end_time": "2020-08-12T18:13:39.124410Z",
     "start_time": "2020-08-12T18:13:39.121122Z"
    }
   },
   "outputs": [
    {
     "data": {
      "application/javascript": [
       "window.open(\"https://datapane.com/home\");"
      ],
      "text/plain": [
       "<IPython.core.display.Javascript object>"
      ]
     },
     "metadata": {},
     "output_type": "display_data"
    }
   ],
   "source": [
    "#Datapane will be used create a personal report for this code. Sign up on Datapane to get the token and sign in.\n",
    "\n",
    "from IPython.display import Javascript\n",
    "\n",
    "def window_open(url):\n",
    "    display(Javascript('window.open(\"{url}\");'.format(url=url)))\n",
    "\n",
    "\n",
    "window_open('https://datapane.com/home')"
   ]
  },
  {
   "cell_type": "code",
   "execution_count": null,
   "metadata": {
    "ExecuteTime": {
     "end_time": "2020-08-12T18:13:47.776422Z",
     "start_time": "2020-08-12T18:13:42.675851Z"
    }
   },
   "outputs": [],
   "source": [
    "token = input('Insert your token after signing in Datapane ')\n",
    "print('Your token is', token)"
   ]
  },
  {
   "cell_type": "code",
   "execution_count": null,
   "metadata": {
    "ExecuteTime": {
     "end_time": "2020-08-12T18:13:50.065933Z",
     "start_time": "2020-08-12T18:13:48.651033Z"
    }
   },
   "outputs": [],
   "source": [
    "!datapane login --server=https://datapane.com/ --token=$token"
   ]
  },
  {
   "cell_type": "code",
   "execution_count": 63,
   "metadata": {
    "ExecuteTime": {
     "end_time": "2020-08-12T18:13:53.214788Z",
     "start_time": "2020-08-12T18:13:53.211679Z"
    }
   },
   "outputs": [],
   "source": [
    "# import the necessary Libraries \n",
    "import sys\n",
    "import requests\n",
    "import json\n",
    "\n",
    "import matplotlib.pyplot as plt\n",
    "import matplotlib.cm as cm\n",
    "import matplotlib.colors as colors\n",
    "\n",
    "\n",
    "import io\n",
    "from bs4 import BeautifulSoup\n",
    "import pandas as pd\n",
    "import numpy as np\n",
    "\n",
    "from sklearn.cluster import KMeans"
   ]
  },
  {
   "cell_type": "markdown",
   "metadata": {},
   "source": [
    "### First, Get The Names of Wards, Major Districts and Population from Wikipedia (From Week 1)"
   ]
  },
  {
   "cell_type": "code",
   "execution_count": 64,
   "metadata": {
    "ExecuteTime": {
     "end_time": "2020-08-12T18:14:05.808974Z",
     "start_time": "2020-08-12T18:13:53.287896Z"
    }
   },
   "outputs": [
    {
     "name": "stdout",
     "output_type": "stream",
     "text": [
      "[]\n",
      "[<td>01</td>, <td><a class=\"image\" href=\"/wiki/File:Flag_of_Chiyoda,_Tokyo.svg\"><img alt=\"Flag of Chiyoda, Tokyo.svg\" class=\"thumbborder\" data-file-height=\"540\" data-file-width=\"810\" decoding=\"async\" height=\"33\" src=\"//upload.wikimedia.org/wikipedia/commons/thumb/e/ec/Flag_of_Chiyoda%2C_Tokyo.svg/50px-Flag_of_Chiyoda%2C_Tokyo.svg.png\" srcset=\"//upload.wikimedia.org/wikipedia/commons/thumb/e/ec/Flag_of_Chiyoda%2C_Tokyo.svg/75px-Flag_of_Chiyoda%2C_Tokyo.svg.png 1.5x, //upload.wikimedia.org/wikipedia/commons/thumb/e/ec/Flag_of_Chiyoda%2C_Tokyo.svg/100px-Flag_of_Chiyoda%2C_Tokyo.svg.png 2x\" width=\"50\"/></a></td>, <td><a href=\"/wiki/Chiyoda,_Tokyo\" title=\"Chiyoda, Tokyo\">Chiyoda</a></td>, <td>千代田区\n",
      "</td>, <td><span style=\"visibility:hidden;color:transparent;\">0</span><span style=\"visibility:hidden;color:transparent;\">0</span>59,441</td>, <td><span style=\"visibility:hidden;color:transparent;\">0</span>5,100</td>, <td><span style=\"visibility:hidden;color:transparent;\">0</span>11.66\n",
      "</td>, <td><a href=\"/wiki/Nagatach%C5%8D\" title=\"Nagatachō\">Nagatachō</a>, <a href=\"/wiki/Kasumigaseki\" title=\"Kasumigaseki\">Kasumigaseki</a>, <a href=\"/wiki/%C5%8Ctemachi\" title=\"Ōtemachi\">Ōtemachi</a>, <a href=\"/wiki/Marunouchi\" title=\"Marunouchi\">Marunouchi</a>, <a href=\"/wiki/Akihabara\" title=\"Akihabara\">Akihabara</a>, <a href=\"/wiki/Y%C5%ABrakuch%C5%8D\" title=\"Yūrakuchō\">Yūrakuchō</a>, <a class=\"mw-redirect\" href=\"/wiki/Iidabashi,_Tokyo\" title=\"Iidabashi, Tokyo\">Iidabashi</a>, <a href=\"/wiki/Kanda,_Tokyo\" title=\"Kanda, Tokyo\">Kanda</a>\n",
      "</td>]\n",
      "<td>01</td>\n",
      "[<td>02</td>, <td><a class=\"image\" href=\"/wiki/File:Flag_of_Chuo,_Tokyo.svg\"><img alt=\"Flag of Chuo, Tokyo.svg\" class=\"thumbborder\" data-file-height=\"600\" data-file-width=\"900\" decoding=\"async\" height=\"33\" src=\"//upload.wikimedia.org/wikipedia/commons/thumb/4/40/Flag_of_Chuo%2C_Tokyo.svg/50px-Flag_of_Chuo%2C_Tokyo.svg.png\" srcset=\"//upload.wikimedia.org/wikipedia/commons/thumb/4/40/Flag_of_Chuo%2C_Tokyo.svg/75px-Flag_of_Chuo%2C_Tokyo.svg.png 1.5x, //upload.wikimedia.org/wikipedia/commons/thumb/4/40/Flag_of_Chuo%2C_Tokyo.svg/100px-Flag_of_Chuo%2C_Tokyo.svg.png 2x\" width=\"50\"/></a></td>, <td><a href=\"/wiki/Ch%C5%AB%C5%8D,_Tokyo\" title=\"Chūō, Tokyo\">Chūō</a></td>, <td>中央区\n",
      "</td>, <td><span style=\"visibility:hidden;color:transparent;\">0</span>147,620</td>, <td>14,460</td>, <td><span style=\"visibility:hidden;color:transparent;\">0</span>10.21\n",
      "</td>, <td><a href=\"/wiki/Nihonbashi\" title=\"Nihonbashi\">Nihonbashi</a>, Kayabachō, <a href=\"/wiki/Ginza\" title=\"Ginza\">Ginza</a>, <a href=\"/wiki/Tsukiji\" title=\"Tsukiji\">Tsukiji</a>, <a href=\"/wiki/Hatch%C5%8Dbori_Station_(Tokyo)\" title=\"Hatchōbori Station (Tokyo)\">Hatchōbori</a>, Shinkawa, <a href=\"/wiki/Tsukishima\" title=\"Tsukishima\">Tsukishima</a>, Kachidoki, Tsukuda\n",
      "</td>]\n",
      "<td>02</td>\n",
      "[<td>03</td>, <td><a class=\"image\" href=\"/wiki/File:Flag_of_Minato,_Tokyo.svg\"><img alt=\"Flag of Minato, Tokyo.svg\" class=\"thumbborder\" data-file-height=\"600\" data-file-width=\"900\" decoding=\"async\" height=\"33\" src=\"//upload.wikimedia.org/wikipedia/commons/thumb/a/a4/Flag_of_Minato%2C_Tokyo.svg/50px-Flag_of_Minato%2C_Tokyo.svg.png\" srcset=\"//upload.wikimedia.org/wikipedia/commons/thumb/a/a4/Flag_of_Minato%2C_Tokyo.svg/75px-Flag_of_Minato%2C_Tokyo.svg.png 1.5x, //upload.wikimedia.org/wikipedia/commons/thumb/a/a4/Flag_of_Minato%2C_Tokyo.svg/100px-Flag_of_Minato%2C_Tokyo.svg.png 2x\" width=\"50\"/></a></td>, <td><a href=\"/wiki/Minato,_Tokyo\" title=\"Minato, Tokyo\">Minato</a></td>, <td>港区\n",
      "</td>, <td><span style=\"visibility:hidden;color:transparent;\">0</span>248,071</td>, <td>12,180</td>, <td><span style=\"visibility:hidden;color:transparent;\">0</span>20.37\n",
      "</td>, <td><a href=\"/wiki/Odaiba\" title=\"Odaiba\">Odaiba</a>, <a href=\"/wiki/Shinbashi\" title=\"Shinbashi\">Shinbashi</a>, <a href=\"/wiki/Hamamatsuch%C5%8D\" title=\"Hamamatsuchō\">Hamamatsuchō</a>, <a href=\"/wiki/Mita,_Minato,_Tokyo\" title=\"Mita, Minato, Tokyo\">Mita</a>, <a href=\"/wiki/Roppongi\" title=\"Roppongi\">Roppongi</a>, <a href=\"/wiki/Toranomon\" title=\"Toranomon\">Toranomon</a>, <a href=\"/wiki/Aoyama,_Minato,_Tokyo\" title=\"Aoyama, Minato, Tokyo\">Aoyama</a>, <a href=\"/wiki/Azabu\" title=\"Azabu\">Azabu</a>\n",
      "</td>]\n",
      "<td>03</td>\n",
      "[<td>04</td>, <td><a class=\"image\" href=\"/wiki/File:Flag_of_Shinjuku,_Tokyo.svg\"><img alt=\"Flag of Shinjuku, Tokyo.svg\" class=\"thumbborder\" data-file-height=\"600\" data-file-width=\"900\" decoding=\"async\" height=\"33\" src=\"//upload.wikimedia.org/wikipedia/commons/thumb/7/76/Flag_of_Shinjuku%2C_Tokyo.svg/50px-Flag_of_Shinjuku%2C_Tokyo.svg.png\" srcset=\"//upload.wikimedia.org/wikipedia/commons/thumb/7/76/Flag_of_Shinjuku%2C_Tokyo.svg/75px-Flag_of_Shinjuku%2C_Tokyo.svg.png 1.5x, //upload.wikimedia.org/wikipedia/commons/thumb/7/76/Flag_of_Shinjuku%2C_Tokyo.svg/100px-Flag_of_Shinjuku%2C_Tokyo.svg.png 2x\" width=\"50\"/></a></td>, <td><a href=\"/wiki/Shinjuku\" title=\"Shinjuku\">Shinjuku</a></td>, <td>新宿区\n",
      "</td>, <td><span style=\"visibility:hidden;color:transparent;\">0</span>339,211</td>, <td>18,620</td>, <td><span style=\"visibility:hidden;color:transparent;\">0</span>18.22\n",
      "</td>, <td><a href=\"/wiki/Shinjuku_Station\" title=\"Shinjuku Station\">Shinjuku</a>, <a href=\"/wiki/Takadanobaba\" title=\"Takadanobaba\">Takadanobaba</a>, <a href=\"/wiki/%C5%8Ckubo,_Tokyo\" title=\"Ōkubo, Tokyo\">Ōkubo</a>, <a href=\"/wiki/Kagurazaka\" title=\"Kagurazaka\">Kagurazaka</a>, <a href=\"/wiki/Ichigaya\" title=\"Ichigaya\">Ichigaya</a>, <a href=\"/wiki/Yotsuya\" title=\"Yotsuya\">Yotsuya</a>\n",
      "</td>]\n",
      "<td>04</td>\n",
      "[<td>05</td>, <td><a class=\"image\" href=\"/wiki/File:Flag_of_Bunkyo,_Tokyo.svg\"><img alt=\"Flag of Bunkyo, Tokyo.svg\" class=\"thumbborder\" data-file-height=\"600\" data-file-width=\"900\" decoding=\"async\" height=\"33\" src=\"//upload.wikimedia.org/wikipedia/commons/thumb/a/af/Flag_of_Bunkyo%2C_Tokyo.svg/50px-Flag_of_Bunkyo%2C_Tokyo.svg.png\" srcset=\"//upload.wikimedia.org/wikipedia/commons/thumb/a/af/Flag_of_Bunkyo%2C_Tokyo.svg/75px-Flag_of_Bunkyo%2C_Tokyo.svg.png 1.5x, //upload.wikimedia.org/wikipedia/commons/thumb/a/af/Flag_of_Bunkyo%2C_Tokyo.svg/100px-Flag_of_Bunkyo%2C_Tokyo.svg.png 2x\" width=\"50\"/></a></td>, <td><a href=\"/wiki/Bunky%C5%8D\" title=\"Bunkyō\">Bunkyō</a></td>, <td>文京区\n",
      "</td>, <td><span style=\"visibility:hidden;color:transparent;\">0</span>223,389</td>, <td>19,790</td>, <td><span style=\"visibility:hidden;color:transparent;\">0</span>11.29\n",
      "</td>, <td><a href=\"/wiki/Hong%C5%8D,_Tokyo\" title=\"Hongō, Tokyo\">Hongō</a>, <a href=\"/wiki/Yayoi,_Tokyo\" title=\"Yayoi, Tokyo\">Yayoi</a>, Hakusan\n",
      "</td>]\n",
      "<td>05</td>\n",
      "[<td>06</td>, <td><a class=\"image\" href=\"/wiki/File:Flag_of_Taito,_Tokyo.svg\"><img alt=\"Flag of Taito, Tokyo.svg\" class=\"thumbborder\" data-file-height=\"400\" data-file-width=\"600\" decoding=\"async\" height=\"33\" src=\"//upload.wikimedia.org/wikipedia/commons/thumb/8/81/Flag_of_Taito%2C_Tokyo.svg/50px-Flag_of_Taito%2C_Tokyo.svg.png\" srcset=\"//upload.wikimedia.org/wikipedia/commons/thumb/8/81/Flag_of_Taito%2C_Tokyo.svg/75px-Flag_of_Taito%2C_Tokyo.svg.png 1.5x, //upload.wikimedia.org/wikipedia/commons/thumb/8/81/Flag_of_Taito%2C_Tokyo.svg/100px-Flag_of_Taito%2C_Tokyo.svg.png 2x\" width=\"50\"/></a></td>, <td><a href=\"/wiki/Tait%C5%8D\" title=\"Taitō\">Taitō</a></td>, <td>台東区\n",
      "</td>, <td><span style=\"visibility:hidden;color:transparent;\">0</span>200,486</td>, <td>19,830</td>, <td><span style=\"visibility:hidden;color:transparent;\">0</span>10.11\n",
      "</td>, <td><a href=\"/wiki/Ueno\" title=\"Ueno\">Ueno</a>, <a href=\"/wiki/Asakusa\" title=\"Asakusa\">Asakusa</a>\n",
      "</td>]\n",
      "<td>06</td>\n",
      "[<td>07</td>, <td><a class=\"image\" href=\"/wiki/File:Flag_of_Sumida,_Tokyo.svg\"><img alt=\"Flag of Sumida, Tokyo.svg\" class=\"thumbborder\" data-file-height=\"600\" data-file-width=\"900\" decoding=\"async\" height=\"33\" src=\"//upload.wikimedia.org/wikipedia/commons/thumb/4/4e/Flag_of_Sumida%2C_Tokyo.svg/50px-Flag_of_Sumida%2C_Tokyo.svg.png\" srcset=\"//upload.wikimedia.org/wikipedia/commons/thumb/4/4e/Flag_of_Sumida%2C_Tokyo.svg/75px-Flag_of_Sumida%2C_Tokyo.svg.png 1.5x, //upload.wikimedia.org/wikipedia/commons/thumb/4/4e/Flag_of_Sumida%2C_Tokyo.svg/100px-Flag_of_Sumida%2C_Tokyo.svg.png 2x\" width=\"50\"/></a></td>, <td><a href=\"/wiki/Sumida,_Tokyo\" title=\"Sumida, Tokyo\">Sumida</a></td>, <td>墨田区\n",
      "</td>, <td><span style=\"visibility:hidden;color:transparent;\">0</span>260,358</td>, <td>18,910</td>, <td><span style=\"visibility:hidden;color:transparent;\">0</span>13.77\n",
      "</td>, <td><a href=\"/wiki/Kinshich%C5%8D_Station\" title=\"Kinshichō Station\">Kinshichō</a>, <a href=\"/wiki/Morishita_Station_(Tokyo)\" title=\"Morishita Station (Tokyo)\">Morishita</a>, <a href=\"/wiki/Ry%C5%8Dgoku\" title=\"Ryōgoku\">Ryōgoku</a>\n",
      "</td>]\n",
      "<td>07</td>\n",
      "[<td>08</td>, <td><a class=\"image\" href=\"/wiki/File:Flag_of_Koto,_Tokyo.svg\"><img alt=\"Flag of Koto, Tokyo.svg\" class=\"thumbborder\" data-file-height=\"400\" data-file-width=\"600\" decoding=\"async\" height=\"33\" src=\"//upload.wikimedia.org/wikipedia/commons/thumb/6/61/Flag_of_Koto%2C_Tokyo.svg/50px-Flag_of_Koto%2C_Tokyo.svg.png\" srcset=\"//upload.wikimedia.org/wikipedia/commons/thumb/6/61/Flag_of_Koto%2C_Tokyo.svg/75px-Flag_of_Koto%2C_Tokyo.svg.png 1.5x, //upload.wikimedia.org/wikipedia/commons/thumb/6/61/Flag_of_Koto%2C_Tokyo.svg/100px-Flag_of_Koto%2C_Tokyo.svg.png 2x\" width=\"50\"/></a></td>, <td><a class=\"mw-redirect\" href=\"/wiki/Koto,_Tokyo\" title=\"Koto, Tokyo\">Kōtō</a></td>, <td>江東区\n",
      "</td>, <td><span style=\"visibility:hidden;color:transparent;\">0</span>502,579</td>, <td>12,510</td>, <td><span style=\"visibility:hidden;color:transparent;\">0</span>40.16\n",
      "</td>, <td><a href=\"/wiki/Kiba_Station\" title=\"Kiba Station\">Kiba</a>, <a href=\"/wiki/Ariake,_Tokyo\" title=\"Ariake, Tokyo\">Ariake</a>, Kameido, Tōyōchō, Monzennakachō, <a class=\"mw-redirect\" href=\"/wiki/Fukagawa_(Tokyo)\" title=\"Fukagawa (Tokyo)\">Fukagawa</a>, Kiyosumi, Shirakawa, Etchūjima, Sunamachi, Aomi\n",
      "</td>]\n",
      "<td>08</td>\n",
      "[<td>09</td>, <td><a class=\"image\" href=\"/wiki/File:Flag_of_Shinagawa,_Tokyo.svg\"><img alt=\"Flag of Shinagawa, Tokyo.svg\" class=\"thumbborder\" data-file-height=\"600\" data-file-width=\"900\" decoding=\"async\" height=\"33\" src=\"//upload.wikimedia.org/wikipedia/commons/thumb/a/ab/Flag_of_Shinagawa%2C_Tokyo.svg/50px-Flag_of_Shinagawa%2C_Tokyo.svg.png\" srcset=\"//upload.wikimedia.org/wikipedia/commons/thumb/a/ab/Flag_of_Shinagawa%2C_Tokyo.svg/75px-Flag_of_Shinagawa%2C_Tokyo.svg.png 1.5x, //upload.wikimedia.org/wikipedia/commons/thumb/a/ab/Flag_of_Shinagawa%2C_Tokyo.svg/100px-Flag_of_Shinagawa%2C_Tokyo.svg.png 2x\" width=\"50\"/></a></td>, <td><a href=\"/wiki/Shinagawa\" title=\"Shinagawa\">Shinagawa</a></td>, <td>品川区\n",
      "</td>, <td><span style=\"visibility:hidden;color:transparent;\">0</span>392,492</td>, <td>17,180</td>, <td><span style=\"visibility:hidden;color:transparent;\">0</span>22.84\n",
      "</td>, <td><a href=\"/wiki/Shinagawa\" title=\"Shinagawa\">Shinagawa</a>, <a href=\"/wiki/Gotanda\" title=\"Gotanda\">Gotanda</a>, <a href=\"/wiki/%C5%8Csaki,_Tokyo\" title=\"Ōsaki, Tokyo\">Ōsaki</a>, Hatanodai, Ōimachi, <a href=\"/wiki/Tenn%C5%8Dzu_Isle\" title=\"Tennōzu Isle\">Tennōzu</a>\n",
      "</td>]\n",
      "<td>09</td>\n",
      "[<td>10</td>, <td><a class=\"image\" href=\"/wiki/File:Flag_of_Meguro,_Tokyo.svg\"><img alt=\"Flag of Meguro, Tokyo.svg\" class=\"thumbborder\" data-file-height=\"600\" data-file-width=\"900\" decoding=\"async\" height=\"33\" src=\"//upload.wikimedia.org/wikipedia/commons/thumb/0/07/Flag_of_Meguro%2C_Tokyo.svg/50px-Flag_of_Meguro%2C_Tokyo.svg.png\" srcset=\"//upload.wikimedia.org/wikipedia/commons/thumb/0/07/Flag_of_Meguro%2C_Tokyo.svg/75px-Flag_of_Meguro%2C_Tokyo.svg.png 1.5x, //upload.wikimedia.org/wikipedia/commons/thumb/0/07/Flag_of_Meguro%2C_Tokyo.svg/100px-Flag_of_Meguro%2C_Tokyo.svg.png 2x\" width=\"50\"/></a></td>, <td><a href=\"/wiki/Meguro\" title=\"Meguro\">Meguro</a></td>, <td>目黒区\n",
      "</td>, <td><span style=\"visibility:hidden;color:transparent;\">0</span>280,283</td>, <td>19,110</td>, <td><span style=\"visibility:hidden;color:transparent;\">0</span>14.67\n",
      "</td>, <td><a href=\"/wiki/Meguro\" title=\"Meguro\">Meguro</a>, <a class=\"mw-redirect\" href=\"/wiki/Nakameguro,_Meguro,_Tokyo\" title=\"Nakameguro, Meguro, Tokyo\">Nakameguro</a>, <a class=\"mw-redirect\" href=\"/wiki/Jiyugaoka\" title=\"Jiyugaoka\">Jiyugaoka</a>, <a href=\"/wiki/Komaba\" title=\"Komaba\">Komaba</a>, <a href=\"/wiki/Aobadai\" title=\"Aobadai\">Aobadai</a>\n",
      "</td>]\n",
      "<td>10</td>\n",
      "[<td>11</td>, <td><a class=\"image\" href=\"/wiki/File:Flag_of_Ota,_Tokyo.svg\"><img alt=\"Flag of Ota, Tokyo.svg\" class=\"thumbborder\" data-file-height=\"600\" data-file-width=\"900\" decoding=\"async\" height=\"33\" src=\"//upload.wikimedia.org/wikipedia/commons/thumb/6/68/Flag_of_Ota%2C_Tokyo.svg/50px-Flag_of_Ota%2C_Tokyo.svg.png\" srcset=\"//upload.wikimedia.org/wikipedia/commons/thumb/6/68/Flag_of_Ota%2C_Tokyo.svg/75px-Flag_of_Ota%2C_Tokyo.svg.png 1.5x, //upload.wikimedia.org/wikipedia/commons/thumb/6/68/Flag_of_Ota%2C_Tokyo.svg/100px-Flag_of_Ota%2C_Tokyo.svg.png 2x\" width=\"50\"/></a></td>, <td><span style=\"display:none\">Ota</span><a href=\"/wiki/%C5%8Cta,_Tokyo\" title=\"Ōta, Tokyo\">Ōta</a></td>, <td>大田区\n",
      "</td>, <td><span style=\"visibility:hidden;color:transparent;\">0</span>722,608</td>, <td>11,910</td>, <td><span style=\"visibility:hidden;color:transparent;\">0</span>60.66\n",
      "</td>, <td><a class=\"mw-redirect\" href=\"/wiki/%C5%8Cmori\" title=\"Ōmori\">Ōmori</a>, <a class=\"mw-redirect\" href=\"/wiki/Kamata,_%C5%8Cta,_Tokyo\" title=\"Kamata, Ōta, Tokyo\">Kamata</a>, <a href=\"/wiki/Haneda,_%C5%8Cta,_Tokyo\" title=\"Haneda, Ōta, Tokyo\">Haneda</a>, <a href=\"/wiki/Den-en-ch%C5%8Dfu\" title=\"Den-en-chōfu\">Den-en-chōfu</a>\n",
      "</td>]\n",
      "<td>11</td>\n",
      "[<td>12</td>, <td><a class=\"image\" href=\"/wiki/File:Flag_of_Setagaya,_Tokyo.svg\"><img alt=\"Flag of Setagaya, Tokyo.svg\" class=\"thumbborder\" data-file-height=\"600\" data-file-width=\"900\" decoding=\"async\" height=\"33\" src=\"//upload.wikimedia.org/wikipedia/commons/thumb/c/c9/Flag_of_Setagaya%2C_Tokyo.svg/50px-Flag_of_Setagaya%2C_Tokyo.svg.png\" srcset=\"//upload.wikimedia.org/wikipedia/commons/thumb/c/c9/Flag_of_Setagaya%2C_Tokyo.svg/75px-Flag_of_Setagaya%2C_Tokyo.svg.png 1.5x, //upload.wikimedia.org/wikipedia/commons/thumb/c/c9/Flag_of_Setagaya%2C_Tokyo.svg/100px-Flag_of_Setagaya%2C_Tokyo.svg.png 2x\" width=\"50\"/></a></td>, <td><a href=\"/wiki/Setagaya\" title=\"Setagaya\">Setagaya</a></td>, <td>世田谷区\n",
      "</td>, <td><span style=\"visibility:hidden;color:transparent;\">0</span>910,868</td>, <td>15,690</td>, <td><span style=\"visibility:hidden;color:transparent;\">0</span>58.05\n",
      "</td>, <td><a href=\"/wiki/Setagaya\" title=\"Setagaya\">Setagaya</a>, <a href=\"/wiki/Shimokitazawa\" title=\"Shimokitazawa\">Shimokitazawa</a>, Kinuta, Karasuyama, Tamagawa\n",
      "</td>]\n",
      "<td>12</td>\n",
      "[<td>13</td>, <td><a class=\"image\" href=\"/wiki/File:Flag_of_Shibuya,_Tokyo.svg\"><img alt=\"Flag of Shibuya, Tokyo.svg\" class=\"thumbborder\" data-file-height=\"600\" data-file-width=\"900\" decoding=\"async\" height=\"33\" src=\"//upload.wikimedia.org/wikipedia/commons/thumb/3/31/Flag_of_Shibuya%2C_Tokyo.svg/50px-Flag_of_Shibuya%2C_Tokyo.svg.png\" srcset=\"//upload.wikimedia.org/wikipedia/commons/thumb/3/31/Flag_of_Shibuya%2C_Tokyo.svg/75px-Flag_of_Shibuya%2C_Tokyo.svg.png 1.5x, //upload.wikimedia.org/wikipedia/commons/thumb/3/31/Flag_of_Shibuya%2C_Tokyo.svg/100px-Flag_of_Shibuya%2C_Tokyo.svg.png 2x\" width=\"50\"/></a></td>, <td><a href=\"/wiki/Shibuya\" title=\"Shibuya\">Shibuya</a></td>, <td>渋谷区\n",
      "</td>, <td><span style=\"visibility:hidden;color:transparent;\">0</span>227,850</td>, <td>15,080</td>, <td><span style=\"visibility:hidden;color:transparent;\">0</span>15.11\n",
      "</td>, <td><a href=\"/wiki/Shibuya\" title=\"Shibuya\">Shibuya</a>, <a class=\"mw-redirect\" href=\"/wiki/Ebisu,_Tokyo\" title=\"Ebisu, Tokyo\">Ebisu</a>, <a href=\"/wiki/Harajuku\" title=\"Harajuku\">Harajuku</a>, <a href=\"/wiki/Daikanyamach%C5%8D,_Shibuya\" title=\"Daikanyamachō, Shibuya\">Daikanyama</a>, <a href=\"/wiki/Hiroo,_Shibuya\" title=\"Hiroo, Shibuya\">Hiroo</a>, <a href=\"/wiki/Sendagaya\" title=\"Sendagaya\">Sendagaya</a>, <a href=\"/wiki/Yoyogi\" title=\"Yoyogi\">Yoyogi</a>\n",
      "</td>]\n",
      "<td>13</td>\n",
      "[<td>14</td>, <td><a class=\"image\" href=\"/wiki/File:Flag_of_Nakano,_Tokyo.svg\"><img alt=\"Flag of Nakano, Tokyo.svg\" class=\"thumbborder\" data-file-height=\"600\" data-file-width=\"900\" decoding=\"async\" height=\"33\" src=\"//upload.wikimedia.org/wikipedia/commons/thumb/a/ab/Flag_of_Nakano%2C_Tokyo.svg/50px-Flag_of_Nakano%2C_Tokyo.svg.png\" srcset=\"//upload.wikimedia.org/wikipedia/commons/thumb/a/ab/Flag_of_Nakano%2C_Tokyo.svg/75px-Flag_of_Nakano%2C_Tokyo.svg.png 1.5x, //upload.wikimedia.org/wikipedia/commons/thumb/a/ab/Flag_of_Nakano%2C_Tokyo.svg/100px-Flag_of_Nakano%2C_Tokyo.svg.png 2x\" width=\"50\"/></a></td>, <td><a href=\"/wiki/Nakano,_Tokyo\" title=\"Nakano, Tokyo\">Nakano</a></td>, <td>中野区\n",
      "</td>, <td><span style=\"visibility:hidden;color:transparent;\">0</span>332,902</td>, <td>21,350</td>, <td><span style=\"visibility:hidden;color:transparent;\">0</span>15.59\n",
      "</td>, <td><a href=\"/wiki/Nakano_Station_(Tokyo)\" title=\"Nakano Station (Tokyo)\">Nakano</a>\n",
      "</td>]\n",
      "<td>14</td>\n",
      "[<td>15</td>, <td><a class=\"image\" href=\"/wiki/File:Flag_of_Suginami,_Tokyo.svg\"><img alt=\"Flag of Suginami, Tokyo.svg\" class=\"thumbborder\" data-file-height=\"600\" data-file-width=\"900\" decoding=\"async\" height=\"33\" src=\"//upload.wikimedia.org/wikipedia/commons/thumb/b/b2/Flag_of_Suginami%2C_Tokyo.svg/50px-Flag_of_Suginami%2C_Tokyo.svg.png\" srcset=\"//upload.wikimedia.org/wikipedia/commons/thumb/b/b2/Flag_of_Suginami%2C_Tokyo.svg/75px-Flag_of_Suginami%2C_Tokyo.svg.png 1.5x, //upload.wikimedia.org/wikipedia/commons/thumb/b/b2/Flag_of_Suginami%2C_Tokyo.svg/100px-Flag_of_Suginami%2C_Tokyo.svg.png 2x\" width=\"50\"/></a></td>, <td><a href=\"/wiki/Suginami\" title=\"Suginami\">Suginami</a></td>, <td>杉並区\n",
      "</td>, <td><span style=\"visibility:hidden;color:transparent;\">0</span>570,483</td>, <td>16,750</td>, <td><span style=\"visibility:hidden;color:transparent;\">0</span>34.06\n",
      "</td>, <td><a href=\"/wiki/K%C5%8Denji\" title=\"Kōenji\">Kōenji</a>, <a href=\"/wiki/Asagaya\" title=\"Asagaya\">Asagaya</a>, <a href=\"/wiki/Ogikubo,_Tokyo\" title=\"Ogikubo, Tokyo\">Ogikubo</a>\n",
      "</td>]\n",
      "<td>15</td>\n",
      "[<td>16</td>, <td><a class=\"image\" href=\"/wiki/File:Flag_of_Toshima,_Tokyo.svg\"><img alt=\"Flag of Toshima, Tokyo.svg\" class=\"thumbborder\" data-file-height=\"600\" data-file-width=\"900\" decoding=\"async\" height=\"33\" src=\"//upload.wikimedia.org/wikipedia/commons/thumb/5/5b/Flag_of_Toshima%2C_Tokyo.svg/50px-Flag_of_Toshima%2C_Tokyo.svg.png\" srcset=\"//upload.wikimedia.org/wikipedia/commons/thumb/5/5b/Flag_of_Toshima%2C_Tokyo.svg/75px-Flag_of_Toshima%2C_Tokyo.svg.png 1.5x, //upload.wikimedia.org/wikipedia/commons/thumb/5/5b/Flag_of_Toshima%2C_Tokyo.svg/100px-Flag_of_Toshima%2C_Tokyo.svg.png 2x\" width=\"50\"/></a></td>, <td><a href=\"/wiki/Toshima\" title=\"Toshima\">Toshima</a></td>, <td>豊島区\n",
      "</td>, <td><span style=\"visibility:hidden;color:transparent;\">0</span>294,673</td>, <td>22,650</td>, <td><span style=\"visibility:hidden;color:transparent;\">0</span>13.01\n",
      "</td>, <td><a href=\"/wiki/Ikebukuro\" title=\"Ikebukuro\">Ikebukuro</a>, <a href=\"/wiki/Komagome_Station\" title=\"Komagome Station\">Komagome</a>, Senkawa, <a href=\"/wiki/Sugamo\" title=\"Sugamo\">Sugamo</a>\n",
      "</td>]\n",
      "<td>16</td>\n",
      "[<td>17</td>, <td><a class=\"image\" href=\"/wiki/File:Flag_of_Kita,_Tokyo.svg\"><img alt=\"Flag of Kita, Tokyo.svg\" class=\"thumbborder\" data-file-height=\"400\" data-file-width=\"600\" decoding=\"async\" height=\"33\" src=\"//upload.wikimedia.org/wikipedia/commons/thumb/0/01/Flag_of_Kita%2C_Tokyo.svg/50px-Flag_of_Kita%2C_Tokyo.svg.png\" srcset=\"//upload.wikimedia.org/wikipedia/commons/thumb/0/01/Flag_of_Kita%2C_Tokyo.svg/75px-Flag_of_Kita%2C_Tokyo.svg.png 1.5x, //upload.wikimedia.org/wikipedia/commons/thumb/0/01/Flag_of_Kita%2C_Tokyo.svg/100px-Flag_of_Kita%2C_Tokyo.svg.png 2x\" width=\"50\"/></a></td>, <td><a href=\"/wiki/Kita,_Tokyo\" title=\"Kita, Tokyo\">Kita</a></td>, <td>北区\n",
      "</td>, <td><span style=\"visibility:hidden;color:transparent;\">0</span>345,063</td>, <td>16,740</td>, <td><span style=\"visibility:hidden;color:transparent;\">0</span>20.61\n",
      "</td>, <td><a href=\"/wiki/Akabane_Station\" title=\"Akabane Station\">Akabane</a>, Ōji, <a href=\"/wiki/Tabata_Station_(Tokyo)\" title=\"Tabata Station (Tokyo)\">Tabata</a>\n",
      "</td>]\n",
      "<td>17</td>\n",
      "[<td>18</td>, <td><a class=\"image\" href=\"/wiki/File:Flag_of_Arakawa,_Tokyo.svg\"><img alt=\"Flag of Arakawa, Tokyo.svg\" class=\"thumbborder\" data-file-height=\"400\" data-file-width=\"600\" decoding=\"async\" height=\"33\" src=\"//upload.wikimedia.org/wikipedia/commons/thumb/8/82/Flag_of_Arakawa%2C_Tokyo.svg/50px-Flag_of_Arakawa%2C_Tokyo.svg.png\" srcset=\"//upload.wikimedia.org/wikipedia/commons/thumb/8/82/Flag_of_Arakawa%2C_Tokyo.svg/75px-Flag_of_Arakawa%2C_Tokyo.svg.png 1.5x, //upload.wikimedia.org/wikipedia/commons/thumb/8/82/Flag_of_Arakawa%2C_Tokyo.svg/100px-Flag_of_Arakawa%2C_Tokyo.svg.png 2x\" width=\"50\"/></a></td>, <td><a href=\"/wiki/Arakawa,_Tokyo\" title=\"Arakawa, Tokyo\">Arakawa</a></td>, <td>荒川区\n",
      "</td>, <td><span style=\"visibility:hidden;color:transparent;\">0</span>213,648</td>, <td>21,030</td>, <td><span style=\"visibility:hidden;color:transparent;\">0</span>10.16\n",
      "</td>, <td>Arakawa, Machiya, <a href=\"/wiki/Nippori_Station\" title=\"Nippori Station\">Nippori</a>, Minamisenju\n",
      "</td>]\n",
      "<td>18</td>\n",
      "[<td>19</td>, <td><a class=\"image\" href=\"/wiki/File:Flag_of_Itabashi,_Tokyo.svg\"><img alt=\"Flag of Itabashi, Tokyo.svg\" class=\"thumbborder\" data-file-height=\"600\" data-file-width=\"900\" decoding=\"async\" height=\"33\" src=\"//upload.wikimedia.org/wikipedia/commons/thumb/5/57/Flag_of_Itabashi%2C_Tokyo.svg/50px-Flag_of_Itabashi%2C_Tokyo.svg.png\" srcset=\"//upload.wikimedia.org/wikipedia/commons/thumb/5/57/Flag_of_Itabashi%2C_Tokyo.svg/75px-Flag_of_Itabashi%2C_Tokyo.svg.png 1.5x, //upload.wikimedia.org/wikipedia/commons/thumb/5/57/Flag_of_Itabashi%2C_Tokyo.svg/100px-Flag_of_Itabashi%2C_Tokyo.svg.png 2x\" width=\"50\"/></a></td>, <td><a href=\"/wiki/Itabashi\" title=\"Itabashi\">Itabashi</a></td>, <td>板橋区\n",
      "</td>, <td><span style=\"visibility:hidden;color:transparent;\">0</span>569,225</td>, <td>17,670</td>, <td><span style=\"visibility:hidden;color:transparent;\">0</span>32.22\n",
      "</td>, <td><a href=\"/wiki/Itabashi\" title=\"Itabashi\">Itabashi</a>, Takashimadaira\n",
      "</td>]\n",
      "<td>19</td>\n",
      "[<td>20</td>, <td><a class=\"image\" href=\"/wiki/File:Flag_of_Nerima,_Tokyo.svg\"><img alt=\"Flag of Nerima, Tokyo.svg\" class=\"thumbborder\" data-file-height=\"600\" data-file-width=\"900\" decoding=\"async\" height=\"33\" src=\"//upload.wikimedia.org/wikipedia/commons/thumb/9/94/Flag_of_Nerima%2C_Tokyo.svg/50px-Flag_of_Nerima%2C_Tokyo.svg.png\" srcset=\"//upload.wikimedia.org/wikipedia/commons/thumb/9/94/Flag_of_Nerima%2C_Tokyo.svg/75px-Flag_of_Nerima%2C_Tokyo.svg.png 1.5x, //upload.wikimedia.org/wikipedia/commons/thumb/9/94/Flag_of_Nerima%2C_Tokyo.svg/100px-Flag_of_Nerima%2C_Tokyo.svg.png 2x\" width=\"50\"/></a></td>, <td><a href=\"/wiki/Nerima\" title=\"Nerima\">Nerima</a></td>, <td>練馬区\n",
      "</td>, <td><span style=\"visibility:hidden;color:transparent;\">0</span>726,748</td>, <td>15,120</td>, <td><span style=\"visibility:hidden;color:transparent;\">0</span>48.08\n",
      "</td>, <td><a href=\"/wiki/Nerima\" title=\"Nerima\">Nerima</a>, <a href=\"/wiki/%C5%8Cizumimachi,_Nerima,_Tokyo\" title=\"Ōizumimachi, Nerima, Tokyo\">Ōizumi</a>, <a class=\"mw-redirect\" href=\"/wiki/Hikarigaoka\" title=\"Hikarigaoka\">Hikarigaoka</a>\n",
      "</td>]\n",
      "<td>20</td>\n",
      "[<td>21</td>, <td><a class=\"image\" href=\"/wiki/File:Flag_of_Adachi,_Tokyo.svg\"><img alt=\"Flag of Adachi, Tokyo.svg\" class=\"thumbborder\" data-file-height=\"600\" data-file-width=\"900\" decoding=\"async\" height=\"33\" src=\"//upload.wikimedia.org/wikipedia/commons/thumb/0/08/Flag_of_Adachi%2C_Tokyo.svg/50px-Flag_of_Adachi%2C_Tokyo.svg.png\" srcset=\"//upload.wikimedia.org/wikipedia/commons/thumb/0/08/Flag_of_Adachi%2C_Tokyo.svg/75px-Flag_of_Adachi%2C_Tokyo.svg.png 1.5x, //upload.wikimedia.org/wikipedia/commons/thumb/0/08/Flag_of_Adachi%2C_Tokyo.svg/100px-Flag_of_Adachi%2C_Tokyo.svg.png 2x\" width=\"50\"/></a></td>, <td><a href=\"/wiki/Adachi,_Tokyo\" title=\"Adachi, Tokyo\">Adachi</a></td>, <td style=\"width:4em;\">足立区\n",
      "</td>, <td><span style=\"visibility:hidden;color:transparent;\">0</span>674,067</td>, <td>12,660</td>, <td><span style=\"visibility:hidden;color:transparent;\">0</span>53.25\n",
      "</td>, <td>Ayase, <a href=\"/wiki/Kita-Senju_Station\" title=\"Kita-Senju Station\">Kitasenju</a>, Takenotsuka\n",
      "</td>]\n",
      "<td>21</td>\n",
      "[<td>22</td>, <td><a class=\"image\" href=\"/wiki/File:Flag_of_Katsushika-ku,_Tokyo.svg\"><img alt=\"Flag of Katsushika-ku, Tokyo.svg\" class=\"thumbborder\" data-file-height=\"216\" data-file-width=\"324\" decoding=\"async\" height=\"33\" src=\"//upload.wikimedia.org/wikipedia/commons/thumb/4/43/Flag_of_Katsushika-ku%2C_Tokyo.svg/50px-Flag_of_Katsushika-ku%2C_Tokyo.svg.png\" srcset=\"//upload.wikimedia.org/wikipedia/commons/thumb/4/43/Flag_of_Katsushika-ku%2C_Tokyo.svg/75px-Flag_of_Katsushika-ku%2C_Tokyo.svg.png 1.5x, //upload.wikimedia.org/wikipedia/commons/thumb/4/43/Flag_of_Katsushika-ku%2C_Tokyo.svg/100px-Flag_of_Katsushika-ku%2C_Tokyo.svg.png 2x\" width=\"50\"/></a></td>, <td><a href=\"/wiki/Katsushika\" title=\"Katsushika\">Katsushika</a></td>, <td>葛飾区\n",
      "</td>, <td><span style=\"visibility:hidden;color:transparent;\">0</span>447,140</td>, <td>12,850</td>, <td><span style=\"visibility:hidden;color:transparent;\">0</span>34.80\n",
      "</td>, <td><a class=\"mw-redirect\" href=\"/wiki/Tateishi\" title=\"Tateishi\">Tateishi</a>, Aoto, Kameari, Shibamata\n",
      "</td>]\n",
      "<td>22</td>\n",
      "[<td>23</td>, <td><a class=\"image\" href=\"/wiki/File:Flag_of_Edogawa,_Tokyo.svg\"><img alt=\"Flag of Edogawa, Tokyo.svg\" class=\"thumbborder\" data-file-height=\"400\" data-file-width=\"600\" decoding=\"async\" height=\"33\" src=\"//upload.wikimedia.org/wikipedia/commons/thumb/b/be/Flag_of_Edogawa%2C_Tokyo.svg/50px-Flag_of_Edogawa%2C_Tokyo.svg.png\" srcset=\"//upload.wikimedia.org/wikipedia/commons/thumb/b/be/Flag_of_Edogawa%2C_Tokyo.svg/75px-Flag_of_Edogawa%2C_Tokyo.svg.png 1.5x, //upload.wikimedia.org/wikipedia/commons/thumb/b/be/Flag_of_Edogawa%2C_Tokyo.svg/100px-Flag_of_Edogawa%2C_Tokyo.svg.png 2x\" width=\"50\"/></a></td>, <td><a href=\"/wiki/Edogawa,_Tokyo\" title=\"Edogawa, Tokyo\">Edogawa</a></td>, <td>江戸川区\n",
      "</td>, <td><span style=\"visibility:hidden;color:transparent;\">0</span>685,899</td>, <td>13,750</td>, <td><span style=\"visibility:hidden;color:transparent;\">0</span>49.90\n",
      "</td>, <td>Kasai, Koiwa\n",
      "</td>]\n",
      "<td>23</td>\n",
      "[<td colspan=\"4\"><i><b>Overall</b></i>\n",
      "</td>, <td><i>9,375,104</i></td>, <td><i>15,146</i></td>, <td><i>619</i></td>, <td>\n",
      "</td>]\n",
      "5100\n",
      "14460\n",
      "12180\n",
      "18620\n",
      "19790\n",
      "19830\n",
      "18910\n",
      "12510\n",
      "17180\n",
      "19110\n",
      "11910\n",
      "15690\n",
      "15080\n",
      "21350\n",
      "16750\n",
      "22650\n",
      "16740\n",
      "21030\n",
      "17670\n",
      "15120\n",
      "12660\n",
      "12850\n",
      "13750\n",
      "<td><a href=\"/wiki/Chiyoda,_Tokyo\" title=\"Chiyoda, Tokyo\">Chiyoda</a></td>\n",
      "<td><a href=\"/wiki/Ch%C5%AB%C5%8D,_Tokyo\" title=\"Chūō, Tokyo\">Chūō</a></td>\n",
      "<td><a href=\"/wiki/Minato,_Tokyo\" title=\"Minato, Tokyo\">Minato</a></td>\n",
      "<td><a href=\"/wiki/Shinjuku\" title=\"Shinjuku\">Shinjuku</a></td>\n",
      "<td><a href=\"/wiki/Bunky%C5%8D\" title=\"Bunkyō\">Bunkyō</a></td>\n",
      "<td><a href=\"/wiki/Tait%C5%8D\" title=\"Taitō\">Taitō</a></td>\n",
      "<td><a href=\"/wiki/Sumida,_Tokyo\" title=\"Sumida, Tokyo\">Sumida</a></td>\n",
      "<td><a class=\"mw-redirect\" href=\"/wiki/Koto,_Tokyo\" title=\"Koto, Tokyo\">Kōtō</a></td>\n",
      "<td><a href=\"/wiki/Shinagawa\" title=\"Shinagawa\">Shinagawa</a></td>\n",
      "<td><a href=\"/wiki/Meguro\" title=\"Meguro\">Meguro</a></td>\n",
      "<td><span style=\"display:none\">Ota</span><a href=\"/wiki/%C5%8Cta,_Tokyo\" title=\"Ōta, Tokyo\">Ōta</a></td>\n",
      "<td><a href=\"/wiki/Setagaya\" title=\"Setagaya\">Setagaya</a></td>\n",
      "<td><a href=\"/wiki/Shibuya\" title=\"Shibuya\">Shibuya</a></td>\n",
      "<td><a href=\"/wiki/Nakano,_Tokyo\" title=\"Nakano, Tokyo\">Nakano</a></td>\n",
      "<td><a href=\"/wiki/Suginami\" title=\"Suginami\">Suginami</a></td>\n",
      "<td><a href=\"/wiki/Toshima\" title=\"Toshima\">Toshima</a></td>\n",
      "<td><a href=\"/wiki/Kita,_Tokyo\" title=\"Kita, Tokyo\">Kita</a></td>\n",
      "<td><a href=\"/wiki/Arakawa,_Tokyo\" title=\"Arakawa, Tokyo\">Arakawa</a></td>\n",
      "<td><a href=\"/wiki/Itabashi\" title=\"Itabashi\">Itabashi</a></td>\n",
      "<td><a href=\"/wiki/Nerima\" title=\"Nerima\">Nerima</a></td>\n",
      "<td><a href=\"/wiki/Adachi,_Tokyo\" title=\"Adachi, Tokyo\">Adachi</a></td>\n",
      "<td><a href=\"/wiki/Katsushika\" title=\"Katsushika\">Katsushika</a></td>\n",
      "<td><a href=\"/wiki/Edogawa,_Tokyo\" title=\"Edogawa, Tokyo\">Edogawa</a></td>\n",
      "[[<a href=\"/wiki/Chiyoda,_Tokyo\" title=\"Chiyoda, Tokyo\">Chiyoda</a>], [<a href=\"/wiki/Ch%C5%AB%C5%8D,_Tokyo\" title=\"Chūō, Tokyo\">Chūō</a>], [<a href=\"/wiki/Minato,_Tokyo\" title=\"Minato, Tokyo\">Minato</a>], [<a href=\"/wiki/Shinjuku\" title=\"Shinjuku\">Shinjuku</a>], [<a href=\"/wiki/Bunky%C5%8D\" title=\"Bunkyō\">Bunkyō</a>], [<a href=\"/wiki/Tait%C5%8D\" title=\"Taitō\">Taitō</a>], [<a href=\"/wiki/Sumida,_Tokyo\" title=\"Sumida, Tokyo\">Sumida</a>], [<a class=\"mw-redirect\" href=\"/wiki/Koto,_Tokyo\" title=\"Koto, Tokyo\">Kōtō</a>], [<a href=\"/wiki/Shinagawa\" title=\"Shinagawa\">Shinagawa</a>], [<a href=\"/wiki/Meguro\" title=\"Meguro\">Meguro</a>], [<a href=\"/wiki/%C5%8Cta,_Tokyo\" title=\"Ōta, Tokyo\">Ōta</a>], [<a href=\"/wiki/Setagaya\" title=\"Setagaya\">Setagaya</a>], [<a href=\"/wiki/Shibuya\" title=\"Shibuya\">Shibuya</a>], [<a href=\"/wiki/Nakano,_Tokyo\" title=\"Nakano, Tokyo\">Nakano</a>], [<a href=\"/wiki/Suginami\" title=\"Suginami\">Suginami</a>], [<a href=\"/wiki/Toshima\" title=\"Toshima\">Toshima</a>], [<a href=\"/wiki/Kita,_Tokyo\" title=\"Kita, Tokyo\">Kita</a>], [<a href=\"/wiki/Arakawa,_Tokyo\" title=\"Arakawa, Tokyo\">Arakawa</a>], [<a href=\"/wiki/Itabashi\" title=\"Itabashi\">Itabashi</a>], [<a href=\"/wiki/Nerima\" title=\"Nerima\">Nerima</a>], [<a href=\"/wiki/Adachi,_Tokyo\" title=\"Adachi, Tokyo\">Adachi</a>], [<a href=\"/wiki/Katsushika\" title=\"Katsushika\">Katsushika</a>], [<a href=\"/wiki/Edogawa,_Tokyo\" title=\"Edogawa, Tokyo\">Edogawa</a>]]\n",
      "[<a href=\"/wiki/Chiyoda,_Tokyo\" title=\"Chiyoda, Tokyo\">Chiyoda</a>, <a href=\"/wiki/Ch%C5%AB%C5%8D,_Tokyo\" title=\"Chūō, Tokyo\">Chūō</a>, <a href=\"/wiki/Minato,_Tokyo\" title=\"Minato, Tokyo\">Minato</a>, <a href=\"/wiki/Shinjuku\" title=\"Shinjuku\">Shinjuku</a>, <a href=\"/wiki/Bunky%C5%8D\" title=\"Bunkyō\">Bunkyō</a>, <a href=\"/wiki/Tait%C5%8D\" title=\"Taitō\">Taitō</a>, <a href=\"/wiki/Sumida,_Tokyo\" title=\"Sumida, Tokyo\">Sumida</a>, <a class=\"mw-redirect\" href=\"/wiki/Koto,_Tokyo\" title=\"Koto, Tokyo\">Kōtō</a>, <a href=\"/wiki/Shinagawa\" title=\"Shinagawa\">Shinagawa</a>, <a href=\"/wiki/Meguro\" title=\"Meguro\">Meguro</a>, <a href=\"/wiki/%C5%8Cta,_Tokyo\" title=\"Ōta, Tokyo\">Ōta</a>, <a href=\"/wiki/Setagaya\" title=\"Setagaya\">Setagaya</a>, <a href=\"/wiki/Shibuya\" title=\"Shibuya\">Shibuya</a>, <a href=\"/wiki/Nakano,_Tokyo\" title=\"Nakano, Tokyo\">Nakano</a>, <a href=\"/wiki/Suginami\" title=\"Suginami\">Suginami</a>, <a href=\"/wiki/Toshima\" title=\"Toshima\">Toshima</a>, <a href=\"/wiki/Kita,_Tokyo\" title=\"Kita, Tokyo\">Kita</a>, <a href=\"/wiki/Arakawa,_Tokyo\" title=\"Arakawa, Tokyo\">Arakawa</a>, <a href=\"/wiki/Itabashi\" title=\"Itabashi\">Itabashi</a>, <a href=\"/wiki/Nerima\" title=\"Nerima\">Nerima</a>, <a href=\"/wiki/Adachi,_Tokyo\" title=\"Adachi, Tokyo\">Adachi</a>, <a href=\"/wiki/Katsushika\" title=\"Katsushika\">Katsushika</a>, <a href=\"/wiki/Edogawa,_Tokyo\" title=\"Edogawa, Tokyo\">Edogawa</a>]\n",
      "['Chiyoda, Tokyo', 'Chūō, Tokyo', 'Minato, Tokyo', 'Shinjuku', 'Bunkyō', 'Taitō', 'Sumida, Tokyo', 'Koto, Tokyo', 'Shinagawa', 'Meguro', 'Ōta, Tokyo', 'Setagaya', 'Shibuya', 'Nakano, Tokyo', 'Suginami', 'Toshima', 'Kita, Tokyo', 'Arakawa, Tokyo', 'Itabashi', 'Nerima', 'Adachi, Tokyo', 'Katsushika', 'Edogawa, Tokyo']\n",
      "<td><span style=\"visibility:hidden;color:transparent;\">0</span><span style=\"visibility:hidden;color:transparent;\">0</span>59,441</td>\n",
      "059,441\n",
      "<td><span style=\"visibility:hidden;color:transparent;\">0</span>147,620</td>\n",
      "147,620\n",
      "<td><span style=\"visibility:hidden;color:transparent;\">0</span>248,071</td>\n",
      "248,071\n",
      "<td><span style=\"visibility:hidden;color:transparent;\">0</span>339,211</td>\n",
      "339,211\n",
      "<td><span style=\"visibility:hidden;color:transparent;\">0</span>223,389</td>\n",
      "223,389\n",
      "<td><span style=\"visibility:hidden;color:transparent;\">0</span>200,486</td>\n",
      "200,486\n",
      "<td><span style=\"visibility:hidden;color:transparent;\">0</span>260,358</td>\n",
      "260,358\n",
      "<td><span style=\"visibility:hidden;color:transparent;\">0</span>502,579</td>\n",
      "502,579\n",
      "<td><span style=\"visibility:hidden;color:transparent;\">0</span>392,492</td>\n",
      "392,492\n",
      "<td><span style=\"visibility:hidden;color:transparent;\">0</span>280,283</td>\n",
      "280,283\n",
      "<td><span style=\"visibility:hidden;color:transparent;\">0</span>722,608</td>\n",
      "722,608\n",
      "<td><span style=\"visibility:hidden;color:transparent;\">0</span>910,868</td>\n",
      "910,868\n",
      "<td><span style=\"visibility:hidden;color:transparent;\">0</span>227,850</td>\n",
      "227,850\n",
      "<td><span style=\"visibility:hidden;color:transparent;\">0</span>332,902</td>\n",
      "332,902\n",
      "<td><span style=\"visibility:hidden;color:transparent;\">0</span>570,483</td>\n",
      "570,483\n",
      "<td><span style=\"visibility:hidden;color:transparent;\">0</span>294,673</td>\n",
      "294,673\n",
      "<td><span style=\"visibility:hidden;color:transparent;\">0</span>345,063</td>\n",
      "345,063\n",
      "<td><span style=\"visibility:hidden;color:transparent;\">0</span>213,648</td>\n",
      "213,648\n",
      "<td><span style=\"visibility:hidden;color:transparent;\">0</span>569,225</td>\n",
      "569,225\n",
      "<td><span style=\"visibility:hidden;color:transparent;\">0</span>726,748</td>\n",
      "726,748\n",
      "<td><span style=\"visibility:hidden;color:transparent;\">0</span>674,067</td>\n",
      "674,067\n",
      "<td><span style=\"visibility:hidden;color:transparent;\">0</span>447,140</td>\n",
      "447,140\n",
      "<td><span style=\"visibility:hidden;color:transparent;\">0</span>685,899</td>\n",
      "685,899\n",
      "['059,441', '147,620', '248,071', '339,211', '223,389', '200,486', '260,358', '502,579', '392,492', '280,283', '722,608', '910,868', '227,850', '332,902', '570,483', '294,673', '345,063', '213,648', '569,225', '726,748', '674,067', '447,140', '685,899']\n",
      "059441\n",
      "147620\n",
      "248071\n",
      "339211\n",
      "223389\n",
      "200486\n",
      "260358\n",
      "502579\n",
      "392492\n",
      "280283\n",
      "722608\n",
      "910868\n",
      "227850\n",
      "332902\n",
      "570483\n",
      "294673\n",
      "345063\n",
      "213648\n",
      "569225\n",
      "726748\n",
      "674067\n",
      "447140\n",
      "685899\n"
     ]
    },
    {
     "name": "stdout",
     "output_type": "stream",
     "text": [
      "Old latitude list:  [35.675618, 35.68406775, 35.619050200000004, 35.6937632, 35.1753761, 35.7117587, 35.6963122, 23.0131338, 35.599252, 35.62125, 35.5884735, 35.646096, 35.6645956, 35.718123, 35.7049419, 35.7304418, 35.7781394, 35.737529, 35.774143, 35.74836, 35.4460475, 33.4817913, -5.3498001]\n",
      "Old Longitude list:  [139.7434685, 139.77450291683806, 139.77936404588297, 139.7036319, 137.0134764, 139.7776445, 139.8150431, -80.8328748, 139.73891, 139.688014, 139.7279334, 139.65627, 139.6987107, 139.664468, 139.649909, 139.7107453, 139.7207999, 139.78131, 139.681209, 139.638735, 139.430823, 131.4781536, 21.424098]\n",
      "[35.675618, 35.68406775, 35.619050200000004, 35.6937632, 35.1753761, 35.7117587, 35.6963122, 35.6722, 35.599252, 35.62125, 35.5884735, 35.646096, 35.6645956, 35.718123, 35.7049419, 35.7304418, 35.7781394, 35.737529, 35.774143, 35.74836, 35.4460475, 33.4817913, 35.6634]\n",
      "[139.7434685, 139.77450291683806, 139.77936404588297, 139.7036319, 137.0134764, 139.7776445, 139.8150431, 139.8061, 139.73891, 139.688014, 139.7279334, 139.65627, 139.6987107, 139.664468, 139.649909, 139.7107453, 139.7207999, 139.78131, 139.681209, 139.638735, 139.430823, 131.4781536, 139.8731]\n"
     ]
    }
   ],
   "source": [
    "response_obj = requests.get('https://en.wikipedia.org/wiki/Special_wards_of_Tokyo').text\n",
    "soup = BeautifulSoup(response_obj,'lxml')\n",
    "Wards_Tokyo_Table = soup.find('table', {'class':'wikitable sortable'})\n",
    "### preparation of the table \n",
    "\n",
    "Name=[]\n",
    "Kanji = []\n",
    "Pop = []\n",
    "Density = []\n",
    "num = []\n",
    "flag = []\n",
    "Area = []\n",
    "Major_District = []\n",
    "\n",
    "for row in Wards_Tokyo_Table.findAll(\"tr\"):\n",
    "    #print (row)    \n",
    "    Ward = row.findAll('td')\n",
    "    #print (len(Ward))\n",
    "    print (Ward)\n",
    "    if len(Ward)==8: #Only extract table body not heading\n",
    "        print (Ward[0])\n",
    "        #print postcode[1]\n",
    "        #print postcode[2]\n",
    "        num.append(Ward[0].find(text=True))\n",
    "        flag.append(Ward[1].findAll('a')) # useless\n",
    "        Name.append(Ward[2])\n",
    "        Kanji.append(Ward[3].find(text=True))\n",
    "        Pop.append(Ward[4])\n",
    "        Area.append(Ward[5].find(text=True))\n",
    "        Major_District.append(Ward[7].find(text=True))\n",
    "            \n",
    "#print (Pop) \n",
    "\n",
    "\n",
    "#++++++++++++++++++++++++++++++++++++++++++++++\n",
    "#+ Area \n",
    "#++++++++++++++++++++++++++++++++++++++++++++++\n",
    "\n",
    "# print (Area[3]) # the first element of the area needs a replacement with the true value 5100\n",
    "Area = ['5100' if x=='0' else x for x in Area]\n",
    "New_Area = []\n",
    "\n",
    "# change the type of Area list \n",
    "for l in range(len(Area)):\n",
    "    x=Area[l].replace(\",\",\"\")\n",
    "    print (x)\n",
    "    New_Area.append(x)\n",
    "\n",
    "New_Area=[int(s) for s in New_Area]\n",
    "\n",
    "#print (New_Area) # the list elements are already in accordance with the table\n",
    "\n",
    "#+++++++++++++++++++++++++++++++++++++++++++++++++++++\n",
    "#+ Name of the Wards\n",
    "#+++++++++++++++++++++++++++++++++++++++++++++++++++++\n",
    "#print (Name) # want to select only the title part\n",
    "\n",
    "new_names = []\n",
    "for n in range(len(Name)):\n",
    "    print (Name[n])\n",
    "    names = Name[n].findAll('a')\n",
    "    new_names.append(names) \n",
    "\n",
    "print (new_names)\n",
    "\n",
    "flat_new_names_list = [item for sublist in new_names for item in sublist]\n",
    "print (flat_new_names_list)\n",
    "\n",
    "Wards_names= []\n",
    "#now \n",
    "for name_wards in flat_new_names_list:\n",
    "        Wards_names.append(name_wards.get('title'))\n",
    "\n",
    "print (Wards_names)\n",
    "\n",
    "# replace the elements in the list that contains 'Tokyo' with only the ward names\n",
    "replace_names={'Chiyoda, Tokyo':'Chiyoda', 'Chūō, Tokyo':'Chuo', 'Minato, Tokyo':'Minato', \n",
    "               'Sumida, Tokyo':'Sumida', 'Koto, Tokyo':'Koto', 'Ōta, Tokyo':'Ota', 'Nakano, Tokyo':'Nakano', \n",
    "               'Kita, Tokyo':'Kita', 'Arakawa, Tokyo':'Arakawa', 'Adachi, Tokyo':'Adachi', 'Edogawa, Tokyo':'Edogawa'}\n",
    "\n",
    "\n",
    "Wards_names1 = [replace_names.get(n1,n1) for n1 in Wards_names]\n",
    "\n",
    "#print (Wards_names1)\n",
    "\n",
    "#+++++++++++++++++++++++++++++++++++++++++++++++++++++\n",
    "#+ Population\n",
    "#+++++++++++++++++++++++++++++++++++++++++++++++++++++\n",
    "# print (len(Pop))\n",
    "# #print ((Pop[5].text))\n",
    "population = []\n",
    "for p in range(len(Pop)):\n",
    "    print ((Pop[p]))\n",
    "    pops = Pop[p].text[1:9]\n",
    "    print (Pop[p].text[1:9])\n",
    "    #populs = Pop[p].find('visibility:hidden;color:transparent;')\n",
    "    population.append(pops) \n",
    "print (population)\n",
    "\n",
    "\n",
    "New_population = []\n",
    "for po in range(len(population)):\n",
    "    xy=population[po].replace(\",\",\"\")\n",
    "    print (xy)\n",
    "    New_population.append(xy)\n",
    "\n",
    "New_population=[int(s1) for s1 in New_population]\n",
    "# print (New_population)\n",
    "\n",
    "\n",
    "\n",
    "#++++++++++++++++++++++++++++++++++++++++++++++++\n",
    "#+ Major Districts\n",
    "#++++++++++++++++++++++++++++++++++++++++++++++++\n",
    "\n",
    "\n",
    "replace_districts = {'Nagatachō':'Nagatacho', 'Hongō':'Hongo', 'Kinshichō':'Kinshicho', 'Ōmori': 'Omori', \n",
    "                     'Kōenji':'Koenji', 'Arakawa, Machiya, ':'Arakawa', 'Ayase, ':'Ayase', 'Kasai, Koiwa\\n':'Kasai'}\n",
    "\n",
    "\n",
    "Major_District_names1 = [replace_districts.get(n2,n2) for n2 in Major_District]\n",
    "\n",
    "\n",
    "df=pd.DataFrame(Wards_names1,columns=['Ward'])\n",
    "df['Area_SqKm'] = New_Area\n",
    "df['Population'] = New_population\n",
    "df['Major_District'] = Major_District_names1\n",
    "df.index = np.arange(1, len(df) + 1) # reset the index so that it starts from 1. \n",
    "\n",
    "# use of geopy geocoders\n",
    "from geopy.geocoders import Nominatim\n",
    "geolocator = Nominatim(user_agent=\"Tokyo_explorer\")\n",
    "df['Major_Dist_Coord']= df['Major_District'].apply(geolocator.geocode).apply(lambda x: (x.latitude, x.longitude))\n",
    "df[['Latitude', 'Longitude']] = df['Major_Dist_Coord'].apply(pd.Series)\n",
    "\n",
    "df.drop(['Major_Dist_Coord'], axis=1, inplace=True)\n",
    "# replace some of the wrong coordinates \n",
    "\n",
    "\n",
    "Lat_list = df['Latitude'].tolist()\n",
    "Long_list = df['Longitude'].tolist()\n",
    "print (\"Old latitude list: \", Lat_list)\n",
    "print (\"Old Longitude list: \", Long_list)\n",
    "replace_latitudes = {32.5093796:35.7088, 23.0131338:35.6722, -38.9047057:35.5884, -5.3498001:35.6634}\n",
    "replace_longitudes = {-116.2970014:139.7601, -80.8328748:139.8061, 175.7552111:139.7279, 21.424098:139.8731}\n",
    "\n",
    "latitudes_new = [replace_latitudes.get(n3,n3) for n3 in Lat_list]\n",
    "longtitudes_new = [replace_longitudes.get(n4,n4) for n4 in Long_list]\n",
    "print (latitudes_new)\n",
    "print (longtitudes_new)\n",
    "\n",
    "Tokyo_df = df.drop(['Latitude', 'Longitude'], axis=1)\n",
    "# #df.drop(['Longitude'], axis=1, inplace=True)\n",
    "# Tokyo_df\n",
    "\n",
    "\n",
    "Tokyo_df['Dist_Latitude'] = latitudes_new\n",
    "Tokyo_df['Dist_Longitude'] = longtitudes_new\n",
    "\n",
    "#Tokyo_df\n",
    "\n",
    "#Tokyo_df.to_csv('Tokyo_df_Coord.csv')\n"
   ]
  },
  {
   "cell_type": "markdown",
   "metadata": {},
   "source": [
    "### Starting of Week 2 "
   ]
  },
  {
   "cell_type": "code",
   "execution_count": 65,
   "metadata": {
    "ExecuteTime": {
     "end_time": "2020-08-12T18:14:05.829139Z",
     "start_time": "2020-08-12T18:14:05.811474Z"
    }
   },
   "outputs": [
    {
     "data": {
      "text/html": [
       "<div>\n",
       "<style scoped>\n",
       "    .dataframe tbody tr th:only-of-type {\n",
       "        vertical-align: middle;\n",
       "    }\n",
       "\n",
       "    .dataframe tbody tr th {\n",
       "        vertical-align: top;\n",
       "    }\n",
       "\n",
       "    .dataframe thead th {\n",
       "        text-align: right;\n",
       "    }\n",
       "</style>\n",
       "<table border=\"1\" class=\"dataframe\">\n",
       "  <thead>\n",
       "    <tr style=\"text-align: right;\">\n",
       "      <th></th>\n",
       "      <th>Ward</th>\n",
       "      <th>Area_SqKm</th>\n",
       "      <th>Population</th>\n",
       "      <th>Major_District</th>\n",
       "      <th>Dist_Latitude</th>\n",
       "      <th>Dist_Longitude</th>\n",
       "    </tr>\n",
       "  </thead>\n",
       "  <tbody>\n",
       "    <tr>\n",
       "      <th>1</th>\n",
       "      <td>Chiyoda</td>\n",
       "      <td>5100</td>\n",
       "      <td>59441</td>\n",
       "      <td>Nagatacho</td>\n",
       "      <td>35.675618</td>\n",
       "      <td>139.743469</td>\n",
       "    </tr>\n",
       "    <tr>\n",
       "      <th>2</th>\n",
       "      <td>Chuo</td>\n",
       "      <td>14460</td>\n",
       "      <td>147620</td>\n",
       "      <td>Nihonbashi</td>\n",
       "      <td>35.684058</td>\n",
       "      <td>139.774501</td>\n",
       "    </tr>\n",
       "    <tr>\n",
       "      <th>3</th>\n",
       "      <td>Minato</td>\n",
       "      <td>12180</td>\n",
       "      <td>248071</td>\n",
       "      <td>Odaiba</td>\n",
       "      <td>35.619128</td>\n",
       "      <td>139.779403</td>\n",
       "    </tr>\n",
       "  </tbody>\n",
       "</table>\n",
       "</div>"
      ],
      "text/plain": [
       "      Ward  Area_SqKm  Population Major_District  Dist_Latitude  \\\n",
       "1  Chiyoda       5100       59441      Nagatacho      35.675618   \n",
       "2     Chuo      14460      147620     Nihonbashi      35.684058   \n",
       "3   Minato      12180      248071         Odaiba      35.619128   \n",
       "\n",
       "   Dist_Longitude  \n",
       "1      139.743469  \n",
       "2      139.774501  \n",
       "3      139.779403  "
      ]
     },
     "execution_count": 65,
     "metadata": {},
     "output_type": "execute_result"
    }
   ],
   "source": [
    "Tokyo_df = pd.read_csv('Tokyo_df_Coord.csv', index_col=[0])\n",
    "#remove the unnamed column \n",
    "Tokyo_df.head(3)"
   ]
  },
  {
   "cell_type": "markdown",
   "metadata": {},
   "source": [
    "Here we want to concentrate on the best five wards \n",
    "\n",
    "1. Chiyoda. Major District: _Nagatacho_<br>\n",
    "2. Shinjuku. Major District: _Shinjuku_<br>\n",
    "3. Shibuya. Major District: _Shibuya_<br>\n",
    "4. Chuo. Major District: _Nihombashi_<br>\n",
    "5. Shinagawa. Major District: _Shinagawa_<br>\n",
    "\n",
    "\n",
    "So as the next step we will use [Foursquare](https://developer.foursquare.com/) data and obtain information on restaurants.  With these, we can start with our battle of neighborhoods for opening a restaurant in Tokyo.  "
   ]
  },
  {
   "cell_type": "markdown",
   "metadata": {},
   "source": [
    "### Get the average land price in different areas of Tokyo from Web Scrapping"
   ]
  },
  {
   "cell_type": "code",
   "execution_count": 66,
   "metadata": {
    "ExecuteTime": {
     "end_time": "2020-08-12T18:14:07.854199Z",
     "start_time": "2020-08-12T18:14:05.830710Z"
    }
   },
   "outputs": [],
   "source": [
    "response_obj = requests.get('https://utinokati.com/en/details/land-market-value/area/Tokyo/').text\n",
    "#print (type (response_obj))\n",
    "soup = BeautifulSoup(response_obj,'lxml')\n",
    "#print (soup.prettify())"
   ]
  },
  {
   "cell_type": "code",
   "execution_count": 67,
   "metadata": {
    "ExecuteTime": {
     "end_time": "2020-08-12T18:14:07.857479Z",
     "start_time": "2020-08-12T18:14:07.855087Z"
    }
   },
   "outputs": [],
   "source": [
    "Price_Tokyo_Table = soup.find('tbody')\n",
    "#Price_Tokyo_Table"
   ]
  },
  {
   "cell_type": "code",
   "execution_count": 68,
   "metadata": {
    "ExecuteTime": {
     "end_time": "2020-08-12T18:14:07.885798Z",
     "start_time": "2020-08-12T18:14:07.858557Z"
    }
   },
   "outputs": [
    {
     "data": {
      "text/html": [
       "<div>\n",
       "<style scoped>\n",
       "    .dataframe tbody tr th:only-of-type {\n",
       "        vertical-align: middle;\n",
       "    }\n",
       "\n",
       "    .dataframe tbody tr th {\n",
       "        vertical-align: top;\n",
       "    }\n",
       "\n",
       "    .dataframe thead th {\n",
       "        text-align: right;\n",
       "    }\n",
       "</style>\n",
       "<table border=\"1\" class=\"dataframe\">\n",
       "  <thead>\n",
       "    <tr style=\"text-align: right;\">\n",
       "      <th></th>\n",
       "      <th>Ward</th>\n",
       "      <th>Average_Price(SqKm)</th>\n",
       "    </tr>\n",
       "  </thead>\n",
       "  <tbody>\n",
       "    <tr>\n",
       "      <th>0</th>\n",
       "      <td>Chiyoda-Ku</td>\n",
       "      <td>2705898</td>\n",
       "    </tr>\n",
       "    <tr>\n",
       "      <th>1</th>\n",
       "      <td>Chuo-Ku</td>\n",
       "      <td>2699719</td>\n",
       "    </tr>\n",
       "    <tr>\n",
       "      <th>2</th>\n",
       "      <td>Minato-Ku</td>\n",
       "      <td>2121252</td>\n",
       "    </tr>\n",
       "    <tr>\n",
       "      <th>3</th>\n",
       "      <td>Shinjuku-Ku</td>\n",
       "      <td>939286</td>\n",
       "    </tr>\n",
       "    <tr>\n",
       "      <th>4</th>\n",
       "      <td>Bunkyo-Ku</td>\n",
       "      <td>945155</td>\n",
       "    </tr>\n",
       "    <tr>\n",
       "      <th>5</th>\n",
       "      <td>Taito-Ku</td>\n",
       "      <td>1064759</td>\n",
       "    </tr>\n",
       "    <tr>\n",
       "      <th>6</th>\n",
       "      <td>Sumida-Ku</td>\n",
       "      <td>617190</td>\n",
       "    </tr>\n",
       "    <tr>\n",
       "      <th>7</th>\n",
       "      <td>Koto-Ku</td>\n",
       "      <td>658047</td>\n",
       "    </tr>\n",
       "    <tr>\n",
       "      <th>8</th>\n",
       "      <td>Shinagawa-Ku</td>\n",
       "      <td>767398</td>\n",
       "    </tr>\n",
       "    <tr>\n",
       "      <th>9</th>\n",
       "      <td>Meguro-Ku</td>\n",
       "      <td>863712</td>\n",
       "    </tr>\n",
       "    <tr>\n",
       "      <th>10</th>\n",
       "      <td>Ota-Ku</td>\n",
       "      <td>560106</td>\n",
       "    </tr>\n",
       "    <tr>\n",
       "      <th>11</th>\n",
       "      <td>Setagaya-Ku</td>\n",
       "      <td>664106</td>\n",
       "    </tr>\n",
       "    <tr>\n",
       "      <th>12</th>\n",
       "      <td>Shibuya-Ku</td>\n",
       "      <td>1360332</td>\n",
       "    </tr>\n",
       "    <tr>\n",
       "      <th>13</th>\n",
       "      <td>Nakano-Ku</td>\n",
       "      <td>596154</td>\n",
       "    </tr>\n",
       "    <tr>\n",
       "      <th>14</th>\n",
       "      <td>Suginami-Ku</td>\n",
       "      <td>559122</td>\n",
       "    </tr>\n",
       "    <tr>\n",
       "      <th>15</th>\n",
       "      <td>Toshima-Ku</td>\n",
       "      <td>731392</td>\n",
       "    </tr>\n",
       "    <tr>\n",
       "      <th>16</th>\n",
       "      <td>Kita-Ku</td>\n",
       "      <td>547695</td>\n",
       "    </tr>\n",
       "    <tr>\n",
       "      <th>17</th>\n",
       "      <td>Arakawa-Ku</td>\n",
       "      <td>492675</td>\n",
       "    </tr>\n",
       "    <tr>\n",
       "      <th>18</th>\n",
       "      <td>Itabashi-Ku</td>\n",
       "      <td>436736</td>\n",
       "    </tr>\n",
       "    <tr>\n",
       "      <th>19</th>\n",
       "      <td>Nerima-Ku</td>\n",
       "      <td>402240</td>\n",
       "    </tr>\n",
       "    <tr>\n",
       "      <th>20</th>\n",
       "      <td>Adachi-Ku</td>\n",
       "      <td>295750</td>\n",
       "    </tr>\n",
       "    <tr>\n",
       "      <th>21</th>\n",
       "      <td>Katsushika-Ku</td>\n",
       "      <td>324876</td>\n",
       "    </tr>\n",
       "    <tr>\n",
       "      <th>22</th>\n",
       "      <td>Edogawa-Ku</td>\n",
       "      <td>332511</td>\n",
       "    </tr>\n",
       "    <tr>\n",
       "      <th>23</th>\n",
       "      <td>Hachioji-Shi</td>\n",
       "      <td>143350</td>\n",
       "    </tr>\n",
       "    <tr>\n",
       "      <th>24</th>\n",
       "      <td>Tachikawa-Shi</td>\n",
       "      <td>259136</td>\n",
       "    </tr>\n",
       "    <tr>\n",
       "      <th>25</th>\n",
       "      <td>Musashino-Shi</td>\n",
       "      <td>550175</td>\n",
       "    </tr>\n",
       "    <tr>\n",
       "      <th>26</th>\n",
       "      <td>Mitaka-Shi</td>\n",
       "      <td>365626</td>\n",
       "    </tr>\n",
       "    <tr>\n",
       "      <th>27</th>\n",
       "      <td>Ome-Shi</td>\n",
       "      <td>90508</td>\n",
       "    </tr>\n",
       "    <tr>\n",
       "      <th>28</th>\n",
       "      <td>Fuchu-Shi</td>\n",
       "      <td>286856</td>\n",
       "    </tr>\n",
       "    <tr>\n",
       "      <th>29</th>\n",
       "      <td>Akishima-Shi</td>\n",
       "      <td>176391</td>\n",
       "    </tr>\n",
       "    <tr>\n",
       "      <th>30</th>\n",
       "      <td>Chofu-Shi</td>\n",
       "      <td>355235</td>\n",
       "    </tr>\n",
       "    <tr>\n",
       "      <th>31</th>\n",
       "      <td>Machida-Shi</td>\n",
       "      <td>152918</td>\n",
       "    </tr>\n",
       "    <tr>\n",
       "      <th>32</th>\n",
       "      <td>Koganei-Shi</td>\n",
       "      <td>311612</td>\n",
       "    </tr>\n",
       "    <tr>\n",
       "      <th>33</th>\n",
       "      <td>Kodaira-Shi</td>\n",
       "      <td>216826</td>\n",
       "    </tr>\n",
       "    <tr>\n",
       "      <th>34</th>\n",
       "      <td>Hino-Shi</td>\n",
       "      <td>197386</td>\n",
       "    </tr>\n",
       "    <tr>\n",
       "      <th>35</th>\n",
       "      <td>Higashimurayama-Shi</td>\n",
       "      <td>184523</td>\n",
       "    </tr>\n",
       "    <tr>\n",
       "      <th>36</th>\n",
       "      <td>Kokubunji-Shi</td>\n",
       "      <td>270993</td>\n",
       "    </tr>\n",
       "    <tr>\n",
       "      <th>37</th>\n",
       "      <td>Kunitachi-Shi</td>\n",
       "      <td>315492</td>\n",
       "    </tr>\n",
       "    <tr>\n",
       "      <th>38</th>\n",
       "      <td>Fussa-Shi</td>\n",
       "      <td>154787</td>\n",
       "    </tr>\n",
       "    <tr>\n",
       "      <th>39</th>\n",
       "      <td>Komae-Shi</td>\n",
       "      <td>309465</td>\n",
       "    </tr>\n",
       "    <tr>\n",
       "      <th>40</th>\n",
       "      <td>Higashiyamato-Shi</td>\n",
       "      <td>151803</td>\n",
       "    </tr>\n",
       "    <tr>\n",
       "      <th>41</th>\n",
       "      <td>Kiyose-Shi</td>\n",
       "      <td>184332</td>\n",
       "    </tr>\n",
       "    <tr>\n",
       "      <th>42</th>\n",
       "      <td>Higashikurume-Shi</td>\n",
       "      <td>215470</td>\n",
       "    </tr>\n",
       "    <tr>\n",
       "      <th>43</th>\n",
       "      <td>Musashimurayama-Shi</td>\n",
       "      <td>114090</td>\n",
       "    </tr>\n",
       "    <tr>\n",
       "      <th>44</th>\n",
       "      <td>Tama-Shi</td>\n",
       "      <td>190620</td>\n",
       "    </tr>\n",
       "    <tr>\n",
       "      <th>45</th>\n",
       "      <td>Inagi-Shi</td>\n",
       "      <td>214439</td>\n",
       "    </tr>\n",
       "    <tr>\n",
       "      <th>46</th>\n",
       "      <td>Hamura-Shi</td>\n",
       "      <td>146853</td>\n",
       "    </tr>\n",
       "    <tr>\n",
       "      <th>47</th>\n",
       "      <td>Akiruno-Shi</td>\n",
       "      <td>80466</td>\n",
       "    </tr>\n",
       "    <tr>\n",
       "      <th>48</th>\n",
       "      <td>Nishitokyo-Shi</td>\n",
       "      <td>290210</td>\n",
       "    </tr>\n",
       "    <tr>\n",
       "      <th>49</th>\n",
       "      <td>Nishitama-Gun</td>\n",
       "      <td>65748</td>\n",
       "    </tr>\n",
       "    <tr>\n",
       "      <th>50</th>\n",
       "      <td>Oshima-Machi</td>\n",
       "      <td>10878</td>\n",
       "    </tr>\n",
       "    <tr>\n",
       "      <th>51</th>\n",
       "      <td>Niijima-Mura</td>\n",
       "      <td>9129</td>\n",
       "    </tr>\n",
       "    <tr>\n",
       "      <th>52</th>\n",
       "      <td>Kozushima-Mura</td>\n",
       "      <td>8170</td>\n",
       "    </tr>\n",
       "    <tr>\n",
       "      <th>53</th>\n",
       "      <td>Ogasawara-Mura</td>\n",
       "      <td>24082</td>\n",
       "    </tr>\n",
       "  </tbody>\n",
       "</table>\n",
       "</div>"
      ],
      "text/plain": [
       "                   Ward Average_Price(SqKm)\n",
       "0            Chiyoda-Ku            2705898 \n",
       "1               Chuo-Ku            2699719 \n",
       "2             Minato-Ku            2121252 \n",
       "3           Shinjuku-Ku             939286 \n",
       "4             Bunkyo-Ku             945155 \n",
       "5              Taito-Ku            1064759 \n",
       "6             Sumida-Ku             617190 \n",
       "7               Koto-Ku             658047 \n",
       "8          Shinagawa-Ku             767398 \n",
       "9             Meguro-Ku             863712 \n",
       "10               Ota-Ku             560106 \n",
       "11          Setagaya-Ku             664106 \n",
       "12           Shibuya-Ku            1360332 \n",
       "13            Nakano-Ku             596154 \n",
       "14          Suginami-Ku             559122 \n",
       "15           Toshima-Ku             731392 \n",
       "16              Kita-Ku             547695 \n",
       "17           Arakawa-Ku             492675 \n",
       "18          Itabashi-Ku             436736 \n",
       "19            Nerima-Ku             402240 \n",
       "20            Adachi-Ku             295750 \n",
       "21        Katsushika-Ku             324876 \n",
       "22           Edogawa-Ku             332511 \n",
       "23         Hachioji-Shi             143350 \n",
       "24        Tachikawa-Shi             259136 \n",
       "25        Musashino-Shi             550175 \n",
       "26           Mitaka-Shi             365626 \n",
       "27              Ome-Shi              90508 \n",
       "28            Fuchu-Shi             286856 \n",
       "29         Akishima-Shi             176391 \n",
       "30            Chofu-Shi             355235 \n",
       "31          Machida-Shi             152918 \n",
       "32          Koganei-Shi             311612 \n",
       "33          Kodaira-Shi             216826 \n",
       "34             Hino-Shi             197386 \n",
       "35  Higashimurayama-Shi             184523 \n",
       "36        Kokubunji-Shi             270993 \n",
       "37        Kunitachi-Shi             315492 \n",
       "38            Fussa-Shi             154787 \n",
       "39            Komae-Shi             309465 \n",
       "40    Higashiyamato-Shi             151803 \n",
       "41           Kiyose-Shi             184332 \n",
       "42    Higashikurume-Shi             215470 \n",
       "43  Musashimurayama-Shi             114090 \n",
       "44             Tama-Shi             190620 \n",
       "45            Inagi-Shi             214439 \n",
       "46           Hamura-Shi             146853 \n",
       "47          Akiruno-Shi              80466 \n",
       "48       Nishitokyo-Shi             290210 \n",
       "49        Nishitama-Gun              65748 \n",
       "50         Oshima-Machi              10878 \n",
       "51         Niijima-Mura               9129 \n",
       "52       Kozushima-Mura               8170 \n",
       "53       Ogasawara-Mura              24082 "
      ]
     },
     "execution_count": 68,
     "metadata": {},
     "output_type": "execute_result"
    }
   ],
   "source": [
    "Name=[]\n",
    "Avg_price = []\n",
    "\n",
    "\n",
    "for row in Price_Tokyo_Table.findAll(\"tr\"):\n",
    "    \n",
    "    price = row.findAll('td')\n",
    "    Name.append(price[0].find(text=True))\n",
    "    Avg_price.append(price[2].find(text=True))   \n",
    "\n",
    "#print(Name)\n",
    "\n",
    "price_df = pd.DataFrame(Name,columns=['Ward'])\n",
    "price_df['Avg_price_sqKm'] = Avg_price\n",
    "\n",
    "\n",
    "\n",
    "\n",
    "price_df['Avg_price_sqKm'] = price_df['Avg_price_sqKm'].map(lambda x: x.rstrip('JPY/sq.m').rstrip('0123456789'))\n",
    "\n",
    "#print (price_df.dtypes)\n",
    "# Change the average price column datatype \n",
    "Avg_price_list = price_df['Avg_price_sqKm'].tolist()\n",
    "New_Avg_price = []\n",
    "\n",
    "for pr in range(len(Avg_price_list)):\n",
    "    x = Avg_price_list[pr].replace(\",\", \"\")\n",
    "    New_Avg_price.append(x)\n",
    "\n",
    "\n",
    "Avg_price_new=[int(s) for s in New_Avg_price]\n",
    "\n",
    "price_df.drop(['Avg_price_sqKm'], axis=1, inplace=True)\n",
    "\n",
    "price_df['Average_Price(SqKm)'] = New_Avg_price\n",
    "\n",
    "price_df"
   ]
  },
  {
   "cell_type": "code",
   "execution_count": 69,
   "metadata": {
    "ExecuteTime": {
     "end_time": "2020-08-12T18:14:07.901816Z",
     "start_time": "2020-08-12T18:14:07.887392Z"
    }
   },
   "outputs": [
    {
     "data": {
      "text/html": [
       "<div>\n",
       "<style scoped>\n",
       "    .dataframe tbody tr th:only-of-type {\n",
       "        vertical-align: middle;\n",
       "    }\n",
       "\n",
       "    .dataframe tbody tr th {\n",
       "        vertical-align: top;\n",
       "    }\n",
       "\n",
       "    .dataframe thead th {\n",
       "        text-align: right;\n",
       "    }\n",
       "</style>\n",
       "<table border=\"1\" class=\"dataframe\">\n",
       "  <thead>\n",
       "    <tr style=\"text-align: right;\">\n",
       "      <th></th>\n",
       "      <th>Ward</th>\n",
       "      <th>Average_Price(SqKm)</th>\n",
       "    </tr>\n",
       "  </thead>\n",
       "  <tbody>\n",
       "    <tr>\n",
       "      <th>1</th>\n",
       "      <td>Chiyoda</td>\n",
       "      <td>2705898</td>\n",
       "    </tr>\n",
       "    <tr>\n",
       "      <th>2</th>\n",
       "      <td>Chuo</td>\n",
       "      <td>2699719</td>\n",
       "    </tr>\n",
       "    <tr>\n",
       "      <th>3</th>\n",
       "      <td>Shinjuku</td>\n",
       "      <td>939286</td>\n",
       "    </tr>\n",
       "    <tr>\n",
       "      <th>4</th>\n",
       "      <td>Shinagawa</td>\n",
       "      <td>767398</td>\n",
       "    </tr>\n",
       "    <tr>\n",
       "      <th>5</th>\n",
       "      <td>Shibuya</td>\n",
       "      <td>1360332</td>\n",
       "    </tr>\n",
       "  </tbody>\n",
       "</table>\n",
       "</div>"
      ],
      "text/plain": [
       "        Ward Average_Price(SqKm)\n",
       "1    Chiyoda            2705898 \n",
       "2       Chuo            2699719 \n",
       "3   Shinjuku             939286 \n",
       "4  Shinagawa             767398 \n",
       "5    Shibuya            1360332 "
      ]
     },
     "execution_count": 69,
     "metadata": {},
     "output_type": "execute_result"
    }
   ],
   "source": [
    "## Select info only for 5 relevant wards Chiyoda, Chuo, Shinjuku, Shibuya, Shinagawa. \n",
    "## \n",
    "pd.options.mode.chained_assignment = None\n",
    "ward_list = ['Chiyoda-Ku', 'Chuo-Ku', 'Shinjuku-Ku', 'Shibuya-Ku', 'Shinagawa-Ku']\n",
    "price_df_selected = price_df.loc[price_df['Ward'].isin(ward_list)]\n",
    "price_df_selected.index = np.arange(1, len(price_df_selected) + 1)\n",
    "#Ward_names = price_df_selected['Ward'].map(lambda y: str(y)[:-3]) # strip -Ku from the ward names\n",
    "price_df_selected['Ward']=price_df_selected['Ward'].map(lambda y: str(y)[:-3]) \n",
    "#price_df_selected.drop(['Ward'], axis=1, inplace=True)\n",
    "#price_df_selected['Ward']=Ward_names\n",
    "price_df_selected"
   ]
  },
  {
   "cell_type": "code",
   "execution_count": 70,
   "metadata": {
    "ExecuteTime": {
     "end_time": "2020-08-12T18:14:07.916690Z",
     "start_time": "2020-08-12T18:14:07.902761Z"
    }
   },
   "outputs": [
    {
     "data": {
      "text/html": [
       "<div>\n",
       "<style scoped>\n",
       "    .dataframe tbody tr th:only-of-type {\n",
       "        vertical-align: middle;\n",
       "    }\n",
       "\n",
       "    .dataframe tbody tr th {\n",
       "        vertical-align: top;\n",
       "    }\n",
       "\n",
       "    .dataframe thead th {\n",
       "        text-align: right;\n",
       "    }\n",
       "</style>\n",
       "<table border=\"1\" class=\"dataframe\">\n",
       "  <thead>\n",
       "    <tr style=\"text-align: right;\">\n",
       "      <th></th>\n",
       "      <th>Ward</th>\n",
       "      <th>Area_SqKm</th>\n",
       "      <th>Population</th>\n",
       "      <th>Major_District</th>\n",
       "      <th>Dist_Latitude</th>\n",
       "      <th>Dist_Longitude</th>\n",
       "    </tr>\n",
       "  </thead>\n",
       "  <tbody>\n",
       "    <tr>\n",
       "      <th>1</th>\n",
       "      <td>Chiyoda</td>\n",
       "      <td>5100</td>\n",
       "      <td>59441</td>\n",
       "      <td>Nagatacho</td>\n",
       "      <td>35.675618</td>\n",
       "      <td>139.743469</td>\n",
       "    </tr>\n",
       "    <tr>\n",
       "      <th>2</th>\n",
       "      <td>Chuo</td>\n",
       "      <td>14460</td>\n",
       "      <td>147620</td>\n",
       "      <td>Nihonbashi</td>\n",
       "      <td>35.684058</td>\n",
       "      <td>139.774501</td>\n",
       "    </tr>\n",
       "    <tr>\n",
       "      <th>4</th>\n",
       "      <td>Shinjuku</td>\n",
       "      <td>18620</td>\n",
       "      <td>339211</td>\n",
       "      <td>Shinjuku</td>\n",
       "      <td>35.693763</td>\n",
       "      <td>139.703632</td>\n",
       "    </tr>\n",
       "    <tr>\n",
       "      <th>9</th>\n",
       "      <td>Shinagawa</td>\n",
       "      <td>17180</td>\n",
       "      <td>392492</td>\n",
       "      <td>Shinagawa</td>\n",
       "      <td>35.599252</td>\n",
       "      <td>139.738910</td>\n",
       "    </tr>\n",
       "    <tr>\n",
       "      <th>13</th>\n",
       "      <td>Shibuya</td>\n",
       "      <td>15080</td>\n",
       "      <td>227850</td>\n",
       "      <td>Shibuya</td>\n",
       "      <td>35.664596</td>\n",
       "      <td>139.698711</td>\n",
       "    </tr>\n",
       "  </tbody>\n",
       "</table>\n",
       "</div>"
      ],
      "text/plain": [
       "         Ward  Area_SqKm  Population Major_District  Dist_Latitude  \\\n",
       "1     Chiyoda       5100       59441      Nagatacho      35.675618   \n",
       "2        Chuo      14460      147620     Nihonbashi      35.684058   \n",
       "4    Shinjuku      18620      339211       Shinjuku      35.693763   \n",
       "9   Shinagawa      17180      392492      Shinagawa      35.599252   \n",
       "13    Shibuya      15080      227850        Shibuya      35.664596   \n",
       "\n",
       "    Dist_Longitude  \n",
       "1       139.743469  \n",
       "2       139.774501  \n",
       "4       139.703632  \n",
       "9       139.738910  \n",
       "13      139.698711  "
      ]
     },
     "execution_count": 70,
     "metadata": {},
     "output_type": "execute_result"
    }
   ],
   "source": [
    "## Similarly select those five wards from the Tokyo Wards Data-Frame\n",
    "ward_list1 = ['Chiyoda', 'Chuo', 'Shinjuku', 'Shibuya', 'Shinagawa']\n",
    "Tokyo_df_selected = Tokyo_df.loc[Tokyo_df['Ward'].isin(ward_list1)]\n",
    "Tokyo_df_selected"
   ]
  },
  {
   "cell_type": "code",
   "execution_count": 71,
   "metadata": {
    "ExecuteTime": {
     "end_time": "2020-08-12T18:14:07.935970Z",
     "start_time": "2020-08-12T18:14:07.917711Z"
    }
   },
   "outputs": [
    {
     "data": {
      "text/html": [
       "<div>\n",
       "<style scoped>\n",
       "    .dataframe tbody tr th:only-of-type {\n",
       "        vertical-align: middle;\n",
       "    }\n",
       "\n",
       "    .dataframe tbody tr th {\n",
       "        vertical-align: top;\n",
       "    }\n",
       "\n",
       "    .dataframe thead th {\n",
       "        text-align: right;\n",
       "    }\n",
       "</style>\n",
       "<table border=\"1\" class=\"dataframe\">\n",
       "  <thead>\n",
       "    <tr style=\"text-align: right;\">\n",
       "      <th></th>\n",
       "      <th>Ward</th>\n",
       "      <th>Area_SqKm</th>\n",
       "      <th>Population</th>\n",
       "      <th>Major_District</th>\n",
       "      <th>Dist_Latitude</th>\n",
       "      <th>Dist_Longitude</th>\n",
       "      <th>Average_Price(SqKm)</th>\n",
       "    </tr>\n",
       "  </thead>\n",
       "  <tbody>\n",
       "    <tr>\n",
       "      <th>1</th>\n",
       "      <td>Chiyoda</td>\n",
       "      <td>5100</td>\n",
       "      <td>59441</td>\n",
       "      <td>Nagatacho</td>\n",
       "      <td>35.675618</td>\n",
       "      <td>139.743469</td>\n",
       "      <td>2705898</td>\n",
       "    </tr>\n",
       "    <tr>\n",
       "      <th>2</th>\n",
       "      <td>Chuo</td>\n",
       "      <td>14460</td>\n",
       "      <td>147620</td>\n",
       "      <td>Nihonbashi</td>\n",
       "      <td>35.684058</td>\n",
       "      <td>139.774501</td>\n",
       "      <td>2699719</td>\n",
       "    </tr>\n",
       "    <tr>\n",
       "      <th>3</th>\n",
       "      <td>Shinjuku</td>\n",
       "      <td>18620</td>\n",
       "      <td>339211</td>\n",
       "      <td>Shinjuku</td>\n",
       "      <td>35.693763</td>\n",
       "      <td>139.703632</td>\n",
       "      <td>939286</td>\n",
       "    </tr>\n",
       "    <tr>\n",
       "      <th>4</th>\n",
       "      <td>Shinagawa</td>\n",
       "      <td>17180</td>\n",
       "      <td>392492</td>\n",
       "      <td>Shinagawa</td>\n",
       "      <td>35.599252</td>\n",
       "      <td>139.738910</td>\n",
       "      <td>767398</td>\n",
       "    </tr>\n",
       "    <tr>\n",
       "      <th>5</th>\n",
       "      <td>Shibuya</td>\n",
       "      <td>15080</td>\n",
       "      <td>227850</td>\n",
       "      <td>Shibuya</td>\n",
       "      <td>35.664596</td>\n",
       "      <td>139.698711</td>\n",
       "      <td>1360332</td>\n",
       "    </tr>\n",
       "  </tbody>\n",
       "</table>\n",
       "</div>"
      ],
      "text/plain": [
       "        Ward  Area_SqKm  Population Major_District  Dist_Latitude  \\\n",
       "1    Chiyoda       5100       59441      Nagatacho      35.675618   \n",
       "2       Chuo      14460      147620     Nihonbashi      35.684058   \n",
       "3   Shinjuku      18620      339211       Shinjuku      35.693763   \n",
       "4  Shinagawa      17180      392492      Shinagawa      35.599252   \n",
       "5    Shibuya      15080      227850        Shibuya      35.664596   \n",
       "\n",
       "   Dist_Longitude Average_Price(SqKm)  \n",
       "1      139.743469            2705898   \n",
       "2      139.774501            2699719   \n",
       "3      139.703632             939286   \n",
       "4      139.738910             767398   \n",
       "5      139.698711            1360332   "
      ]
     },
     "execution_count": 71,
     "metadata": {},
     "output_type": "execute_result"
    }
   ],
   "source": [
    "# Merge the two dataframes according to the ward names \n",
    "\n",
    "Tokyo_df_selected_final = Tokyo_df_selected.merge(price_df_selected, on='Ward', how='left')\n",
    "Tokyo_df_selected_final.index = np.arange(1, len(Tokyo_df_selected_final)+1)\n",
    "Tokyo_df_selected_final.to_csv('Tokyo_5_Wards.csv')\n",
    "Tokyo_df_selected_final"
   ]
  },
  {
   "cell_type": "code",
   "execution_count": 72,
   "metadata": {
    "ExecuteTime": {
     "end_time": "2020-08-12T18:14:08.403318Z",
     "start_time": "2020-08-12T18:14:07.936948Z"
    }
   },
   "outputs": [
    {
     "name": "stdout",
     "output_type": "stream",
     "text": [
      "The geograpical coordinates of Tokyo are 35.6828387, 139.7594549.\n"
     ]
    }
   ],
   "source": [
    "# get Tokyo, Tokyo Latitude and Longitude \n",
    "\n",
    "from geopy.geocoders import Nominatim # convert an address into latitude and longitude values\n",
    "address = 'Tokyo'\n",
    "\n",
    "geolocator = Nominatim(user_agent=\"Tokyo_explorer\")\n",
    "location = geolocator.geocode(address)\n",
    "Tokyo_latitude = location.latitude\n",
    "Tokyo_longitude = location.longitude\n",
    "print('The geograpical coordinates of Tokyo are {}, {}.'.format(Tokyo_latitude, Tokyo_longitude))"
   ]
  },
  {
   "cell_type": "code",
   "execution_count": 73,
   "metadata": {
    "ExecuteTime": {
     "end_time": "2020-08-12T18:14:08.418139Z",
     "start_time": "2020-08-12T18:14:08.404490Z"
    }
   },
   "outputs": [
    {
     "data": {
      "text/html": [
       "<div style=\"width:100%;\"><div style=\"position:relative;width:100%;height:0;padding-bottom:60%;\"><span style=\"color:#565656\">Make this Notebook Trusted to load map: File -> Trust Notebook</span><iframe src=\"about:blank\" style=\"position:absolute;width:100%;height:100%;left:0;top:0;border:none !important;\" data-html=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 onload=\"this.contentDocument.open();this.contentDocument.write(atob(this.getAttribute('data-html')));this.contentDocument.close();\" allowfullscreen webkitallowfullscreen mozallowfullscreen></iframe></div></div>"
      ],
      "text/plain": [
       "<folium.folium.Map at 0x7f3d2600e670>"
      ]
     },
     "execution_count": 73,
     "metadata": {},
     "output_type": "execute_result"
    }
   ],
   "source": [
    "import folium\n",
    "# # create map of Most Busy Office Areas of Tokyo using latitude and longitude values\n",
    "Tokyo_5Wards = folium.Map(location=[Tokyo_latitude, Tokyo_longitude], zoom_start=12)\n",
    "\n",
    "# add markers to map\n",
    "for lat, lng, label in zip(Tokyo_df_selected_final['Dist_Latitude'], Tokyo_df_selected_final['Dist_Longitude'], \n",
    "                           Tokyo_df_selected_final['Major_District']):\n",
    "    label = folium.Popup(label, parse_html=True)\n",
    "    folium.CircleMarker(\n",
    "        [lat, lng],\n",
    "        radius=9,\n",
    "        popup=label,\n",
    "        color='magenta',\n",
    "        fill=True,\n",
    "        fill_color='#3186cc',\n",
    "        fill_opacity=0.7).add_to(Tokyo_5Wards)  \n",
    "    \n",
    "Tokyo_5Wards"
   ]
  },
  {
   "cell_type": "markdown",
   "metadata": {},
   "source": [
    "#### The 5 Neighbourhoods (Chiyoda, Chuo, Shinjuku, Shibuya, Shinagawa) that are ready to battle for the best place to open a lunch restaurant looks as below in Map, obtained using Folium \n",
    "\n",
    "![Tokyo_5_Wards](Tokyo_5_Wards.png)"
   ]
  },
  {
   "cell_type": "markdown",
   "metadata": {},
   "source": [
    "### Getting Ready to Use FourSquare API "
   ]
  },
  {
   "cell_type": "code",
   "execution_count": null,
   "metadata": {
    "ExecuteTime": {
     "end_time": "2020-08-12T18:14:08.421672Z",
     "start_time": "2020-08-12T18:14:08.419081Z"
    }
   },
   "outputs": [],
   "source": [
    "# Sign up on https://foursquare.com/ to get the client ID and client secret\n",
    "\n",
    "CLIENT_ID = 'YOURCLIENTID' #'your-client-ID' # your Foursquare ID\n",
    "CLIENT_SECRET = 'YOURCLIENTSECRET' #'your-client-secret' # your Foursquare Secret\n",
    "VERSION = '20190325' # Foursquare API version\n",
    "\n",
    "print('My credentails:')\n",
    "print('My CLIENT_ID: ' + CLIENT_ID)\n",
    "print('My CLIENT_SECRET:' + CLIENT_SECRET)"
   ]
  },
  {
   "cell_type": "markdown",
   "metadata": {},
   "source": [
    "#### To decide which neighborhood (read 'Ward') is best for opening a restaurant, We will explore the areas around the major districts. <br> (Chiyoda: Nagatacho, Chuo: Nihonbashi, Shinjuku: Shinjuku, Shibuya: Shibuya, Shinagawa:Shinagawa) "
   ]
  },
  {
   "cell_type": "markdown",
   "metadata": {},
   "source": [
    "### Exploring the Major Districts \n",
    "\n",
    "1. Create the get request url (Foursquare ID and Secret are necessary) <br>\n",
    "    1.a. Number of Venues we will look for is 100\n",
    "    2.a. Radius of Search Would be 1 k.m. \n",
    "2. Create a json from  the request object (Need requests Module) <br>\n",
    "3. Create the lists Containing all the information <br>\n",
    "4. From the lists create the dataframe. "
   ]
  },
  {
   "cell_type": "code",
   "execution_count": 75,
   "metadata": {
    "ExecuteTime": {
     "end_time": "2020-08-12T18:14:08.431855Z",
     "start_time": "2020-08-12T18:14:08.422793Z"
    }
   },
   "outputs": [],
   "source": [
    "radius = 1000\n",
    "LIMIT = 100\n",
    "\n",
    "def getNearbyVenues(names, latitudes, longitudes, radius=1000):\n",
    "    \n",
    "    venues_list=[]\n",
    "    for name, lat, lng in zip(names, latitudes, longitudes):\n",
    "        print(name)\n",
    "            \n",
    "        # create the API request URL\n",
    "        url = 'https://api.foursquare.com/v2/venues/explore?&client_id={}&client_secret={}&v={}&ll={},{}&radius={}&limit={}'.format(\n",
    "            CLIENT_ID, \n",
    "            CLIENT_SECRET, \n",
    "            VERSION, \n",
    "            lat, \n",
    "            lng, \n",
    "            radius, \n",
    "            LIMIT)\n",
    "            \n",
    "        # make the GET request\n",
    "        results = requests.get(url).json()[\"response\"]['groups'][0]['items']\n",
    "        \n",
    "        # return only relevant information for each nearby venue\n",
    "        venues_list.append([(\n",
    "            name, \n",
    "            lat, \n",
    "            lng, \n",
    "            v['venue']['name'], \n",
    "            v['venue']['location']['lat'], \n",
    "            v['venue']['location']['lng'],  \n",
    "            v['venue']['categories'][0]['name']) for v in results])\n",
    "\n",
    "    nearby_venues = pd.DataFrame([item for venue_list in venues_list for item in venue_list])\n",
    "    nearby_venues.columns = ['District', \n",
    "                  'Dist_Latitude', \n",
    "                  'Dist_Longitude', \n",
    "                  'Venue', \n",
    "                  'Venue_Lat', \n",
    "                  'Venue_Long', \n",
    "                  'Venue_Category']\n",
    "    \n",
    "    return(nearby_venues)"
   ]
  },
  {
   "cell_type": "markdown",
   "metadata": {},
   "source": [
    "#### Use the Function Above to Create the Dataframe of Venues Around Those 5 Major Districts Belonging to the Busiest Wards of Tokyo "
   ]
  },
  {
   "cell_type": "code",
   "execution_count": 76,
   "metadata": {
    "ExecuteTime": {
     "end_time": "2020-08-12T18:14:12.477532Z",
     "start_time": "2020-08-12T18:14:08.432956Z"
    }
   },
   "outputs": [
    {
     "name": "stdout",
     "output_type": "stream",
     "text": [
      "Nagatacho\n",
      "Nihonbashi\n",
      "Shinjuku\n",
      "Shinagawa\n",
      "Shibuya\n"
     ]
    }
   ],
   "source": [
    "\n",
    "\n",
    "Tokyo_5_Dist_Venues = getNearbyVenues(names=Tokyo_df_selected_final['Major_District'],\n",
    "                                   latitudes=Tokyo_df_selected_final['Dist_Latitude'],\n",
    "                                   longitudes=Tokyo_df_selected_final['Dist_Longitude']\n",
    "                                  )"
   ]
  },
  {
   "cell_type": "code",
   "execution_count": 77,
   "metadata": {
    "ExecuteTime": {
     "end_time": "2020-08-12T18:14:12.504948Z",
     "start_time": "2020-08-12T18:14:12.483140Z"
    }
   },
   "outputs": [
    {
     "name": "stdout",
     "output_type": "stream",
     "text": [
      "Shape of the Venues Dataframe:  (500, 7)\n"
     ]
    },
    {
     "data": {
      "text/html": [
       "<div>\n",
       "<style scoped>\n",
       "    .dataframe tbody tr th:only-of-type {\n",
       "        vertical-align: middle;\n",
       "    }\n",
       "\n",
       "    .dataframe tbody tr th {\n",
       "        vertical-align: top;\n",
       "    }\n",
       "\n",
       "    .dataframe thead th {\n",
       "        text-align: right;\n",
       "    }\n",
       "</style>\n",
       "<table border=\"1\" class=\"dataframe\">\n",
       "  <thead>\n",
       "    <tr style=\"text-align: right;\">\n",
       "      <th></th>\n",
       "      <th>District</th>\n",
       "      <th>Dist_Latitude</th>\n",
       "      <th>Dist_Longitude</th>\n",
       "      <th>Venue</th>\n",
       "      <th>Venue_Lat</th>\n",
       "      <th>Venue_Long</th>\n",
       "      <th>Venue_Category</th>\n",
       "    </tr>\n",
       "  </thead>\n",
       "  <tbody>\n",
       "    <tr>\n",
       "      <th>497</th>\n",
       "      <td>Shibuya</td>\n",
       "      <td>35.664596</td>\n",
       "      <td>139.698711</td>\n",
       "      <td>Chez Matsuo (シェ松尾 松濤レストラン)</td>\n",
       "      <td>35.660804</td>\n",
       "      <td>139.692413</td>\n",
       "      <td>French Restaurant</td>\n",
       "    </tr>\n",
       "    <tr>\n",
       "      <th>498</th>\n",
       "      <td>Shibuya</td>\n",
       "      <td>35.664596</td>\n",
       "      <td>139.698711</td>\n",
       "      <td>Isari Juhachiban (漁十八番)</td>\n",
       "      <td>35.658858</td>\n",
       "      <td>139.698396</td>\n",
       "      <td>Seafood Restaurant</td>\n",
       "    </tr>\n",
       "    <tr>\n",
       "      <th>499</th>\n",
       "      <td>Shibuya</td>\n",
       "      <td>35.664596</td>\n",
       "      <td>139.698711</td>\n",
       "      <td>Lindt Chocolat Café (リンツ ショコラ カフェ)</td>\n",
       "      <td>35.659580</td>\n",
       "      <td>139.701526</td>\n",
       "      <td>Chocolate Shop</td>\n",
       "    </tr>\n",
       "  </tbody>\n",
       "</table>\n",
       "</div>"
      ],
      "text/plain": [
       "    District  Dist_Latitude  Dist_Longitude  \\\n",
       "497  Shibuya      35.664596      139.698711   \n",
       "498  Shibuya      35.664596      139.698711   \n",
       "499  Shibuya      35.664596      139.698711   \n",
       "\n",
       "                                  Venue  Venue_Lat  Venue_Long  \\\n",
       "497          Chez Matsuo (シェ松尾 松濤レストラン)  35.660804  139.692413   \n",
       "498             Isari Juhachiban (漁十八番)  35.658858  139.698396   \n",
       "499  Lindt Chocolat Café (リンツ ショコラ カフェ)  35.659580  139.701526   \n",
       "\n",
       "         Venue_Category  \n",
       "497   French Restaurant  \n",
       "498  Seafood Restaurant  \n",
       "499      Chocolate Shop  "
      ]
     },
     "execution_count": 77,
     "metadata": {},
     "output_type": "execute_result"
    }
   ],
   "source": [
    "print (\"Shape of the Venues Dataframe: \", Tokyo_5_Dist_Venues.shape)\n",
    "Tokyo_5_Dist_Venues.tail(3)"
   ]
  },
  {
   "cell_type": "code",
   "execution_count": 78,
   "metadata": {
    "ExecuteTime": {
     "end_time": "2020-08-12T18:14:12.526849Z",
     "start_time": "2020-08-12T18:14:12.506287Z"
    }
   },
   "outputs": [
    {
     "name": "stdout",
     "output_type": "stream",
     "text": [
      "Shape of the Data-Frame with Venue Category only Restaurant:  (184, 7)\n"
     ]
    },
    {
     "data": {
      "text/html": [
       "<div>\n",
       "<style scoped>\n",
       "    .dataframe tbody tr th:only-of-type {\n",
       "        vertical-align: middle;\n",
       "    }\n",
       "\n",
       "    .dataframe tbody tr th {\n",
       "        vertical-align: top;\n",
       "    }\n",
       "\n",
       "    .dataframe thead th {\n",
       "        text-align: right;\n",
       "    }\n",
       "</style>\n",
       "<table border=\"1\" class=\"dataframe\">\n",
       "  <thead>\n",
       "    <tr style=\"text-align: right;\">\n",
       "      <th></th>\n",
       "      <th>District</th>\n",
       "      <th>Dist_Latitude</th>\n",
       "      <th>Dist_Longitude</th>\n",
       "      <th>Venue</th>\n",
       "      <th>Venue_Lat</th>\n",
       "      <th>Venue_Long</th>\n",
       "      <th>Venue_Category</th>\n",
       "    </tr>\n",
       "  </thead>\n",
       "  <tbody>\n",
       "    <tr>\n",
       "      <th>1</th>\n",
       "      <td>Nagatacho</td>\n",
       "      <td>35.675618</td>\n",
       "      <td>139.743469</td>\n",
       "      <td>Nagatacho Kurosawa (永田町 黒澤)</td>\n",
       "      <td>35.674699</td>\n",
       "      <td>139.741737</td>\n",
       "      <td>Japanese Restaurant</td>\n",
       "    </tr>\n",
       "    <tr>\n",
       "      <th>2</th>\n",
       "      <td>Nagatacho</td>\n",
       "      <td>35.675618</td>\n",
       "      <td>139.743469</td>\n",
       "      <td>Shinamen Hashigo (支那麺 はしご)</td>\n",
       "      <td>35.672184</td>\n",
       "      <td>139.741576</td>\n",
       "      <td>Ramen Restaurant</td>\n",
       "    </tr>\n",
       "    <tr>\n",
       "      <th>3</th>\n",
       "      <td>Nagatacho</td>\n",
       "      <td>35.675618</td>\n",
       "      <td>139.743469</td>\n",
       "      <td>Sushi Isshin (鮨 一新)</td>\n",
       "      <td>35.672589</td>\n",
       "      <td>139.739399</td>\n",
       "      <td>Sushi Restaurant</td>\n",
       "    </tr>\n",
       "  </tbody>\n",
       "</table>\n",
       "</div>"
      ],
      "text/plain": [
       "    District  Dist_Latitude  Dist_Longitude                        Venue  \\\n",
       "1  Nagatacho      35.675618      139.743469  Nagatacho Kurosawa (永田町 黒澤)   \n",
       "2  Nagatacho      35.675618      139.743469   Shinamen Hashigo (支那麺 はしご)   \n",
       "3  Nagatacho      35.675618      139.743469          Sushi Isshin (鮨 一新)   \n",
       "\n",
       "   Venue_Lat  Venue_Long       Venue_Category  \n",
       "1  35.674699  139.741737  Japanese Restaurant  \n",
       "2  35.672184  139.741576     Ramen Restaurant  \n",
       "3  35.672589  139.739399     Sushi Restaurant  "
      ]
     },
     "execution_count": 78,
     "metadata": {},
     "output_type": "execute_result"
    }
   ],
   "source": [
    "# Create a Data-Frame out of it to Concentrate Only on Restaurants \n",
    "\n",
    "Tokyo_5_Dist_Venues_only_restaurant = Tokyo_5_Dist_Venues[Tokyo_5_Dist_Venues['Venue_Category']\\\n",
    "                                                          .str.contains('Restaurant')].reset_index(drop=True)\n",
    "Tokyo_5_Dist_Venues_only_restaurant.index = np.arange(1, len(Tokyo_5_Dist_Venues_only_restaurant)+1)\n",
    "print (\"Shape of the Data-Frame with Venue Category only Restaurant: \", Tokyo_5_Dist_Venues_only_restaurant.shape)\n",
    "Tokyo_5_Dist_Venues_only_restaurant.head(3)"
   ]
  },
  {
   "cell_type": "code",
   "execution_count": 79,
   "metadata": {
    "ExecuteTime": {
     "end_time": "2020-08-12T18:14:12.537545Z",
     "start_time": "2020-08-12T18:14:12.527976Z"
    }
   },
   "outputs": [],
   "source": [
    "import datapane as dp \n",
    "\n",
    "# A list to create a Datapane report later\n",
    "report = []"
   ]
  },
  {
   "cell_type": "code",
   "execution_count": 80,
   "metadata": {
    "ExecuteTime": {
     "end_time": "2020-08-12T18:14:12.720402Z",
     "start_time": "2020-08-12T18:14:12.538820Z"
    }
   },
   "outputs": [
    {
     "data": {
      "text/html": [
       "<div style=\"width:100%;\"><div style=\"position:relative;width:100%;height:0;padding-bottom:60%;\"><span style=\"color:#565656\">Make this Notebook Trusted to load map: File -> Trust Notebook</span><iframe src=\"about:blank\" style=\"position:absolute;width:100%;height:100%;left:0;top:0;border:none !important;\" data-html=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 onload=\"this.contentDocument.open();this.contentDocument.write(atob(this.getAttribute('data-html')));this.contentDocument.close();\" allowfullscreen webkitallowfullscreen mozallowfullscreen></iframe></div></div>"
      ],
      "text/plain": [
       "<folium.folium.Map at 0x7f3d25bed8e0>"
      ]
     },
     "execution_count": 80,
     "metadata": {},
     "output_type": "execute_result"
    }
   ],
   "source": [
    "## Show in Map the Top Rated Restaruants in the Top 5 Districts\n",
    "\n",
    "map_restaurants = folium.Map(location=[Tokyo_latitude, Tokyo_longitude], zoom_start=11, tiles=\"openstreetmap\", \n",
    "                            attr=\"<a href=https://github.com/python-visualization/folium/>Folium</a>\")\n",
    "\n",
    "# set color scheme for the Venues based on the Major Districts\n",
    "Districts = ['Nagatacho', 'Nihonbashi', 'Shinjuku', 'Shinagawa', 'Shibuya']\n",
    "\n",
    "x = np.arange(len(Districts))\n",
    "\n",
    "rainbow = ['#00ff00', '#ff00ff','#0000ff','#ffa500' ,'#ff0000']\n",
    "\n",
    "# add markers to the map\n",
    "# markers_colors = []\n",
    "for lat, lon, poi, distr in zip(Tokyo_5_Dist_Venues_only_restaurant['Venue_Lat'], \n",
    "                                  Tokyo_5_Dist_Venues_only_restaurant['Venue_Long'], \n",
    "                                  Tokyo_5_Dist_Venues_only_restaurant['Venue_Category'], \n",
    "                                  Tokyo_5_Dist_Venues_only_restaurant['District']):\n",
    "    label = folium.Popup(str(poi) + ' ' + str(distr), parse_html=True)\n",
    "    folium.CircleMarker(\n",
    "        [lat, lon],\n",
    "        radius=7,\n",
    "        popup=label,\n",
    "        color=rainbow[Districts.index(distr)-1],\n",
    "        fill=True,\n",
    "        fill_color=rainbow[Districts.index(distr)-1],\n",
    "        fill_opacity=0.3).add_to(map_restaurants)\n",
    "       \n",
    "map_restaurants"
   ]
  },
  {
   "cell_type": "code",
   "execution_count": 81,
   "metadata": {
    "ExecuteTime": {
     "end_time": "2020-08-12T18:14:12.888585Z",
     "start_time": "2020-08-12T18:14:12.721857Z"
    }
   },
   "outputs": [],
   "source": [
    "report.append(dp.Plot(map_restaurants))"
   ]
  },
  {
   "cell_type": "markdown",
   "metadata": {},
   "source": [
    "#### See the Most Frequently Visited Restaurants in the Best Five Districts of Tokyo. \n",
    "![Tokyo_all_restaurants](Most_Visited_Restaurants_Tokyo.png)"
   ]
  },
  {
   "cell_type": "code",
   "execution_count": 82,
   "metadata": {
    "ExecuteTime": {
     "end_time": "2020-08-12T18:14:12.894454Z",
     "start_time": "2020-08-12T18:14:12.889699Z"
    }
   },
   "outputs": [
    {
     "name": "stdout",
     "output_type": "stream",
     "text": [
      "There are 136 unique categories.\n",
      "       Venue_Category\n",
      "70   Sushi Restaurant\n",
      "71  Korean Restaurant\n",
      "72            Theater\n",
      "73         Steakhouse\n",
      "74             Lounge\n"
     ]
    }
   ],
   "source": [
    "### Number of Unique Categories in the Dataframe \n",
    "print('There are {} unique categories.'.format(len(Tokyo_5_Dist_Venues['Venue_Category'].unique())))\n",
    "## We can check some of the categories randomly  \n",
    "print (Tokyo_5_Dist_Venues[['Venue_Category']][70:75])"
   ]
  },
  {
   "cell_type": "markdown",
   "metadata": {},
   "source": [
    "#### We have seen that there are 134 unique categories in the Venues Data-Frame. <br> Let's see the Frequency of Each Category "
   ]
  },
  {
   "cell_type": "code",
   "execution_count": 83,
   "metadata": {
    "ExecuteTime": {
     "end_time": "2020-08-12T18:14:12.908388Z",
     "start_time": "2020-08-12T18:14:12.895545Z"
    }
   },
   "outputs": [
    {
     "name": "stdout",
     "output_type": "stream",
     "text": [
      "BBQ Joint                    26\n",
      "Japanese Restaurant          25\n",
      "Sake Bar                     22\n",
      "Ramen Restaurant             20\n",
      "Café                         18\n",
      "                             ..\n",
      "Deli / Bodega                 1\n",
      "Souvenir Shop                 1\n",
      "Hostel                        1\n",
      "Karaoke Bar                   1\n",
      "Japanese Curry Restaurant     1\n",
      "Name: Venue_Category, Length: 136, dtype: int64\n"
     ]
    }
   ],
   "source": [
    "print (Tokyo_5_Dist_Venues['Venue_Category'].value_counts())"
   ]
  },
  {
   "cell_type": "markdown",
   "metadata": {},
   "source": [
    "#### Create a Data-frame with the 10 Most Frequently Occuring Venue_Category "
   ]
  },
  {
   "cell_type": "code",
   "execution_count": 84,
   "metadata": {
    "ExecuteTime": {
     "end_time": "2020-08-12T18:14:12.924470Z",
     "start_time": "2020-08-12T18:14:12.909505Z"
    }
   },
   "outputs": [
    {
     "data": {
      "text/html": [
       "<div>\n",
       "<style scoped>\n",
       "    .dataframe tbody tr th:only-of-type {\n",
       "        vertical-align: middle;\n",
       "    }\n",
       "\n",
       "    .dataframe tbody tr th {\n",
       "        vertical-align: top;\n",
       "    }\n",
       "\n",
       "    .dataframe thead th {\n",
       "        text-align: right;\n",
       "    }\n",
       "</style>\n",
       "<table border=\"1\" class=\"dataframe\">\n",
       "  <thead>\n",
       "    <tr style=\"text-align: right;\">\n",
       "      <th></th>\n",
       "      <th>Venue_Category</th>\n",
       "      <th>Frequency</th>\n",
       "    </tr>\n",
       "  </thead>\n",
       "  <tbody>\n",
       "    <tr>\n",
       "      <th>0</th>\n",
       "      <td>BBQ Joint</td>\n",
       "      <td>26</td>\n",
       "    </tr>\n",
       "    <tr>\n",
       "      <th>1</th>\n",
       "      <td>Japanese Restaurant</td>\n",
       "      <td>25</td>\n",
       "    </tr>\n",
       "    <tr>\n",
       "      <th>2</th>\n",
       "      <td>Sake Bar</td>\n",
       "      <td>22</td>\n",
       "    </tr>\n",
       "    <tr>\n",
       "      <th>3</th>\n",
       "      <td>Ramen Restaurant</td>\n",
       "      <td>20</td>\n",
       "    </tr>\n",
       "    <tr>\n",
       "      <th>4</th>\n",
       "      <td>Café</td>\n",
       "      <td>18</td>\n",
       "    </tr>\n",
       "    <tr>\n",
       "      <th>5</th>\n",
       "      <td>Bar</td>\n",
       "      <td>17</td>\n",
       "    </tr>\n",
       "    <tr>\n",
       "      <th>6</th>\n",
       "      <td>Hotel</td>\n",
       "      <td>15</td>\n",
       "    </tr>\n",
       "    <tr>\n",
       "      <th>7</th>\n",
       "      <td>Sushi Restaurant</td>\n",
       "      <td>14</td>\n",
       "    </tr>\n",
       "    <tr>\n",
       "      <th>8</th>\n",
       "      <td>Convenience Store</td>\n",
       "      <td>14</td>\n",
       "    </tr>\n",
       "    <tr>\n",
       "      <th>9</th>\n",
       "      <td>French Restaurant</td>\n",
       "      <td>13</td>\n",
       "    </tr>\n",
       "  </tbody>\n",
       "</table>\n",
       "</div>"
      ],
      "text/plain": [
       "        Venue_Category  Frequency\n",
       "0            BBQ Joint         26\n",
       "1  Japanese Restaurant         25\n",
       "2             Sake Bar         22\n",
       "3     Ramen Restaurant         20\n",
       "4                 Café         18\n",
       "5                  Bar         17\n",
       "6                Hotel         15\n",
       "7     Sushi Restaurant         14\n",
       "8    Convenience Store         14\n",
       "9    French Restaurant         13"
      ]
     },
     "execution_count": 84,
     "metadata": {},
     "output_type": "execute_result"
    }
   ],
   "source": [
    "# create a dataframe of top 10 categories\n",
    "Tokyo_5_Dist_Venues_Top10 = Tokyo_5_Dist_Venues['Venue_Category'].value_counts()[0:10].to_frame(name='frequency')\n",
    "Tokyo_5_Dist_Venues_Top10=Tokyo_5_Dist_Venues_Top10.reset_index()\n",
    "#Tokyo_5_Dist_Venues_Top10\n",
    "\n",
    "Tokyo_5_Dist_Venues_Top10.rename(index=str, columns={\"index\": \"Venue_Category\", \"frequency\": \"Frequency\"}, inplace=True)\n",
    "Tokyo_5_Dist_Venues_Top10"
   ]
  },
  {
   "cell_type": "code",
   "execution_count": 85,
   "metadata": {
    "ExecuteTime": {
     "end_time": "2020-08-12T18:14:14.716197Z",
     "start_time": "2020-08-12T18:14:12.925628Z"
    }
   },
   "outputs": [
    {
     "name": "stdout",
     "output_type": "stream",
     "text": [
      "Requirement already satisfied: seaborn in /home/khuyentran/anaconda3/envs/scraping/lib/python3.8/site-packages (0.10.1)\n",
      "Requirement already satisfied: pandas>=0.22.0 in /home/khuyentran/anaconda3/envs/scraping/lib/python3.8/site-packages (from seaborn) (1.0.3)\n",
      "Requirement already satisfied: matplotlib>=2.1.2 in /home/khuyentran/anaconda3/envs/scraping/lib/python3.8/site-packages (from seaborn) (3.2.2)\n",
      "Requirement already satisfied: numpy>=1.13.3 in /home/khuyentran/anaconda3/envs/scraping/lib/python3.8/site-packages (from seaborn) (1.18.1)\n",
      "Requirement already satisfied: scipy>=1.0.1 in /home/khuyentran/anaconda3/envs/scraping/lib/python3.8/site-packages (from seaborn) (1.5.0)\n",
      "Requirement already satisfied: python-dateutil>=2.6.1 in /home/khuyentran/anaconda3/envs/scraping/lib/python3.8/site-packages (from pandas>=0.22.0->seaborn) (2.8.1)\n",
      "Requirement already satisfied: pytz>=2017.2 in /home/khuyentran/anaconda3/envs/scraping/lib/python3.8/site-packages (from pandas>=0.22.0->seaborn) (2020.1)\n",
      "Requirement already satisfied: pyparsing!=2.0.4,!=2.1.2,!=2.1.6,>=2.0.1 in /home/khuyentran/anaconda3/envs/scraping/lib/python3.8/site-packages (from matplotlib>=2.1.2->seaborn) (2.4.7)\n",
      "Requirement already satisfied: kiwisolver>=1.0.1 in /home/khuyentran/anaconda3/envs/scraping/lib/python3.8/site-packages (from matplotlib>=2.1.2->seaborn) (1.2.0)\n",
      "Requirement already satisfied: cycler>=0.10 in /home/khuyentran/anaconda3/envs/scraping/lib/python3.8/site-packages (from matplotlib>=2.1.2->seaborn) (0.10.0)\n",
      "Requirement already satisfied: six>=1.5 in /home/khuyentran/anaconda3/envs/scraping/lib/python3.8/site-packages (from python-dateutil>=2.6.1->pandas>=0.22.0->seaborn) (1.15.0)\n",
      "\u001b[33mWARNING: You are using pip version 20.2; however, version 20.2.1 is available.\n",
      "You should consider upgrading via the '/home/khuyentran/anaconda3/envs/scraping/bin/python -m pip install --upgrade pip' command.\u001b[0m\n"
     ]
    }
   ],
   "source": [
    "!pip install seaborn"
   ]
  },
  {
   "cell_type": "code",
   "execution_count": 86,
   "metadata": {
    "ExecuteTime": {
     "end_time": "2020-08-12T18:14:16.371738Z",
     "start_time": "2020-08-12T18:14:14.718436Z"
    }
   },
   "outputs": [
    {
     "data": {
      "image/png": "[encoded data removed]",
      "text/plain": [
       "<Figure size 1296x504 with 1 Axes>"
      ]
     },
     "metadata": {},
     "output_type": "display_data"
    }
   ],
   "source": [
    "import seaborn as sns\n",
    "fig = plt.figure(figsize=(18,7))\n",
    "s=sns.barplot(x=\"Venue_Category\", y=\"Frequency\", data=Tokyo_5_Dist_Venues_Top10)\n",
    "s.set_xticklabels(s.get_xticklabels(), rotation=30)\n",
    "plt.title('10 Most Frequently Occuring Venues in 5 Major Districts of Tokyo', fontsize=15)\n",
    "plt.xlabel(\"Venue Category\", fontsize=15)\n",
    "plt.ylabel (\"Frequency\", fontsize=15)\n",
    "plt.savefig(\"Most_Freq_Venues.png\", dpi=300)\n",
    "plt.show()"
   ]
  },
  {
   "cell_type": "code",
   "execution_count": 87,
   "metadata": {
    "ExecuteTime": {
     "end_time": "2020-08-12T18:14:16.419115Z",
     "start_time": "2020-08-12T18:14:16.372985Z"
    }
   },
   "outputs": [],
   "source": [
    "report.append(dp.Plot(fig))"
   ]
  },
  {
   "cell_type": "markdown",
   "metadata": {},
   "source": [
    "### Ramen Restaurant is one of the Most Frequent Venues in 5 Major Districts of Tokyo. <br> \n",
    "\n",
    "\n",
    "### Break Time for Ramen \n",
    "\n",
    "![tonkotsu](tonkotsu_ramen.jpg)"
   ]
  },
  {
   "cell_type": "code",
   "execution_count": 88,
   "metadata": {
    "ExecuteTime": {
     "end_time": "2020-08-12T18:14:16.434209Z",
     "start_time": "2020-08-12T18:14:16.421045Z"
    }
   },
   "outputs": [],
   "source": [
    "### Use One Hot Encoding to Get More Information about the Venue Categories \n",
    "Tokyo_5_Dist_Venues_onehot = pd.get_dummies(Tokyo_5_Dist_Venues[['Venue_Category']], prefix=\"\", prefix_sep=\"\")\n",
    "\n",
    "### add district column back to dataframe\n",
    "Tokyo_5_Dist_Venues_onehot['District'] = Tokyo_5_Dist_Venues['District'] \n",
    "### move district column to the first column\n",
    "fixed_columns = [Tokyo_5_Dist_Venues_onehot.columns[-1]] + list(Tokyo_5_Dist_Venues_onehot.columns[:-1])\n",
    "Tokyo_5_Dist_Venues_onehot = Tokyo_5_Dist_Venues_onehot[fixed_columns]\n",
    "###Tokyo_5_Dist_Venues_onehot.head(3)"
   ]
  },
  {
   "cell_type": "code",
   "execution_count": 89,
   "metadata": {
    "ExecuteTime": {
     "end_time": "2020-08-12T18:14:16.460969Z",
     "start_time": "2020-08-12T18:14:16.436327Z"
    },
    "scrolled": true
   },
   "outputs": [
    {
     "data": {
      "text/html": [
       "<div>\n",
       "<style scoped>\n",
       "    .dataframe tbody tr th:only-of-type {\n",
       "        vertical-align: middle;\n",
       "    }\n",
       "\n",
       "    .dataframe tbody tr th {\n",
       "        vertical-align: top;\n",
       "    }\n",
       "\n",
       "    .dataframe thead th {\n",
       "        text-align: right;\n",
       "    }\n",
       "</style>\n",
       "<table border=\"1\" class=\"dataframe\">\n",
       "  <thead>\n",
       "    <tr style=\"text-align: right;\">\n",
       "      <th></th>\n",
       "      <th>District</th>\n",
       "      <th>Accessories Store</th>\n",
       "      <th>African Restaurant</th>\n",
       "      <th>American Restaurant</th>\n",
       "      <th>Art Gallery</th>\n",
       "      <th>Art Museum</th>\n",
       "      <th>Asian Restaurant</th>\n",
       "      <th>BBQ Joint</th>\n",
       "      <th>Bakery</th>\n",
       "      <th>Bar</th>\n",
       "      <th>...</th>\n",
       "      <th>Trail</th>\n",
       "      <th>Train Station</th>\n",
       "      <th>Udon Restaurant</th>\n",
       "      <th>Unagi Restaurant</th>\n",
       "      <th>Vegetarian / Vegan Restaurant</th>\n",
       "      <th>Wagashi Place</th>\n",
       "      <th>Whisky Bar</th>\n",
       "      <th>Wine Bar</th>\n",
       "      <th>Yakitori Restaurant</th>\n",
       "      <th>Yoshoku Restaurant</th>\n",
       "    </tr>\n",
       "  </thead>\n",
       "  <tbody>\n",
       "    <tr>\n",
       "      <th>1</th>\n",
       "      <td>Nagatacho</td>\n",
       "      <td>0.00</td>\n",
       "      <td>0.00</td>\n",
       "      <td>0.02</td>\n",
       "      <td>0.00</td>\n",
       "      <td>0.00</td>\n",
       "      <td>0.00</td>\n",
       "      <td>0.06</td>\n",
       "      <td>0.01</td>\n",
       "      <td>0.03</td>\n",
       "      <td>...</td>\n",
       "      <td>0.00</td>\n",
       "      <td>0.00</td>\n",
       "      <td>0.00</td>\n",
       "      <td>0.01</td>\n",
       "      <td>0.01</td>\n",
       "      <td>0.00</td>\n",
       "      <td>0.00</td>\n",
       "      <td>0.00</td>\n",
       "      <td>0.03</td>\n",
       "      <td>0.02</td>\n",
       "    </tr>\n",
       "    <tr>\n",
       "      <th>2</th>\n",
       "      <td>Nihonbashi</td>\n",
       "      <td>0.00</td>\n",
       "      <td>0.00</td>\n",
       "      <td>0.00</td>\n",
       "      <td>0.01</td>\n",
       "      <td>0.01</td>\n",
       "      <td>0.00</td>\n",
       "      <td>0.06</td>\n",
       "      <td>0.03</td>\n",
       "      <td>0.01</td>\n",
       "      <td>...</td>\n",
       "      <td>0.00</td>\n",
       "      <td>0.00</td>\n",
       "      <td>0.02</td>\n",
       "      <td>0.02</td>\n",
       "      <td>0.00</td>\n",
       "      <td>0.03</td>\n",
       "      <td>0.00</td>\n",
       "      <td>0.00</td>\n",
       "      <td>0.01</td>\n",
       "      <td>0.01</td>\n",
       "    </tr>\n",
       "    <tr>\n",
       "      <th>3</th>\n",
       "      <td>Shibuya</td>\n",
       "      <td>0.01</td>\n",
       "      <td>0.01</td>\n",
       "      <td>0.01</td>\n",
       "      <td>0.00</td>\n",
       "      <td>0.01</td>\n",
       "      <td>0.01</td>\n",
       "      <td>0.02</td>\n",
       "      <td>0.01</td>\n",
       "      <td>0.04</td>\n",
       "      <td>...</td>\n",
       "      <td>0.01</td>\n",
       "      <td>0.00</td>\n",
       "      <td>0.00</td>\n",
       "      <td>0.00</td>\n",
       "      <td>0.00</td>\n",
       "      <td>0.00</td>\n",
       "      <td>0.00</td>\n",
       "      <td>0.02</td>\n",
       "      <td>0.01</td>\n",
       "      <td>0.00</td>\n",
       "    </tr>\n",
       "    <tr>\n",
       "      <th>4</th>\n",
       "      <td>Shinagawa</td>\n",
       "      <td>0.00</td>\n",
       "      <td>0.00</td>\n",
       "      <td>0.00</td>\n",
       "      <td>0.00</td>\n",
       "      <td>0.00</td>\n",
       "      <td>0.00</td>\n",
       "      <td>0.05</td>\n",
       "      <td>0.00</td>\n",
       "      <td>0.01</td>\n",
       "      <td>...</td>\n",
       "      <td>0.00</td>\n",
       "      <td>0.01</td>\n",
       "      <td>0.00</td>\n",
       "      <td>0.00</td>\n",
       "      <td>0.00</td>\n",
       "      <td>0.00</td>\n",
       "      <td>0.00</td>\n",
       "      <td>0.00</td>\n",
       "      <td>0.02</td>\n",
       "      <td>0.02</td>\n",
       "    </tr>\n",
       "    <tr>\n",
       "      <th>5</th>\n",
       "      <td>Shinjuku</td>\n",
       "      <td>0.00</td>\n",
       "      <td>0.00</td>\n",
       "      <td>0.00</td>\n",
       "      <td>0.00</td>\n",
       "      <td>0.00</td>\n",
       "      <td>0.00</td>\n",
       "      <td>0.07</td>\n",
       "      <td>0.00</td>\n",
       "      <td>0.08</td>\n",
       "      <td>...</td>\n",
       "      <td>0.00</td>\n",
       "      <td>0.00</td>\n",
       "      <td>0.00</td>\n",
       "      <td>0.01</td>\n",
       "      <td>0.00</td>\n",
       "      <td>0.00</td>\n",
       "      <td>0.01</td>\n",
       "      <td>0.00</td>\n",
       "      <td>0.02</td>\n",
       "      <td>0.02</td>\n",
       "    </tr>\n",
       "  </tbody>\n",
       "</table>\n",
       "<p>5 rows × 137 columns</p>\n",
       "</div>"
      ],
      "text/plain": [
       "     District  Accessories Store  African Restaurant  American Restaurant  \\\n",
       "1   Nagatacho               0.00                0.00                 0.02   \n",
       "2  Nihonbashi               0.00                0.00                 0.00   \n",
       "3     Shibuya               0.01                0.01                 0.01   \n",
       "4   Shinagawa               0.00                0.00                 0.00   \n",
       "5    Shinjuku               0.00                0.00                 0.00   \n",
       "\n",
       "   Art Gallery  Art Museum  Asian Restaurant  BBQ Joint  Bakery   Bar  ...  \\\n",
       "1         0.00        0.00              0.00       0.06    0.01  0.03  ...   \n",
       "2         0.01        0.01              0.00       0.06    0.03  0.01  ...   \n",
       "3         0.00        0.01              0.01       0.02    0.01  0.04  ...   \n",
       "4         0.00        0.00              0.00       0.05    0.00  0.01  ...   \n",
       "5         0.00        0.00              0.00       0.07    0.00  0.08  ...   \n",
       "\n",
       "   Trail  Train Station  Udon Restaurant  Unagi Restaurant  \\\n",
       "1   0.00           0.00             0.00              0.01   \n",
       "2   0.00           0.00             0.02              0.02   \n",
       "3   0.01           0.00             0.00              0.00   \n",
       "4   0.00           0.01             0.00              0.00   \n",
       "5   0.00           0.00             0.00              0.01   \n",
       "\n",
       "   Vegetarian / Vegan Restaurant  Wagashi Place  Whisky Bar  Wine Bar  \\\n",
       "1                           0.01           0.00        0.00      0.00   \n",
       "2                           0.00           0.03        0.00      0.00   \n",
       "3                           0.00           0.00        0.00      0.02   \n",
       "4                           0.00           0.00        0.00      0.00   \n",
       "5                           0.00           0.00        0.01      0.00   \n",
       "\n",
       "   Yakitori Restaurant  Yoshoku Restaurant  \n",
       "1                 0.03                0.02  \n",
       "2                 0.01                0.01  \n",
       "3                 0.01                0.00  \n",
       "4                 0.02                0.02  \n",
       "5                 0.02                0.02  \n",
       "\n",
       "[5 rows x 137 columns]"
      ]
     },
     "execution_count": 89,
     "metadata": {},
     "output_type": "execute_result"
    }
   ],
   "source": [
    "Tokyo_5_Dist_Venues_Grouped = Tokyo_5_Dist_Venues_onehot.groupby('District').mean().reset_index()\n",
    "Tokyo_5_Dist_Venues_Grouped.index = np.arange(1, len(Tokyo_5_Dist_Venues_Grouped)+1)\n",
    "Tokyo_5_Dist_Venues_Grouped"
   ]
  },
  {
   "cell_type": "code",
   "execution_count": 90,
   "metadata": {
    "ExecuteTime": {
     "end_time": "2020-08-12T18:14:16.494690Z",
     "start_time": "2020-08-12T18:14:16.462558Z"
    }
   },
   "outputs": [
    {
     "name": "stdout",
     "output_type": "stream",
     "text": [
      "%%%%%%%%%Nagatacho%%%%%%%%\n",
      "                 Venue  Freq\n",
      "0  Japanese Restaurant  0.09\n",
      "1          Coffee Shop  0.06\n",
      "2                Hotel  0.06\n",
      "3            BBQ Joint  0.06\n",
      "4   Chinese Restaurant  0.06\n",
      "\n",
      "\n",
      "%%%%%%%%%Nihonbashi%%%%%%%%\n",
      "                 Venue  Freq\n",
      "0  Japanese Restaurant  0.08\n",
      "1            BBQ Joint  0.06\n",
      "2                 Café  0.05\n",
      "3    French Restaurant  0.04\n",
      "4                Hotel  0.04\n",
      "\n",
      "\n",
      "%%%%%%%%%Shibuya%%%%%%%%\n",
      "               Venue  Freq\n",
      "0               Café  0.08\n",
      "1        Record Shop  0.06\n",
      "2  French Restaurant  0.05\n",
      "3        Coffee Shop  0.04\n",
      "4                Bar  0.04\n",
      "\n",
      "\n",
      "%%%%%%%%%Shinagawa%%%%%%%%\n",
      "               Venue  Freq\n",
      "0  Convenience Store  0.14\n",
      "1   Ramen Restaurant  0.08\n",
      "2           Sake Bar  0.07\n",
      "3      Grocery Store  0.05\n",
      "4          BBQ Joint  0.05\n",
      "\n",
      "\n",
      "%%%%%%%%%Shinjuku%%%%%%%%\n",
      "                 Venue  Freq\n",
      "0             Sake Bar  0.09\n",
      "1                  Bar  0.08\n",
      "2            BBQ Joint  0.07\n",
      "3     Ramen Restaurant  0.05\n",
      "4  Japanese Restaurant  0.05\n",
      "\n",
      "\n"
     ]
    }
   ],
   "source": [
    "num_top_venues = 5\n",
    "\n",
    "for places in Tokyo_5_Dist_Venues_Grouped['District']:\n",
    "    print(\"%%%%%%%%%\"+places+\"%%%%%%%%\")\n",
    "    temp = Tokyo_5_Dist_Venues_Grouped[Tokyo_5_Dist_Venues_Grouped['District'] == places].T.reset_index()\n",
    "    temp.columns = ['Venue','Freq']\n",
    "    temp = temp.iloc[1:]\n",
    "    temp['Freq'] = temp['Freq'].astype(float)\n",
    "    temp = temp.round({'Freq': 2})\n",
    "    print(temp.sort_values('Freq', ascending=False).reset_index(drop=True).head(num_top_venues))\n",
    "    print('\\n')"
   ]
  },
  {
   "cell_type": "markdown",
   "metadata": {},
   "source": [
    "#### Create a DataFrame with Top 10 Venues for Each District "
   ]
  },
  {
   "cell_type": "code",
   "execution_count": 91,
   "metadata": {
    "ExecuteTime": {
     "end_time": "2020-08-12T18:14:16.517287Z",
     "start_time": "2020-08-12T18:14:16.495773Z"
    }
   },
   "outputs": [
    {
     "data": {
      "text/html": [
       "<div>\n",
       "<style scoped>\n",
       "    .dataframe tbody tr th:only-of-type {\n",
       "        vertical-align: middle;\n",
       "    }\n",
       "\n",
       "    .dataframe tbody tr th {\n",
       "        vertical-align: top;\n",
       "    }\n",
       "\n",
       "    .dataframe thead th {\n",
       "        text-align: right;\n",
       "    }\n",
       "</style>\n",
       "<table border=\"1\" class=\"dataframe\">\n",
       "  <thead>\n",
       "    <tr style=\"text-align: right;\">\n",
       "      <th></th>\n",
       "      <th>District</th>\n",
       "      <th>1st Most Common Venue</th>\n",
       "      <th>2nd Most Common Venue</th>\n",
       "      <th>3rd Most Common Venue</th>\n",
       "      <th>4th Most Common Venue</th>\n",
       "      <th>5th Most Common Venue</th>\n",
       "      <th>6th Most Common Venue</th>\n",
       "      <th>7th Most Common Venue</th>\n",
       "      <th>8th Most Common Venue</th>\n",
       "      <th>9th Most Common Venue</th>\n",
       "      <th>10th Most Common Venue</th>\n",
       "    </tr>\n",
       "  </thead>\n",
       "  <tbody>\n",
       "    <tr>\n",
       "      <th>1</th>\n",
       "      <td>Nagatacho</td>\n",
       "      <td>Japanese Restaurant</td>\n",
       "      <td>Hotel</td>\n",
       "      <td>BBQ Joint</td>\n",
       "      <td>Coffee Shop</td>\n",
       "      <td>Chinese Restaurant</td>\n",
       "      <td>Sake Bar</td>\n",
       "      <td>Theater</td>\n",
       "      <td>Italian Restaurant</td>\n",
       "      <td>Yakitori Restaurant</td>\n",
       "      <td>Bar</td>\n",
       "    </tr>\n",
       "    <tr>\n",
       "      <th>2</th>\n",
       "      <td>Nihonbashi</td>\n",
       "      <td>Japanese Restaurant</td>\n",
       "      <td>BBQ Joint</td>\n",
       "      <td>Café</td>\n",
       "      <td>Hotel</td>\n",
       "      <td>Hobby Shop</td>\n",
       "      <td>French Restaurant</td>\n",
       "      <td>Department Store</td>\n",
       "      <td>Bakery</td>\n",
       "      <td>Soba Restaurant</td>\n",
       "      <td>Sushi Restaurant</td>\n",
       "    </tr>\n",
       "    <tr>\n",
       "      <th>3</th>\n",
       "      <td>Shibuya</td>\n",
       "      <td>Café</td>\n",
       "      <td>Record Shop</td>\n",
       "      <td>French Restaurant</td>\n",
       "      <td>Coffee Shop</td>\n",
       "      <td>Bar</td>\n",
       "      <td>Ramen Restaurant</td>\n",
       "      <td>Sushi Restaurant</td>\n",
       "      <td>Japanese Restaurant</td>\n",
       "      <td>Seafood Restaurant</td>\n",
       "      <td>Chinese Restaurant</td>\n",
       "    </tr>\n",
       "    <tr>\n",
       "      <th>4</th>\n",
       "      <td>Shinagawa</td>\n",
       "      <td>Convenience Store</td>\n",
       "      <td>Ramen Restaurant</td>\n",
       "      <td>Sake Bar</td>\n",
       "      <td>Grocery Store</td>\n",
       "      <td>BBQ Joint</td>\n",
       "      <td>Sushi Restaurant</td>\n",
       "      <td>Donburi Restaurant</td>\n",
       "      <td>Park</td>\n",
       "      <td>Restaurant</td>\n",
       "      <td>Soba Restaurant</td>\n",
       "    </tr>\n",
       "    <tr>\n",
       "      <th>5</th>\n",
       "      <td>Shinjuku</td>\n",
       "      <td>Sake Bar</td>\n",
       "      <td>Bar</td>\n",
       "      <td>BBQ Joint</td>\n",
       "      <td>Ramen Restaurant</td>\n",
       "      <td>Japanese Restaurant</td>\n",
       "      <td>Pub</td>\n",
       "      <td>Rock Club</td>\n",
       "      <td>Department Store</td>\n",
       "      <td>Record Shop</td>\n",
       "      <td>Noodle House</td>\n",
       "    </tr>\n",
       "  </tbody>\n",
       "</table>\n",
       "</div>"
      ],
      "text/plain": [
       "     District 1st Most Common Venue 2nd Most Common Venue  \\\n",
       "1   Nagatacho   Japanese Restaurant                 Hotel   \n",
       "2  Nihonbashi   Japanese Restaurant             BBQ Joint   \n",
       "3     Shibuya                  Café           Record Shop   \n",
       "4   Shinagawa     Convenience Store      Ramen Restaurant   \n",
       "5    Shinjuku              Sake Bar                   Bar   \n",
       "\n",
       "  3rd Most Common Venue 4th Most Common Venue 5th Most Common Venue  \\\n",
       "1             BBQ Joint           Coffee Shop    Chinese Restaurant   \n",
       "2                  Café                 Hotel            Hobby Shop   \n",
       "3     French Restaurant           Coffee Shop                   Bar   \n",
       "4              Sake Bar         Grocery Store             BBQ Joint   \n",
       "5             BBQ Joint      Ramen Restaurant   Japanese Restaurant   \n",
       "\n",
       "  6th Most Common Venue 7th Most Common Venue 8th Most Common Venue  \\\n",
       "1              Sake Bar               Theater    Italian Restaurant   \n",
       "2     French Restaurant      Department Store                Bakery   \n",
       "3      Ramen Restaurant      Sushi Restaurant   Japanese Restaurant   \n",
       "4      Sushi Restaurant    Donburi Restaurant                  Park   \n",
       "5                   Pub             Rock Club      Department Store   \n",
       "\n",
       "  9th Most Common Venue 10th Most Common Venue  \n",
       "1   Yakitori Restaurant                    Bar  \n",
       "2       Soba Restaurant       Sushi Restaurant  \n",
       "3    Seafood Restaurant     Chinese Restaurant  \n",
       "4            Restaurant        Soba Restaurant  \n",
       "5           Record Shop           Noodle House  "
      ]
     },
     "execution_count": 91,
     "metadata": {},
     "output_type": "execute_result"
    }
   ],
   "source": [
    "## Define a Function to select the top 10 rows (According to the Values) \n",
    "\n",
    "def return_most_common_venues(row, num_top_venues):\n",
    "    row_categories = row.iloc[1:]\n",
    "    row_categories_sorted = row_categories.sort_values(ascending=False)\n",
    "    \n",
    "    return row_categories_sorted.index.values[0:num_top_venues]\n",
    "\n",
    "num_top_venues = 10\n",
    "\n",
    "indicators = ['st', 'nd', 'rd']\n",
    "\n",
    "# create columns according to number of top venues\n",
    "columns = ['District']\n",
    "for ind in np.arange(num_top_venues):\n",
    "    try:\n",
    "        columns.append('{}{} Most Common Venue'.format(ind+1, indicators[ind]))\n",
    "    except:\n",
    "        columns.append('{}th Most Common Venue'.format(ind+1))\n",
    "\n",
    "# create a new dataframe\n",
    "District_top10_venues_sorted = pd.DataFrame(columns=columns)\n",
    "District_top10_venues_sorted['District'] = Tokyo_5_Dist_Venues_Grouped['District']\n",
    "\n",
    "for ind in np.arange(Tokyo_5_Dist_Venues_Grouped.shape[0]):\n",
    "    District_top10_venues_sorted.iloc[ind, 1:] = return_most_common_venues(Tokyo_5_Dist_Venues_Grouped.iloc[ind, :], num_top_venues)\n",
    "\n",
    "    \n",
    "District_top10_venues_sorted.index = np.arange(1, len(District_top10_venues_sorted)+1)\n",
    "District_top10_venues_sorted.head(5)"
   ]
  },
  {
   "cell_type": "code",
   "execution_count": 92,
   "metadata": {
    "ExecuteTime": {
     "end_time": "2020-08-12T18:14:17.906046Z",
     "start_time": "2020-08-12T18:14:16.518382Z"
    }
   },
   "outputs": [
    {
     "data": {
      "image/png": "[encoded data removed]",
      "text/plain": [
       "<Figure size 1008x576 with 4 Axes>"
      ]
     },
     "metadata": {},
     "output_type": "display_data"
    }
   ],
   "source": [
    "# Let's try Categorical plot \n",
    "\n",
    "\n",
    "fig = plt.figure(figsize=(14,8))\n",
    "\n",
    "sns.set(font_scale=1.1)\n",
    "ax = plt.subplot(2,2,1)\n",
    "sns.violinplot(x=\"District\", y=\"Japanese Restaurant\", data=Tokyo_5_Dist_Venues_onehot, cut=0);\n",
    "plt.xlabel(\"\")\n",
    "ax = plt.subplot(2,2,2)\n",
    "sns.violinplot(x=\"District\", y=\"Ramen Restaurant\", data=Tokyo_5_Dist_Venues_onehot, cut=0);\n",
    "plt.xlabel(\"\")\n",
    "plt.subplot(2,2,3)\n",
    "sns.violinplot(x=\"District\", y=\"Chinese Restaurant\", data=Tokyo_5_Dist_Venues_onehot, cut=0);\n",
    "plt.subplot(2,2,4)\n",
    "sns.violinplot(x=\"District\", y=\"Sushi Restaurant\", data=Tokyo_5_Dist_Venues_onehot, cut=0);\n",
    "#ax.title.set_text(\"5 Major Districts and Violin Plots of Most Frequently Visited Restaurants\")\n",
    "ax.text(-4.0, 1.1, '5 Major Districts and Violin Plots of Most Frequently Visited Restaurants', fontsize=14)\n",
    "plt.savefig (\"Violin_plots_Dist_Frequent_Restaurant.png\", dpi=240)\n",
    "plt.show()"
   ]
  },
  {
   "cell_type": "code",
   "execution_count": 93,
   "metadata": {
    "ExecuteTime": {
     "end_time": "2020-08-12T18:14:18.025092Z",
     "start_time": "2020-08-12T18:14:17.907335Z"
    }
   },
   "outputs": [],
   "source": [
    "report.append(dp.Plot(fig))"
   ]
  },
  {
   "cell_type": "code",
   "execution_count": 94,
   "metadata": {
    "ExecuteTime": {
     "end_time": "2020-08-12T18:14:18.185666Z",
     "start_time": "2020-08-12T18:14:18.026149Z"
    }
   },
   "outputs": [
    {
     "name": "stdout",
     "output_type": "stream",
     "text": [
      "[53, 40, 29, 33, 29]\n"
     ]
    },
    {
     "data": {
      "image/png": "[encoded data removed]",
      "text/plain": [
       "<Figure size 864x576 with 1 Axes>"
      ]
     },
     "metadata": {},
     "output_type": "display_data"
    }
   ],
   "source": [
    "#try groupby to play with restaurant \n",
    "Tokyo_5_Dist_Venues_restaurant = Tokyo_5_Dist_Venues.groupby(['District'])['Venue_Category'].apply(lambda x: x[x.str.contains('Restaurant')].count())\n",
    "Tokyo_5_Dist_Venues_restaurant_df = Tokyo_5_Dist_Venues_restaurant.to_frame().reset_index()\n",
    "Tokyo_5_Dist_Venues_restaurant_df.columns = ['District', 'Number of Restaurant']\n",
    "#Tokyo_5_Dist_Venues_restaurant.columns = ['District', 'Number of Restaurant']\n",
    "#print (type(Tokyo_5_Dist_Venues_restaurant))\n",
    "Tokyo_5_Dist_Venues_restaurant_df.index = np.arange(1, len(Tokyo_5_Dist_Venues_restaurant_df)+1)\n",
    "\n",
    "#print (\"shape of the dataframe: \", Tokyo_5_Dist_Venues_restaurant_df.shape)\n",
    "#print (Tokyo_5_Dist_Venues_restaurant_df.head(5))\n",
    "#print (type(Tokyo_5_Dist_Venues_restaurant_df[['Number of Restaurant']]))\n",
    "list_rest_no = Tokyo_5_Dist_Venues_restaurant_df['Number of Restaurant'].to_list()\n",
    "print (list_rest_no)\n",
    "fig = plt.figure(figsize=(12,8))\n",
    "bar = sns.barplot(x='District', y='Number of Restaurant', data=Tokyo_5_Dist_Venues_restaurant_df)\n",
    "\n",
    "bar.set_ylabel(\"Total Number of Restaurants\", fontsize=14)\n",
    "bar.set_xlabel(\"5 Major Districts of Tokyo\", fontsize=14)\n",
    "bar.set_xticklabels(bar.get_xticklabels(),rotation=40)\n",
    "bar.set_title(\"Number of Restaurants as Top-Most Venues\", fontsize=14)\n",
    "#plt.savefig(\"No_of_Rest_as_Top_Venues.png\", dpi=240)\n",
    "plt.show()"
   ]
  },
  {
   "cell_type": "code",
   "execution_count": 95,
   "metadata": {
    "ExecuteTime": {
     "end_time": "2020-08-12T18:14:18.218969Z",
     "start_time": "2020-08-12T18:14:18.186749Z"
    }
   },
   "outputs": [],
   "source": [
    "report.append(dp.Plot(fig))"
   ]
  },
  {
   "cell_type": "markdown",
   "metadata": {},
   "source": [
    "### Clustering the Tokyo Districts (Neighborhoods) using _K-Means_"
   ]
  },
  {
   "cell_type": "code",
   "execution_count": 96,
   "metadata": {
    "ExecuteTime": {
     "end_time": "2020-08-12T18:14:18.238964Z",
     "start_time": "2020-08-12T18:14:18.220121Z"
    }
   },
   "outputs": [
    {
     "name": "stdout",
     "output_type": "stream",
     "text": [
      "Check the 5 Cluster labels : [0 0 2 1 2]\n"
     ]
    }
   ],
   "source": [
    "# set number of clusters\n",
    "kclusters = 3\n",
    "\n",
    "Tokyo_grouped_clustering = Tokyo_5_Dist_Venues_Grouped.drop('District', 1)\n",
    "\n",
    "# run k-means clustering\n",
    "kmeans = KMeans(n_clusters=kclusters, random_state=0).fit(Tokyo_grouped_clustering)\n",
    "\n",
    "# check cluster labels generated for each row in the dataframe\n",
    "print (\"Check the 5 Cluster labels :\",  kmeans.labels_[0:5]) "
   ]
  },
  {
   "cell_type": "code",
   "execution_count": 97,
   "metadata": {
    "ExecuteTime": {
     "end_time": "2020-08-12T18:14:18.256122Z",
     "start_time": "2020-08-12T18:14:18.239950Z"
    }
   },
   "outputs": [
    {
     "data": {
      "text/html": [
       "<div>\n",
       "<style scoped>\n",
       "    .dataframe tbody tr th:only-of-type {\n",
       "        vertical-align: middle;\n",
       "    }\n",
       "\n",
       "    .dataframe tbody tr th {\n",
       "        vertical-align: top;\n",
       "    }\n",
       "\n",
       "    .dataframe thead th {\n",
       "        text-align: right;\n",
       "    }\n",
       "</style>\n",
       "<table border=\"1\" class=\"dataframe\">\n",
       "  <thead>\n",
       "    <tr style=\"text-align: right;\">\n",
       "      <th></th>\n",
       "      <th>Ward</th>\n",
       "      <th>Area_SqKm</th>\n",
       "      <th>Population</th>\n",
       "      <th>Major_District</th>\n",
       "      <th>Dist_Latitude</th>\n",
       "      <th>Dist_Longitude</th>\n",
       "      <th>Average_Price(SqKm)</th>\n",
       "      <th>Cluster Label</th>\n",
       "      <th>1st Most Common Venue</th>\n",
       "      <th>2nd Most Common Venue</th>\n",
       "      <th>3rd Most Common Venue</th>\n",
       "      <th>4th Most Common Venue</th>\n",
       "      <th>5th Most Common Venue</th>\n",
       "      <th>6th Most Common Venue</th>\n",
       "      <th>7th Most Common Venue</th>\n",
       "      <th>8th Most Common Venue</th>\n",
       "      <th>9th Most Common Venue</th>\n",
       "      <th>10th Most Common Venue</th>\n",
       "    </tr>\n",
       "  </thead>\n",
       "  <tbody>\n",
       "    <tr>\n",
       "      <th>1</th>\n",
       "      <td>Chiyoda</td>\n",
       "      <td>5100</td>\n",
       "      <td>59441</td>\n",
       "      <td>Nagatacho</td>\n",
       "      <td>35.675618</td>\n",
       "      <td>139.743469</td>\n",
       "      <td>2705898</td>\n",
       "      <td>0</td>\n",
       "      <td>Japanese Restaurant</td>\n",
       "      <td>Hotel</td>\n",
       "      <td>BBQ Joint</td>\n",
       "      <td>Coffee Shop</td>\n",
       "      <td>Chinese Restaurant</td>\n",
       "      <td>Sake Bar</td>\n",
       "      <td>Theater</td>\n",
       "      <td>Italian Restaurant</td>\n",
       "      <td>Yakitori Restaurant</td>\n",
       "      <td>Bar</td>\n",
       "    </tr>\n",
       "    <tr>\n",
       "      <th>2</th>\n",
       "      <td>Chuo</td>\n",
       "      <td>14460</td>\n",
       "      <td>147620</td>\n",
       "      <td>Nihonbashi</td>\n",
       "      <td>35.684058</td>\n",
       "      <td>139.774501</td>\n",
       "      <td>2699719</td>\n",
       "      <td>0</td>\n",
       "      <td>Japanese Restaurant</td>\n",
       "      <td>BBQ Joint</td>\n",
       "      <td>Café</td>\n",
       "      <td>Hotel</td>\n",
       "      <td>Hobby Shop</td>\n",
       "      <td>French Restaurant</td>\n",
       "      <td>Department Store</td>\n",
       "      <td>Bakery</td>\n",
       "      <td>Soba Restaurant</td>\n",
       "      <td>Sushi Restaurant</td>\n",
       "    </tr>\n",
       "    <tr>\n",
       "      <th>3</th>\n",
       "      <td>Shinjuku</td>\n",
       "      <td>18620</td>\n",
       "      <td>339211</td>\n",
       "      <td>Shinjuku</td>\n",
       "      <td>35.693763</td>\n",
       "      <td>139.703632</td>\n",
       "      <td>939286</td>\n",
       "      <td>2</td>\n",
       "      <td>Sake Bar</td>\n",
       "      <td>Bar</td>\n",
       "      <td>BBQ Joint</td>\n",
       "      <td>Ramen Restaurant</td>\n",
       "      <td>Japanese Restaurant</td>\n",
       "      <td>Pub</td>\n",
       "      <td>Rock Club</td>\n",
       "      <td>Department Store</td>\n",
       "      <td>Record Shop</td>\n",
       "      <td>Noodle House</td>\n",
       "    </tr>\n",
       "    <tr>\n",
       "      <th>4</th>\n",
       "      <td>Shinagawa</td>\n",
       "      <td>17180</td>\n",
       "      <td>392492</td>\n",
       "      <td>Shinagawa</td>\n",
       "      <td>35.599252</td>\n",
       "      <td>139.738910</td>\n",
       "      <td>767398</td>\n",
       "      <td>1</td>\n",
       "      <td>Convenience Store</td>\n",
       "      <td>Ramen Restaurant</td>\n",
       "      <td>Sake Bar</td>\n",
       "      <td>Grocery Store</td>\n",
       "      <td>BBQ Joint</td>\n",
       "      <td>Sushi Restaurant</td>\n",
       "      <td>Donburi Restaurant</td>\n",
       "      <td>Park</td>\n",
       "      <td>Restaurant</td>\n",
       "      <td>Soba Restaurant</td>\n",
       "    </tr>\n",
       "    <tr>\n",
       "      <th>5</th>\n",
       "      <td>Shibuya</td>\n",
       "      <td>15080</td>\n",
       "      <td>227850</td>\n",
       "      <td>Shibuya</td>\n",
       "      <td>35.664596</td>\n",
       "      <td>139.698711</td>\n",
       "      <td>1360332</td>\n",
       "      <td>2</td>\n",
       "      <td>Café</td>\n",
       "      <td>Record Shop</td>\n",
       "      <td>French Restaurant</td>\n",
       "      <td>Coffee Shop</td>\n",
       "      <td>Bar</td>\n",
       "      <td>Ramen Restaurant</td>\n",
       "      <td>Sushi Restaurant</td>\n",
       "      <td>Japanese Restaurant</td>\n",
       "      <td>Seafood Restaurant</td>\n",
       "      <td>Chinese Restaurant</td>\n",
       "    </tr>\n",
       "  </tbody>\n",
       "</table>\n",
       "</div>"
      ],
      "text/plain": [
       "        Ward  Area_SqKm  Population Major_District  Dist_Latitude  \\\n",
       "1    Chiyoda       5100       59441      Nagatacho      35.675618   \n",
       "2       Chuo      14460      147620     Nihonbashi      35.684058   \n",
       "3   Shinjuku      18620      339211       Shinjuku      35.693763   \n",
       "4  Shinagawa      17180      392492      Shinagawa      35.599252   \n",
       "5    Shibuya      15080      227850        Shibuya      35.664596   \n",
       "\n",
       "   Dist_Longitude Average_Price(SqKm)  Cluster Label 1st Most Common Venue  \\\n",
       "1      139.743469            2705898               0   Japanese Restaurant   \n",
       "2      139.774501            2699719               0   Japanese Restaurant   \n",
       "3      139.703632             939286               2              Sake Bar   \n",
       "4      139.738910             767398               1     Convenience Store   \n",
       "5      139.698711            1360332               2                  Café   \n",
       "\n",
       "  2nd Most Common Venue 3rd Most Common Venue 4th Most Common Venue  \\\n",
       "1                 Hotel             BBQ Joint           Coffee Shop   \n",
       "2             BBQ Joint                  Café                 Hotel   \n",
       "3                   Bar             BBQ Joint      Ramen Restaurant   \n",
       "4      Ramen Restaurant              Sake Bar         Grocery Store   \n",
       "5           Record Shop     French Restaurant           Coffee Shop   \n",
       "\n",
       "  5th Most Common Venue 6th Most Common Venue 7th Most Common Venue  \\\n",
       "1    Chinese Restaurant              Sake Bar               Theater   \n",
       "2            Hobby Shop     French Restaurant      Department Store   \n",
       "3   Japanese Restaurant                   Pub             Rock Club   \n",
       "4             BBQ Joint      Sushi Restaurant    Donburi Restaurant   \n",
       "5                   Bar      Ramen Restaurant      Sushi Restaurant   \n",
       "\n",
       "  8th Most Common Venue 9th Most Common Venue 10th Most Common Venue  \n",
       "1    Italian Restaurant   Yakitori Restaurant                    Bar  \n",
       "2                Bakery       Soba Restaurant       Sushi Restaurant  \n",
       "3      Department Store           Record Shop           Noodle House  \n",
       "4                  Park            Restaurant        Soba Restaurant  \n",
       "5   Japanese Restaurant    Seafood Restaurant     Chinese Restaurant  "
      ]
     },
     "execution_count": 97,
     "metadata": {},
     "output_type": "execute_result"
    }
   ],
   "source": [
    "# add clustering labels\n",
    "\n",
    "District_top10_venues_sorted.insert(0, 'Cluster Label', kmeans.labels_)\n",
    "\n",
    "Tokyo_5_Dist_Coordinate_Cluster_merged = Tokyo_df_selected_final\n",
    "\n",
    "#merge the inital Tokyo Dataframe with Sorted Most Visited places for each neighborhood\n",
    "\n",
    "Tokyo_5_Dist_Coordinate_Cluster_merged = Tokyo_5_Dist_Coordinate_Cluster_merged.join \\\n",
    "                                        (District_top10_venues_sorted.set_index('District'), on='Major_District')\n",
    "\n",
    "Tokyo_5_Dist_Coordinate_Cluster_merged.head() "
   ]
  },
  {
   "cell_type": "code",
   "execution_count": 98,
   "metadata": {
    "ExecuteTime": {
     "end_time": "2020-08-12T18:14:18.278896Z",
     "start_time": "2020-08-12T18:14:18.257381Z"
    }
   },
   "outputs": [
    {
     "data": {
      "text/html": [
       "<div style=\"width:100%;\"><div style=\"position:relative;width:100%;height:0;padding-bottom:60%;\"><span style=\"color:#565656\">Make this Notebook Trusted to load map: File -> Trust Notebook</span><iframe src=\"about:blank\" style=\"position:absolute;width:100%;height:100%;left:0;top:0;border:none !important;\" data-html=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 onload=\"this.contentDocument.open();this.contentDocument.write(atob(this.getAttribute('data-html')));this.contentDocument.close();\" allowfullscreen webkitallowfullscreen mozallowfullscreen></iframe></div></div>"
      ],
      "text/plain": [
       "<folium.folium.Map at 0x7f3d277989d0>"
      ]
     },
     "execution_count": 98,
     "metadata": {},
     "output_type": "execute_result"
    }
   ],
   "source": [
    "# create map\n",
    "map_clusters = folium.Map(location=[Tokyo_latitude, Tokyo_longitude], zoom_start=11)\n",
    "\n",
    "# set color scheme for the clusters\n",
    "x = np.arange(kclusters)\n",
    "ys = [i + x + (i*x)**2 for i in range(kclusters)]\n",
    "colors_array = cm.rainbow(np.linspace(0, 1, len(ys)))\n",
    "rainbow = [colors.rgb2hex(i) for i in colors_array]\n",
    "\n",
    "# add markers to the map\n",
    "markers_colors = []\n",
    "for lat, lon, poi, cluster in zip(Tokyo_5_Dist_Coordinate_Cluster_merged['Dist_Latitude'], \n",
    "                                  Tokyo_5_Dist_Coordinate_Cluster_merged['Dist_Longitude'], \n",
    "                                  Tokyo_5_Dist_Coordinate_Cluster_merged['Major_District'], \n",
    "                                  Tokyo_5_Dist_Coordinate_Cluster_merged['Cluster Label']):\n",
    "    label = folium.Popup(str(poi) + ' Cluster ' + str(cluster), parse_html=True)\n",
    "    folium.CircleMarker(\n",
    "        [lat, lon],\n",
    "        radius=8,\n",
    "        popup=label,\n",
    "        color=rainbow[cluster-1],\n",
    "        fill=True,\n",
    "        fill_color=rainbow[cluster-1],\n",
    "        fill_opacity=0.7).add_to(map_clusters)\n",
    "       \n",
    "map_clusters"
   ]
  },
  {
   "cell_type": "code",
   "execution_count": 99,
   "metadata": {
    "ExecuteTime": {
     "end_time": "2020-08-12T18:14:18.289831Z",
     "start_time": "2020-08-12T18:14:18.279974Z"
    }
   },
   "outputs": [],
   "source": [
    "report.append(dp.Plot(map_clusters))"
   ]
  },
  {
   "cell_type": "code",
   "execution_count": 100,
   "metadata": {
    "ExecuteTime": {
     "end_time": "2020-08-12T18:14:18.309457Z",
     "start_time": "2020-08-12T18:14:18.291611Z"
    }
   },
   "outputs": [
    {
     "data": {
      "text/html": [
       "<div style=\"width:100%;\"><div style=\"position:relative;width:100%;height:0;padding-bottom:60%;\"><span style=\"color:#565656\">Make this Notebook Trusted to load map: File -> Trust Notebook</span><iframe src=\"about:blank\" style=\"position:absolute;width:100%;height:100%;left:0;top:0;border:none !important;\" data-html=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 onload=\"this.contentDocument.open();this.contentDocument.write(atob(this.getAttribute('data-html')));this.contentDocument.close();\" allowfullscreen webkitallowfullscreen mozallowfullscreen></iframe></div></div>"
      ],
      "text/plain": [
       "<folium.folium.Map at 0x7f3d25875fd0>"
      ]
     },
     "execution_count": 100,
     "metadata": {},
     "output_type": "execute_result"
    }
   ],
   "source": [
    "# create map\n",
    "map_restaurants10 = folium.Map(location=[Tokyo_latitude, Tokyo_longitude], tiles='cartodbpositron', \n",
    "                               attr=\"<a href=https://github.com/python-visualization/folium/>Folium</a>\")\n",
    "\n",
    "# set color scheme for the clusters\n",
    "x = np.arange(kclusters)\n",
    "ys = [i + x + (i*x)**2 for i in range(kclusters)]\n",
    "colors_array = cm.rainbow(np.linspace(0, 1, len(ys)))\n",
    "rainbow = [colors.rgb2hex(i) for i in colors_array]\n",
    "#rainbow = ['#00ff00', '#ff00ff','#0000ff','#ffa500' ,'#ff0000']\n",
    "Districts = ['Nagatacho', 'Nihonbashi', 'Shinjuku', 'Shinagawa', 'Shibuya']\n",
    "\n",
    "# add markers to the map\n",
    "for lat, lon, poi, cluster in zip(Tokyo_5_Dist_Coordinate_Cluster_merged['Dist_Latitude'], \n",
    "                                  Tokyo_5_Dist_Coordinate_Cluster_merged['Dist_Longitude'], \n",
    "                                  Tokyo_5_Dist_Coordinate_Cluster_merged['Major_District'], \n",
    "                                  Tokyo_5_Dist_Coordinate_Cluster_merged['Cluster Label']):\n",
    "    label = folium.Popup(str(poi) + ' Cluster ' + str(cluster), parse_html=True)\n",
    "    folium.CircleMarker(\n",
    "        [lat, lon],\n",
    "        radius=list_rest_no[Districts.index(poi)]*0.5,\n",
    "        popup=label,\n",
    "        color=rainbow[cluster-1],\n",
    "        fill=True,\n",
    "        fill_color=rainbow[cluster-1],\n",
    "        fill_opacity=0.7).add_to(map_restaurants10)\n",
    "       \n",
    "map_restaurants10"
   ]
  },
  {
   "cell_type": "code",
   "execution_count": 101,
   "metadata": {
    "ExecuteTime": {
     "end_time": "2020-08-12T18:14:18.320461Z",
     "start_time": "2020-08-12T18:14:18.310844Z"
    }
   },
   "outputs": [],
   "source": [
    "report.append(dp.Plot(map_restaurants10))"
   ]
  },
  {
   "cell_type": "markdown",
   "metadata": {},
   "source": [
    "#### Final Map of 3 Clusters With Radius of the Clusters Representing Number of Restaurants in Each District\n",
    "![Tokyo_Final_Clusters](Tokyo_District_Clusters.png)"
   ]
  },
  {
   "cell_type": "markdown",
   "metadata": {},
   "source": [
    "### Explore the 3 Clusters "
   ]
  },
  {
   "cell_type": "markdown",
   "metadata": {},
   "source": [
    "#### Cluster 0"
   ]
  },
  {
   "cell_type": "code",
   "execution_count": 102,
   "metadata": {
    "ExecuteTime": {
     "end_time": "2020-08-12T18:14:18.338359Z",
     "start_time": "2020-08-12T18:14:18.321642Z"
    }
   },
   "outputs": [
    {
     "name": "stdout",
     "output_type": "stream",
     "text": [
      "No of Neighbourhood in Cluster Label 0: 2\n"
     ]
    },
    {
     "data": {
      "text/html": [
       "<div>\n",
       "<style scoped>\n",
       "    .dataframe tbody tr th:only-of-type {\n",
       "        vertical-align: middle;\n",
       "    }\n",
       "\n",
       "    .dataframe tbody tr th {\n",
       "        vertical-align: top;\n",
       "    }\n",
       "\n",
       "    .dataframe thead th {\n",
       "        text-align: right;\n",
       "    }\n",
       "</style>\n",
       "<table border=\"1\" class=\"dataframe\">\n",
       "  <thead>\n",
       "    <tr style=\"text-align: right;\">\n",
       "      <th></th>\n",
       "      <th>Major_District</th>\n",
       "      <th>Dist_Latitude</th>\n",
       "      <th>Dist_Longitude</th>\n",
       "      <th>Average_Price(SqKm)</th>\n",
       "      <th>Cluster Label</th>\n",
       "      <th>1st Most Common Venue</th>\n",
       "      <th>2nd Most Common Venue</th>\n",
       "      <th>3rd Most Common Venue</th>\n",
       "      <th>4th Most Common Venue</th>\n",
       "      <th>5th Most Common Venue</th>\n",
       "      <th>6th Most Common Venue</th>\n",
       "      <th>7th Most Common Venue</th>\n",
       "      <th>8th Most Common Venue</th>\n",
       "      <th>9th Most Common Venue</th>\n",
       "      <th>10th Most Common Venue</th>\n",
       "    </tr>\n",
       "  </thead>\n",
       "  <tbody>\n",
       "    <tr>\n",
       "      <th>1</th>\n",
       "      <td>Nagatacho</td>\n",
       "      <td>35.675618</td>\n",
       "      <td>139.743469</td>\n",
       "      <td>2705898</td>\n",
       "      <td>0</td>\n",
       "      <td>Japanese Restaurant</td>\n",
       "      <td>Hotel</td>\n",
       "      <td>BBQ Joint</td>\n",
       "      <td>Coffee Shop</td>\n",
       "      <td>Chinese Restaurant</td>\n",
       "      <td>Sake Bar</td>\n",
       "      <td>Theater</td>\n",
       "      <td>Italian Restaurant</td>\n",
       "      <td>Yakitori Restaurant</td>\n",
       "      <td>Bar</td>\n",
       "    </tr>\n",
       "    <tr>\n",
       "      <th>2</th>\n",
       "      <td>Nihonbashi</td>\n",
       "      <td>35.684058</td>\n",
       "      <td>139.774501</td>\n",
       "      <td>2699719</td>\n",
       "      <td>0</td>\n",
       "      <td>Japanese Restaurant</td>\n",
       "      <td>BBQ Joint</td>\n",
       "      <td>Café</td>\n",
       "      <td>Hotel</td>\n",
       "      <td>Hobby Shop</td>\n",
       "      <td>French Restaurant</td>\n",
       "      <td>Department Store</td>\n",
       "      <td>Bakery</td>\n",
       "      <td>Soba Restaurant</td>\n",
       "      <td>Sushi Restaurant</td>\n",
       "    </tr>\n",
       "  </tbody>\n",
       "</table>\n",
       "</div>"
      ],
      "text/plain": [
       "  Major_District  Dist_Latitude  Dist_Longitude Average_Price(SqKm)  \\\n",
       "1      Nagatacho      35.675618      139.743469            2705898    \n",
       "2     Nihonbashi      35.684058      139.774501            2699719    \n",
       "\n",
       "   Cluster Label 1st Most Common Venue 2nd Most Common Venue  \\\n",
       "1              0   Japanese Restaurant                 Hotel   \n",
       "2              0   Japanese Restaurant             BBQ Joint   \n",
       "\n",
       "  3rd Most Common Venue 4th Most Common Venue 5th Most Common Venue  \\\n",
       "1             BBQ Joint           Coffee Shop    Chinese Restaurant   \n",
       "2                  Café                 Hotel            Hobby Shop   \n",
       "\n",
       "  6th Most Common Venue 7th Most Common Venue 8th Most Common Venue  \\\n",
       "1              Sake Bar               Theater    Italian Restaurant   \n",
       "2     French Restaurant      Department Store                Bakery   \n",
       "\n",
       "  9th Most Common Venue 10th Most Common Venue  \n",
       "1   Yakitori Restaurant                    Bar  \n",
       "2       Soba Restaurant       Sushi Restaurant  "
      ]
     },
     "execution_count": 102,
     "metadata": {},
     "output_type": "execute_result"
    }
   ],
   "source": [
    "Tokyo_Cluster1 = Tokyo_5_Dist_Coordinate_Cluster_merged.loc[Tokyo_5_Dist_Coordinate_Cluster_merged['Cluster Label'] == 0, \n",
    "                                    Tokyo_5_Dist_Coordinate_Cluster_merged.columns[[3] + list(range(4, Tokyo_5_Dist_Coordinate_Cluster_merged.shape[1]))]]\n",
    "print (\"No of Neighbourhood in Cluster Label 0: %d\" %(Tokyo_Cluster1.shape[0]))\n",
    "Tokyo_Cluster1"
   ]
  },
  {
   "cell_type": "markdown",
   "metadata": {},
   "source": [
    "#### Cluster 1"
   ]
  },
  {
   "cell_type": "code",
   "execution_count": 103,
   "metadata": {
    "ExecuteTime": {
     "end_time": "2020-08-12T18:14:18.359753Z",
     "start_time": "2020-08-12T18:14:18.339925Z"
    }
   },
   "outputs": [
    {
     "name": "stdout",
     "output_type": "stream",
     "text": [
      "No of Neighbourhood in Cluster Label 1: 1\n"
     ]
    },
    {
     "data": {
      "text/html": [
       "<div>\n",
       "<style scoped>\n",
       "    .dataframe tbody tr th:only-of-type {\n",
       "        vertical-align: middle;\n",
       "    }\n",
       "\n",
       "    .dataframe tbody tr th {\n",
       "        vertical-align: top;\n",
       "    }\n",
       "\n",
       "    .dataframe thead th {\n",
       "        text-align: right;\n",
       "    }\n",
       "</style>\n",
       "<table border=\"1\" class=\"dataframe\">\n",
       "  <thead>\n",
       "    <tr style=\"text-align: right;\">\n",
       "      <th></th>\n",
       "      <th>Major_District</th>\n",
       "      <th>Dist_Latitude</th>\n",
       "      <th>Dist_Longitude</th>\n",
       "      <th>Average_Price(SqKm)</th>\n",
       "      <th>Cluster Label</th>\n",
       "      <th>1st Most Common Venue</th>\n",
       "      <th>2nd Most Common Venue</th>\n",
       "      <th>3rd Most Common Venue</th>\n",
       "      <th>4th Most Common Venue</th>\n",
       "      <th>5th Most Common Venue</th>\n",
       "      <th>6th Most Common Venue</th>\n",
       "      <th>7th Most Common Venue</th>\n",
       "      <th>8th Most Common Venue</th>\n",
       "      <th>9th Most Common Venue</th>\n",
       "      <th>10th Most Common Venue</th>\n",
       "    </tr>\n",
       "  </thead>\n",
       "  <tbody>\n",
       "    <tr>\n",
       "      <th>4</th>\n",
       "      <td>Shinagawa</td>\n",
       "      <td>35.599252</td>\n",
       "      <td>139.73891</td>\n",
       "      <td>767398</td>\n",
       "      <td>1</td>\n",
       "      <td>Convenience Store</td>\n",
       "      <td>Ramen Restaurant</td>\n",
       "      <td>Sake Bar</td>\n",
       "      <td>Grocery Store</td>\n",
       "      <td>BBQ Joint</td>\n",
       "      <td>Sushi Restaurant</td>\n",
       "      <td>Donburi Restaurant</td>\n",
       "      <td>Park</td>\n",
       "      <td>Restaurant</td>\n",
       "      <td>Soba Restaurant</td>\n",
       "    </tr>\n",
       "  </tbody>\n",
       "</table>\n",
       "</div>"
      ],
      "text/plain": [
       "  Major_District  Dist_Latitude  Dist_Longitude Average_Price(SqKm)  \\\n",
       "4      Shinagawa      35.599252       139.73891             767398    \n",
       "\n",
       "   Cluster Label 1st Most Common Venue 2nd Most Common Venue  \\\n",
       "4              1     Convenience Store      Ramen Restaurant   \n",
       "\n",
       "  3rd Most Common Venue 4th Most Common Venue 5th Most Common Venue  \\\n",
       "4              Sake Bar         Grocery Store             BBQ Joint   \n",
       "\n",
       "  6th Most Common Venue 7th Most Common Venue 8th Most Common Venue  \\\n",
       "4      Sushi Restaurant    Donburi Restaurant                  Park   \n",
       "\n",
       "  9th Most Common Venue 10th Most Common Venue  \n",
       "4            Restaurant        Soba Restaurant  "
      ]
     },
     "execution_count": 103,
     "metadata": {},
     "output_type": "execute_result"
    }
   ],
   "source": [
    "Tokyo_Cluster2 = Tokyo_5_Dist_Coordinate_Cluster_merged.loc[Tokyo_5_Dist_Coordinate_Cluster_merged['Cluster Label'] == 1, \n",
    "                                    Tokyo_5_Dist_Coordinate_Cluster_merged.columns[[3] + list(range(4, Tokyo_5_Dist_Coordinate_Cluster_merged.shape[1]))]]\n",
    "print (\"No of Neighbourhood in Cluster Label 1: %d\" %(Tokyo_Cluster2.shape[0]))\n",
    "Tokyo_Cluster2"
   ]
  },
  {
   "cell_type": "markdown",
   "metadata": {},
   "source": [
    "#### Cluster 2"
   ]
  },
  {
   "cell_type": "code",
   "execution_count": 104,
   "metadata": {
    "ExecuteTime": {
     "end_time": "2020-08-12T18:14:18.389089Z",
     "start_time": "2020-08-12T18:14:18.361232Z"
    }
   },
   "outputs": [
    {
     "name": "stdout",
     "output_type": "stream",
     "text": [
      "No of Neighbourhood in Cluster Label 2: 2\n"
     ]
    },
    {
     "data": {
      "text/html": [
       "<div>\n",
       "<style scoped>\n",
       "    .dataframe tbody tr th:only-of-type {\n",
       "        vertical-align: middle;\n",
       "    }\n",
       "\n",
       "    .dataframe tbody tr th {\n",
       "        vertical-align: top;\n",
       "    }\n",
       "\n",
       "    .dataframe thead th {\n",
       "        text-align: right;\n",
       "    }\n",
       "</style>\n",
       "<table border=\"1\" class=\"dataframe\">\n",
       "  <thead>\n",
       "    <tr style=\"text-align: right;\">\n",
       "      <th></th>\n",
       "      <th>Major_District</th>\n",
       "      <th>Dist_Latitude</th>\n",
       "      <th>Dist_Longitude</th>\n",
       "      <th>Average_Price(SqKm)</th>\n",
       "      <th>Cluster Label</th>\n",
       "      <th>1st Most Common Venue</th>\n",
       "      <th>2nd Most Common Venue</th>\n",
       "      <th>3rd Most Common Venue</th>\n",
       "      <th>4th Most Common Venue</th>\n",
       "      <th>5th Most Common Venue</th>\n",
       "      <th>6th Most Common Venue</th>\n",
       "      <th>7th Most Common Venue</th>\n",
       "      <th>8th Most Common Venue</th>\n",
       "      <th>9th Most Common Venue</th>\n",
       "      <th>10th Most Common Venue</th>\n",
       "    </tr>\n",
       "  </thead>\n",
       "  <tbody>\n",
       "    <tr>\n",
       "      <th>3</th>\n",
       "      <td>Shinjuku</td>\n",
       "      <td>35.693763</td>\n",
       "      <td>139.703632</td>\n",
       "      <td>939286</td>\n",
       "      <td>2</td>\n",
       "      <td>Sake Bar</td>\n",
       "      <td>Bar</td>\n",
       "      <td>BBQ Joint</td>\n",
       "      <td>Ramen Restaurant</td>\n",
       "      <td>Japanese Restaurant</td>\n",
       "      <td>Pub</td>\n",
       "      <td>Rock Club</td>\n",
       "      <td>Department Store</td>\n",
       "      <td>Record Shop</td>\n",
       "      <td>Noodle House</td>\n",
       "    </tr>\n",
       "    <tr>\n",
       "      <th>5</th>\n",
       "      <td>Shibuya</td>\n",
       "      <td>35.664596</td>\n",
       "      <td>139.698711</td>\n",
       "      <td>1360332</td>\n",
       "      <td>2</td>\n",
       "      <td>Café</td>\n",
       "      <td>Record Shop</td>\n",
       "      <td>French Restaurant</td>\n",
       "      <td>Coffee Shop</td>\n",
       "      <td>Bar</td>\n",
       "      <td>Ramen Restaurant</td>\n",
       "      <td>Sushi Restaurant</td>\n",
       "      <td>Japanese Restaurant</td>\n",
       "      <td>Seafood Restaurant</td>\n",
       "      <td>Chinese Restaurant</td>\n",
       "    </tr>\n",
       "  </tbody>\n",
       "</table>\n",
       "</div>"
      ],
      "text/plain": [
       "  Major_District  Dist_Latitude  Dist_Longitude Average_Price(SqKm)  \\\n",
       "3       Shinjuku      35.693763      139.703632             939286    \n",
       "5        Shibuya      35.664596      139.698711            1360332    \n",
       "\n",
       "   Cluster Label 1st Most Common Venue 2nd Most Common Venue  \\\n",
       "3              2              Sake Bar                   Bar   \n",
       "5              2                  Café           Record Shop   \n",
       "\n",
       "  3rd Most Common Venue 4th Most Common Venue 5th Most Common Venue  \\\n",
       "3             BBQ Joint      Ramen Restaurant   Japanese Restaurant   \n",
       "5     French Restaurant           Coffee Shop                   Bar   \n",
       "\n",
       "  6th Most Common Venue 7th Most Common Venue 8th Most Common Venue  \\\n",
       "3                   Pub             Rock Club      Department Store   \n",
       "5      Ramen Restaurant      Sushi Restaurant   Japanese Restaurant   \n",
       "\n",
       "  9th Most Common Venue 10th Most Common Venue  \n",
       "3           Record Shop           Noodle House  \n",
       "5    Seafood Restaurant     Chinese Restaurant  "
      ]
     },
     "execution_count": 104,
     "metadata": {},
     "output_type": "execute_result"
    }
   ],
   "source": [
    "Tokyo_Cluster3 = Tokyo_5_Dist_Coordinate_Cluster_merged.loc[Tokyo_5_Dist_Coordinate_Cluster_merged['Cluster Label'] == 2, \n",
    "                                    Tokyo_5_Dist_Coordinate_Cluster_merged.columns[[3] + list(range(4, Tokyo_5_Dist_Coordinate_Cluster_merged.shape[1]))]]\n",
    "print (\"No of Neighbourhood in Cluster Label 2: %d\" %(Tokyo_Cluster3.shape[0]))\n",
    "Tokyo_Cluster3"
   ]
  },
  {
   "cell_type": "code",
   "execution_count": 108,
   "metadata": {
    "ExecuteTime": {
     "end_time": "2020-08-12T18:15:22.860154Z",
     "start_time": "2020-08-12T18:15:22.858057Z"
    }
   },
   "outputs": [],
   "source": [
    "report.insert(0, dp.Markdown(f'''\n",
    "[Original article](https://towardsdatascience.com/exploring-the-tokyo-neighborhoods-data-science-in-real-life-8b6c2454ca16)\n",
    "\n",
    "[Source code](https://github.com/khuyentran1401/Coursera_Capstone/blob/master/Week5/Capstone_Week4_Part2.ipynb)\n",
    "\n",
    "[Run on Binder](https://mybinder.org/v2/gh/khuyentran1401/Coursera_Capstone/045bdda48e3e5c947e4f73406de0d877ac741aa2?filepath=Week5%2FCapstone_Week4_Part2.ipynb)\n",
    "'''))"
   ]
  },
  {
   "cell_type": "code",
   "execution_count": 109,
   "metadata": {
    "ExecuteTime": {
     "end_time": "2020-08-12T18:15:26.292292Z",
     "start_time": "2020-08-12T18:15:24.112960Z"
    }
   },
   "outputs": [
    {
     "name": "stdout",
     "output_type": "stream",
     "text": [
      "Publishing report and associated data - please wait..\n",
      "Report successfully published at https://datapane.com/saptashwa/reports/tokyo_5163ce30/\n"
     ]
    }
   ],
   "source": [
    "dp.Report(*report).publish(name='tokyo',\n",
    "                           headline='Exploring the Tokyo Neighbourhoods'\n",
    "                          )"
   ]
  },
  {
   "cell_type": "code",
   "execution_count": null,
   "metadata": {},
   "outputs": [],
   "source": []
  }
 ],
 "metadata": {
  "kernelspec": {
   "display_name": "scraping",
   "language": "python",
   "name": "scraping"
  },
  "language_info": {
   "codemirror_mode": {
    "name": "ipython",
    "version": 3
   },
   "file_extension": ".py",
   "mimetype": "text/x-python",
   "name": "python",
   "nbconvert_exporter": "python",
   "pygments_lexer": "ipython3",
   "version": "3.8.3"
  },
  "latex_envs": {
   "LaTeX_envs_menu_present": true,
   "autoclose": false,
   "autocomplete": true,
   "bibliofile": "biblio.bib",
   "cite_by": "apalike",
   "current_citInitial": 1,
   "eqLabelWithNumbers": true,
   "eqNumInitial": 1,
   "hotkeys": {
    "equation": "Ctrl-E",
    "itemize": "Ctrl-I"
   },
   "labels_anchors": false,
   "latex_user_defs": false,
   "report_style_numbering": false,
   "user_envs_cfg": false
  },
  "toc": {
   "base_numbering": 1,
   "nav_menu": {},
   "number_sections": true,
   "sideBar": true,
   "skip_h1_title": false,
   "title_cell": "Table of Contents",
   "title_sidebar": "Contents",
   "toc_cell": false,
   "toc_position": {},
   "toc_section_display": true,
   "toc_window_display": false
  }
 },
 "nbformat": 4,
 "nbformat_minor": 2
}
